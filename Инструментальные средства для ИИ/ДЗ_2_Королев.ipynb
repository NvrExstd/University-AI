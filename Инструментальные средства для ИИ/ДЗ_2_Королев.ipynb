{
  "cells": [
    {
      "cell_type": "markdown",
      "metadata": {
        "id": "R8EY5hqudHsP"
      },
      "source": [
        "## Королев Федор ПИ15. Домашнее задание №2\n",
        "\n"
      ]
    },
    {
      "cell_type": "markdown",
      "metadata": {
        "id": "ZBsWqHFodHsQ"
      },
      "source": [
        "## Часть 1. ML workflow (**всего 5 баллов**)"
      ]
    },
    {
      "cell_type": "code",
      "execution_count": 1,
      "metadata": {
        "id": "PffvyjXCdHsR"
      },
      "outputs": [],
      "source": [
        "import numpy as np\n",
        "import pandas as pd\n",
        "from sklearn.model_selection import train_test_split, cross_val_score, GridSearchCV\n",
        "\n",
        "from sklearn.linear_model import LinearRegression\n",
        "from sklearn.tree import DecisionTreeRegressor\n",
        "\n",
        "from sklearn.metrics import mean_squared_error, r2_score\n",
        "\n",
        "from sklearn.preprocessing import PolynomialFeatures\n",
        "from sklearn.pipeline import Pipeline\n",
        "\n",
        "from itertools import product"
      ]
    },
    {
      "cell_type": "markdown",
      "metadata": {
        "id": "uTf8WkD9dHsR"
      },
      "source": [
        "### Загрузим данные для работы."
      ]
    },
    {
      "cell_type": "code",
      "execution_count": 2,
      "metadata": {
        "colab": {
          "base_uri": "https://localhost:8080/",
          "height": 206
        },
        "id": "gCay0_E8dHsS",
        "outputId": "d3f96047-f3b0-4759-c5b0-8988290a0511"
      },
      "outputs": [
        {
          "output_type": "execute_result",
          "data": {
            "text/plain": [
              "   fixed acidity  volatile acidity  citric acid  residual sugar  chlorides  \\\n",
              "0            7.4              0.70         0.00             1.9      0.076   \n",
              "1            7.8              0.88         0.00             2.6      0.098   \n",
              "2            7.8              0.76         0.04             2.3      0.092   \n",
              "3           11.2              0.28         0.56             1.9      0.075   \n",
              "4            7.4              0.70         0.00             1.9      0.076   \n",
              "\n",
              "   free sulfur dioxide  total sulfur dioxide  density    pH  sulphates  \\\n",
              "0                 11.0                  34.0   0.9978  3.51       0.56   \n",
              "1                 25.0                  67.0   0.9968  3.20       0.68   \n",
              "2                 15.0                  54.0   0.9970  3.26       0.65   \n",
              "3                 17.0                  60.0   0.9980  3.16       0.58   \n",
              "4                 11.0                  34.0   0.9978  3.51       0.56   \n",
              "\n",
              "   alcohol  quality  \n",
              "0      9.4        5  \n",
              "1      9.8        5  \n",
              "2      9.8        5  \n",
              "3      9.8        6  \n",
              "4      9.4        5  "
            ],
            "text/html": [
              "\n",
              "  <div id=\"df-4e724572-4883-45c0-84da-50b9e070b99e\" class=\"colab-df-container\">\n",
              "    <div>\n",
              "<style scoped>\n",
              "    .dataframe tbody tr th:only-of-type {\n",
              "        vertical-align: middle;\n",
              "    }\n",
              "\n",
              "    .dataframe tbody tr th {\n",
              "        vertical-align: top;\n",
              "    }\n",
              "\n",
              "    .dataframe thead th {\n",
              "        text-align: right;\n",
              "    }\n",
              "</style>\n",
              "<table border=\"1\" class=\"dataframe\">\n",
              "  <thead>\n",
              "    <tr style=\"text-align: right;\">\n",
              "      <th></th>\n",
              "      <th>fixed acidity</th>\n",
              "      <th>volatile acidity</th>\n",
              "      <th>citric acid</th>\n",
              "      <th>residual sugar</th>\n",
              "      <th>chlorides</th>\n",
              "      <th>free sulfur dioxide</th>\n",
              "      <th>total sulfur dioxide</th>\n",
              "      <th>density</th>\n",
              "      <th>pH</th>\n",
              "      <th>sulphates</th>\n",
              "      <th>alcohol</th>\n",
              "      <th>quality</th>\n",
              "    </tr>\n",
              "  </thead>\n",
              "  <tbody>\n",
              "    <tr>\n",
              "      <th>0</th>\n",
              "      <td>7.4</td>\n",
              "      <td>0.70</td>\n",
              "      <td>0.00</td>\n",
              "      <td>1.9</td>\n",
              "      <td>0.076</td>\n",
              "      <td>11.0</td>\n",
              "      <td>34.0</td>\n",
              "      <td>0.9978</td>\n",
              "      <td>3.51</td>\n",
              "      <td>0.56</td>\n",
              "      <td>9.4</td>\n",
              "      <td>5</td>\n",
              "    </tr>\n",
              "    <tr>\n",
              "      <th>1</th>\n",
              "      <td>7.8</td>\n",
              "      <td>0.88</td>\n",
              "      <td>0.00</td>\n",
              "      <td>2.6</td>\n",
              "      <td>0.098</td>\n",
              "      <td>25.0</td>\n",
              "      <td>67.0</td>\n",
              "      <td>0.9968</td>\n",
              "      <td>3.20</td>\n",
              "      <td>0.68</td>\n",
              "      <td>9.8</td>\n",
              "      <td>5</td>\n",
              "    </tr>\n",
              "    <tr>\n",
              "      <th>2</th>\n",
              "      <td>7.8</td>\n",
              "      <td>0.76</td>\n",
              "      <td>0.04</td>\n",
              "      <td>2.3</td>\n",
              "      <td>0.092</td>\n",
              "      <td>15.0</td>\n",
              "      <td>54.0</td>\n",
              "      <td>0.9970</td>\n",
              "      <td>3.26</td>\n",
              "      <td>0.65</td>\n",
              "      <td>9.8</td>\n",
              "      <td>5</td>\n",
              "    </tr>\n",
              "    <tr>\n",
              "      <th>3</th>\n",
              "      <td>11.2</td>\n",
              "      <td>0.28</td>\n",
              "      <td>0.56</td>\n",
              "      <td>1.9</td>\n",
              "      <td>0.075</td>\n",
              "      <td>17.0</td>\n",
              "      <td>60.0</td>\n",
              "      <td>0.9980</td>\n",
              "      <td>3.16</td>\n",
              "      <td>0.58</td>\n",
              "      <td>9.8</td>\n",
              "      <td>6</td>\n",
              "    </tr>\n",
              "    <tr>\n",
              "      <th>4</th>\n",
              "      <td>7.4</td>\n",
              "      <td>0.70</td>\n",
              "      <td>0.00</td>\n",
              "      <td>1.9</td>\n",
              "      <td>0.076</td>\n",
              "      <td>11.0</td>\n",
              "      <td>34.0</td>\n",
              "      <td>0.9978</td>\n",
              "      <td>3.51</td>\n",
              "      <td>0.56</td>\n",
              "      <td>9.4</td>\n",
              "      <td>5</td>\n",
              "    </tr>\n",
              "  </tbody>\n",
              "</table>\n",
              "</div>\n",
              "    <div class=\"colab-df-buttons\">\n",
              "\n",
              "  <div class=\"colab-df-container\">\n",
              "    <button class=\"colab-df-convert\" onclick=\"convertToInteractive('df-4e724572-4883-45c0-84da-50b9e070b99e')\"\n",
              "            title=\"Convert this dataframe to an interactive table.\"\n",
              "            style=\"display:none;\">\n",
              "\n",
              "  <svg xmlns=\"http://www.w3.org/2000/svg\" height=\"24px\" viewBox=\"0 -960 960 960\">\n",
              "    <path d=\"M120-120v-720h720v720H120Zm60-500h600v-160H180v160Zm220 220h160v-160H400v160Zm0 220h160v-160H400v160ZM180-400h160v-160H180v160Zm440 0h160v-160H620v160ZM180-180h160v-160H180v160Zm440 0h160v-160H620v160Z\"/>\n",
              "  </svg>\n",
              "    </button>\n",
              "\n",
              "  <style>\n",
              "    .colab-df-container {\n",
              "      display:flex;\n",
              "      gap: 12px;\n",
              "    }\n",
              "\n",
              "    .colab-df-convert {\n",
              "      background-color: #E8F0FE;\n",
              "      border: none;\n",
              "      border-radius: 50%;\n",
              "      cursor: pointer;\n",
              "      display: none;\n",
              "      fill: #1967D2;\n",
              "      height: 32px;\n",
              "      padding: 0 0 0 0;\n",
              "      width: 32px;\n",
              "    }\n",
              "\n",
              "    .colab-df-convert:hover {\n",
              "      background-color: #E2EBFA;\n",
              "      box-shadow: 0px 1px 2px rgba(60, 64, 67, 0.3), 0px 1px 3px 1px rgba(60, 64, 67, 0.15);\n",
              "      fill: #174EA6;\n",
              "    }\n",
              "\n",
              "    .colab-df-buttons div {\n",
              "      margin-bottom: 4px;\n",
              "    }\n",
              "\n",
              "    [theme=dark] .colab-df-convert {\n",
              "      background-color: #3B4455;\n",
              "      fill: #D2E3FC;\n",
              "    }\n",
              "\n",
              "    [theme=dark] .colab-df-convert:hover {\n",
              "      background-color: #434B5C;\n",
              "      box-shadow: 0px 1px 3px 1px rgba(0, 0, 0, 0.15);\n",
              "      filter: drop-shadow(0px 1px 2px rgba(0, 0, 0, 0.3));\n",
              "      fill: #FFFFFF;\n",
              "    }\n",
              "  </style>\n",
              "\n",
              "    <script>\n",
              "      const buttonEl =\n",
              "        document.querySelector('#df-4e724572-4883-45c0-84da-50b9e070b99e button.colab-df-convert');\n",
              "      buttonEl.style.display =\n",
              "        google.colab.kernel.accessAllowed ? 'block' : 'none';\n",
              "\n",
              "      async function convertToInteractive(key) {\n",
              "        const element = document.querySelector('#df-4e724572-4883-45c0-84da-50b9e070b99e');\n",
              "        const dataTable =\n",
              "          await google.colab.kernel.invokeFunction('convertToInteractive',\n",
              "                                                    [key], {});\n",
              "        if (!dataTable) return;\n",
              "\n",
              "        const docLinkHtml = 'Like what you see? Visit the ' +\n",
              "          '<a target=\"_blank\" href=https://colab.research.google.com/notebooks/data_table.ipynb>data table notebook</a>'\n",
              "          + ' to learn more about interactive tables.';\n",
              "        element.innerHTML = '';\n",
              "        dataTable['output_type'] = 'display_data';\n",
              "        await google.colab.output.renderOutput(dataTable, element);\n",
              "        const docLink = document.createElement('div');\n",
              "        docLink.innerHTML = docLinkHtml;\n",
              "        element.appendChild(docLink);\n",
              "      }\n",
              "    </script>\n",
              "  </div>\n",
              "\n",
              "\n",
              "<div id=\"df-5c6536e6-e868-4459-a189-f04634a43a82\">\n",
              "  <button class=\"colab-df-quickchart\" onclick=\"quickchart('df-5c6536e6-e868-4459-a189-f04634a43a82')\"\n",
              "            title=\"Suggest charts\"\n",
              "            style=\"display:none;\">\n",
              "\n",
              "<svg xmlns=\"http://www.w3.org/2000/svg\" height=\"24px\"viewBox=\"0 0 24 24\"\n",
              "     width=\"24px\">\n",
              "    <g>\n",
              "        <path d=\"M19 3H5c-1.1 0-2 .9-2 2v14c0 1.1.9 2 2 2h14c1.1 0 2-.9 2-2V5c0-1.1-.9-2-2-2zM9 17H7v-7h2v7zm4 0h-2V7h2v10zm4 0h-2v-4h2v4z\"/>\n",
              "    </g>\n",
              "</svg>\n",
              "  </button>\n",
              "\n",
              "<style>\n",
              "  .colab-df-quickchart {\n",
              "      --bg-color: #E8F0FE;\n",
              "      --fill-color: #1967D2;\n",
              "      --hover-bg-color: #E2EBFA;\n",
              "      --hover-fill-color: #174EA6;\n",
              "      --disabled-fill-color: #AAA;\n",
              "      --disabled-bg-color: #DDD;\n",
              "  }\n",
              "\n",
              "  [theme=dark] .colab-df-quickchart {\n",
              "      --bg-color: #3B4455;\n",
              "      --fill-color: #D2E3FC;\n",
              "      --hover-bg-color: #434B5C;\n",
              "      --hover-fill-color: #FFFFFF;\n",
              "      --disabled-bg-color: #3B4455;\n",
              "      --disabled-fill-color: #666;\n",
              "  }\n",
              "\n",
              "  .colab-df-quickchart {\n",
              "    background-color: var(--bg-color);\n",
              "    border: none;\n",
              "    border-radius: 50%;\n",
              "    cursor: pointer;\n",
              "    display: none;\n",
              "    fill: var(--fill-color);\n",
              "    height: 32px;\n",
              "    padding: 0;\n",
              "    width: 32px;\n",
              "  }\n",
              "\n",
              "  .colab-df-quickchart:hover {\n",
              "    background-color: var(--hover-bg-color);\n",
              "    box-shadow: 0 1px 2px rgba(60, 64, 67, 0.3), 0 1px 3px 1px rgba(60, 64, 67, 0.15);\n",
              "    fill: var(--button-hover-fill-color);\n",
              "  }\n",
              "\n",
              "  .colab-df-quickchart-complete:disabled,\n",
              "  .colab-df-quickchart-complete:disabled:hover {\n",
              "    background-color: var(--disabled-bg-color);\n",
              "    fill: var(--disabled-fill-color);\n",
              "    box-shadow: none;\n",
              "  }\n",
              "\n",
              "  .colab-df-spinner {\n",
              "    border: 2px solid var(--fill-color);\n",
              "    border-color: transparent;\n",
              "    border-bottom-color: var(--fill-color);\n",
              "    animation:\n",
              "      spin 1s steps(1) infinite;\n",
              "  }\n",
              "\n",
              "  @keyframes spin {\n",
              "    0% {\n",
              "      border-color: transparent;\n",
              "      border-bottom-color: var(--fill-color);\n",
              "      border-left-color: var(--fill-color);\n",
              "    }\n",
              "    20% {\n",
              "      border-color: transparent;\n",
              "      border-left-color: var(--fill-color);\n",
              "      border-top-color: var(--fill-color);\n",
              "    }\n",
              "    30% {\n",
              "      border-color: transparent;\n",
              "      border-left-color: var(--fill-color);\n",
              "      border-top-color: var(--fill-color);\n",
              "      border-right-color: var(--fill-color);\n",
              "    }\n",
              "    40% {\n",
              "      border-color: transparent;\n",
              "      border-right-color: var(--fill-color);\n",
              "      border-top-color: var(--fill-color);\n",
              "    }\n",
              "    60% {\n",
              "      border-color: transparent;\n",
              "      border-right-color: var(--fill-color);\n",
              "    }\n",
              "    80% {\n",
              "      border-color: transparent;\n",
              "      border-right-color: var(--fill-color);\n",
              "      border-bottom-color: var(--fill-color);\n",
              "    }\n",
              "    90% {\n",
              "      border-color: transparent;\n",
              "      border-bottom-color: var(--fill-color);\n",
              "    }\n",
              "  }\n",
              "</style>\n",
              "\n",
              "  <script>\n",
              "    async function quickchart(key) {\n",
              "      const quickchartButtonEl =\n",
              "        document.querySelector('#' + key + ' button');\n",
              "      quickchartButtonEl.disabled = true;  // To prevent multiple clicks.\n",
              "      quickchartButtonEl.classList.add('colab-df-spinner');\n",
              "      try {\n",
              "        const charts = await google.colab.kernel.invokeFunction(\n",
              "            'suggestCharts', [key], {});\n",
              "      } catch (error) {\n",
              "        console.error('Error during call to suggestCharts:', error);\n",
              "      }\n",
              "      quickchartButtonEl.classList.remove('colab-df-spinner');\n",
              "      quickchartButtonEl.classList.add('colab-df-quickchart-complete');\n",
              "    }\n",
              "    (() => {\n",
              "      let quickchartButtonEl =\n",
              "        document.querySelector('#df-5c6536e6-e868-4459-a189-f04634a43a82 button');\n",
              "      quickchartButtonEl.style.display =\n",
              "        google.colab.kernel.accessAllowed ? 'block' : 'none';\n",
              "    })();\n",
              "  </script>\n",
              "</div>\n",
              "    </div>\n",
              "  </div>\n"
            ],
            "application/vnd.google.colaboratory.intrinsic+json": {
              "type": "dataframe",
              "variable_name": "df",
              "summary": "{\n  \"name\": \"df\",\n  \"rows\": 1599,\n  \"fields\": [\n    {\n      \"column\": \"fixed acidity\",\n      \"properties\": {\n        \"dtype\": \"number\",\n        \"std\": 1.7410963181277006,\n        \"min\": 4.6,\n        \"max\": 15.9,\n        \"num_unique_values\": 96,\n        \"samples\": [\n          5.3,\n          12.7,\n          12.6\n        ],\n        \"semantic_type\": \"\",\n        \"description\": \"\"\n      }\n    },\n    {\n      \"column\": \"volatile acidity\",\n      \"properties\": {\n        \"dtype\": \"number\",\n        \"std\": 0.17905970415353498,\n        \"min\": 0.12,\n        \"max\": 1.58,\n        \"num_unique_values\": 143,\n        \"samples\": [\n          1.025,\n          0.4,\n          0.87\n        ],\n        \"semantic_type\": \"\",\n        \"description\": \"\"\n      }\n    },\n    {\n      \"column\": \"citric acid\",\n      \"properties\": {\n        \"dtype\": \"number\",\n        \"std\": 0.19480113740531785,\n        \"min\": 0.0,\n        \"max\": 1.0,\n        \"num_unique_values\": 80,\n        \"samples\": [\n          0.37,\n          0.0,\n          0.09\n        ],\n        \"semantic_type\": \"\",\n        \"description\": \"\"\n      }\n    },\n    {\n      \"column\": \"residual sugar\",\n      \"properties\": {\n        \"dtype\": \"number\",\n        \"std\": 1.4099280595072805,\n        \"min\": 0.9,\n        \"max\": 15.5,\n        \"num_unique_values\": 91,\n        \"samples\": [\n          11.0,\n          3.0,\n          15.5\n        ],\n        \"semantic_type\": \"\",\n        \"description\": \"\"\n      }\n    },\n    {\n      \"column\": \"chlorides\",\n      \"properties\": {\n        \"dtype\": \"number\",\n        \"std\": 0.047065302010090154,\n        \"min\": 0.012,\n        \"max\": 0.611,\n        \"num_unique_values\": 153,\n        \"samples\": [\n          0.096,\n          0.3429999999999999,\n          0.159\n        ],\n        \"semantic_type\": \"\",\n        \"description\": \"\"\n      }\n    },\n    {\n      \"column\": \"free sulfur dioxide\",\n      \"properties\": {\n        \"dtype\": \"number\",\n        \"std\": 10.46015696980973,\n        \"min\": 1.0,\n        \"max\": 72.0,\n        \"num_unique_values\": 60,\n        \"samples\": [\n          11.0,\n          9.0,\n          32.0\n        ],\n        \"semantic_type\": \"\",\n        \"description\": \"\"\n      }\n    },\n    {\n      \"column\": \"total sulfur dioxide\",\n      \"properties\": {\n        \"dtype\": \"number\",\n        \"std\": 32.89532447829901,\n        \"min\": 6.0,\n        \"max\": 289.0,\n        \"num_unique_values\": 144,\n        \"samples\": [\n          68.0,\n          35.0,\n          101.0\n        ],\n        \"semantic_type\": \"\",\n        \"description\": \"\"\n      }\n    },\n    {\n      \"column\": \"density\",\n      \"properties\": {\n        \"dtype\": \"number\",\n        \"std\": 0.0018873339538425559,\n        \"min\": 0.99007,\n        \"max\": 1.00369,\n        \"num_unique_values\": 436,\n        \"samples\": [\n          0.99974,\n          1.0001,\n          0.99471\n        ],\n        \"semantic_type\": \"\",\n        \"description\": \"\"\n      }\n    },\n    {\n      \"column\": \"pH\",\n      \"properties\": {\n        \"dtype\": \"number\",\n        \"std\": 0.15438646490354266,\n        \"min\": 2.74,\n        \"max\": 4.01,\n        \"num_unique_values\": 89,\n        \"samples\": [\n          3.07,\n          3.0,\n          3.15\n        ],\n        \"semantic_type\": \"\",\n        \"description\": \"\"\n      }\n    },\n    {\n      \"column\": \"sulphates\",\n      \"properties\": {\n        \"dtype\": \"number\",\n        \"std\": 0.16950697959010977,\n        \"min\": 0.33,\n        \"max\": 2.0,\n        \"num_unique_values\": 96,\n        \"samples\": [\n          1.07,\n          1.04,\n          1.18\n        ],\n        \"semantic_type\": \"\",\n        \"description\": \"\"\n      }\n    },\n    {\n      \"column\": \"alcohol\",\n      \"properties\": {\n        \"dtype\": \"number\",\n        \"std\": 1.0656675818473926,\n        \"min\": 8.4,\n        \"max\": 14.9,\n        \"num_unique_values\": 65,\n        \"samples\": [\n          8.5,\n          9.95,\n          9.4\n        ],\n        \"semantic_type\": \"\",\n        \"description\": \"\"\n      }\n    },\n    {\n      \"column\": \"quality\",\n      \"properties\": {\n        \"dtype\": \"number\",\n        \"std\": 0,\n        \"min\": 3,\n        \"max\": 8,\n        \"num_unique_values\": 6,\n        \"samples\": [\n          5,\n          6,\n          3\n        ],\n        \"semantic_type\": \"\",\n        \"description\": \"\"\n      }\n    }\n  ]\n}"
            }
          },
          "metadata": {},
          "execution_count": 2
        }
      ],
      "source": [
        "df = pd.read_csv(\"winequality-red.csv\")\n",
        "df.head()"
      ]
    },
    {
      "cell_type": "markdown",
      "metadata": {
        "id": "lS-sU3NXdHsS"
      },
      "source": [
        "Будем решать задачу регрессии: необходимо предсказать качество вина на основе его характеристик\n",
        "\n",
        "### Шаг 1.  (**0.2 балла**)\n",
        "Создайте матрицу X объект-признак и целевой вектор y (\"quality\")"
      ]
    },
    {
      "cell_type": "markdown",
      "source": [
        "То есть матрица X будет содержать в себе все признаки, кроме \"quality\". Целевой вектор y будет состоять из столлбца \"quality\""
      ],
      "metadata": {
        "id": "uh-BmC9Ugdbe"
      }
    },
    {
      "cell_type": "code",
      "execution_count": 3,
      "metadata": {
        "id": "0p94TPpWdHsS",
        "colab": {
          "base_uri": "https://localhost:8080/"
        },
        "outputId": "a369b922-d916-47b9-cc14-2b8922eb29b1"
      },
      "outputs": [
        {
          "output_type": "execute_result",
          "data": {
            "text/plain": [
              "((1599, 11), (1599,))"
            ]
          },
          "metadata": {},
          "execution_count": 3
        }
      ],
      "source": [
        "# Матрица признаков X: все столбцы, кроме \"quality\"\n",
        "X = df.drop(\"quality\", axis=1)\n",
        "\n",
        "# Целевой вектор y: столбец \"quality\"\n",
        "y = df[\"quality\"]\n",
        "\n",
        "# Проверим размерности матрицы X и вектора y\n",
        "X.shape, y.shape"
      ]
    },
    {
      "cell_type": "markdown",
      "source": [
        "Получаем 1599 строк на 11 столбцов в X и 1599 строк столбце y"
      ],
      "metadata": {
        "id": "VA6nc8gWiDQU"
      }
    },
    {
      "cell_type": "markdown",
      "metadata": {
        "id": "IMs_6dnXdHsT"
      },
      "source": [
        "### Шаг 2. (**0.2 балла**)\n",
        "Разбейте данные на train и test (доля тестовых данных - 30%)."
      ]
    },
    {
      "cell_type": "markdown",
      "source": [
        "Получается, что данные необходимо разбить на две части:\n",
        "\n",
        "- треннировочные данные (train): 70% данных, на которых модель будет обучаться\n",
        "- тестовые данные (test): 30% данных, на которых мы будем проверять, насколько хорошо модель предсказывает качество вина\n",
        "\n",
        "Для этого используем функцию train_test_split из библиотеки sklearn"
      ],
      "metadata": {
        "id": "CuSvWqAjg_1-"
      }
    },
    {
      "cell_type": "code",
      "execution_count": 4,
      "metadata": {
        "id": "eWpINwEJdHsT",
        "colab": {
          "base_uri": "https://localhost:8080/"
        },
        "outputId": "dc8e2de7-9deb-479b-de89-1941ecfd7018"
      },
      "outputs": [
        {
          "output_type": "execute_result",
          "data": {
            "text/plain": [
              "((1119, 11), (480, 11), (1119,), (480,))"
            ]
          },
          "metadata": {},
          "execution_count": 4
        }
      ],
      "source": [
        "# Разделение данных на тренировочные и тестовые данные\n",
        "X_train, X_test, y_train, y_test = train_test_split(X, y, test_size=0.3, random_state=42)\n",
        "\n",
        "# Проверим размерности тренировочных и тестовых данных\n",
        "X_train.shape, X_test.shape, y_train.shape, y_test.shape\n"
      ]
    },
    {
      "cell_type": "markdown",
      "metadata": {
        "id": "-GfebK1vdHsU"
      },
      "source": [
        "### Шаг 3. (**0.2 балла**)\n",
        "Обучите линейную регрессию на тренировочных данных и сделайте предсказания на train и на test."
      ]
    },
    {
      "cell_type": "markdown",
      "source": [
        "Для более наглядного вывода результатов предсказаний я использовал форматированный вывод: вывел несколько первых предсказанных значений для тренировочной и тестовой выборок, а после сравнил их с реальными значениями"
      ],
      "metadata": {
        "id": "WoG8fgVekcE_"
      }
    },
    {
      "cell_type": "code",
      "execution_count": 5,
      "metadata": {
        "id": "9xol6efhdHsU",
        "colab": {
          "base_uri": "https://localhost:8080/"
        },
        "outputId": "f67bd81e-4321-4a06-99e8-f246dbe116cc"
      },
      "outputs": [
        {
          "output_type": "stream",
          "name": "stdout",
          "text": [
            "Результаты для тренировочной выборки:\n",
            "    Real Quality (Train)  Predicted Quality (Train)\n",
            "0                     7                   6.358827\n",
            "1                     5                   5.977426\n",
            "2                     5                   5.668873\n",
            "3                     6                   5.672820\n",
            "4                     5                   5.388390\n",
            "\n",
            "Результаты для тестовой выборки:\n",
            "    Real Quality (Test)  Predicted Quality (Test)\n",
            "0                    6                  5.356763\n",
            "1                    5                  5.090715\n",
            "2                    6                  5.625538\n",
            "3                    5                  5.448861\n",
            "4                    6                  5.744784\n"
          ]
        }
      ],
      "source": [
        "# Инициализация модели линейной регрессии\n",
        "linear_reg = LinearRegression()\n",
        "\n",
        "# Обучение модели на тренировочных данных\n",
        "linear_reg.fit(X_train, y_train)\n",
        "\n",
        "# Предсказания на тренировочных данных\n",
        "y_train_pred = linear_reg.predict(X_train)\n",
        "\n",
        "# Предсказания на тестовых данных\n",
        "y_test_pred = linear_reg.predict(X_test)\n",
        "\n",
        "\n",
        "# Проверка нескольких предсказанных значений для обоих наборов\n",
        "\n",
        "# Для тренировочной выборки\n",
        "train_results = pd.DataFrame({\n",
        "    'Real Quality (Train)': y_train.values,        # Вывод обучающих реальных значений\n",
        "    'Predicted Quality (Train)': y_train_pred      # Вывод обучающих предсказанных значений\n",
        "}).head()\n",
        "\n",
        "# Для тестовой выборки\n",
        "test_results = pd.DataFrame({\n",
        "    'Real Quality (Test)': y_test.values,          # Вывод тестовых реальных значений\n",
        "    'Predicted Quality (Test)': y_test_pred        # Вывод тестовых предсказанных значений\n",
        "}).head()\n",
        "\n",
        "print(\"Результаты для тренировочной выборки:\\n\", train_results)\n",
        "print(\"\\nРезультаты для тестовой выборки:\\n\", test_results)\n"
      ]
    },
    {
      "cell_type": "markdown",
      "metadata": {
        "id": "E2jMeWMAdHsV"
      },
      "source": [
        "### Шаг 4. (**0.4 балла**)\n",
        "Выведите на экран ошибку MSE на train и на test, затем выведите на экран ошибку r2 на train и test.  "
      ]
    },
    {
      "cell_type": "markdown",
      "source": [
        "Сначала рассчитаем среднеквадратическую ошибку (MSE; чем меньше, тем лучше), затем вычислим коэффициент детерминации (R^2; показывает, какая доля дисперсии целевой переменной объясняется моделью; чем ближе к 1, тем лучше)"
      ],
      "metadata": {
        "id": "VvndWcT7l28X"
      }
    },
    {
      "cell_type": "code",
      "execution_count": 6,
      "metadata": {
        "id": "qY3YT5YmdHsV",
        "colab": {
          "base_uri": "https://localhost:8080/"
        },
        "outputId": "0aadcae4-aaa2-41c8-f757-9d8145503a8d"
      },
      "outputs": [
        {
          "output_type": "stream",
          "name": "stdout",
          "text": [
            "Среднеквадратическая ошибка (MSE) на тренировочных данных: 0.42\n",
            "Среднеквадратическая ошибка (MSE) на тестовых данных: 0.41\n",
            "Коэффициент детерминации (R^2) на тренировочных данных: 0.36\n",
            "Коэффициент детерминации (R^2) на тестовых данных: 0.35\n"
          ]
        }
      ],
      "source": [
        "# Рассчёт MSE для тренировочных и тестовых данных\n",
        "mse_train = mean_squared_error(y_train, y_train_pred)\n",
        "mse_test = mean_squared_error(y_test, y_test_pred)\n",
        "\n",
        "# Рассчёт R^2 для тренировочных и тестовых данных\n",
        "r2_train = r2_score(y_train, y_train_pred)\n",
        "r2_test = r2_score(y_test, y_test_pred)\n",
        "\n",
        "# Шаг 3: Вывод результатов\n",
        "print(f\"Среднеквадратическая ошибка (MSE) на тренировочных данных: {mse_train:.2f}\")\n",
        "print(f\"Среднеквадратическая ошибка (MSE) на тестовых данных: {mse_test:.2f}\")\n",
        "\n",
        "print(f\"Коэффициент детерминации (R^2) на тренировочных данных: {r2_train:.2f}\")\n",
        "print(f\"Коэффициент детерминации (R^2) на тестовых данных: {r2_test:.2f}\")"
      ]
    },
    {
      "cell_type": "markdown",
      "metadata": {
        "id": "Ft3KdATNdHsV"
      },
      "source": [
        "### Шаг 5. (**0.5 балла**)\n",
        "Вычислите среднее качество (r2) модели на кросс-валидации с k=5 фолдами."
      ]
    },
    {
      "cell_type": "markdown",
      "source": [
        "Кросс-валидация разбивает данные на 5 частей (фолдов), затем обучает модель на 4 из них, а на оставшейся - тестиуется, затем выбирается новый фолд для тестирования и так всего 5 раз. В итоге получаем 5 оценок качества модели"
      ],
      "metadata": {
        "id": "HUnr5hhJoiZ0"
      }
    },
    {
      "cell_type": "code",
      "execution_count": 7,
      "metadata": {
        "id": "M65VjZ4TdHsV",
        "colab": {
          "base_uri": "https://localhost:8080/"
        },
        "outputId": "5054155b-e78b-4838-cb08-d6f9eb24bbb5"
      },
      "outputs": [
        {
          "output_type": "stream",
          "name": "stdout",
          "text": [
            "R^2 на каждом фолде: [0.13200871 0.31858135 0.34955348 0.369145   0.2809196 ]\n",
            "Средний R^2 на кросс-валидации (k=5): 0.29\n"
          ]
        }
      ],
      "source": [
        "# Проведение кросс-валидации для модели линейной регрессии\n",
        "r2_scores = cross_val_score(linear_reg, X, y, cv=5, scoring='r2')\n",
        "\n",
        "# Вывод результатов кросс-валидации\n",
        "print(f\"R^2 на каждом фолде: {r2_scores}\")\n",
        "print(f\"Средний R^2 на кросс-валидации (k=5): {r2_scores.mean():.2f}\")\n"
      ]
    },
    {
      "cell_type": "markdown",
      "metadata": {
        "id": "dKD5Ol0VdHsV"
      },
      "source": [
        "### Шаг 6.  (**0.5 балла**)\n",
        "Теперь примените линейную регрессию с L1-регуляризацией (Lasso) для данной задачи. Объявите модель и подберите параметр регуляризации alpha по сетке. Ищите alpha в диапазоне (0.1, 1.1) с шагом 0.1.\n",
        "\n",
        "Осуществите подбор параметра alpha по тренировочным данным (Xtrain, ytrain)."
      ]
    },
    {
      "cell_type": "markdown",
      "source": [
        "Метод GridSearchCV перебирает все возможные комбинации параметров из сетки значений и оценивает каждую из них с помощью кросс-валидации. В итоге выбирается лучший вариант"
      ],
      "metadata": {
        "id": "meLE6_7-WQIl"
      }
    },
    {
      "cell_type": "code",
      "execution_count": 8,
      "metadata": {
        "id": "oJBnFbiNdHsW",
        "colab": {
          "base_uri": "https://localhost:8080/"
        },
        "outputId": "1a741ab5-6720-4c99-b4de-af2f8aeb9a2b"
      },
      "outputs": [
        {
          "output_type": "stream",
          "name": "stdout",
          "text": [
            "Оптимальное значение alpha: 0.10\n"
          ]
        }
      ],
      "source": [
        "from sklearn.linear_model import Lasso\n",
        "\n",
        "# Определяем сетку значений alpha от 0.1 до 1.1 с шагом 0.1\n",
        "alpha_values = np.arange(0.1, 1.2, 0.1)\n",
        "param_grid = {'alpha': alpha_values}\n",
        "\n",
        "# Инициализация модели Lasso\n",
        "lasso = Lasso()\n",
        "\n",
        "# Инициализация GridSearchCV для подбора параметра alpha\n",
        "grid_search = GridSearchCV(estimator=lasso, param_grid=param_grid, scoring='r2', cv=5)\n",
        "\n",
        "# Обучение модели на тренировочных данных\n",
        "grid_search.fit(X_train, y_train)\n",
        "\n",
        "# Получение оптимального параметра alpha\n",
        "best_alpha = grid_search.best_params_['alpha']\n",
        "\n",
        "print(f\"Оптимальное значение alpha: {best_alpha:.2f}\")"
      ]
    },
    {
      "cell_type": "markdown",
      "metadata": {
        "id": "iPHyso44dHsW"
      },
      "source": [
        "### Шаг 7.  (**0.5 балла**)\n",
        "Выведите наилучший алгоритм и наилучшее качество по результатам подбора alpha (best_estimator_ и best_score_)."
      ]
    },
    {
      "cell_type": "code",
      "execution_count": 9,
      "metadata": {
        "id": "MSmyytgDdHsW",
        "colab": {
          "base_uri": "https://localhost:8080/"
        },
        "outputId": "963553ba-5fb8-427e-9dbe-c61c6a5acb32"
      },
      "outputs": [
        {
          "output_type": "stream",
          "name": "stdout",
          "text": [
            "Наилучшая модель: Lasso(alpha=0.1)\n",
            "Наилучшее качество (R^2) на кросс-валидации: 0.24\n"
          ]
        }
      ],
      "source": [
        "# Получение наилучшей модели\n",
        "best_model = grid_search.best_estimator_\n",
        "\n",
        "# Получение наилучшего качества (R^2) на кросс-валидации\n",
        "best_r2_score = grid_search.best_score_\n",
        "\n",
        "# Вывод результатов\n",
        "print(f\"Наилучшая модель: {best_model}\")\n",
        "print(f\"Наилучшее качество (R^2) на кросс-валидации: {best_r2_score:.2f}\")\n"
      ]
    },
    {
      "cell_type": "markdown",
      "metadata": {
        "id": "olFmu6-GdHsW"
      },
      "source": [
        "### Шаг 8.  (**0.5 балла**)\n",
        "\n",
        "С помощью найденного best_estimator_ сделайте предсказание на тестовых данных и выведите на экран r2-score на тесте."
      ]
    },
    {
      "cell_type": "code",
      "execution_count": 10,
      "metadata": {
        "id": "Pm1_3Yn6dHsX",
        "colab": {
          "base_uri": "https://localhost:8080/"
        },
        "outputId": "d89a582b-dec4-4358-854e-69aa7bf3a719"
      },
      "outputs": [
        {
          "output_type": "stream",
          "name": "stdout",
          "text": [
            "R^2 на тестовых данных с Lasso-регрессией: 0.21\n"
          ]
        }
      ],
      "source": [
        "# Предсказания на тестовых данных с помощью лучшей модели\n",
        "y_test_pred_lasso = best_model.predict(X_test)\n",
        "\n",
        "# Вычисление R^2 на тестовых данных\n",
        "r2_test_lasso = r2_score(y_test, y_test_pred_lasso)\n",
        "\n",
        "# Вывод результата\n",
        "print(f\"R^2 на тестовых данных с Lasso-регрессией: {r2_test_lasso:.2f}\")\n"
      ]
    },
    {
      "cell_type": "markdown",
      "metadata": {
        "id": "Kap3I2j7dHsX"
      },
      "source": [
        "### Шаг 9.  (**0.5 балла**)\n",
        "\n",
        "Попробуем улучшить качество модели за счет добавления полиномиальных признаков. Создайте pipeline, состоящий из добавления полиномиальных признаков степени 2, а затем применения линейной регрессии.\n",
        "\n",
        "Затем вычислите r2-score этой модели на кросс валидации с пятью фолдами."
      ]
    },
    {
      "cell_type": "markdown",
      "source": [
        "Насколько я понял, полиномиальные признаки степени 2 - это новые признаки создаются путём добавления квадратичных и взаимодействующих комбинаций существующих признаков (то есть новые признаки будут включать квадраты старых и из произведения)\n",
        "\n",
        "Pipeline в свою очередь автоматизирует процесс последовательного выполнения нескольких шагов, таких как предобработка данных и обучение модели"
      ],
      "metadata": {
        "id": "lB4CE46aVFne"
      }
    },
    {
      "cell_type": "code",
      "execution_count": 11,
      "metadata": {
        "id": "FmqkWMy6dHsX",
        "colab": {
          "base_uri": "https://localhost:8080/"
        },
        "outputId": "1137eff1-c33c-4a66-e21b-7d8e2273694a"
      },
      "outputs": [
        {
          "output_type": "stream",
          "name": "stdout",
          "text": [
            "R^2 на каждом фолде с полиномиальными признаками: [-0.03990649  0.29930017  0.38080623  0.30145898  0.20882197]\n",
            "Средний R^2 на кросс-валидации с полиномиальными признаками: 0.23\n"
          ]
        }
      ],
      "source": [
        "from sklearn.preprocessing import StandardScaler\n",
        "\n",
        "# Создание Pipeline для полиномиальных признаков и линейной регрессии\n",
        "pipeline = Pipeline([\n",
        "    ('poly_features', PolynomialFeatures(degree=2)),  # Полиномиальные признаки степени 2\n",
        "    ('linear_regression', LinearRegression())         # Линейная регрессия\n",
        "])\n",
        "\n",
        "# Кросс-валидация на 5 фолдах\n",
        "r2_scores_poly = cross_val_score(pipeline, X, y, cv=5, scoring='r2')\n",
        "\n",
        "# Вывод результатов\n",
        "print(f\"R^2 на каждом фолде с полиномиальными признаками: {r2_scores_poly}\")\n",
        "print(f\"Средний R^2 на кросс-валидации с полиномиальными признаками: {r2_scores_poly.mean():.2f}\")"
      ]
    },
    {
      "cell_type": "markdown",
      "metadata": {
        "id": "GZ6pMARWdHsX"
      },
      "source": [
        "### Шаг 10.  (**0.5 балла**)\n",
        "Обучите модель (pipeline) на тренировочных данных и сделайте предсказания для train и test, затем выведите на экран r2-score и MSE на тренировочных и на тестовых данных."
      ]
    },
    {
      "cell_type": "code",
      "execution_count": 12,
      "metadata": {
        "id": "6SoURH8JdHsX",
        "colab": {
          "base_uri": "https://localhost:8080/"
        },
        "outputId": "2fad48e3-8880-44cb-df61-d322942b2fcd"
      },
      "outputs": [
        {
          "output_type": "stream",
          "name": "stdout",
          "text": [
            "R^2 на тренировочной выборке с полиномиальными признаками: -0.12\n",
            "MSE на тренировочной выборке: 0.74\n",
            "R^2 на тестовой выборке с полиномиальными признаками: -0.22\n",
            "MSE на тестовой выборке: 0.77\n"
          ]
        }
      ],
      "source": [
        "# Обучение модели на тренировочных данных\n",
        "pipeline.fit(X_train, y_train)\n",
        "\n",
        "# Предсказания на тренировочных данных\n",
        "y_train_pred_poly = pipeline.predict(X_train)\n",
        "\n",
        "# Предсказания на тестовых данных\n",
        "y_test_pred_poly = pipeline.predict(X_test)\n",
        "\n",
        "# Вычисление метрик\n",
        "\n",
        "# MSE (среднеквадратическая ошибка) для тренировочных и тестовых данных\n",
        "mse_train_poly = mean_squared_error(y_train, y_train_pred_poly)\n",
        "mse_test_poly = mean_squared_error(y_test, y_test_pred_poly)\n",
        "\n",
        "# R^2 (коэффициент детерминации) для тренировочных и тестовых данных\n",
        "r2_train_poly = r2_score(y_train, y_train_pred_poly)\n",
        "r2_test_poly = r2_score(y_test, y_test_pred_poly)\n",
        "\n",
        "# Вывод результатов\n",
        "\n",
        "print(f\"R^2 на тренировочной выборке с полиномиальными признаками: {r2_train_poly:.2f}\")\n",
        "print(f\"MSE на тренировочной выборке: {mse_train_poly:.2f}\")\n",
        "\n",
        "print(f\"R^2 на тестовой выборке с полиномиальными признаками: {r2_test_poly:.2f}\")\n",
        "print(f\"MSE на тестовой выборке: {mse_test_poly:.2f}\")\n"
      ]
    },
    {
      "cell_type": "markdown",
      "metadata": {
        "id": "g3RBTv10dHsX"
      },
      "source": [
        "### Сделайте выводы. Для этого ответьте на вопросы: (**1 балл**)\n",
        "\n",
        "1) Хорошее ли качество показала исходная модель (линейная регрессия без регуляризации)? Является ли эта модель переобученной?\n",
        "\n",
        "2) Помогла ли L1-регуляризация улучшить качество модели?\n",
        "\n",
        "3) Помогло ли добавление полиномов второй степени улучшить качество модели? Как добавление новых признаков повлияло на переобучение?"
      ]
    },
    {
      "cell_type": "code",
      "execution_count": 13,
      "metadata": {
        "id": "EfvFWwDYdHsX",
        "colab": {
          "base_uri": "https://localhost:8080/",
          "height": 53
        },
        "outputId": "223a3160-21f1-4823-d188-f71c607fe53e"
      },
      "outputs": [
        {
          "output_type": "execute_result",
          "data": {
            "text/plain": [
              "'\\nЗначительное ухудшение качества на тренировочных данных (с отрицательным R^2) и ещё более низкие результаты на тесте говорят о том, что модель сильно переобучена.\\nЭто связано с тем, что полиномиальные признаки увеличивают сложность модели, и вместо выявления закономерностей, она начинает как бы запоминать данные\\n'"
            ],
            "application/vnd.google.colaboratory.intrinsic+json": {
              "type": "string"
            }
          },
          "metadata": {},
          "execution_count": 13
        }
      ],
      "source": [
        "# 1) Хорошее ли качество показала исходная модель (линейная регрессия без регуляризации)?\n",
        "\n",
        "\"\"\"\n",
        "Дляя ответа на данный вопрос нужно посмотреть на результаты 3, 4 и 5 шагов:\n",
        "Качество модели:\n",
        "\n",
        "R^2 на тренировочных данных: 0.36\n",
        "R^2 на тестовых данных: 0.35\n",
        "Средний R^2 на кросс-валидации: 0.29\n",
        "\n",
        "Из полученных результатов можно сделать вывод, что модель показала не самое высокое качество.\n",
        "Оценка, как на тренировочных, так и на тестовых данных, достаточно низкая.\n",
        "Это говорит о том, что модель объясняет лишь небольшую часть дисперсии целевого признака\n",
        "\"\"\"\n",
        "# Является ли эта модель переобученной?\n",
        "\"\"\"\n",
        "Разница между результатами тестов незначительна,оценка кросс-валидации не далеко ушла. Следовательно, модель не переобучена\n",
        "\"\"\"\n",
        "\n",
        "# 2) Помогла ли L1-регуляризация улучшить качество модели?\n",
        "\n",
        "\"\"\"\n",
        "Дляя ответа на данный вопрос нужно посмотреть на результаты 7 и 8 шагов:\n",
        "Качество модели с Lasso-регуляризацией:\n",
        "\n",
        "Лучший результат R^2 на кросс-валидации: 0.24\n",
        "R^2 на тестовых данных: 0.21\n",
        "\n",
        "L1-регуляризация с alpha=0.1 не улучшила качество модели, а лишь ухудшила результат.\n",
        "Можно сделать вывод, что для данной задачи L1-регуляризация оказалась слишком сильной, что негативно сказалось на качестве модели\n",
        "\"\"\"\n",
        "\n",
        "# 3) Помогло ли добавление полиномов второй степени улучшить качество модели?\n",
        "\n",
        "\"\"\"\n",
        "Дляя ответа на данный вопрос нужно посмотреть на результаты 9 и 10 шагов:\n",
        "Качество модели с полиномиальными признаками:\n",
        "\n",
        "Средний R^2 на кросс-валидации: 0.23\n",
        "R^2 на тренировочных данных: -0.12\n",
        "R^2 на тестовых данных: -0.22\n",
        "\n",
        "Добавление полиномиальных признаков не улучшило качество модели.\n",
        "Результаты ккак на тренировочных, так и на тестовых данных стали отрицательными.\n",
        "Это указывает на то, что модель даже хуже простой средней предсказательной модели\n",
        "\"\"\"\n",
        "\n",
        "# Как добавление новых признаков повлияло на переобучение?\n",
        "\n",
        "\"\"\"\n",
        "Значительное ухудшение качества на тренировочных данных (с отрицательным R^2) и ещё более низкие результаты на тесте говорят о том, что модель сильно переобучена.\n",
        "Это связано с тем, что полиномиальные признаки увеличивают сложность модели, и вместо выявления закономерностей, она начинает как бы запоминать данные\n",
        "\"\"\""
      ]
    },
    {
      "cell_type": "markdown",
      "metadata": {
        "id": "4JLj6xDNdHsX"
      },
      "source": [
        "### *Попытайтесь улучшить модель (добейтесь наилучшего качества) - можно использовать любые методы."
      ]
    },
    {
      "cell_type": "markdown",
      "metadata": {
        "id": "MqgWyffCdHsY"
      },
      "source": [
        "При улучшении качества r2 на 0.1-0.2 +1 балл, при большем улучшении +2 балла (дополнительно к 5 баллам за основную часть)."
      ]
    },
    {
      "cell_type": "markdown",
      "source": [
        "Я решил использовать метод градиентного бустинга (методи, в котором несколько деревьев решений последовательно обучаются и исправляют ошибки предыдущих)\n",
        "\n",
        "Основные шаги градиентного бустинга:\n",
        "\n",
        "1. Первое дерево обучается на исходных данных.\n",
        "2. Каждое следующее дерево обучается на ошибках предыдущих деревьев. Это означает, что оно пытается предсказать остатки (разницу между реальными значениями и предсказанными).\n",
        "3. Градиентный спуск используется для нахождения оптимальных весов для следующего дерева с целью минимизации ошибки.\n",
        "4. Процесс повторяется, и итоговый результат представляет собой взвешенную сумму всех деревьев.\n",
        "\n"
      ],
      "metadata": {
        "id": "nEGpssTcDFwd"
      }
    },
    {
      "cell_type": "code",
      "execution_count": 14,
      "metadata": {
        "id": "X5GHCXFCdHsY",
        "colab": {
          "base_uri": "https://localhost:8080/"
        },
        "outputId": "91820605-86da-4cf1-c5d0-501e146b5fbd"
      },
      "outputs": [
        {
          "output_type": "stream",
          "name": "stdout",
          "text": [
            "Наилучшие параметры: {'gradient_boosting__learning_rate': 0.01, 'gradient_boosting__max_depth': 7, 'gradient_boosting__n_estimators': 300}\n",
            "Лучший R^2 на кросс-валидации: 0.42\n",
            "R^2 на тестовых данных: 0.44\n",
            "MSE на тестовых данных: 0.36\n"
          ]
        }
      ],
      "source": [
        "from sklearn.ensemble import GradientBoostingRegressor\n",
        "\n",
        "# Создадим Pipeline с нормализацией данных и моделью градиентного бустинга\n",
        "pipeline_gb = Pipeline([\n",
        "    ('scaler', StandardScaler()),                         # Нормализация данных\n",
        "    ('gradient_boosting', GradientBoostingRegressor(random_state=42))  # Градиентный бустинг\n",
        "])\n",
        "\n",
        "# Зададим параметры для поиска через GridSearchCV\n",
        "param_grid_gb = {\n",
        "    'gradient_boosting__n_estimators': [100, 200, 300],   # Количество деревьев\n",
        "    'gradient_boosting__learning_rate': [0.01, 0.1, 0.2], # Скорость обучения\n",
        "    'gradient_boosting__max_depth': [3, 5, 7]             # Глубина (сложность) деревьев\n",
        "}\n",
        "\n",
        "# Используем GridSearchCV для подбора параметров\n",
        "grid_search_gb = GridSearchCV(pipeline_gb, param_grid_gb, cv=5, scoring='r2', n_jobs=-1)\n",
        "\n",
        "# Обучаем модель на тренировочных данных\n",
        "grid_search_gb.fit(X_train, y_train)\n",
        "\n",
        "# Выводим наилучшие параметры и результат на кросс-валидации\n",
        "print(f\"Наилучшие параметры: {grid_search_gb.best_params_}\")\n",
        "print(f\"Лучший R^2 на кросс-валидации: {grid_search_gb.best_score_:.2f}\")\n",
        "\n",
        "# Делаем предсказания на тестовых данных\n",
        "y_test_pred_gb = grid_search_gb.best_estimator_.predict(X_test)\n",
        "\n",
        "# Вычисляем R^2 и MSE на тестовых данных\n",
        "r2_test_gb = r2_score(y_test, y_test_pred_gb)\n",
        "mse_test_gb = mean_squared_error(y_test, y_test_pred_gb)\n",
        "\n",
        "print(f\"R^2 на тестовых данных: {r2_test_gb:.2f}\")\n",
        "print(f\"MSE на тестовых данных: {mse_test_gb:.2f}\")"
      ]
    },
    {
      "cell_type": "markdown",
      "source": [
        "Исходная модель линейной регрессии имела средний R^2 на кросс-валидации 0.29. После градиентного бустинга показатель среднего R^2 на кросс-валидации выросло до 0.42.\n",
        "\n",
        "Исходная линейная регрессия имела R^2 на тестовых данных 0.35. Градиентный бустинг показал R^2 0.44, что также является улучшением. MSE на тестовой выборке снизилось с 0.41 до 0.36, что подтверждает лучшее качество предсказаний"
      ],
      "metadata": {
        "id": "BixNCT9f-fV1"
      }
    },
    {
      "cell_type": "markdown",
      "metadata": {
        "id": "ugX-59R_dHsY"
      },
      "source": [
        "## Часть 2. Target encoding (**всего 5 баллов**)"
      ]
    },
    {
      "cell_type": "markdown",
      "metadata": {
        "id": "7WEiZ6pPdHsY"
      },
      "source": [
        "В этом части домашнего задания вы будете работать с выборкой `1C`. Вам нужно посчитать счетчики для `item_id` четырьмя способами:\n",
        "\n",
        "    1) При помощи KFold схемы;  \n",
        "    2) При помощи Leave-one-out схемы;\n",
        "    3) При помощи smoothing схемы;\n",
        "    4) При помощи expanding mean схемы."
      ]
    },
    {
      "cell_type": "markdown",
      "metadata": {
        "id": "TaWcQOzJdHsY"
      },
      "source": [
        "### Подготовка данных"
      ]
    },
    {
      "cell_type": "code",
      "execution_count": 15,
      "metadata": {
        "id": "IwMFZ83VdHsY",
        "outputId": "3c0f70f5-1db9-4480-900f-62e011782d19",
        "colab": {
          "base_uri": "https://localhost:8080/",
          "height": 424
        }
      },
      "outputs": [
        {
          "output_type": "execute_result",
          "data": {
            "text/plain": [
              "               date  date_block_num  shop_id  item_id  item_price  target\n",
              "0        02.01.2013               0       59    22154      999.00     1.0\n",
              "1        03.01.2013               0       25     2552      899.00     1.0\n",
              "2        05.01.2013               0       25     2552      899.00    -1.0\n",
              "3        06.01.2013               0       25     2554     1709.05     1.0\n",
              "4        15.01.2013               0       25     2555     1099.00     1.0\n",
              "...             ...             ...      ...      ...         ...     ...\n",
              "2935844  10.10.2015              33       25     7409      299.00     1.0\n",
              "2935845  09.10.2015              33       25     7460      299.00     1.0\n",
              "2935846  14.10.2015              33       25     7459      349.00     1.0\n",
              "2935847  22.10.2015              33       25     7440      299.00     1.0\n",
              "2935848  03.10.2015              33       25     7460      299.00     1.0\n",
              "\n",
              "[2935849 rows x 6 columns]"
            ],
            "text/html": [
              "\n",
              "  <div id=\"df-8ffaeeb7-0908-409c-be23-6d841083cff3\" class=\"colab-df-container\">\n",
              "    <div>\n",
              "<style scoped>\n",
              "    .dataframe tbody tr th:only-of-type {\n",
              "        vertical-align: middle;\n",
              "    }\n",
              "\n",
              "    .dataframe tbody tr th {\n",
              "        vertical-align: top;\n",
              "    }\n",
              "\n",
              "    .dataframe thead th {\n",
              "        text-align: right;\n",
              "    }\n",
              "</style>\n",
              "<table border=\"1\" class=\"dataframe\">\n",
              "  <thead>\n",
              "    <tr style=\"text-align: right;\">\n",
              "      <th></th>\n",
              "      <th>date</th>\n",
              "      <th>date_block_num</th>\n",
              "      <th>shop_id</th>\n",
              "      <th>item_id</th>\n",
              "      <th>item_price</th>\n",
              "      <th>target</th>\n",
              "    </tr>\n",
              "  </thead>\n",
              "  <tbody>\n",
              "    <tr>\n",
              "      <th>0</th>\n",
              "      <td>02.01.2013</td>\n",
              "      <td>0</td>\n",
              "      <td>59</td>\n",
              "      <td>22154</td>\n",
              "      <td>999.00</td>\n",
              "      <td>1.0</td>\n",
              "    </tr>\n",
              "    <tr>\n",
              "      <th>1</th>\n",
              "      <td>03.01.2013</td>\n",
              "      <td>0</td>\n",
              "      <td>25</td>\n",
              "      <td>2552</td>\n",
              "      <td>899.00</td>\n",
              "      <td>1.0</td>\n",
              "    </tr>\n",
              "    <tr>\n",
              "      <th>2</th>\n",
              "      <td>05.01.2013</td>\n",
              "      <td>0</td>\n",
              "      <td>25</td>\n",
              "      <td>2552</td>\n",
              "      <td>899.00</td>\n",
              "      <td>-1.0</td>\n",
              "    </tr>\n",
              "    <tr>\n",
              "      <th>3</th>\n",
              "      <td>06.01.2013</td>\n",
              "      <td>0</td>\n",
              "      <td>25</td>\n",
              "      <td>2554</td>\n",
              "      <td>1709.05</td>\n",
              "      <td>1.0</td>\n",
              "    </tr>\n",
              "    <tr>\n",
              "      <th>4</th>\n",
              "      <td>15.01.2013</td>\n",
              "      <td>0</td>\n",
              "      <td>25</td>\n",
              "      <td>2555</td>\n",
              "      <td>1099.00</td>\n",
              "      <td>1.0</td>\n",
              "    </tr>\n",
              "    <tr>\n",
              "      <th>...</th>\n",
              "      <td>...</td>\n",
              "      <td>...</td>\n",
              "      <td>...</td>\n",
              "      <td>...</td>\n",
              "      <td>...</td>\n",
              "      <td>...</td>\n",
              "    </tr>\n",
              "    <tr>\n",
              "      <th>2935844</th>\n",
              "      <td>10.10.2015</td>\n",
              "      <td>33</td>\n",
              "      <td>25</td>\n",
              "      <td>7409</td>\n",
              "      <td>299.00</td>\n",
              "      <td>1.0</td>\n",
              "    </tr>\n",
              "    <tr>\n",
              "      <th>2935845</th>\n",
              "      <td>09.10.2015</td>\n",
              "      <td>33</td>\n",
              "      <td>25</td>\n",
              "      <td>7460</td>\n",
              "      <td>299.00</td>\n",
              "      <td>1.0</td>\n",
              "    </tr>\n",
              "    <tr>\n",
              "      <th>2935846</th>\n",
              "      <td>14.10.2015</td>\n",
              "      <td>33</td>\n",
              "      <td>25</td>\n",
              "      <td>7459</td>\n",
              "      <td>349.00</td>\n",
              "      <td>1.0</td>\n",
              "    </tr>\n",
              "    <tr>\n",
              "      <th>2935847</th>\n",
              "      <td>22.10.2015</td>\n",
              "      <td>33</td>\n",
              "      <td>25</td>\n",
              "      <td>7440</td>\n",
              "      <td>299.00</td>\n",
              "      <td>1.0</td>\n",
              "    </tr>\n",
              "    <tr>\n",
              "      <th>2935848</th>\n",
              "      <td>03.10.2015</td>\n",
              "      <td>33</td>\n",
              "      <td>25</td>\n",
              "      <td>7460</td>\n",
              "      <td>299.00</td>\n",
              "      <td>1.0</td>\n",
              "    </tr>\n",
              "  </tbody>\n",
              "</table>\n",
              "<p>2935849 rows × 6 columns</p>\n",
              "</div>\n",
              "    <div class=\"colab-df-buttons\">\n",
              "\n",
              "  <div class=\"colab-df-container\">\n",
              "    <button class=\"colab-df-convert\" onclick=\"convertToInteractive('df-8ffaeeb7-0908-409c-be23-6d841083cff3')\"\n",
              "            title=\"Convert this dataframe to an interactive table.\"\n",
              "            style=\"display:none;\">\n",
              "\n",
              "  <svg xmlns=\"http://www.w3.org/2000/svg\" height=\"24px\" viewBox=\"0 -960 960 960\">\n",
              "    <path d=\"M120-120v-720h720v720H120Zm60-500h600v-160H180v160Zm220 220h160v-160H400v160Zm0 220h160v-160H400v160ZM180-400h160v-160H180v160Zm440 0h160v-160H620v160ZM180-180h160v-160H180v160Zm440 0h160v-160H620v160Z\"/>\n",
              "  </svg>\n",
              "    </button>\n",
              "\n",
              "  <style>\n",
              "    .colab-df-container {\n",
              "      display:flex;\n",
              "      gap: 12px;\n",
              "    }\n",
              "\n",
              "    .colab-df-convert {\n",
              "      background-color: #E8F0FE;\n",
              "      border: none;\n",
              "      border-radius: 50%;\n",
              "      cursor: pointer;\n",
              "      display: none;\n",
              "      fill: #1967D2;\n",
              "      height: 32px;\n",
              "      padding: 0 0 0 0;\n",
              "      width: 32px;\n",
              "    }\n",
              "\n",
              "    .colab-df-convert:hover {\n",
              "      background-color: #E2EBFA;\n",
              "      box-shadow: 0px 1px 2px rgba(60, 64, 67, 0.3), 0px 1px 3px 1px rgba(60, 64, 67, 0.15);\n",
              "      fill: #174EA6;\n",
              "    }\n",
              "\n",
              "    .colab-df-buttons div {\n",
              "      margin-bottom: 4px;\n",
              "    }\n",
              "\n",
              "    [theme=dark] .colab-df-convert {\n",
              "      background-color: #3B4455;\n",
              "      fill: #D2E3FC;\n",
              "    }\n",
              "\n",
              "    [theme=dark] .colab-df-convert:hover {\n",
              "      background-color: #434B5C;\n",
              "      box-shadow: 0px 1px 3px 1px rgba(0, 0, 0, 0.15);\n",
              "      filter: drop-shadow(0px 1px 2px rgba(0, 0, 0, 0.3));\n",
              "      fill: #FFFFFF;\n",
              "    }\n",
              "  </style>\n",
              "\n",
              "    <script>\n",
              "      const buttonEl =\n",
              "        document.querySelector('#df-8ffaeeb7-0908-409c-be23-6d841083cff3 button.colab-df-convert');\n",
              "      buttonEl.style.display =\n",
              "        google.colab.kernel.accessAllowed ? 'block' : 'none';\n",
              "\n",
              "      async function convertToInteractive(key) {\n",
              "        const element = document.querySelector('#df-8ffaeeb7-0908-409c-be23-6d841083cff3');\n",
              "        const dataTable =\n",
              "          await google.colab.kernel.invokeFunction('convertToInteractive',\n",
              "                                                    [key], {});\n",
              "        if (!dataTable) return;\n",
              "\n",
              "        const docLinkHtml = 'Like what you see? Visit the ' +\n",
              "          '<a target=\"_blank\" href=https://colab.research.google.com/notebooks/data_table.ipynb>data table notebook</a>'\n",
              "          + ' to learn more about interactive tables.';\n",
              "        element.innerHTML = '';\n",
              "        dataTable['output_type'] = 'display_data';\n",
              "        await google.colab.output.renderOutput(dataTable, element);\n",
              "        const docLink = document.createElement('div');\n",
              "        docLink.innerHTML = docLinkHtml;\n",
              "        element.appendChild(docLink);\n",
              "      }\n",
              "    </script>\n",
              "  </div>\n",
              "\n",
              "\n",
              "<div id=\"df-c6faf8b7-1927-4b7f-a31b-5366d3f1aa7d\">\n",
              "  <button class=\"colab-df-quickchart\" onclick=\"quickchart('df-c6faf8b7-1927-4b7f-a31b-5366d3f1aa7d')\"\n",
              "            title=\"Suggest charts\"\n",
              "            style=\"display:none;\">\n",
              "\n",
              "<svg xmlns=\"http://www.w3.org/2000/svg\" height=\"24px\"viewBox=\"0 0 24 24\"\n",
              "     width=\"24px\">\n",
              "    <g>\n",
              "        <path d=\"M19 3H5c-1.1 0-2 .9-2 2v14c0 1.1.9 2 2 2h14c1.1 0 2-.9 2-2V5c0-1.1-.9-2-2-2zM9 17H7v-7h2v7zm4 0h-2V7h2v10zm4 0h-2v-4h2v4z\"/>\n",
              "    </g>\n",
              "</svg>\n",
              "  </button>\n",
              "\n",
              "<style>\n",
              "  .colab-df-quickchart {\n",
              "      --bg-color: #E8F0FE;\n",
              "      --fill-color: #1967D2;\n",
              "      --hover-bg-color: #E2EBFA;\n",
              "      --hover-fill-color: #174EA6;\n",
              "      --disabled-fill-color: #AAA;\n",
              "      --disabled-bg-color: #DDD;\n",
              "  }\n",
              "\n",
              "  [theme=dark] .colab-df-quickchart {\n",
              "      --bg-color: #3B4455;\n",
              "      --fill-color: #D2E3FC;\n",
              "      --hover-bg-color: #434B5C;\n",
              "      --hover-fill-color: #FFFFFF;\n",
              "      --disabled-bg-color: #3B4455;\n",
              "      --disabled-fill-color: #666;\n",
              "  }\n",
              "\n",
              "  .colab-df-quickchart {\n",
              "    background-color: var(--bg-color);\n",
              "    border: none;\n",
              "    border-radius: 50%;\n",
              "    cursor: pointer;\n",
              "    display: none;\n",
              "    fill: var(--fill-color);\n",
              "    height: 32px;\n",
              "    padding: 0;\n",
              "    width: 32px;\n",
              "  }\n",
              "\n",
              "  .colab-df-quickchart:hover {\n",
              "    background-color: var(--hover-bg-color);\n",
              "    box-shadow: 0 1px 2px rgba(60, 64, 67, 0.3), 0 1px 3px 1px rgba(60, 64, 67, 0.15);\n",
              "    fill: var(--button-hover-fill-color);\n",
              "  }\n",
              "\n",
              "  .colab-df-quickchart-complete:disabled,\n",
              "  .colab-df-quickchart-complete:disabled:hover {\n",
              "    background-color: var(--disabled-bg-color);\n",
              "    fill: var(--disabled-fill-color);\n",
              "    box-shadow: none;\n",
              "  }\n",
              "\n",
              "  .colab-df-spinner {\n",
              "    border: 2px solid var(--fill-color);\n",
              "    border-color: transparent;\n",
              "    border-bottom-color: var(--fill-color);\n",
              "    animation:\n",
              "      spin 1s steps(1) infinite;\n",
              "  }\n",
              "\n",
              "  @keyframes spin {\n",
              "    0% {\n",
              "      border-color: transparent;\n",
              "      border-bottom-color: var(--fill-color);\n",
              "      border-left-color: var(--fill-color);\n",
              "    }\n",
              "    20% {\n",
              "      border-color: transparent;\n",
              "      border-left-color: var(--fill-color);\n",
              "      border-top-color: var(--fill-color);\n",
              "    }\n",
              "    30% {\n",
              "      border-color: transparent;\n",
              "      border-left-color: var(--fill-color);\n",
              "      border-top-color: var(--fill-color);\n",
              "      border-right-color: var(--fill-color);\n",
              "    }\n",
              "    40% {\n",
              "      border-color: transparent;\n",
              "      border-right-color: var(--fill-color);\n",
              "      border-top-color: var(--fill-color);\n",
              "    }\n",
              "    60% {\n",
              "      border-color: transparent;\n",
              "      border-right-color: var(--fill-color);\n",
              "    }\n",
              "    80% {\n",
              "      border-color: transparent;\n",
              "      border-right-color: var(--fill-color);\n",
              "      border-bottom-color: var(--fill-color);\n",
              "    }\n",
              "    90% {\n",
              "      border-color: transparent;\n",
              "      border-bottom-color: var(--fill-color);\n",
              "    }\n",
              "  }\n",
              "</style>\n",
              "\n",
              "  <script>\n",
              "    async function quickchart(key) {\n",
              "      const quickchartButtonEl =\n",
              "        document.querySelector('#' + key + ' button');\n",
              "      quickchartButtonEl.disabled = true;  // To prevent multiple clicks.\n",
              "      quickchartButtonEl.classList.add('colab-df-spinner');\n",
              "      try {\n",
              "        const charts = await google.colab.kernel.invokeFunction(\n",
              "            'suggestCharts', [key], {});\n",
              "      } catch (error) {\n",
              "        console.error('Error during call to suggestCharts:', error);\n",
              "      }\n",
              "      quickchartButtonEl.classList.remove('colab-df-spinner');\n",
              "      quickchartButtonEl.classList.add('colab-df-quickchart-complete');\n",
              "    }\n",
              "    (() => {\n",
              "      let quickchartButtonEl =\n",
              "        document.querySelector('#df-c6faf8b7-1927-4b7f-a31b-5366d3f1aa7d button');\n",
              "      quickchartButtonEl.style.display =\n",
              "        google.colab.kernel.accessAllowed ? 'block' : 'none';\n",
              "    })();\n",
              "  </script>\n",
              "</div>\n",
              "    </div>\n",
              "  </div>\n"
            ],
            "application/vnd.google.colaboratory.intrinsic+json": {
              "type": "dataframe",
              "variable_name": "sales"
            }
          },
          "metadata": {},
          "execution_count": 15
        }
      ],
      "source": [
        "sales = pd.read_csv('sales_train.csv.gz')\n",
        "sales.columns = ['date', 'date_block_num', 'shop_id', 'item_id', 'item_price', 'target']\n",
        "sales"
      ]
    },
    {
      "cell_type": "code",
      "execution_count": 16,
      "metadata": {
        "id": "DDDVJNErdHsZ"
      },
      "outputs": [],
      "source": [
        "index_cols = ['shop_id', 'item_id', 'date_block_num']\n",
        "\n",
        "# Для каждого месяца мы создаем сетку из всех магазинов/комбинаций товаров за этот месяц\n",
        "grid = []\n",
        "for block_num in sales['date_block_num'].unique():\n",
        "    # Получаем уникальные идентификаторы магазинов для текущего месяца\n",
        "    cur_shops = sales[sales['date_block_num'] == block_num]['shop_id'].unique()\n",
        "    # Получаем уникальные идентификаторы товаров для текущего месяца\n",
        "    cur_items = sales[sales['date_block_num'] == block_num]['item_id'].unique()\n",
        "    # Создаем все возможные комбинации магазинов и товаров для текущего месяца и добавляем их в grid\n",
        "    grid.append(np.array(list(product(*[cur_shops, cur_items, [block_num]])), dtype='int32'))\n",
        "\n",
        "# Объединяем все комбинации в один DataFrame с заданными индексами\n",
        "grid = pd.DataFrame(np.vstack(grid), columns = index_cols,dtype=np.int32)\n",
        "\n",
        "# Группируем данные по магазинам, товарам и номерам блоков даты, суммируя целевую переменную\n",
        "gb = sales.groupby(index_cols,as_index=False).agg({'target':'sum'})\n",
        "\n",
        "# Объединяем сетку с агрегированными данными, заполняя отсутствующие значения нулями\n",
        "all_data = pd.merge(grid,gb,how='left',on=index_cols).fillna(0)\n",
        "\n",
        "# Сортируем данные по номеру блока даты, идентификатору магазина и идентификатору товара\n",
        "all_data.sort_values(['date_block_num','shop_id','item_id'],inplace=True)"
      ]
    },
    {
      "cell_type": "markdown",
      "metadata": {
        "id": "7j1cdF1vdHsZ"
      },
      "source": [
        "### Mean encodings без регуляризации"
      ]
    },
    {
      "cell_type": "markdown",
      "metadata": {
        "id": "Ld-hPG6odHsZ"
      },
      "source": [
        "После проделанной технической работы, мы готовы посчитать счетчики для переменной `item_id`.\n",
        "\n",
        "Ниже приведены две реализации подсчета счетчиков без регуляризации. Можно использовать данный код в качестве стартовой точки для реализации различных техник регуляризации."
      ]
    },
    {
      "cell_type": "markdown",
      "metadata": {
        "id": "pHR3_RBOdHsZ"
      },
      "source": [
        "#### Способ 1"
      ]
    },
    {
      "cell_type": "code",
      "execution_count": 17,
      "metadata": {
        "id": "2Vx5qyKddHsZ",
        "outputId": "9a6ca4d2-508e-4936-ca40-69dcf51b1aaf",
        "colab": {
          "base_uri": "https://localhost:8080/"
        }
      },
      "outputs": [
        {
          "output_type": "stream",
          "name": "stdout",
          "text": [
            "0.4830386988621699\n"
          ]
        },
        {
          "output_type": "stream",
          "name": "stderr",
          "text": [
            "<ipython-input-17-0a816b26c8f3>:8: FutureWarning: A value is trying to be set on a copy of a DataFrame or Series through chained assignment using an inplace method.\n",
            "The behavior will change in pandas 3.0. This inplace method will never work because the intermediate object on which we are setting values always behaves as a copy.\n",
            "\n",
            "For example, when doing 'df[col].method(value, inplace=True)', try using 'df.method({col: value}, inplace=True)' or df[col] = df[col].method(value) instead, to perform the operation inplace on the original object.\n",
            "\n",
            "\n",
            "  all_data['item_target_enc'].fillna(0.3343, inplace=True)\n"
          ]
        }
      ],
      "source": [
        "# Вычисляем среднее значение целевой переменной для каждого уникального идентификатора товара\n",
        "item_id_target_mean = all_data.groupby('item_id').target.mean()\n",
        "\n",
        "# Создаем новую колонку 'item_target_enc' в DataFrame all_data, отображая средние значения целевой переменной для каждого товара\n",
        "all_data['item_target_enc'] = all_data['item_id'].map(item_id_target_mean)\n",
        "\n",
        "# Заполняем отсутствующие значения в 'item_target_enc' значением 0.3343\n",
        "all_data['item_target_enc'].fillna(0.3343, inplace=True)\n",
        "\n",
        "# Извлекаем значения из столбца 'item_target_enc' и сохраняем их в переменной encoded_feature\n",
        "encoded_feature = all_data['item_target_enc'].values\n",
        "\n",
        "# Вычисляем коэффициент корреляции между целевой переменной и закодированным признаком и выводим его на экран\n",
        "print(np.corrcoef(all_data['target'].values, encoded_feature)[0][1])\n"
      ]
    },
    {
      "cell_type": "markdown",
      "metadata": {
        "id": "0mIyDofNdHsa"
      },
      "source": [
        "#### Способ 2"
      ]
    },
    {
      "cell_type": "code",
      "execution_count": 18,
      "metadata": {
        "id": "ipgCv4ohdHsa",
        "outputId": "6bf175a5-68a6-460b-a758-bb7fe36b71de",
        "colab": {
          "base_uri": "https://localhost:8080/"
        }
      },
      "outputs": [
        {
          "output_type": "stream",
          "name": "stdout",
          "text": [
            "0.4830386988621699\n"
          ]
        },
        {
          "output_type": "stream",
          "name": "stderr",
          "text": [
            "<ipython-input-18-45b431b44915>:9: FutureWarning: A value is trying to be set on a copy of a DataFrame or Series through chained assignment using an inplace method.\n",
            "The behavior will change in pandas 3.0. This inplace method will never work because the intermediate object on which we are setting values always behaves as a copy.\n",
            "\n",
            "For example, when doing 'df[col].method(value, inplace=True)', try using 'df.method({col: value}, inplace=True)' or df[col] = df[col].method(value) instead, to perform the operation inplace on the original object.\n",
            "\n",
            "\n",
            "  all_data['item_target_enc'].fillna(0.3343, inplace=True)\n"
          ]
        }
      ],
      "source": [
        "'''\n",
        "    В отличие от функции `.target.mean()`, функция `transform`\n",
        "    вернет DataFrame с индексом, как в `all_data`.\n",
        "    По сути, эта одна строка кода эквивалентна первым двум строкам из Метода 1.\n",
        "'''\n",
        "all_data['item_target_enc'] = all_data.groupby('item_id')['target'].transform('mean')\n",
        "\n",
        "# Заполняем отсутствующие значения (NaN)\n",
        "all_data['item_target_enc'].fillna(0.3343, inplace=True)\n",
        "\n",
        "# Вычисляем и выводим коэффициент корреляции\n",
        "encoded_feature = all_data['item_target_enc'].values\n",
        "print(np.corrcoef(all_data['target'].values, encoded_feature)[0][1])\n"
      ]
    },
    {
      "cell_type": "markdown",
      "metadata": {
        "id": "kKyicryrdHsa"
      },
      "source": [
        "###  KFold схема (**1.25 балла**)"
      ]
    },
    {
      "cell_type": "markdown",
      "metadata": {
        "id": "x51wiqlsdHsa"
      },
      "source": [
        "Необходимо реализовать Kfold схему с пятью фолдами. Используйте KFold(5) из sklearn.model_selection.\n",
        "\n",
        "1. Разбейте данные на 5 фолдов при помощи `sklearn.model_selection.KFold` с параметром `shuffle=False`.\n",
        "2. Проитерируйтесь по фолдам: используйте 4 обучающих фолда для подсчета средних значений таргета по `item_id` и заполните этими значениями валидационный фолд на каждой итерации.\n",
        "\n",
        "Обратите внимание на **Способ 1** из примера. В частности, изучите, как работают функции map и pd.Series.map. Они довольно полезны во многих ситуациях."
      ]
    },
    {
      "cell_type": "markdown",
      "source": [
        "KFold - это метод оценки моделей, в котором данные разбиваются на фолды и в каждой итерации один из фолдов используется для тестирования модели, а остальные - для обучения"
      ],
      "metadata": {
        "id": "rBdpYIKtsPk8"
      }
    },
    {
      "cell_type": "code",
      "execution_count": 19,
      "metadata": {
        "id": "8My-JggedHsa",
        "colab": {
          "base_uri": "https://localhost:8080/"
        },
        "outputId": "2d8b6178-484b-4777-db45-3726b228edb9"
      },
      "outputs": [
        {
          "output_type": "stream",
          "name": "stdout",
          "text": [
            "0.4164590712798811\n"
          ]
        }
      ],
      "source": [
        "from sklearn.model_selection import KFold\n",
        "\n",
        "# Инициализация KFold для разбиения данных на 5 фолдов с параметром shuffle=False\n",
        "kf = KFold(n_splits=5, shuffle=False)\n",
        "\n",
        "# Создание массива для хранения закодированных признаков, который инициализируется нулями\n",
        "encoded_feature = np.zeros(all_data.shape[0])\n",
        "\n",
        "# Итерация по фолдам: разбиваем данные на обучающие и валидационные наборы\n",
        "for train_index, val_index in kf.split(all_data):\n",
        "    train_data = all_data.iloc[train_index]         # Получаем обучающий набор данных по индексам\n",
        "    val_data = all_data.iloc[val_index]             # Получаем валидационный набор данных по индексам\n",
        "\n",
        "    # Вычисляем средние значения целевой переменной для каждого item_id на обучающем наборе данных\n",
        "    item_id_target_mean = train_data.groupby('item_id')['target'].mean()\n",
        "\n",
        "    # Заполняем валидационный набор средними значениями по item_id\n",
        "    # Используем метод map для сопоставления средних значений с item_id в валидационном наборе\n",
        "    encoded_feature[val_index] = val_data['item_id'].map(item_id_target_mean).fillna(0.3343)\n",
        "\n",
        "# Вычисление коэффициента корреляции между целевой переменной и закодированным признаком\n",
        "corr = np.corrcoef(all_data['target'].values, encoded_feature)[0][1]\n",
        "# Выводим коэффициент корреляции на экран\n",
        "print(corr)"
      ]
    },
    {
      "cell_type": "markdown",
      "metadata": {
        "id": "-uMHpKXQdHsa"
      },
      "source": [
        "Ожидаемый ответ 0.4165"
      ]
    },
    {
      "cell_type": "markdown",
      "metadata": {
        "id": "56m6ZAzEdHsb"
      },
      "source": [
        "### Leave-one-out схема (**1.25 балла**)"
      ]
    },
    {
      "cell_type": "markdown",
      "metadata": {
        "id": "gTGB8GN-dHsb"
      },
      "source": [
        "Необходимо реализовать leave-one-out схему . Учтите, если вы запустите код из первого задания, задав количество фолдов такое же как размер выборки, то вы, вероятно, получите правильный ответ, но ждать будете очень-очень долго.\n",
        "\n",
        "Для более быстрой реализации подсчета среднего таргета на всех объектах, кроме одного, вы можете:\n",
        "\n",
        "1. Вычислить суммарный таргет по всем объектам.\n",
        "2. Вычесть таргет конкретного объекта и разделить результат на `n_objects - 1`.\n",
        "\n",
        "Заметим, что пункт `1.` следует сделать для всех объектов. Также заметим, что пункт `2.` может быть реализован без циклов `for`.\n",
        "\n",
        "Здесь может оказаться полезной функция .transform из **Способа 2** из примера."
      ]
    },
    {
      "cell_type": "markdown",
      "source": [
        "Leave-One-Out - это метод оценки, в котором количество фолдов равно количеству наблюдений в наборе данных (для каждого наблюдения в данных будет выполнена отдельная итерация, 1 наблюдение - тестовый набор, а остальные наблюдения - обучающий набор)"
      ],
      "metadata": {
        "id": "mYTxIJjDIypH"
      }
    },
    {
      "cell_type": "code",
      "execution_count": 20,
      "metadata": {
        "id": "U6eSQIEbdHsb",
        "colab": {
          "base_uri": "https://localhost:8080/"
        },
        "outputId": "f17aabf0-83cf-4fb4-fde5-6e54e5f47582"
      },
      "outputs": [
        {
          "output_type": "stream",
          "name": "stdout",
          "text": [
            "0.4803848311293002\n"
          ]
        }
      ],
      "source": [
        "# Вычисляем сумму таргета по item_id\n",
        "item_id_target_sum = all_data.groupby('item_id')['target'].transform('sum')\n",
        "\n",
        "# Вычисляем количество объектов для каждого item_id\n",
        "item_id_count = all_data.groupby('item_id')['target'].transform('count')\n",
        "\n",
        "# Вычисляем закодированный признак, исключая текущий объект\n",
        "# Используем item_id_count для корректного деления\n",
        "encoded_feature = (item_id_target_sum - all_data['target']) / (item_id_count - 1)\n",
        "\n",
        "# Заполняем NaN значениями, если они есть\n",
        "encoded_feature.fillna(0.3343, inplace=True)\n",
        "\n",
        "# Вычисляем коэффициент корреляции между целевой переменной и закодированным признаком\n",
        "corr = np.corrcoef(all_data['target'].values, encoded_feature)[0][1]\n",
        "# Выводим коэффициент корреляции на экран\n",
        "print(corr)"
      ]
    },
    {
      "cell_type": "markdown",
      "metadata": {
        "id": "unn20uUQdHsb"
      },
      "source": [
        "Ожидаемый ответ 0.4803"
      ]
    },
    {
      "cell_type": "markdown",
      "metadata": {
        "id": "ly4QXJHjdHsb"
      },
      "source": [
        "### Smoothing (**1.25 балла**)"
      ]
    },
    {
      "cell_type": "markdown",
      "metadata": {
        "id": "yu4pX6eJdHsb"
      },
      "source": [
        "Необходимо реализовать smoothing с $\\alpha = 100$. Используйте формулу:\n",
        "\n",
        "$\\frac{mean(target) \\cdot nrows + globalmean \\cdot \\alpha }{nrows + \\alpha}$,\n",
        "\n",
        "где $globalmean=0.3343$. Заметим, что `nrows` - это количество объектов, принадлежащих конктертной категории, а не количество строк в датасете."
      ]
    },
    {
      "cell_type": "code",
      "execution_count": 27,
      "metadata": {
        "id": "L_CXdBckdHsb",
        "colab": {
          "base_uri": "https://localhost:8080/"
        },
        "outputId": "0e09ba41-5d7b-4013-f895-f5c4344901a1"
      },
      "outputs": [
        {
          "output_type": "stream",
          "name": "stdout",
          "text": [
            "        item_id  target  smoothed_target\n",
            "139255       19     0.0         0.105665\n",
            "141495       27     0.0         0.202869\n",
            "144968       28     0.0         0.153338\n",
            "142661       29     0.0         0.072900\n",
            "138947       32     6.0         1.177759\n",
            "0.4821354242646004\n"
          ]
        }
      ],
      "source": [
        "# Параметры для сглаживания\n",
        "alpha = 100\n",
        "globalmean = 0.3343\n",
        "\n",
        "# Вычисляем среднее значение целевой переменной для каждого item_id\n",
        "item_id_target_mean = all_data.groupby('item_id')['target'].mean()\n",
        "\n",
        "# Вычисляем количество объектов для каждого item_id\n",
        "item_id_count = all_data.groupby('item_id')['target'].transform('count')\n",
        "\n",
        "# Применяем формулу сглаживания\n",
        "smoothed_target = (item_id_target_mean[item_id_count > 0] * item_id_count[item_id_count > 0] + globalmean * alpha) / (item_id_count[item_id_count > 0] + alpha)\n",
        "\n",
        "# Заполняем значения в новом столбце\n",
        "all_data['smoothed_target'] = all_data['item_id'].map(smoothed_target).fillna(globalmean)\n",
        "\n",
        "# Выводим результат\n",
        "print(all_data[['item_id', 'target', 'smoothed_target']].head())\n",
        "\n",
        "# Вычисляем коэффициент корреляции между целевой переменной и сглаженным признаком\n",
        "corr = np.corrcoef(all_data['target'].values, all_data['smoothed_target'].values)[0][1]\n",
        "print(corr)"
      ]
    },
    {
      "cell_type": "markdown",
      "metadata": {
        "id": "12elpjG6dHsc"
      },
      "source": [
        "Ожидаемый ответ 0.4818"
      ]
    },
    {
      "cell_type": "markdown",
      "metadata": {
        "id": "cqfOHdtQdHsc"
      },
      "source": [
        "### Expanding mean схема (**1.25 балла**)"
      ]
    },
    {
      "cell_type": "markdown",
      "metadata": {
        "id": "eJ03jKvQdHsc"
      },
      "source": [
        "Необходимо реализовать *expanding mean* схему. Ее суть заключается в том, чтобы пройти по отсортированному в определенном порядке датасету (датасет сортируется в самом начале задания) и для подсчета счетчика для строки $m$ использовать строки от $0$ до $m-1$. Вам будет необходимо воспользоваться pandas функциями [`cumsum`](https://pandas.pydata.org/pandas-docs/stable/generated/pandas.core.groupby.DataFrameGroupBy.cumsum.html) и [`cumcount`](https://pandas.pydata.org/pandas-docs/stable/generated/pandas.core.groupby.GroupBy.cumcount.html)."
      ]
    },
    {
      "cell_type": "code",
      "execution_count": 38,
      "metadata": {
        "id": "kuTtLCgmdHsc",
        "colab": {
          "base_uri": "https://localhost:8080/"
        },
        "outputId": "215d26f9-f034-48d3-82cb-2ba4b19a8c45"
      },
      "outputs": [
        {
          "output_type": "stream",
          "name": "stderr",
          "text": [
            "<ipython-input-38-5ae5652861d4>:15: FutureWarning: A value is trying to be set on a copy of a DataFrame or Series through chained assignment using an inplace method.\n",
            "The behavior will change in pandas 3.0. This inplace method will never work because the intermediate object on which we are setting values always behaves as a copy.\n",
            "\n",
            "For example, when doing 'df[col].method(value, inplace=True)', try using 'df.method({col: value}, inplace=True)' or df[col] = df[col].method(value) instead, to perform the operation inplace on the original object.\n",
            "\n",
            "\n",
            "  all_data['item_target_enc'].fillna(0.3343, inplace=True)\n"
          ]
        },
        {
          "output_type": "stream",
          "name": "stdout",
          "text": [
            "0.5025245211081697\n"
          ]
        }
      ],
      "source": [
        "# Сортируем данные по номеру блока, shop_id и item_id\n",
        "all_data.sort_values(['date_block_num', 'shop_id', 'item_id'], inplace=True)\n",
        "\n",
        "# Создаем вспомогательные переменные для вычисления накопленных сумм и количества строк\n",
        "# Cumulative sum по целевой переменной 'target' для каждого 'item_id'\n",
        "cumsum = all_data.groupby('item_id')['target'].cumsum() - all_data['target']\n",
        "\n",
        "# Cumulative count для количества строк до текущей\n",
        "cumcnt = all_data.groupby('item_id').cumcount()\n",
        "\n",
        "# Вычисляем expanding mean (накопленное среднее) для каждой строки\n",
        "all_data['item_target_enc'] = cumsum / cumcnt\n",
        "\n",
        "# Заполняем возможные NaN значения средним по всей выборке\n",
        "all_data['item_target_enc'].fillna(0.3343, inplace=True)\n",
        "\n",
        "# Вычисляем корреляцию между целевой переменной и закодированным признаком\n",
        "encoded_feature = all_data['item_target_enc'].values\n",
        "corr = np.corrcoef(all_data['target'].values, encoded_feature)[0][1]\n",
        "\n",
        "print(corr)"
      ]
    },
    {
      "cell_type": "markdown",
      "metadata": {
        "id": "wYJqB4FOdHsc"
      },
      "source": [
        "Ожидаемый ответ 0.5025"
      ]
    }
  ],
  "metadata": {
    "kernelspec": {
      "display_name": "Python 3",
      "language": "python",
      "name": "python3"
    },
    "language_info": {
      "codemirror_mode": {
        "name": "ipython",
        "version": 3
      },
      "file_extension": ".py",
      "mimetype": "text/x-python",
      "name": "python",
      "nbconvert_exporter": "python",
      "pygments_lexer": "ipython3",
      "version": "3.7.6"
    },
    "colab": {
      "provenance": []
    }
  },
  "nbformat": 4,
  "nbformat_minor": 0
}