{
  "cells": [
    {
      "cell_type": "markdown",
      "metadata": {
        "id": "R8EY5hqudHsP"
      },
      "source": [
        "## Мартынов В.А. ДПИ15. Домашнее задание №2\n",
        "\n"
      ]
    },
    {
      "cell_type": "markdown",
      "metadata": {
        "id": "ZBsWqHFodHsQ"
      },
      "source": [
        "## Часть 1. ML workflow (**всего 5 баллов**)"
      ]
    },
    {
      "cell_type": "code",
      "execution_count": 1,
      "metadata": {
        "id": "PffvyjXCdHsR"
      },
      "outputs": [],
      "source": [
        "import numpy as np\n",
        "import pandas as pd\n",
        "from sklearn.model_selection import train_test_split, cross_val_score, GridSearchCV\n",
        "\n",
        "from sklearn.linear_model import LinearRegression\n",
        "from sklearn.tree import DecisionTreeRegressor\n",
        "\n",
        "from sklearn.metrics import mean_squared_error, r2_score\n",
        "\n",
        "from sklearn.preprocessing import PolynomialFeatures\n",
        "from sklearn.pipeline import Pipeline\n",
        "\n",
        "from itertools import product"
      ]
    },
    {
      "cell_type": "markdown",
      "metadata": {
        "id": "uTf8WkD9dHsR"
      },
      "source": [
        "### Загрузим данные для работы."
      ]
    },
    {
      "cell_type": "code",
      "execution_count": 31,
      "metadata": {
        "colab": {
          "base_uri": "https://localhost:8080/",
          "height": 206
        },
        "id": "gCay0_E8dHsS",
        "outputId": "d3f96047-f3b0-4759-c5b0-8988290a0511"
      },
      "outputs": [
        {
          "data": {
            "text/html": [
              "<div>\n",
              "<style scoped>\n",
              "    .dataframe tbody tr th:only-of-type {\n",
              "        vertical-align: middle;\n",
              "    }\n",
              "\n",
              "    .dataframe tbody tr th {\n",
              "        vertical-align: top;\n",
              "    }\n",
              "\n",
              "    .dataframe thead th {\n",
              "        text-align: right;\n",
              "    }\n",
              "</style>\n",
              "<table border=\"1\" class=\"dataframe\">\n",
              "  <thead>\n",
              "    <tr style=\"text-align: right;\">\n",
              "      <th></th>\n",
              "      <th>fixed acidity</th>\n",
              "      <th>volatile acidity</th>\n",
              "      <th>citric acid</th>\n",
              "      <th>residual sugar</th>\n",
              "      <th>chlorides</th>\n",
              "      <th>free sulfur dioxide</th>\n",
              "      <th>total sulfur dioxide</th>\n",
              "      <th>density</th>\n",
              "      <th>pH</th>\n",
              "      <th>sulphates</th>\n",
              "      <th>alcohol</th>\n",
              "      <th>quality</th>\n",
              "    </tr>\n",
              "  </thead>\n",
              "  <tbody>\n",
              "    <tr>\n",
              "      <th>0</th>\n",
              "      <td>7.4</td>\n",
              "      <td>0.700</td>\n",
              "      <td>0.00</td>\n",
              "      <td>1.9</td>\n",
              "      <td>0.076</td>\n",
              "      <td>11.0</td>\n",
              "      <td>34.0</td>\n",
              "      <td>0.99780</td>\n",
              "      <td>3.51</td>\n",
              "      <td>0.56</td>\n",
              "      <td>9.4</td>\n",
              "      <td>5</td>\n",
              "    </tr>\n",
              "    <tr>\n",
              "      <th>1</th>\n",
              "      <td>7.8</td>\n",
              "      <td>0.880</td>\n",
              "      <td>0.00</td>\n",
              "      <td>2.6</td>\n",
              "      <td>0.098</td>\n",
              "      <td>25.0</td>\n",
              "      <td>67.0</td>\n",
              "      <td>0.99680</td>\n",
              "      <td>3.20</td>\n",
              "      <td>0.68</td>\n",
              "      <td>9.8</td>\n",
              "      <td>5</td>\n",
              "    </tr>\n",
              "    <tr>\n",
              "      <th>2</th>\n",
              "      <td>7.8</td>\n",
              "      <td>0.760</td>\n",
              "      <td>0.04</td>\n",
              "      <td>2.3</td>\n",
              "      <td>0.092</td>\n",
              "      <td>15.0</td>\n",
              "      <td>54.0</td>\n",
              "      <td>0.99700</td>\n",
              "      <td>3.26</td>\n",
              "      <td>0.65</td>\n",
              "      <td>9.8</td>\n",
              "      <td>5</td>\n",
              "    </tr>\n",
              "    <tr>\n",
              "      <th>3</th>\n",
              "      <td>11.2</td>\n",
              "      <td>0.280</td>\n",
              "      <td>0.56</td>\n",
              "      <td>1.9</td>\n",
              "      <td>0.075</td>\n",
              "      <td>17.0</td>\n",
              "      <td>60.0</td>\n",
              "      <td>0.99800</td>\n",
              "      <td>3.16</td>\n",
              "      <td>0.58</td>\n",
              "      <td>9.8</td>\n",
              "      <td>6</td>\n",
              "    </tr>\n",
              "    <tr>\n",
              "      <th>4</th>\n",
              "      <td>7.4</td>\n",
              "      <td>0.700</td>\n",
              "      <td>0.00</td>\n",
              "      <td>1.9</td>\n",
              "      <td>0.076</td>\n",
              "      <td>11.0</td>\n",
              "      <td>34.0</td>\n",
              "      <td>0.99780</td>\n",
              "      <td>3.51</td>\n",
              "      <td>0.56</td>\n",
              "      <td>9.4</td>\n",
              "      <td>5</td>\n",
              "    </tr>\n",
              "    <tr>\n",
              "      <th>...</th>\n",
              "      <td>...</td>\n",
              "      <td>...</td>\n",
              "      <td>...</td>\n",
              "      <td>...</td>\n",
              "      <td>...</td>\n",
              "      <td>...</td>\n",
              "      <td>...</td>\n",
              "      <td>...</td>\n",
              "      <td>...</td>\n",
              "      <td>...</td>\n",
              "      <td>...</td>\n",
              "      <td>...</td>\n",
              "    </tr>\n",
              "    <tr>\n",
              "      <th>1594</th>\n",
              "      <td>6.2</td>\n",
              "      <td>0.600</td>\n",
              "      <td>0.08</td>\n",
              "      <td>2.0</td>\n",
              "      <td>0.090</td>\n",
              "      <td>32.0</td>\n",
              "      <td>44.0</td>\n",
              "      <td>0.99490</td>\n",
              "      <td>3.45</td>\n",
              "      <td>0.58</td>\n",
              "      <td>10.5</td>\n",
              "      <td>5</td>\n",
              "    </tr>\n",
              "    <tr>\n",
              "      <th>1595</th>\n",
              "      <td>5.9</td>\n",
              "      <td>0.550</td>\n",
              "      <td>0.10</td>\n",
              "      <td>2.2</td>\n",
              "      <td>0.062</td>\n",
              "      <td>39.0</td>\n",
              "      <td>51.0</td>\n",
              "      <td>0.99512</td>\n",
              "      <td>3.52</td>\n",
              "      <td>0.76</td>\n",
              "      <td>11.2</td>\n",
              "      <td>6</td>\n",
              "    </tr>\n",
              "    <tr>\n",
              "      <th>1596</th>\n",
              "      <td>6.3</td>\n",
              "      <td>0.510</td>\n",
              "      <td>0.13</td>\n",
              "      <td>2.3</td>\n",
              "      <td>0.076</td>\n",
              "      <td>29.0</td>\n",
              "      <td>40.0</td>\n",
              "      <td>0.99574</td>\n",
              "      <td>3.42</td>\n",
              "      <td>0.75</td>\n",
              "      <td>11.0</td>\n",
              "      <td>6</td>\n",
              "    </tr>\n",
              "    <tr>\n",
              "      <th>1597</th>\n",
              "      <td>5.9</td>\n",
              "      <td>0.645</td>\n",
              "      <td>0.12</td>\n",
              "      <td>2.0</td>\n",
              "      <td>0.075</td>\n",
              "      <td>32.0</td>\n",
              "      <td>44.0</td>\n",
              "      <td>0.99547</td>\n",
              "      <td>3.57</td>\n",
              "      <td>0.71</td>\n",
              "      <td>10.2</td>\n",
              "      <td>5</td>\n",
              "    </tr>\n",
              "    <tr>\n",
              "      <th>1598</th>\n",
              "      <td>6.0</td>\n",
              "      <td>0.310</td>\n",
              "      <td>0.47</td>\n",
              "      <td>3.6</td>\n",
              "      <td>0.067</td>\n",
              "      <td>18.0</td>\n",
              "      <td>42.0</td>\n",
              "      <td>0.99549</td>\n",
              "      <td>3.39</td>\n",
              "      <td>0.66</td>\n",
              "      <td>11.0</td>\n",
              "      <td>6</td>\n",
              "    </tr>\n",
              "  </tbody>\n",
              "</table>\n",
              "<p>1599 rows × 12 columns</p>\n",
              "</div>"
            ],
            "text/plain": [
              "      fixed acidity  volatile acidity  citric acid  residual sugar  chlorides  \\\n",
              "0               7.4             0.700         0.00             1.9      0.076   \n",
              "1               7.8             0.880         0.00             2.6      0.098   \n",
              "2               7.8             0.760         0.04             2.3      0.092   \n",
              "3              11.2             0.280         0.56             1.9      0.075   \n",
              "4               7.4             0.700         0.00             1.9      0.076   \n",
              "...             ...               ...          ...             ...        ...   \n",
              "1594            6.2             0.600         0.08             2.0      0.090   \n",
              "1595            5.9             0.550         0.10             2.2      0.062   \n",
              "1596            6.3             0.510         0.13             2.3      0.076   \n",
              "1597            5.9             0.645         0.12             2.0      0.075   \n",
              "1598            6.0             0.310         0.47             3.6      0.067   \n",
              "\n",
              "      free sulfur dioxide  total sulfur dioxide  density    pH  sulphates  \\\n",
              "0                    11.0                  34.0  0.99780  3.51       0.56   \n",
              "1                    25.0                  67.0  0.99680  3.20       0.68   \n",
              "2                    15.0                  54.0  0.99700  3.26       0.65   \n",
              "3                    17.0                  60.0  0.99800  3.16       0.58   \n",
              "4                    11.0                  34.0  0.99780  3.51       0.56   \n",
              "...                   ...                   ...      ...   ...        ...   \n",
              "1594                 32.0                  44.0  0.99490  3.45       0.58   \n",
              "1595                 39.0                  51.0  0.99512  3.52       0.76   \n",
              "1596                 29.0                  40.0  0.99574  3.42       0.75   \n",
              "1597                 32.0                  44.0  0.99547  3.57       0.71   \n",
              "1598                 18.0                  42.0  0.99549  3.39       0.66   \n",
              "\n",
              "      alcohol  quality  \n",
              "0         9.4        5  \n",
              "1         9.8        5  \n",
              "2         9.8        5  \n",
              "3         9.8        6  \n",
              "4         9.4        5  \n",
              "...       ...      ...  \n",
              "1594     10.5        5  \n",
              "1595     11.2        6  \n",
              "1596     11.0        6  \n",
              "1597     10.2        5  \n",
              "1598     11.0        6  \n",
              "\n",
              "[1599 rows x 12 columns]"
            ]
          },
          "execution_count": 31,
          "metadata": {},
          "output_type": "execute_result"
        }
      ],
      "source": [
        "df = pd.read_csv(\"winequality-red.csv\")\n",
        "df"
      ]
    },
    {
      "cell_type": "markdown",
      "metadata": {
        "id": "lS-sU3NXdHsS"
      },
      "source": [
        "Будем решать задачу регрессии: необходимо предсказать качество вина на основе его характеристик\n",
        "\n",
        "### Шаг 1.  (**0.2 балла**)\n",
        "Создайте матрицу X объект-признак и целевой вектор y (\"quality\")"
      ]
    },
    {
      "cell_type": "code",
      "execution_count": 29,
      "metadata": {
        "colab": {
          "base_uri": "https://localhost:8080/"
        },
        "id": "0p94TPpWdHsS",
        "outputId": "a369b922-d916-47b9-cc14-2b8922eb29b1"
      },
      "outputs": [
        {
          "name": "stdout",
          "output_type": "stream",
          "text": [
            "Количество строк и столбцов в матрице Х (1599, 11)\n",
            "Количество строк в векторе у - 1599\n"
          ]
        }
      ],
      "source": [
        "# Матрица признаков X: все столбцы, кроме \"quality\"\n",
        "X = df.drop(\"quality\", axis=1)\n",
        "\n",
        "# Целевой вектор y: столбец \"quality\"\n",
        "y = df[\"quality\"]\n",
        "\n",
        "print('Количество строк и столбцов в матрице Х', X.shape)\n",
        "print('Количество строк в векторе у -', len(y))"
      ]
    },
    {
      "cell_type": "markdown",
      "metadata": {
        "id": "IMs_6dnXdHsT"
      },
      "source": [
        "### Шаг 2. (**0.2 балла**)\n",
        "Разбейте данные на train и test (доля тестовых данных - 30%)."
      ]
    },
    {
      "cell_type": "markdown",
      "metadata": {
        "id": "CuSvWqAjg_1-"
      },
      "source": [
        "- train, 70% - данные для обучения;\n",
        "- test, 30% - данные для проверки качества модели\n",
        "\n",
        "Используем функцию train_test_split из библиотеки sklearn"
      ]
    },
    {
      "cell_type": "code",
      "execution_count": 30,
      "metadata": {
        "colab": {
          "base_uri": "https://localhost:8080/"
        },
        "id": "eWpINwEJdHsT",
        "outputId": "dc8e2de7-9deb-479b-de89-1941ecfd7018"
      },
      "outputs": [
        {
          "name": "stdout",
          "output_type": "stream",
          "text": [
            "Количество строк и столбцов в тренировочной матрице Х (1119, 11)\n",
            "Количество строк и столбцов в тестовой матрице Х (480, 11)\n",
            "Количество строк в тренировочном векторе y - 1119\n",
            "Количество строк в тестовом векторе y - 480\n"
          ]
        }
      ],
      "source": [
        "# Разделяем данные\n",
        "X_train, X_test, y_train, y_test = train_test_split(X, y, test_size=0.3, random_state=42)\n",
        "\n",
        "# Проверим размерности тренировочных и тестовых данных\n",
        "print('Количество строк и столбцов в тренировочной матрице Х' ,X_train.shape)\n",
        "print('Количество строк и столбцов в тестовой матрице Х' ,X_test.shape)\n",
        "print('Количество строк в тренировочном векторе y -' ,len(y_train))\n",
        "print('Количество строк в тестовом векторе y -' ,len(y_test))"
      ]
    },
    {
      "cell_type": "markdown",
      "metadata": {
        "id": "-GfebK1vdHsU"
      },
      "source": [
        "### Шаг 3. (**0.2 балла**)\n",
        "Обучите линейную регрессию на тренировочных данных и сделайте предсказания на train и на test."
      ]
    },
    {
      "cell_type": "code",
      "execution_count": 33,
      "metadata": {
        "colab": {
          "base_uri": "https://localhost:8080/"
        },
        "id": "9xol6efhdHsU",
        "outputId": "f67bd81e-4321-4a06-99e8-f246dbe116cc"
      },
      "outputs": [
        {
          "name": "stdout",
          "output_type": "stream",
          "text": [
            "Результаты для тренировочной выборки:\n",
            "    Фактическое качество (train)  Предполагаемое качество (train)\n",
            "0                             7                         6.358827\n",
            "1                             5                         5.977426\n",
            "2                             5                         5.668873\n",
            "3                             6                         5.672820\n",
            "4                             5                         5.388390\n",
            "\n",
            "Результаты для тестовой выборки:\n",
            "    Фактическое качество (Test)  Предполагаемое качество (Test)\n",
            "0                            6                        5.356763\n",
            "1                            5                        5.090715\n",
            "2                            6                        5.625538\n",
            "3                            5                        5.448861\n",
            "4                            6                        5.744784\n"
          ]
        }
      ],
      "source": [
        "linear_reg = LinearRegression() # Инициализация\n",
        "\n",
        "linear_reg.fit(X_train, y_train) # Обучение\n",
        "\n",
        "y_train_pred = linear_reg.predict(X_train) # Предположения на тренировочных данных\n",
        "\n",
        "y_test_pred = linear_reg.predict(X_test) # Предположения на тестовых данных\n",
        "\n",
        "\n",
        "# Проверка нескольких предположений для обоих наборов\n",
        "\n",
        "# Для тренировочной выборки\n",
        "train_results = pd.DataFrame({\n",
        "    'Фактическое качество (train)': y_train.values,\n",
        "    'Предполагаемое качество (train)': y_train_pred\n",
        "}).head()\n",
        "\n",
        "# Для тестовой выборки\n",
        "test_results = pd.DataFrame({\n",
        "    'Фактическое качество (Test)': y_test.values,\n",
        "    'Предполагаемое качество (Test)': y_test_pred\n",
        "}).head()\n",
        "\n",
        "print(\"Результаты для тренировочной выборки:\\n\", train_results)\n",
        "print(\"\\nРезультаты для тестовой выборки:\\n\", test_results)"
      ]
    },
    {
      "cell_type": "markdown",
      "metadata": {
        "id": "E2jMeWMAdHsV"
      },
      "source": [
        "### Шаг 4. (**0.4 балла**)\n",
        "Выведите на экран ошибку MSE на train и на test, затем выведите на экран ошибку r2 на train и test.  "
      ]
    },
    {
      "cell_type": "markdown",
      "metadata": {
        "id": "VvndWcT7l28X"
      },
      "source": [
        "Рассчитываем среднеквадратическую ошибку MSE - чем меньше, тем лучше.\n",
        "\n",
        "Вычисляем коэффициент детерминации R^2 (показывает, какая доля дисперсии целевой переменной объясняется моделью) - чем ближе к 1, тем лучше."
      ]
    },
    {
      "cell_type": "code",
      "execution_count": 38,
      "metadata": {
        "colab": {
          "base_uri": "https://localhost:8080/"
        },
        "id": "qY3YT5YmdHsV",
        "outputId": "0aadcae4-aaa2-41c8-f757-9d8145503a8d"
      },
      "outputs": [
        {
          "name": "stdout",
          "output_type": "stream",
          "text": [
            "Среднеквадратическая ошибка (MSE) на тренировочных данных: 0.42\n",
            "Среднеквадратическая ошибка (MSE) на тестовых данных: 0.41\n",
            "Коэффициент детерминации (R^2) на тренировочных данных: 0.36\n",
            "Коэффициент детерминации (R^2) на тестовых данных: 0.35\n"
          ]
        }
      ],
      "source": [
        "# Рассчёт MSE для тренировочных и тестовых данных\n",
        "mse_train = mean_squared_error(y_train, y_train_pred)\n",
        "mse_test = mean_squared_error(y_test, y_test_pred)\n",
        "\n",
        "# Рассчёт R^2 для тренировочных и тестовых данных\n",
        "r2_train = r2_score(y_train, y_train_pred)\n",
        "r2_test = r2_score(y_test, y_test_pred)\n",
        "\n",
        "print(f\"Среднеквадратическая ошибка (MSE) на тренировочных данных: {mse_train:.2f}\")\n",
        "print(f\"Среднеквадратическая ошибка (MSE) на тестовых данных: {mse_test:.2f}\")\n",
        "\n",
        "print(f\"Коэффициент детерминации (R^2) на тренировочных данных: {r2_train:.2f}\")\n",
        "print(f\"Коэффициент детерминации (R^2) на тестовых данных: {r2_test:.2f}\")"
      ]
    },
    {
      "cell_type": "markdown",
      "metadata": {
        "id": "Ft3KdATNdHsV"
      },
      "source": [
        "### Шаг 5. (**0.5 балла**)\n",
        "Вычислите среднее качество (r2) модели на кросс-валидации с k=5 фолдами."
      ]
    },
    {
      "cell_type": "markdown",
      "metadata": {
        "id": "HUnr5hhJoiZ0"
      },
      "source": [
        "Кросс-валидация разбивает данные на 5 частей (фолдов). 4 фолда используются для обучения, пятый для тренировки.\n",
        "\n",
        "Далее выбирается новый фолд для тестирования. Всего происходит 5 циклов, по результатам каждого получаем оценку качества модели."
      ]
    },
    {
      "cell_type": "code",
      "execution_count": 37,
      "metadata": {
        "colab": {
          "base_uri": "https://localhost:8080/"
        },
        "id": "M65VjZ4TdHsV",
        "outputId": "5054155b-e78b-4838-cb08-d6f9eb24bbb5"
      },
      "outputs": [
        {
          "name": "stdout",
          "output_type": "stream",
          "text": [
            "R^2 на каждом фолде: [0.13200871 0.31858135 0.34955348 0.369145   0.2809196 ]\n",
            "Средний R^2 на кросс-валидации (k=5): 0.29\n"
          ]
        }
      ],
      "source": [
        "r2_scores = cross_val_score(linear_reg, X, y, cv=5, scoring='r2') # Проведение кросс-валидации для модели линейной регрессии\n",
        "\n",
        "print(f\"R^2 на каждом фолде: {r2_scores}\")\n",
        "print(f\"Средний R^2 на кросс-валидации (k=5): {r2_scores.mean():.2f}\")"
      ]
    },
    {
      "cell_type": "markdown",
      "metadata": {
        "id": "dKD5Ol0VdHsV"
      },
      "source": [
        "### Шаг 6.  (**0.5 балла**)\n",
        "Теперь примените линейную регрессию с L1-регуляризацией (Lasso) для данной задачи. Объявите модель и подберите параметр регуляризации alpha по сетке. Ищите alpha в диапазоне (0.1, 1.1) с шагом 0.1.\n",
        "\n",
        "Осуществите подбор параметра alpha по тренировочным данным (Xtrain, ytrain)."
      ]
    },
    {
      "cell_type": "markdown",
      "metadata": {
        "id": "meLE6_7-WQIl"
      },
      "source": [
        "Для выбора лучшего варианта комбинации параметров из сетки значений, используем метод GridSearchCV. Он функцционирует на основе кросс-валидации."
      ]
    },
    {
      "cell_type": "code",
      "execution_count": 39,
      "metadata": {
        "colab": {
          "base_uri": "https://localhost:8080/"
        },
        "id": "oJBnFbiNdHsW",
        "outputId": "1a741ab5-6720-4c99-b4de-af2f8aeb9a2b"
      },
      "outputs": [
        {
          "name": "stdout",
          "output_type": "stream",
          "text": [
            "Оптимальное значение alpha: 0.10\n"
          ]
        }
      ],
      "source": [
        "from sklearn.linear_model import Lasso\n",
        "\n",
        "# Определяем сетку значений alpha от 0.1 до 1.1 с шагом 0.1\n",
        "alpha_values = np.arange(0.1, 1.2, 0.1)\n",
        "param_grid = {'alpha': alpha_values}\n",
        "\n",
        "lasso = Lasso() # Инициализация модели Lasso\n",
        "\n",
        "grid_search = GridSearchCV(estimator=lasso, param_grid=param_grid, scoring='r2', cv=5) # Инициализация GridSearchCV для подбора параметра alpha\n",
        "\n",
        "grid_search.fit(X_train, y_train) # Обучение модели на тренировочных данных\n",
        "\n",
        "best_alpha = grid_search.best_params_['alpha'] # Получение оптимального параметра alpha\n",
        "\n",
        "print(f\"Оптимальное значение alpha: {best_alpha:.2f}\")"
      ]
    },
    {
      "cell_type": "markdown",
      "metadata": {
        "id": "iPHyso44dHsW"
      },
      "source": [
        "### Шаг 7.  (**0.5 балла**)\n",
        "Выведите наилучший алгоритм и наилучшее качество по результатам подбора alpha (best_estimator_ и best_score_)."
      ]
    },
    {
      "cell_type": "code",
      "execution_count": 43,
      "metadata": {
        "colab": {
          "base_uri": "https://localhost:8080/"
        },
        "id": "MSmyytgDdHsW",
        "outputId": "963553ba-5fb8-427e-9dbe-c61c6a5acb32"
      },
      "outputs": [
        {
          "name": "stdout",
          "output_type": "stream",
          "text": [
            "Наилучшая модель: Lasso(alpha=np.float64(0.1))\n",
            "Наилучшее качество (R^2) на кросс-валидации: 0.24\n"
          ]
        }
      ],
      "source": [
        "best_model = grid_search.best_estimator_ # Получим наилучшую модель\n",
        "\n",
        "best_r2_score = grid_search.best_score_ # Получим наилучшее качество (R^2) на кросс-валидации\n",
        "\n",
        "print(f\"Наилучшая модель: {best_model}\")\n",
        "print(f\"Наилучшее качество (R^2) на кросс-валидации: {best_r2_score:.2f}\")"
      ]
    },
    {
      "cell_type": "markdown",
      "metadata": {
        "id": "olFmu6-GdHsW"
      },
      "source": [
        "### Шаг 8.  (**0.5 балла**)\n",
        "\n",
        "С помощью найденного best_estimator_ сделайте предсказание на тестовых данных и выведите на экран r2-score на тесте."
      ]
    },
    {
      "cell_type": "code",
      "execution_count": 44,
      "metadata": {
        "colab": {
          "base_uri": "https://localhost:8080/"
        },
        "id": "Pm1_3Yn6dHsX",
        "outputId": "d89a582b-dec4-4358-854e-69aa7bf3a719"
      },
      "outputs": [
        {
          "name": "stdout",
          "output_type": "stream",
          "text": [
            "R^2 на тестовых данных с Lasso-регрессией: 0.21\n"
          ]
        }
      ],
      "source": [
        "y_test_pred_lasso = best_model.predict(X_test) # Предположения на тестовых данных с лучшей моделью\n",
        "\n",
        "r2_test_lasso = r2_score(y_test, y_test_pred_lasso) # Вычисление R^2 на тестовых данных\n",
        "\n",
        "print(f\"R^2 на тестовых данных с Lasso-регрессией: {r2_test_lasso:.2f}\")"
      ]
    },
    {
      "cell_type": "markdown",
      "metadata": {
        "id": "Kap3I2j7dHsX"
      },
      "source": [
        "### Шаг 9.  (**0.5 балла**)\n",
        "\n",
        "Попробуем улучшить качество модели за счет добавления полиномиальных признаков. Создайте pipeline, состоящий из добавления полиномиальных признаков степени 2, а затем применения линейной регрессии.\n",
        "\n",
        "Затем вычислите r2-score этой модели на кросс валидации с пятью фолдами."
      ]
    },
    {
      "cell_type": "markdown",
      "metadata": {
        "id": "lB4CE46aVFne"
      },
      "source": [
        "Полиномиальные признаки степени 2 - это новые признаки, которые создаются путём добавления квадратичных и взаимодействующих комбинаций существующих признаков (то есть новые признаки будут включать квадраты старых и их произведения).\n",
        "\n",
        "Pipeline автоматизирует процесс последовательного выполнения нескольких шагов, таких как предобработка данных и обучение модели."
      ]
    },
    {
      "cell_type": "code",
      "execution_count": 45,
      "metadata": {
        "colab": {
          "base_uri": "https://localhost:8080/"
        },
        "id": "FmqkWMy6dHsX",
        "outputId": "1137eff1-c33c-4a66-e21b-7d8e2273694a"
      },
      "outputs": [
        {
          "name": "stdout",
          "output_type": "stream",
          "text": [
            "R^2 на каждом фолде с полиномиальными признаками: [-0.0399065   0.29930017  0.38080623  0.30145898  0.20882197]\n",
            "Средний R^2 на кросс-валидации с полиномиальными признаками: 0.23\n"
          ]
        }
      ],
      "source": [
        "from sklearn.preprocessing import StandardScaler\n",
        "\n",
        "# Создание Pipeline для полиномиальных признаков и линейной регрессии\n",
        "pipeline = Pipeline([\n",
        "    ('poly_features', PolynomialFeatures(degree=2)),  # Полиномиальные признаки степени 2\n",
        "    ('linear_regression', LinearRegression())         # Линейная регрессия\n",
        "])\n",
        "\n",
        "r2_scores_poly = cross_val_score(pipeline, X, y, cv=5, scoring='r2') # Кросс-валидация на 5 фолдах\n",
        "\n",
        "print(f\"R^2 на каждом фолде с полиномиальными признаками: {r2_scores_poly}\")\n",
        "print(f\"Средний R^2 на кросс-валидации с полиномиальными признаками: {r2_scores_poly.mean():.2f}\")"
      ]
    },
    {
      "cell_type": "markdown",
      "metadata": {
        "id": "GZ6pMARWdHsX"
      },
      "source": [
        "### Шаг 10.  (**0.5 балла**)\n",
        "Обучите модель (pipeline) на тренировочных данных и сделайте предсказания для train и test, затем выведите на экран r2-score и MSE на тренировочных и на тестовых данных."
      ]
    },
    {
      "cell_type": "code",
      "execution_count": 46,
      "metadata": {
        "colab": {
          "base_uri": "https://localhost:8080/"
        },
        "id": "6SoURH8JdHsX",
        "outputId": "2fad48e3-8880-44cb-df61-d322942b2fcd"
      },
      "outputs": [
        {
          "name": "stdout",
          "output_type": "stream",
          "text": [
            "R^2 на тренировочной выборке с полиномиальными признаками: -0.12\n",
            "MSE на тренировочной выборке: 0.74\n",
            "R^2 на тестовой выборке с полиномиальными признаками: -0.22\n",
            "MSE на тестовой выборке: 0.77\n"
          ]
        }
      ],
      "source": [
        "pipeline.fit(X_train, y_train) # Обучение модели на тренировочных данных\n",
        "\n",
        "y_train_pred_poly = pipeline.predict(X_train) # Предсказания на тренировочных данных\n",
        "\n",
        "y_test_pred_poly = pipeline.predict(X_test) # Предсказания на тестовых данных\n",
        "\n",
        "# MSE (среднеквадратическая ошибка) для тренировочных и тестовых данных\n",
        "mse_train_poly = mean_squared_error(y_train, y_train_pred_poly)\n",
        "mse_test_poly = mean_squared_error(y_test, y_test_pred_poly)\n",
        "\n",
        "# R^2 (коэффициент детерминации) для тренировочных и тестовых данных\n",
        "r2_train_poly = r2_score(y_train, y_train_pred_poly)\n",
        "r2_test_poly = r2_score(y_test, y_test_pred_poly)\n",
        "\n",
        "print(f\"R^2 на тренировочной выборке с полиномиальными признаками: {r2_train_poly:.2f}\")\n",
        "print(f\"MSE на тренировочной выборке: {mse_train_poly:.2f}\")\n",
        "\n",
        "print(f\"R^2 на тестовой выборке с полиномиальными признаками: {r2_test_poly:.2f}\")\n",
        "print(f\"MSE на тестовой выборке: {mse_test_poly:.2f}\")\n"
      ]
    },
    {
      "cell_type": "markdown",
      "metadata": {
        "id": "g3RBTv10dHsX"
      },
      "source": [
        "### Сделайте выводы. Для этого ответьте на вопросы: (**1 балл**)\n",
        "\n",
        "1) Хорошее ли качество показала исходная модель (линейная регрессия без регуляризации)? Является ли эта модель переобученной?\n",
        "\n",
        "2) Помогла ли L1-регуляризация улучшить качество модели?\n",
        "\n",
        "3) Помогло ли добавление полиномов второй степени улучшить качество модели? Как добавление новых признаков повлияло на переобучение?"
      ]
    },
    {
      "cell_type": "markdown",
      "metadata": {},
      "source": [
        "## 1) Хорошее ли качество показала исходная модель (линейная регрессия без регуляризации)?\n",
        "\n",
        "Ответом на этот вопрос будут результаты 3, 4 и 5 шагов:\n",
        "\n",
        "Качество модели:\n",
        "\n",
        "    R^2 на тренировочных данных: 0.36\n",
        "\n",
        "    R^2 на тестовых данных: 0.35\n",
        "    \n",
        "    Средний R^2 на кросс-валидации: 0.29\n",
        "\n",
        "Таким образом, модель показала не высокое качество.\n",
        "\n",
        "Оценка на обоих типах данных низкая.\n",
        "\n",
        "Можно сделать вывод, что модель объясняет лишь часть дисперсии целевого признака.\n",
        "\n",
        "## Является ли эта модель переобученной?\n",
        "\n",
        "Разница между результатами тестов принебрижительно мала, оценка кросс-валидации также показывает это. Делаем вывод, что модель не переобучена."
      ]
    },
    {
      "cell_type": "markdown",
      "metadata": {},
      "source": [
        "## 2) Помогла ли L1-регуляризация улучшить качество модели?\n",
        "\n",
        "Ответом на этот вопрос будут результаты 7 и 8 шагов:\n",
        "\n",
        "Качество модели с Lasso-регуляризацией:\n",
        "\n",
        "    Лучший результат R^2 на кросс-валидации: 0.24\n",
        "\n",
        "    R^2 на тестовых данных: 0.21\n",
        "\n",
        "L1-регуляризация с alpha=0.1 не показала достаточное улучшение качества модели, скорее наоборот ухудшила результат.\n",
        "\n",
        "Следовательно, в рамках данной задачи L1-регуляризация слишком сильна. Данный факт негативно сказывается на качестве модели."
      ]
    },
    {
      "cell_type": "markdown",
      "metadata": {},
      "source": [
        "## 3) Помогло ли добавление полиномов второй степени улучшить качество модели?\n",
        "\n",
        "Ответом на этот вопрос будут результаты 9 и 10 шагов:\n",
        "\n",
        "Качество модели с полиномиальными признаками:\n",
        "\n",
        "    Средний R^2 на кросс-валидации: 0.23\n",
        "\n",
        "    R^2 на тренировочных данных: -0.12\n",
        "\n",
        "    R^2 на тестовых данных: -0.22\n",
        "\n",
        "Добавление полиномиальных признаков не улучшило качество модели.\n",
        "\n",
        "Результаты на обоих типах данных стали отрицательными.\n",
        "\n",
        "Можно сделать вывод, что средняя предсказательная модель будет показывать себя лучше, чем наша.\n",
        "\n",
        "## Как добавление новых признаков повлияло на переобучение?\n",
        "\n",
        "Добавление новых признаков отрицательно повлияло на результаты в тесте, что свидетельствует о сильном переобучении.\n",
        "\n",
        "Полиномиальные признаки увеличивают сложность модели, что приводит к запоминанию данных, вместо выявления закономерностей.\n"
      ]
    },
    {
      "cell_type": "markdown",
      "metadata": {
        "id": "ugX-59R_dHsY"
      },
      "source": [
        "## Часть 2. Target encoding (**всего 5 баллов**)"
      ]
    },
    {
      "cell_type": "markdown",
      "metadata": {
        "id": "7WEiZ6pPdHsY"
      },
      "source": [
        "В этом части домашнего задания вы будете работать с выборкой `1C`. Вам нужно посчитать счетчики для `item_id` четырьмя способами:\n",
        "\n",
        "    1) При помощи KFold схемы;  \n",
        "    2) При помощи Leave-one-out схемы;\n",
        "    3) При помощи smoothing схемы;\n",
        "    4) При помощи expanding mean схемы."
      ]
    },
    {
      "cell_type": "markdown",
      "metadata": {
        "id": "TaWcQOzJdHsY"
      },
      "source": [
        "### Подготовка данных"
      ]
    },
    {
      "cell_type": "code",
      "execution_count": 15,
      "metadata": {
        "colab": {
          "base_uri": "https://localhost:8080/",
          "height": 424
        },
        "id": "IwMFZ83VdHsY",
        "outputId": "3c0f70f5-1db9-4480-900f-62e011782d19"
      },
      "outputs": [
        {
          "data": {
            "text/html": [
              "<div>\n",
              "<style scoped>\n",
              "    .dataframe tbody tr th:only-of-type {\n",
              "        vertical-align: middle;\n",
              "    }\n",
              "\n",
              "    .dataframe tbody tr th {\n",
              "        vertical-align: top;\n",
              "    }\n",
              "\n",
              "    .dataframe thead th {\n",
              "        text-align: right;\n",
              "    }\n",
              "</style>\n",
              "<table border=\"1\" class=\"dataframe\">\n",
              "  <thead>\n",
              "    <tr style=\"text-align: right;\">\n",
              "      <th></th>\n",
              "      <th>date</th>\n",
              "      <th>date_block_num</th>\n",
              "      <th>shop_id</th>\n",
              "      <th>item_id</th>\n",
              "      <th>item_price</th>\n",
              "      <th>target</th>\n",
              "    </tr>\n",
              "  </thead>\n",
              "  <tbody>\n",
              "    <tr>\n",
              "      <th>0</th>\n",
              "      <td>02.01.2013</td>\n",
              "      <td>0</td>\n",
              "      <td>59</td>\n",
              "      <td>22154</td>\n",
              "      <td>999.00</td>\n",
              "      <td>1.0</td>\n",
              "    </tr>\n",
              "    <tr>\n",
              "      <th>1</th>\n",
              "      <td>03.01.2013</td>\n",
              "      <td>0</td>\n",
              "      <td>25</td>\n",
              "      <td>2552</td>\n",
              "      <td>899.00</td>\n",
              "      <td>1.0</td>\n",
              "    </tr>\n",
              "    <tr>\n",
              "      <th>2</th>\n",
              "      <td>05.01.2013</td>\n",
              "      <td>0</td>\n",
              "      <td>25</td>\n",
              "      <td>2552</td>\n",
              "      <td>899.00</td>\n",
              "      <td>-1.0</td>\n",
              "    </tr>\n",
              "    <tr>\n",
              "      <th>3</th>\n",
              "      <td>06.01.2013</td>\n",
              "      <td>0</td>\n",
              "      <td>25</td>\n",
              "      <td>2554</td>\n",
              "      <td>1709.05</td>\n",
              "      <td>1.0</td>\n",
              "    </tr>\n",
              "    <tr>\n",
              "      <th>4</th>\n",
              "      <td>15.01.2013</td>\n",
              "      <td>0</td>\n",
              "      <td>25</td>\n",
              "      <td>2555</td>\n",
              "      <td>1099.00</td>\n",
              "      <td>1.0</td>\n",
              "    </tr>\n",
              "    <tr>\n",
              "      <th>...</th>\n",
              "      <td>...</td>\n",
              "      <td>...</td>\n",
              "      <td>...</td>\n",
              "      <td>...</td>\n",
              "      <td>...</td>\n",
              "      <td>...</td>\n",
              "    </tr>\n",
              "    <tr>\n",
              "      <th>2935844</th>\n",
              "      <td>10.10.2015</td>\n",
              "      <td>33</td>\n",
              "      <td>25</td>\n",
              "      <td>7409</td>\n",
              "      <td>299.00</td>\n",
              "      <td>1.0</td>\n",
              "    </tr>\n",
              "    <tr>\n",
              "      <th>2935845</th>\n",
              "      <td>09.10.2015</td>\n",
              "      <td>33</td>\n",
              "      <td>25</td>\n",
              "      <td>7460</td>\n",
              "      <td>299.00</td>\n",
              "      <td>1.0</td>\n",
              "    </tr>\n",
              "    <tr>\n",
              "      <th>2935846</th>\n",
              "      <td>14.10.2015</td>\n",
              "      <td>33</td>\n",
              "      <td>25</td>\n",
              "      <td>7459</td>\n",
              "      <td>349.00</td>\n",
              "      <td>1.0</td>\n",
              "    </tr>\n",
              "    <tr>\n",
              "      <th>2935847</th>\n",
              "      <td>22.10.2015</td>\n",
              "      <td>33</td>\n",
              "      <td>25</td>\n",
              "      <td>7440</td>\n",
              "      <td>299.00</td>\n",
              "      <td>1.0</td>\n",
              "    </tr>\n",
              "    <tr>\n",
              "      <th>2935848</th>\n",
              "      <td>03.10.2015</td>\n",
              "      <td>33</td>\n",
              "      <td>25</td>\n",
              "      <td>7460</td>\n",
              "      <td>299.00</td>\n",
              "      <td>1.0</td>\n",
              "    </tr>\n",
              "  </tbody>\n",
              "</table>\n",
              "<p>2935849 rows × 6 columns</p>\n",
              "</div>"
            ],
            "text/plain": [
              "               date  date_block_num  shop_id  item_id  item_price  target\n",
              "0        02.01.2013               0       59    22154      999.00     1.0\n",
              "1        03.01.2013               0       25     2552      899.00     1.0\n",
              "2        05.01.2013               0       25     2552      899.00    -1.0\n",
              "3        06.01.2013               0       25     2554     1709.05     1.0\n",
              "4        15.01.2013               0       25     2555     1099.00     1.0\n",
              "...             ...             ...      ...      ...         ...     ...\n",
              "2935844  10.10.2015              33       25     7409      299.00     1.0\n",
              "2935845  09.10.2015              33       25     7460      299.00     1.0\n",
              "2935846  14.10.2015              33       25     7459      349.00     1.0\n",
              "2935847  22.10.2015              33       25     7440      299.00     1.0\n",
              "2935848  03.10.2015              33       25     7460      299.00     1.0\n",
              "\n",
              "[2935849 rows x 6 columns]"
            ]
          },
          "execution_count": 15,
          "metadata": {},
          "output_type": "execute_result"
        }
      ],
      "source": [
        "sales = pd.read_csv('sales_train.csv.gz')\n",
        "sales.columns = ['date', 'date_block_num', 'shop_id', 'item_id', 'item_price', 'target']\n",
        "sales"
      ]
    },
    {
      "cell_type": "code",
      "execution_count": 47,
      "metadata": {
        "id": "DDDVJNErdHsZ"
      },
      "outputs": [],
      "source": [
        "index_cols = ['shop_id', 'item_id', 'date_block_num']\n",
        "\n",
        "# Для каждого месяца мы создаем сетку из всех магазинов/комбинаций товаров за этот месяц\n",
        "grid = []\n",
        "for block_num in sales['date_block_num'].unique():\n",
        "    # Получаем уникальные идентификаторы магазинов для текущего месяца\n",
        "    cur_shops = sales[sales['date_block_num'] == block_num]['shop_id'].unique()\n",
        "    # Получаем уникальные идентификаторы товаров для текущего месяца\n",
        "    cur_items = sales[sales['date_block_num'] == block_num]['item_id'].unique()\n",
        "    # Создаем все возможные комбинации магазинов и товаров для текущего месяца и добавляем их в grid\n",
        "    grid.append(np.array(list(product(*[cur_shops, cur_items, [block_num]])), dtype='int32'))\n",
        "\n",
        "# Объединяем все комбинации в один DataFrame с заданными индексами\n",
        "grid = pd.DataFrame(np.vstack(grid), columns = index_cols,dtype=np.int32)\n",
        "\n",
        "# Группируем данные по магазинам, товарам и номерам блоков даты, суммируя целевую переменную\n",
        "gb = sales.groupby(index_cols,as_index=False).agg({'target':'sum'})\n",
        "\n",
        "# Объединяем сетку с агрегированными данными, заполняя отсутствующие значения нулями\n",
        "all_data = pd.merge(grid,gb,how='left',on=index_cols).fillna(0)\n",
        "\n",
        "# Сортируем данные по номеру блока даты, идентификатору магазина и идентификатору товара\n",
        "all_data.sort_values(['date_block_num','shop_id','item_id'],inplace=True)"
      ]
    },
    {
      "cell_type": "markdown",
      "metadata": {
        "id": "7j1cdF1vdHsZ"
      },
      "source": [
        "### Mean encodings без регуляризации"
      ]
    },
    {
      "cell_type": "markdown",
      "metadata": {
        "id": "Ld-hPG6odHsZ"
      },
      "source": [
        "После проделанной технической работы, мы готовы посчитать счетчики для переменной `item_id`.\n",
        "\n",
        "Ниже приведены две реализации подсчета счетчиков без регуляризации. Можно использовать данный код в качестве стартовой точки для реализации различных техник регуляризации."
      ]
    },
    {
      "cell_type": "markdown",
      "metadata": {
        "id": "pHR3_RBOdHsZ"
      },
      "source": [
        "#### Способ 1"
      ]
    },
    {
      "cell_type": "code",
      "execution_count": 50,
      "metadata": {
        "colab": {
          "base_uri": "https://localhost:8080/"
        },
        "id": "2Vx5qyKddHsZ",
        "outputId": "9a6ca4d2-508e-4936-ca40-69dcf51b1aaf"
      },
      "outputs": [
        {
          "name": "stderr",
          "output_type": "stream",
          "text": [
            "C:\\Users\\v-mar\\AppData\\Local\\Temp\\ipykernel_15960\\3235605277.py:8: FutureWarning: A value is trying to be set on a copy of a DataFrame or Series through chained assignment using an inplace method.\n",
            "The behavior will change in pandas 3.0. This inplace method will never work because the intermediate object on which we are setting values always behaves as a copy.\n",
            "\n",
            "For example, when doing 'df[col].method(value, inplace=True)', try using 'df.method({col: value}, inplace=True)' or df[col] = df[col].method(value) instead, to perform the operation inplace on the original object.\n",
            "\n",
            "\n",
            "  all_data['item_target_enc'].fillna(0.3343, inplace=True)\n"
          ]
        },
        {
          "name": "stdout",
          "output_type": "stream",
          "text": [
            "0.4830386988621764\n"
          ]
        }
      ],
      "source": [
        "# Вычисляем среднее значение целевой переменной для каждого уникального идентификатора товара\n",
        "item_id_target_mean = all_data.groupby('item_id').target.mean()\n",
        "\n",
        "# Создаем новую колонку 'item_target_enc' в DataFrame all_data, отображая средние значения целевой переменной для каждого товара\n",
        "all_data['item_target_enc'] = all_data['item_id'].map(item_id_target_mean)\n",
        "\n",
        "# Заполняем отсутствующие значения в 'item_target_enc' значением 0.3343\n",
        "all_data['item_target_enc'].fillna(0.3343, inplace=True)\n",
        "\n",
        "# Извлекаем значения из столбца 'item_target_enc' и сохраняем их в переменной encoded_feature\n",
        "encoded_feature = all_data['item_target_enc'].values\n",
        "\n",
        "# Вычисляем коэффициент корреляции между целевой переменной и закодированным признаком и выводим его на экран\n",
        "print(np.corrcoef(all_data['target'].values, encoded_feature)[0][1])\n"
      ]
    },
    {
      "cell_type": "markdown",
      "metadata": {
        "id": "0mIyDofNdHsa"
      },
      "source": [
        "#### Способ 2"
      ]
    },
    {
      "cell_type": "code",
      "execution_count": 18,
      "metadata": {
        "colab": {
          "base_uri": "https://localhost:8080/"
        },
        "id": "ipgCv4ohdHsa",
        "outputId": "6bf175a5-68a6-460b-a758-bb7fe36b71de"
      },
      "outputs": [
        {
          "name": "stderr",
          "output_type": "stream",
          "text": [
            "C:\\Users\\v-mar\\AppData\\Local\\Temp\\ipykernel_15960\\1002792332.py:9: FutureWarning: A value is trying to be set on a copy of a DataFrame or Series through chained assignment using an inplace method.\n",
            "The behavior will change in pandas 3.0. This inplace method will never work because the intermediate object on which we are setting values always behaves as a copy.\n",
            "\n",
            "For example, when doing 'df[col].method(value, inplace=True)', try using 'df.method({col: value}, inplace=True)' or df[col] = df[col].method(value) instead, to perform the operation inplace on the original object.\n",
            "\n",
            "\n",
            "  all_data['item_target_enc'].fillna(0.3343, inplace=True)\n"
          ]
        },
        {
          "name": "stdout",
          "output_type": "stream",
          "text": [
            "0.4830386988621764\n"
          ]
        }
      ],
      "source": [
        "'''\n",
        "    В отличие от функции `.target.mean()`, функция `transform`\n",
        "    вернет DataFrame с индексом, как в `all_data`.\n",
        "    По сути, эта одна строка кода эквивалентна первым двум строкам из Метода 1.\n",
        "'''\n",
        "all_data['item_target_enc'] = all_data.groupby('item_id')['target'].transform('mean')\n",
        "\n",
        "# Заполняем отсутствующие значения (NaN)\n",
        "all_data['item_target_enc'].fillna(0.3343, inplace=True)\n",
        "\n",
        "# Вычисляем и выводим коэффициент корреляции\n",
        "encoded_feature = all_data['item_target_enc'].values\n",
        "print(np.corrcoef(all_data['target'].values, encoded_feature)[0][1])\n"
      ]
    },
    {
      "cell_type": "markdown",
      "metadata": {
        "id": "kKyicryrdHsa"
      },
      "source": [
        "###  KFold схема (**1.25 балла**)"
      ]
    },
    {
      "cell_type": "markdown",
      "metadata": {
        "id": "x51wiqlsdHsa"
      },
      "source": [
        "Необходимо реализовать Kfold схему с пятью фолдами. Используйте KFold(5) из sklearn.model_selection.\n",
        "\n",
        "1. Разбейте данные на 5 фолдов при помощи `sklearn.model_selection.KFold` с параметром `shuffle=False`.\n",
        "2. Проитерируйтесь по фолдам: используйте 4 обучающих фолда для подсчета средних значений таргета по `item_id` и заполните этими значениями валидационный фолд на каждой итерации.\n",
        "\n",
        "Обратите внимание на **Способ 1** из примера. В частности, изучите, как работают функции map и pd.Series.map. Они довольно полезны во многих ситуациях."
      ]
    },
    {
      "cell_type": "markdown",
      "metadata": {
        "id": "rBdpYIKtsPk8"
      },
      "source": [
        "KFold - это метод оценки моделей, в котором данные разбиваются на фолды и в каждой итерации один из фолдов используется для тестирования модели, а остальные - для обучения"
      ]
    },
    {
      "cell_type": "code",
      "execution_count": 54,
      "metadata": {
        "colab": {
          "base_uri": "https://localhost:8080/"
        },
        "id": "8My-JggedHsa",
        "outputId": "2d8b6178-484b-4777-db45-3726b228edb9"
      },
      "outputs": [
        {
          "name": "stdout",
          "output_type": "stream",
          "text": [
            "Коэффициент корреляции - 0.4165\n"
          ]
        }
      ],
      "source": [
        "from sklearn.model_selection import KFold\n",
        "\n",
        "kf = KFold(n_splits=5, shuffle=False) # Инициализация KFold для разбиения данных на 5 фолдов с параметром shuffle=False\n",
        "\n",
        "encoded_feature = np.zeros(all_data.shape[0]) # Создание массива для хранения закодированных признаков, инициализируем нулями\n",
        "\n",
        "# Итерация по фолдам: разбиваем данные на обучающие и валидационные наборы\n",
        "for train_index, val_index in kf.split(all_data):\n",
        "    train_data = all_data.iloc[train_index]         # Получаем обучающий набор данных по индексам\n",
        "    val_data = all_data.iloc[val_index]             # Получаем валидационный набор данных по индексам\n",
        "    item_id_target_mean = train_data.groupby('item_id')['target'].mean() # Вычисляем средние значения целевой переменной для каждого item_id на обучающем наборе данных\n",
        "    encoded_feature[val_index] = val_data['item_id'].map(item_id_target_mean).fillna(0.3343) # Заполняем валидационный набор средними значениями по item_id, методом map сопоставляем средние значения с item_id в валидационном наборе\n",
        "\n",
        "corr = np.corrcoef(all_data['target'].values, encoded_feature)[0][1] # Вычисление коэффициента корреляции между целевой переменной и закодированным признаком\n",
        "\n",
        "print('Коэффициент корреляции -',round(corr,4))"
      ]
    },
    {
      "cell_type": "markdown",
      "metadata": {
        "id": "-uMHpKXQdHsa"
      },
      "source": [
        "Ожидаемый ответ 0.4165"
      ]
    },
    {
      "cell_type": "markdown",
      "metadata": {
        "id": "56m6ZAzEdHsb"
      },
      "source": [
        "### Leave-one-out схема (**1.25 балла**)"
      ]
    },
    {
      "cell_type": "markdown",
      "metadata": {
        "id": "gTGB8GN-dHsb"
      },
      "source": [
        "Необходимо реализовать leave-one-out схему . Учтите, если вы запустите код из первого задания, задав количество фолдов такое же как размер выборки, то вы, вероятно, получите правильный ответ, но ждать будете очень-очень долго.\n",
        "\n",
        "Для более быстрой реализации подсчета среднего таргета на всех объектах, кроме одного, вы можете:\n",
        "\n",
        "1. Вычислить суммарный таргет по всем объектам.\n",
        "2. Вычесть таргет конкретного объекта и разделить результат на `n_objects - 1`.\n",
        "\n",
        "Заметим, что пункт `1.` следует сделать для всех объектов. Также заметим, что пункт `2.` может быть реализован без циклов `for`.\n",
        "\n",
        "Здесь может оказаться полезной функция .transform из **Способа 2** из примера."
      ]
    },
    {
      "cell_type": "markdown",
      "metadata": {
        "id": "mYTxIJjDIypH"
      },
      "source": [
        "Leave-One-Out - это метод оценки, в котором количество фолдов равно количеству наблюдений в наборе данных (для каждого наблюдения в данных будет выполнена отдельная итерация, 1 наблюдение - тестовый набор, а остальные наблюдения - обучающий набор)"
      ]
    },
    {
      "cell_type": "code",
      "execution_count": 56,
      "metadata": {
        "colab": {
          "base_uri": "https://localhost:8080/"
        },
        "id": "U6eSQIEbdHsb",
        "outputId": "f17aabf0-83cf-4fb4-fde5-6e54e5f47582"
      },
      "outputs": [
        {
          "name": "stdout",
          "output_type": "stream",
          "text": [
            "Коэффициент корреляции - 0.48038\n"
          ]
        }
      ],
      "source": [
        "item_id_target_sum = all_data.groupby('item_id')['target'].transform('sum') # Вычисляем сумму таргета по item_id\n",
        "\n",
        "item_id_count = all_data.groupby('item_id')['target'].transform('count') # Вычисляем количество объектов для каждого item_id\n",
        "\n",
        "encoded_feature = (item_id_target_sum - all_data['target']) / (item_id_count - 1) # Вычисляем закодированный признак, исключая текущий объект. Далее используем item_id_count для корректного деления\n",
        "\n",
        "encoded_feature.fillna(0.3343, inplace=True) # Заполняем NaN значениями, если они есть\n",
        "\n",
        "corr = np.corrcoef(all_data['target'].values, encoded_feature)[0][1] # Вычисляем коэффициент корреляции между целевой переменной и закодированным признаком\n",
        "\n",
        "print('Коэффициент корреляции -',round(corr,5))"
      ]
    },
    {
      "cell_type": "markdown",
      "metadata": {
        "id": "unn20uUQdHsb"
      },
      "source": [
        "Ожидаемый ответ 0.4803"
      ]
    },
    {
      "cell_type": "markdown",
      "metadata": {
        "id": "ly4QXJHjdHsb"
      },
      "source": [
        "### Smoothing (**1.25 балла**)"
      ]
    },
    {
      "cell_type": "markdown",
      "metadata": {
        "id": "yu4pX6eJdHsb"
      },
      "source": [
        "Необходимо реализовать smoothing с $\\alpha = 100$. Используйте формулу:\n",
        "\n",
        "$\\frac{mean(target) \\cdot nrows + globalmean \\cdot \\alpha }{nrows + \\alpha}$,\n",
        "\n",
        "где $globalmean=0.3343$. Заметим, что `nrows` - это количество объектов, принадлежащих конктертной категории, а не количество строк в датасете."
      ]
    },
    {
      "cell_type": "code",
      "execution_count": 57,
      "metadata": {
        "colab": {
          "base_uri": "https://localhost:8080/"
        },
        "id": "L_CXdBckdHsb",
        "outputId": "0e09ba41-5d7b-4013-f895-f5c4344901a1"
      },
      "outputs": [
        {
          "name": "stdout",
          "output_type": "stream",
          "text": [
            "        item_id  target  smoothed_target\n",
            "139255       19     0.0         0.105665\n",
            "141495       27     0.0         0.202869\n",
            "144968       28     0.0         0.153338\n",
            "142661       29     0.0         0.072900\n",
            "138947       32     6.0         1.177759\n",
            "Коэффициент корреляции - 0.48214\n"
          ]
        }
      ],
      "source": [
        "# Параметры для сглаживания\n",
        "alpha = 100\n",
        "globalmean = 0.3343\n",
        "\n",
        "item_id_target_mean = all_data.groupby('item_id')['target'].mean() # Вычисляем среднее значение целевой переменной для каждого item_id\n",
        "\n",
        "item_id_count = all_data.groupby('item_id')['target'].transform('count') # Вычисляем количество объектов для каждого item_id\n",
        "\n",
        "smoothed_target = (item_id_target_mean[item_id_count > 0] * item_id_count[item_id_count > 0] + globalmean * alpha) / (item_id_count[item_id_count > 0] + alpha) # Применяем формулу сглаживания\n",
        "\n",
        "all_data['smoothed_target'] = all_data['item_id'].map(smoothed_target).fillna(globalmean) # Заполняем значения в новом столбце\n",
        "\n",
        "print(all_data[['item_id', 'target', 'smoothed_target']].head())\n",
        "\n",
        "# Вычисляем коэффициент корреляции между целевой переменной и сглаженным признаком\n",
        "corr = np.corrcoef(all_data['target'].values, all_data['smoothed_target'].values)[0][1]\n",
        "\n",
        "print('Коэффициент корреляции -',round(corr,5))"
      ]
    },
    {
      "cell_type": "markdown",
      "metadata": {
        "id": "12elpjG6dHsc"
      },
      "source": [
        "Ожидаемый ответ 0.4818"
      ]
    },
    {
      "cell_type": "markdown",
      "metadata": {
        "id": "cqfOHdtQdHsc"
      },
      "source": [
        "### Expanding mean схема (**1.25 балла**)"
      ]
    },
    {
      "cell_type": "markdown",
      "metadata": {
        "id": "eJ03jKvQdHsc"
      },
      "source": [
        "Необходимо реализовать *expanding mean* схему. Ее суть заключается в том, чтобы пройти по отсортированному в определенном порядке датасету (датасет сортируется в самом начале задания) и для подсчета счетчика для строки $m$ использовать строки от $0$ до $m-1$. Вам будет необходимо воспользоваться pandas функциями [`cumsum`](https://pandas.pydata.org/pandas-docs/stable/generated/pandas.core.groupby.DataFrameGroupBy.cumsum.html) и [`cumcount`](https://pandas.pydata.org/pandas-docs/stable/generated/pandas.core.groupby.GroupBy.cumcount.html)."
      ]
    },
    {
      "cell_type": "code",
      "execution_count": 58,
      "metadata": {
        "colab": {
          "base_uri": "https://localhost:8080/"
        },
        "id": "kuTtLCgmdHsc",
        "outputId": "215d26f9-f034-48d3-82cb-2ba4b19a8c45"
      },
      "outputs": [
        {
          "name": "stderr",
          "output_type": "stream",
          "text": [
            "C:\\Users\\v-mar\\AppData\\Local\\Temp\\ipykernel_15960\\3668490270.py:9: FutureWarning: A value is trying to be set on a copy of a DataFrame or Series through chained assignment using an inplace method.\n",
            "The behavior will change in pandas 3.0. This inplace method will never work because the intermediate object on which we are setting values always behaves as a copy.\n",
            "\n",
            "For example, when doing 'df[col].method(value, inplace=True)', try using 'df.method({col: value}, inplace=True)' or df[col] = df[col].method(value) instead, to perform the operation inplace on the original object.\n",
            "\n",
            "\n",
            "  all_data['item_target_enc'].fillna(0.3343, inplace=True) # Заполняем возможные NaN значения средним по всей выборке\n"
          ]
        },
        {
          "name": "stdout",
          "output_type": "stream",
          "text": [
            "Коэффициент корреляции - 0.50252\n"
          ]
        }
      ],
      "source": [
        "all_data.sort_values(['date_block_num', 'shop_id', 'item_id'], inplace=True) # Сортируем данные по номеру блока, shop_id и item_id\n",
        "\n",
        "cumsum = all_data.groupby('item_id')['target'].cumsum() - all_data['target'] # Создаем вспомогательные переменные для вычисления накопленных сумм и количества строк. Cumulative sum по целевой переменной 'target' для каждого 'item_id'\n",
        "\n",
        "cumcnt = all_data.groupby('item_id').cumcount() # Cumulative count для количества строк до текущей\n",
        "\n",
        "all_data['item_target_enc'] = cumsum / cumcnt # Вычисляем expanding mean (накопленное среднее) для каждой строки\n",
        "\n",
        "all_data['item_target_enc'].fillna(0.3343, inplace=True) # Заполняем возможные NaN значения средним по всей выборке\n",
        "\n",
        "# Вычисляем корреляцию между целевой переменной и закодированным признаком\n",
        "encoded_feature = all_data['item_target_enc'].values\n",
        "corr = np.corrcoef(all_data['target'].values, encoded_feature)[0][1]\n",
        "\n",
        "print('Коэффициент корреляции -',round(corr,5))"
      ]
    },
    {
      "cell_type": "markdown",
      "metadata": {
        "id": "wYJqB4FOdHsc"
      },
      "source": [
        "Ожидаемый ответ 0.5025"
      ]
    }
  ],
  "metadata": {
    "colab": {
      "provenance": []
    },
    "kernelspec": {
      "display_name": "Python 3",
      "language": "python",
      "name": "python3"
    },
    "language_info": {
      "codemirror_mode": {
        "name": "ipython",
        "version": 3
      },
      "file_extension": ".py",
      "mimetype": "text/x-python",
      "name": "python",
      "nbconvert_exporter": "python",
      "pygments_lexer": "ipython3",
      "version": "3.11.9"
    }
  },
  "nbformat": 4,
  "nbformat_minor": 0
}
