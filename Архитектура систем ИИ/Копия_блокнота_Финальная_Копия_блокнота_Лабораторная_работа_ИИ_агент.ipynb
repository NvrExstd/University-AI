{
  "cells": [
    {
      "cell_type": "markdown",
      "id": "0a51fd1c-715f-4fd6-b36e-282e9bbe8033",
      "metadata": {
        "id": "0a51fd1c-715f-4fd6-b36e-282e9bbe8033"
      },
      "source": [
        "## Помощник по электронной почте с семантической + эпизодической + процедурной памятью\n",
        "\n",
        "Мы создадим помощника по электронной почте, который:\n",
        "- Классифицирует входящие сообщения, присваивая им метки: отвечать, игнорировать, уведомлять.\n",
        "- Использует человека в контуре для улучшения способности помощника классифицировать электронные письма\n",
        "- Создает черновики ответов\n",
        "- Планирует встречи\n",
        "- Использует память для запоминания деталей из предыдущих писем\n",
        "- использует процедурную память, которая позволяет пользователю обновлять инструкции по использованию календаря и инструментов написания электронных писем."
      ]
    },
    {
      "cell_type": "code",
      "source": [
        "# %%bash\n",
        "# wget 'https://drive.google.com/uc?export=download&id=1eWV1BXnEKCZUoIRp1PXnTQe6Q3m-aDkL' -O 'L5.zip'\n",
        "# unzip -x -o '/content/L5.zip'\n",
        "\n",
        "!pip install langchain-openai==0.3.5 langgraph==0.3.20 langmem==0.0.8 python-dotenv==1.0.1"
      ],
      "metadata": {
        "id": "zPoAV9c5QanE",
        "colab": {
          "base_uri": "https://localhost:8080/"
        },
        "outputId": "0e3daf08-4bb6-4194-be31-7e84baa7e15c"
      },
      "id": "zPoAV9c5QanE",
      "execution_count": null,
      "outputs": [
        {
          "output_type": "stream",
          "name": "stdout",
          "text": [
            "Collecting langchain-openai==0.3.5\n",
            "  Downloading langchain_openai-0.3.5-py3-none-any.whl.metadata (2.3 kB)\n",
            "Collecting langgraph==0.3.20\n",
            "  Downloading langgraph-0.3.20-py3-none-any.whl.metadata (7.7 kB)\n",
            "Collecting langmem==0.0.8\n",
            "  Downloading langmem-0.0.8-py3-none-any.whl.metadata (6.6 kB)\n",
            "Collecting python-dotenv==1.0.1\n",
            "  Downloading python_dotenv-1.0.1-py3-none-any.whl.metadata (23 kB)\n",
            "Requirement already satisfied: langchain-core<1.0.0,>=0.3.34 in /usr/local/lib/python3.11/dist-packages (from langchain-openai==0.3.5) (0.3.49)\n",
            "Requirement already satisfied: openai<2.0.0,>=1.58.1 in /usr/local/lib/python3.11/dist-packages (from langchain-openai==0.3.5) (1.70.0)\n",
            "Collecting tiktoken<1,>=0.7 (from langchain-openai==0.3.5)\n",
            "  Downloading tiktoken-0.9.0-cp311-cp311-manylinux_2_17_x86_64.manylinux2014_x86_64.whl.metadata (6.7 kB)\n",
            "Collecting langgraph-checkpoint<3.0.0,>=2.0.10 (from langgraph==0.3.20)\n",
            "  Downloading langgraph_checkpoint-2.0.24-py3-none-any.whl.metadata (4.6 kB)\n",
            "Collecting langgraph-prebuilt<0.2,>=0.1.1 (from langgraph==0.3.20)\n",
            "  Downloading langgraph_prebuilt-0.1.8-py3-none-any.whl.metadata (5.0 kB)\n",
            "Collecting langgraph-sdk<0.2.0,>=0.1.42 (from langgraph==0.3.20)\n",
            "  Downloading langgraph_sdk-0.1.61-py3-none-any.whl.metadata (1.8 kB)\n",
            "Collecting xxhash<4.0.0,>=3.5.0 (from langgraph==0.3.20)\n",
            "  Downloading xxhash-3.5.0-cp311-cp311-manylinux_2_17_x86_64.manylinux2014_x86_64.whl.metadata (12 kB)\n",
            "Collecting langchain-anthropic>=0.3.3 (from langmem==0.0.8)\n",
            "  Downloading langchain_anthropic-0.3.10-py3-none-any.whl.metadata (1.9 kB)\n",
            "Requirement already satisfied: langchain>=0.3.15 in /usr/local/lib/python3.11/dist-packages (from langmem==0.0.8) (0.3.22)\n",
            "Requirement already satisfied: langsmith>=0.3.8 in /usr/local/lib/python3.11/dist-packages (from langmem==0.0.8) (0.3.22)\n",
            "Collecting trustcall>=0.0.35 (from langmem==0.0.8)\n",
            "  Downloading trustcall-0.0.38-py3-none-any.whl.metadata (29 kB)\n",
            "Requirement already satisfied: langchain-text-splitters<1.0.0,>=0.3.7 in /usr/local/lib/python3.11/dist-packages (from langchain>=0.3.15->langmem==0.0.8) (0.3.7)\n",
            "Requirement already satisfied: pydantic<3.0.0,>=2.7.4 in /usr/local/lib/python3.11/dist-packages (from langchain>=0.3.15->langmem==0.0.8) (2.11.1)\n",
            "Requirement already satisfied: SQLAlchemy<3,>=1.4 in /usr/local/lib/python3.11/dist-packages (from langchain>=0.3.15->langmem==0.0.8) (2.0.40)\n",
            "Requirement already satisfied: requests<3,>=2 in /usr/local/lib/python3.11/dist-packages (from langchain>=0.3.15->langmem==0.0.8) (2.32.3)\n",
            "Requirement already satisfied: PyYAML>=5.3 in /usr/local/lib/python3.11/dist-packages (from langchain>=0.3.15->langmem==0.0.8) (6.0.2)\n",
            "Collecting anthropic<1,>=0.49.0 (from langchain-anthropic>=0.3.3->langmem==0.0.8)\n",
            "  Downloading anthropic-0.49.0-py3-none-any.whl.metadata (24 kB)\n",
            "Requirement already satisfied: tenacity!=8.4.0,<10.0.0,>=8.1.0 in /usr/local/lib/python3.11/dist-packages (from langchain-core<1.0.0,>=0.3.34->langchain-openai==0.3.5) (9.0.0)\n",
            "Requirement already satisfied: jsonpatch<2.0,>=1.33 in /usr/local/lib/python3.11/dist-packages (from langchain-core<1.0.0,>=0.3.34->langchain-openai==0.3.5) (1.33)\n",
            "Requirement already satisfied: packaging<25,>=23.2 in /usr/local/lib/python3.11/dist-packages (from langchain-core<1.0.0,>=0.3.34->langchain-openai==0.3.5) (24.2)\n",
            "Requirement already satisfied: typing-extensions>=4.7 in /usr/local/lib/python3.11/dist-packages (from langchain-core<1.0.0,>=0.3.34->langchain-openai==0.3.5) (4.13.0)\n",
            "Collecting ormsgpack<2.0.0,>=1.8.0 (from langgraph-checkpoint<3.0.0,>=2.0.10->langgraph==0.3.20)\n",
            "  Downloading ormsgpack-1.9.1-cp311-cp311-manylinux_2_17_x86_64.manylinux2014_x86_64.whl.metadata (43 kB)\n",
            "\u001b[2K     \u001b[90m━━━━━━━━━━━━━━━━━━━━━━━━━━━━━━━━━━━━━━━━\u001b[0m \u001b[32m43.5/43.5 kB\u001b[0m \u001b[31m2.3 MB/s\u001b[0m eta \u001b[36m0:00:00\u001b[0m\n",
            "\u001b[?25hRequirement already satisfied: httpx>=0.25.2 in /usr/local/lib/python3.11/dist-packages (from langgraph-sdk<0.2.0,>=0.1.42->langgraph==0.3.20) (0.28.1)\n",
            "Requirement already satisfied: orjson>=3.10.1 in /usr/local/lib/python3.11/dist-packages (from langgraph-sdk<0.2.0,>=0.1.42->langgraph==0.3.20) (3.10.16)\n",
            "Requirement already satisfied: requests-toolbelt<2.0.0,>=1.0.0 in /usr/local/lib/python3.11/dist-packages (from langsmith>=0.3.8->langmem==0.0.8) (1.0.0)\n",
            "Requirement already satisfied: zstandard<0.24.0,>=0.23.0 in /usr/local/lib/python3.11/dist-packages (from langsmith>=0.3.8->langmem==0.0.8) (0.23.0)\n",
            "Requirement already satisfied: anyio<5,>=3.5.0 in /usr/local/lib/python3.11/dist-packages (from openai<2.0.0,>=1.58.1->langchain-openai==0.3.5) (4.9.0)\n",
            "Requirement already satisfied: distro<2,>=1.7.0 in /usr/local/lib/python3.11/dist-packages (from openai<2.0.0,>=1.58.1->langchain-openai==0.3.5) (1.9.0)\n",
            "Requirement already satisfied: jiter<1,>=0.4.0 in /usr/local/lib/python3.11/dist-packages (from openai<2.0.0,>=1.58.1->langchain-openai==0.3.5) (0.9.0)\n",
            "Requirement already satisfied: sniffio in /usr/local/lib/python3.11/dist-packages (from openai<2.0.0,>=1.58.1->langchain-openai==0.3.5) (1.3.1)\n",
            "Requirement already satisfied: tqdm>4 in /usr/local/lib/python3.11/dist-packages (from openai<2.0.0,>=1.58.1->langchain-openai==0.3.5) (4.67.1)\n",
            "Requirement already satisfied: regex>=2022.1.18 in /usr/local/lib/python3.11/dist-packages (from tiktoken<1,>=0.7->langchain-openai==0.3.5) (2024.11.6)\n",
            "Collecting dydantic<1.0.0,>=0.0.8 (from trustcall>=0.0.35->langmem==0.0.8)\n",
            "  Downloading dydantic-0.0.8-py3-none-any.whl.metadata (3.6 kB)\n",
            "Requirement already satisfied: idna>=2.8 in /usr/local/lib/python3.11/dist-packages (from anyio<5,>=3.5.0->openai<2.0.0,>=1.58.1->langchain-openai==0.3.5) (3.10)\n",
            "Requirement already satisfied: certifi in /usr/local/lib/python3.11/dist-packages (from httpx>=0.25.2->langgraph-sdk<0.2.0,>=0.1.42->langgraph==0.3.20) (2025.1.31)\n",
            "Requirement already satisfied: httpcore==1.* in /usr/local/lib/python3.11/dist-packages (from httpx>=0.25.2->langgraph-sdk<0.2.0,>=0.1.42->langgraph==0.3.20) (1.0.7)\n",
            "Requirement already satisfied: h11<0.15,>=0.13 in /usr/local/lib/python3.11/dist-packages (from httpcore==1.*->httpx>=0.25.2->langgraph-sdk<0.2.0,>=0.1.42->langgraph==0.3.20) (0.14.0)\n",
            "Requirement already satisfied: jsonpointer>=1.9 in /usr/local/lib/python3.11/dist-packages (from jsonpatch<2.0,>=1.33->langchain-core<1.0.0,>=0.3.34->langchain-openai==0.3.5) (3.0.0)\n",
            "Requirement already satisfied: annotated-types>=0.6.0 in /usr/local/lib/python3.11/dist-packages (from pydantic<3.0.0,>=2.7.4->langchain>=0.3.15->langmem==0.0.8) (0.7.0)\n",
            "Requirement already satisfied: pydantic-core==2.33.0 in /usr/local/lib/python3.11/dist-packages (from pydantic<3.0.0,>=2.7.4->langchain>=0.3.15->langmem==0.0.8) (2.33.0)\n",
            "Requirement already satisfied: typing-inspection>=0.4.0 in /usr/local/lib/python3.11/dist-packages (from pydantic<3.0.0,>=2.7.4->langchain>=0.3.15->langmem==0.0.8) (0.4.0)\n",
            "Requirement already satisfied: charset-normalizer<4,>=2 in /usr/local/lib/python3.11/dist-packages (from requests<3,>=2->langchain>=0.3.15->langmem==0.0.8) (3.4.1)\n",
            "Requirement already satisfied: urllib3<3,>=1.21.1 in /usr/local/lib/python3.11/dist-packages (from requests<3,>=2->langchain>=0.3.15->langmem==0.0.8) (2.3.0)\n",
            "Requirement already satisfied: greenlet>=1 in /usr/local/lib/python3.11/dist-packages (from SQLAlchemy<3,>=1.4->langchain>=0.3.15->langmem==0.0.8) (3.1.1)\n",
            "Downloading langchain_openai-0.3.5-py3-none-any.whl (54 kB)\n",
            "\u001b[2K   \u001b[90m━━━━━━━━━━━━━━━━━━━━━━━━━━━━━━━━━━━━━━━━\u001b[0m \u001b[32m55.0/55.0 kB\u001b[0m \u001b[31m2.1 MB/s\u001b[0m eta \u001b[36m0:00:00\u001b[0m\n",
            "\u001b[?25hDownloading langgraph-0.3.20-py3-none-any.whl (137 kB)\n",
            "\u001b[2K   \u001b[90m━━━━━━━━━━━━━━━━━━━━━━━━━━━━━━━━━━━━━━━━\u001b[0m \u001b[32m137.9/137.9 kB\u001b[0m \u001b[31m5.3 MB/s\u001b[0m eta \u001b[36m0:00:00\u001b[0m\n",
            "\u001b[?25hDownloading langmem-0.0.8-py3-none-any.whl (53 kB)\n",
            "\u001b[2K   \u001b[90m━━━━━━━━━━━━━━━━━━━━━━━━━━━━━━━━━━━━━━━━\u001b[0m \u001b[32m53.7/53.7 kB\u001b[0m \u001b[31m2.5 MB/s\u001b[0m eta \u001b[36m0:00:00\u001b[0m\n",
            "\u001b[?25hDownloading python_dotenv-1.0.1-py3-none-any.whl (19 kB)\n",
            "Downloading langchain_anthropic-0.3.10-py3-none-any.whl (25 kB)\n",
            "Downloading langgraph_checkpoint-2.0.24-py3-none-any.whl (42 kB)\n",
            "\u001b[2K   \u001b[90m━━━━━━━━━━━━━━━━━━━━━━━━━━━━━━━━━━━━━━━━\u001b[0m \u001b[32m42.0/42.0 kB\u001b[0m \u001b[31m2.9 MB/s\u001b[0m eta \u001b[36m0:00:00\u001b[0m\n",
            "\u001b[?25hDownloading langgraph_prebuilt-0.1.8-py3-none-any.whl (25 kB)\n",
            "Downloading langgraph_sdk-0.1.61-py3-none-any.whl (47 kB)\n",
            "\u001b[2K   \u001b[90m━━━━━━━━━━━━━━━━━━━━━━━━━━━━━━━━━━━━━━━━\u001b[0m \u001b[32m47.2/47.2 kB\u001b[0m \u001b[31m1.2 MB/s\u001b[0m eta \u001b[36m0:00:00\u001b[0m\n",
            "\u001b[?25hDownloading tiktoken-0.9.0-cp311-cp311-manylinux_2_17_x86_64.manylinux2014_x86_64.whl (1.2 MB)\n",
            "\u001b[2K   \u001b[90m━━━━━━━━━━━━━━━━━━━━━━━━━━━━━━━━━━━━━━━━\u001b[0m \u001b[32m1.2/1.2 MB\u001b[0m \u001b[31m11.8 MB/s\u001b[0m eta \u001b[36m0:00:00\u001b[0m\n",
            "\u001b[?25hDownloading trustcall-0.0.38-py3-none-any.whl (26 kB)\n",
            "Downloading xxhash-3.5.0-cp311-cp311-manylinux_2_17_x86_64.manylinux2014_x86_64.whl (194 kB)\n",
            "\u001b[2K   \u001b[90m━━━━━━━━━━━━━━━━━━━━━━━━━━━━━━━━━━━━━━━━\u001b[0m \u001b[32m194.8/194.8 kB\u001b[0m \u001b[31m5.5 MB/s\u001b[0m eta \u001b[36m0:00:00\u001b[0m\n",
            "\u001b[?25hDownloading anthropic-0.49.0-py3-none-any.whl (243 kB)\n",
            "\u001b[2K   \u001b[90m━━━━━━━━━━━━━━━━━━━━━━━━━━━━━━━━━━━━━━━━\u001b[0m \u001b[32m243.4/243.4 kB\u001b[0m \u001b[31m9.1 MB/s\u001b[0m eta \u001b[36m0:00:00\u001b[0m\n",
            "\u001b[?25hDownloading dydantic-0.0.8-py3-none-any.whl (8.6 kB)\n",
            "Downloading ormsgpack-1.9.1-cp311-cp311-manylinux_2_17_x86_64.manylinux2014_x86_64.whl (223 kB)\n",
            "\u001b[2K   \u001b[90m━━━━━━━━━━━━━━━━━━━━━━━━━━━━━━━━━━━━━━━━\u001b[0m \u001b[32m223.6/223.6 kB\u001b[0m \u001b[31m13.2 MB/s\u001b[0m eta \u001b[36m0:00:00\u001b[0m\n",
            "\u001b[?25hInstalling collected packages: xxhash, python-dotenv, ormsgpack, tiktoken, langgraph-sdk, dydantic, anthropic, langgraph-checkpoint, langchain-openai, langchain-anthropic, langgraph-prebuilt, langgraph, trustcall, langmem\n",
            "Successfully installed anthropic-0.49.0 dydantic-0.0.8 langchain-anthropic-0.3.10 langchain-openai-0.3.5 langgraph-0.3.20 langgraph-checkpoint-2.0.24 langgraph-prebuilt-0.1.8 langgraph-sdk-0.1.61 langmem-0.0.8 ormsgpack-1.9.1 python-dotenv-1.0.1 tiktoken-0.9.0 trustcall-0.0.38 xxhash-3.5.0\n"
          ]
        }
      ]
    },
    {
      "cell_type": "code",
      "source": [
        "from google.colab import userdata\n",
        "# import os\n",
        "\n",
        "OPENAI_API_KEY = userdata.get('OPENAI_API_KEY')"
      ],
      "metadata": {
        "id": "tiD_xVhGQ3ij"
      },
      "id": "tiD_xVhGQ3ij",
      "execution_count": null,
      "outputs": []
    },
    {
      "cell_type": "code",
      "execution_count": null,
      "id": "37aa0a80-bb20-4d0a-a7ee-29a67a71150c",
      "metadata": {
        "height": 64,
        "id": "37aa0a80-bb20-4d0a-a7ee-29a67a71150c"
      },
      "outputs": [],
      "source": [
        "import os\n",
        "os.environ['OPENAI_API_KEY'] = OPENAI_API_KEY"
      ]
    },
    {
      "cell_type": "markdown",
      "id": "dcd03ded-cdab-4567-8212-cd44e3d1cf0b",
      "metadata": {
        "id": "dcd03ded-cdab-4567-8212-cd44e3d1cf0b"
      },
      "source": [
        "## Настроим профиль пользователя\n",
        "Это будут основные факты о пользователе: Имя, фамилия, должность. \\\n",
        "Вы можете поменять эти данные на свои"
      ]
    },
    {
      "cell_type": "code",
      "execution_count": null,
      "id": "8f3b87dd-cf2a-467b-bad1-ab191c8972ac",
      "metadata": {
        "height": 113,
        "id": "8f3b87dd-cf2a-467b-bad1-ab191c8972ac"
      },
      "outputs": [],
      "source": [
        "profile = {\n",
        "    \"name\": \"Иван\",\n",
        "    \"full_name\": \"Иван Денисов\",\n",
        "    \"user_profile_background\": \"Старший инженер-программист, возглавляющий команду из 5 разработчиков\",\n",
        "}"
      ]
    },
    {
      "cell_type": "markdown",
      "source": [
        "Создадим хранилище для долговременной памяти"
      ],
      "metadata": {
        "id": "s87H0KlkvZ97"
      },
      "id": "s87H0KlkvZ97"
    },
    {
      "cell_type": "code",
      "execution_count": null,
      "id": "b4d0f32e-c88f-4af4-9708-9d5e2ac74229",
      "metadata": {
        "height": 30,
        "id": "b4d0f32e-c88f-4af4-9708-9d5e2ac74229"
      },
      "outputs": [],
      "source": [
        "from langgraph.store.memory import InMemoryStore\n",
        "from IPython.display import Markdown"
      ]
    },
    {
      "cell_type": "code",
      "execution_count": null,
      "id": "cd0a09c5-643a-4ce6-9ec3-981294558bdc",
      "metadata": {
        "height": 81,
        "id": "cd0a09c5-643a-4ce6-9ec3-981294558bdc",
        "colab": {
          "base_uri": "https://localhost:8080/"
        },
        "outputId": "8036f2d2-f212-4909-cb58-cb6da844fd90"
      },
      "outputs": [
        {
          "output_type": "stream",
          "name": "stderr",
          "text": [
            "/usr/local/lib/python3.11/dist-packages/langgraph/store/base/embed.py:95: LangChainBetaWarning: The function `init_embeddings` is in beta. It is actively being worked on, so the API may change.\n",
            "  return init_embeddings(embed)\n"
          ]
        }
      ],
      "source": [
        "store = InMemoryStore(\n",
        "    index={\"embed\": \"openai:text-embedding-3-large\"}\n",
        ")\n",
        "# ignore beta warning if it appears"
      ]
    },
    {
      "cell_type": "markdown",
      "source": [
        "## Создадим несколько примеров для Few Shot Prompting\n",
        "эти примеры покажут нашему агенту, какого типа письма помечать важными, какие надо игнорировать, на какие пользователю надо отвечать. Эти примеры потом мы дополним промптами, в которых будут заданы явные правила сортировки (триажа) писем. Так мы познакомимся с двумя взаимодополняющими способами обучения агента. В реальной жизни вы точно так же обычно сообщаете правила, которым должен следовать ваш помощник, например, должностную инструкцию, и дополняете эти првила примерами из жизни.\n",
        "\n",
        "**ВАЖНОЕ ЗАМЕЧАНИЕ:**\n",
        "\n",
        "> **Few-shot learning** - это подход к машинному обучению, который позволяет моделям эффективно обучаться на ограниченном количестве обучающих примеров.\n",
        "\n",
        "> **Few-shot prompting**- это метод написания промтов, в каждом из которых нейросети демонстрируются несколько примеров желаемого результата.\n",
        "\n",
        "Не перепутайте. Мы здесь используем few-shot prompting"
      ],
      "metadata": {
        "id": "EWMaIKjCiwFR"
      },
      "id": "EWMaIKjCiwFR"
    },
    {
      "cell_type": "code",
      "execution_count": null,
      "id": "253f59a5-b205-445d-a627-2e9cd54219e7",
      "metadata": {
        "height": 300,
        "id": "253f59a5-b205-445d-a627-2e9cd54219e7"
      },
      "outputs": [],
      "source": [
        "email_1 = {\n",
        "    \"author\": \"Алиса Смирнова <alice.smirnova@company.com>\",\n",
        "    \"to\": \"Иван Денисов <johny.den@company.com>\",\n",
        "    \"subject\": \"Короткий вопрос по документации API\",\n",
        "    \"email_thread\": \"\"\"\n",
        "Привет, Иван!\n",
        "\n",
        "Я просматривала документацию API для новой службы аутентификации и заметила,\n",
        "что в спецификациях, похоже, отсутствуют несколько пунктов.\n",
        "Не мог бы ты помочь прояснить, было ли это сделано намеренно или нам следует исправить документацию?\n",
        "В частности, я не увидела пунктов:\n",
        "- /auth/refresh\n",
        "- /auth/validate\n",
        "\n",
        "Спасибо!\n",
        "Алиса\n",
        "\"\"\",\n",
        "}"
      ]
    },
    {
      "cell_type": "markdown",
      "source": [
        "#### Сохраним первый пример в хранилище памяти, задав ему метку. Так мы создаем эпизодическую память нашего агента."
      ],
      "metadata": {
        "id": "nR1Bx8vkjN_C"
      },
      "id": "nR1Bx8vkjN_C"
    },
    {
      "cell_type": "code",
      "source": [
        "# создадим свой собственный идентификатор пользователя для нащего агента,\n",
        "# сохраним его в конфигурации для дальнейшего использования\n",
        "user_ID = \"lance\"\n",
        "config = {\"configurable\": {\"langgraph_user_id\": user_ID}}"
      ],
      "metadata": {
        "id": "HFzoRAwQgmJe"
      },
      "id": "HFzoRAwQgmJe",
      "execution_count": null,
      "outputs": []
    },
    {
      "cell_type": "code",
      "source": [
        "import uuid\n",
        "\n",
        "data = {\n",
        "    \"email\": email_1,\n",
        "    # Эта метка задает поведение агента по умолчанию с такого рода письмами.\n",
        "    \"label\": \"respond\"\n",
        "}\n",
        "key1 = str(uuid.uuid4()) #произвольный уникальный идентификатор\n",
        "store.put( namespace=(\"email_assistant\", user_ID, \"examples\"),\n",
        "    key= key1,\n",
        "    value= data\n",
        ")"
      ],
      "metadata": {
        "id": "EfwHE2oHjSuo"
      },
      "id": "EfwHE2oHjSuo",
      "execution_count": null,
      "outputs": []
    },
    {
      "cell_type": "markdown",
      "source": [
        "Данные, размещенные в хранилище доступны по ключу. Их можно читать или удалять"
      ],
      "metadata": {
        "id": "97lJInPwGb-b"
      },
      "id": "97lJInPwGb-b"
    },
    {
      "cell_type": "code",
      "source": [
        "# Можете попробовать удаление письма из хранилища, но потом восстановите его, запустив предыдущую ячейку.\n",
        "# Оно нам понадобится для дальнейшей работы агента\n",
        "\n",
        "# store.delete(\n",
        "#   namespace=(\"email_assistant\", user_ID, \"examples\"),\n",
        "#   key= key1\n",
        "# )"
      ],
      "metadata": {
        "id": "Uq1hqSPeGChJ"
      },
      "id": "Uq1hqSPeGChJ",
      "execution_count": null,
      "outputs": []
    },
    {
      "cell_type": "markdown",
      "source": [
        "#### Сохраним второй пример с другой меткой:"
      ],
      "metadata": {
        "id": "yQrdi5GsjbQ5"
      },
      "id": "yQrdi5GsjbQ5"
    },
    {
      "cell_type": "code",
      "source": [
        "email_2= {\n",
        "        \"author\": \"Магрипа Харипулаева <magriba.khari@company.com>\",\n",
        "        \"to\": \"Иван Денисов <johny.den@company.com>\",\n",
        "        \"subject\": \"Обновление: изменения API бэкэнда развернуты в staging\",\n",
        "        \"email_thread\": \"\"\"Привет, Иван!\n",
        "\n",
        "Просто хотела сообщить, что я развернула в промежуточной среде новые endpoints для аутентификации, которые мы обсуждали.\n",
        "\n",
        "Ключевые изменения включают:\n",
        "\n",
        "- Реализована ротация токенов обновления JWT;\n",
        "- Добавлено ограничение частоты попыток логина;\n",
        "- Обновлены мануалы с новыми пунктами;\n",
        "\n",
        "Все тесты пройдены, и изменения готовы к проверке. Вы можете протестировать их на staging-api.company.com/auth/*\n",
        "\n",
        "Никаких немедленных действий с вашей стороны не требуется — просто держу вас в курсе, поскольку это влияет на системы,\n",
        "над которыми вы работаете.\n",
        "\n",
        "С наилучшими пожеланиями,\n",
        "Магрипа\n",
        "\"\"\",\n",
        "    }\n",
        "key2=str(uuid.uuid4())\n",
        "store.put(\n",
        "    namespace=(\"email_assistant\", user_ID, \"examples\"),\n",
        "    key=key2,\n",
        "    value={\"email\": email_2,\"label\": \"ignore\"}\n",
        ")"
      ],
      "metadata": {
        "id": "BepeMDBzjnpo"
      },
      "id": "BepeMDBzjnpo",
      "execution_count": null,
      "outputs": []
    },
    {
      "cell_type": "markdown",
      "source": [
        "Еще несколько писем"
      ],
      "metadata": {
        "id": "xyiTXce4ZWsU"
      },
      "id": "xyiTXce4ZWsU"
    },
    {
      "cell_type": "code",
      "source": [
        "email_spam = {\n",
        "\"author\": \"Marketing Team <marketing@amazingdeals.com>\",\n",
        "\"to\": \"Иван Денисов <johny.den@company.com>\",\n",
        "\"subject\": \"🔥 ЭКСКЛЮЗИВНОЕ ПРЕДЛОЖЕНИЕ: ограниченная по времени скидка на инструменты разработчика! 🔥\",\n",
        "\"email_thread\": \"\"\"Уважаемый уважаемый разработчик,\n",
        "\n",
        "Не упустите эту НЕВЕРОЯТНУЮ возможность!\n",
        "\n",
        "🚀 ТОЛЬКО В ТЕЧЕНИЕ ОГРАНИЧЕННОГО ВРЕМЕНИ получите СКИДКУ 80% на наш Premium Developer Suite!\n",
        "\n",
        "✨ ОСОБЕННОСТИ:\n",
        "- Революционное дополнение кода на базе ИИ\n",
        "- Облачная среда разработки\n",
        "- Круглосуточная поддержка клиентов\n",
        "- И многое другое!\n",
        "\n",
        "💰 Обычная цена: $999/месяц\n",
        "🎉 ВАША СПЕЦИАЛЬНАЯ ЦЕНА: Всего $199/месяц!\n",
        "\n",
        "🕒 Спешите! Это предложение действует в течение:\n",
        "24 ТОЛЬКО ЧАСЫ!\n",
        "\n",
        "Нажмите здесь, чтобы получить скидку: https://amazingdeals.com/special-offer\n",
        "\n",
        "С наилучшими пожеланиями,\n",
        "Отдел маркетинга\n",
        "---\n",
        "Чтобы отписаться, нажмите здесь\n",
        "\"\"\",\n",
        "}\n",
        "store.put(\n",
        "    namespace=(\"email_assistant\", user_ID, \"examples\"),\n",
        "    key=str(uuid.uuid4()),\n",
        "    value={\"email\": email_spam,\"label\": \"ignore\"}\n",
        ")"
      ],
      "metadata": {
        "id": "udkLaPISZLv_"
      },
      "id": "udkLaPISZLv_",
      "execution_count": null,
      "outputs": []
    },
    {
      "cell_type": "code",
      "source": [
        "email_4 = {\n",
        "\"author\": \"Сергей Вовк <grauer.wolf@company.com>\",\n",
        "\"to\": \"Иван Денисов <johny.den@company.com>\",\n",
        "\"subject\": \"Обнаружен критический баг в модуле 'Обработка заказов'\",\n",
        "\"email_thread\": \"\"\"\n",
        "\n",
        "Уважаемый Иван,\n",
        "Пишу вам по поводу результатов тестирования модуля \"Обработка заказов\".\n",
        "В ходе тестирования была обнаружена критическая проблема, которая может привести к серьезным последствиям для пользователей и работы системы.\n",
        "При тестировании сценария оформления заказа с использованием метода оплаты \"Кредитная карта\" возникла следующая ошибка:\n",
        "после успешного ввода всех данных и подтверждения заказа система не обрабатывает платеж и не отображает подтверждение заказа пользователю.\n",
        "В результате заказ не считается оформленным, но при этом средства могут быть списаны со счета пользователя (в зависимости от настроек платежной системы).\n",
        "Я воспроизвел эту проблему несколько раз на различных тестовых окружениях и с разными тестовыми данными. Ошибка стабильно воспроизводится при выполнении описанных шагов.\n",
        "Я уже проверил логи сервера и фронтенда, но не обнаружил явных ошибок, связанных с обработкой платежей. Похоже, проблема кроется в логике взаимодействия между модулем \"Обработка заказов\" и платежным шлюзом.\n",
        "На мой взгляд, данная проблема является критической, так как напрямую влияет на возможность пользователей совершать покупки и может привести к финансовым потерям и негативному пользовательскому опыту.\n",
        "Прошу вас уделить этому вопросу первостепенное внимание и передать информацию команде разработки для скорейшего исправления дефекта.\n",
        "во вложении подробные шаги воспроизведения, логи и скриншоты для более детального анализа проблемы.\n",
        "Заранее спасибо за вашу оперативную реакцию.\n",
        "\n",
        "С уважением,\n",
        "Сергей, QA\n",
        "Тестировщик\n",
        "\"\"\",\n",
        "}\n",
        "store.put(\n",
        "    namespace=(\"email_assistant\", user_ID, \"examples\"),\n",
        "    key=str(uuid.uuid4()),\n",
        "    value={\"email\": email_4,\"label\": \"notify\"}\n",
        ")"
      ],
      "metadata": {
        "id": "C2NQ-4Zb-6fP"
      },
      "id": "C2NQ-4Zb-6fP",
      "execution_count": null,
      "outputs": []
    },
    {
      "cell_type": "markdown",
      "source": [
        "#### Поиск и извлечение из хранилища\n",
        "\n",
        "также эти данные доступны для поиска по содержимому, так как при добавлении в хранилище они индексируются эмбеддинг-моделью"
      ],
      "metadata": {
        "id": "uDe0gYOGkHj4"
      },
      "id": "uDe0gYOGkHj4"
    },
    {
      "cell_type": "code",
      "execution_count": null,
      "id": "1885ddbe-cc23-4160-8a49-b01598abe58a",
      "metadata": {
        "height": 421,
        "id": "1885ddbe-cc23-4160-8a49-b01598abe58a"
      },
      "outputs": [],
      "source": [
        "### здесь утилита для выведения результата поиска в удобном формате\n",
        "\n",
        "# Шаблон форматирования письма для размещения в промпте\n",
        "template = \"\"\"Тема письма: {subject}\n",
        "письмо от: {from_email}\n",
        "адресат письма: {to_email}\n",
        "содержание письма:\n",
        "```\n",
        "{content}\n",
        "```\n",
        "> результат триажа: {result}\n",
        "\"\"\"\n",
        "\n",
        "def format_few_shot_examples(examples):\n",
        "  \"\"\"\n",
        "  Форматирует список писем\n",
        "\n",
        "  \"\"\"\n",
        "  strs = [\"Найдено по запросу:\"]\n",
        "  for eg in examples:\n",
        "      strs.append(\n",
        "          template.format(\n",
        "              subject=eg.value[\"email\"][\"subject\"],\n",
        "              to_email=eg.value[\"email\"][\"to\"],\n",
        "              from_email=eg.value[\"email\"][\"author\"],\n",
        "              content=eg.value[\"email\"][\"email_thread\"][:400],\n",
        "              result=eg.value[\"label\"],\n",
        "          )\n",
        "      )\n",
        "  return \"\\n\\n------------\\n\\n\".join(strs)"
      ]
    },
    {
      "cell_type": "code",
      "source": [
        "# @title Введите строку поиска письма {\"display-mode\":\"form\"}\n",
        "search_str = \"клиент хочет пояснений\" # @param {\"type\":\"string\",\"placeholder\":\"ключевые изменения\"}\n",
        "#\"отсутствуют несколько endpoints\"\n",
        "#деплой на staging\n",
        "#\"Магрипа\"\n",
        "#\"клиент хочет пояснений\"\n",
        "results = store.search(\n",
        "    (\"email_assistant\", user_ID, \"examples\"),\n",
        "    query=search_str,\n",
        "    limit=1\n",
        "    )\n",
        "Markdown(format_few_shot_examples(results))"
      ],
      "metadata": {
        "id": "5lp5WpzSkP5w",
        "colab": {
          "base_uri": "https://localhost:8080/",
          "height": 350
        },
        "outputId": "2cd7df22-d812-4ea3-88b0-b47ce83223c0"
      },
      "id": "5lp5WpzSkP5w",
      "execution_count": null,
      "outputs": [
        {
          "output_type": "execute_result",
          "data": {
            "text/plain": [
              "<IPython.core.display.Markdown object>"
            ],
            "text/markdown": "Найдено по запросу:\n\n------------\n\nТема письма: Короткий вопрос по документации API\nписьмо от: Алиса Смирнова <alice.smirnova@company.com>\nадресат письма: Иван Денисов <johny.den@company.com>\nсодержание письма:\n```\n\nПривет, Иван!\n\nЯ просматривала документацию API для новой службы аутентификации и заметила,\nчто в спецификациях, похоже, отсутствуют несколько пунктов.\nНе мог бы ты помочь прояснить, было ли это сделано намеренно или нам следует исправить документацию?\nВ частности, я не увидела пунктов:\n- /auth/refresh\n- /auth/validate\n\nСпасибо!\nАлиса\n\n```\n> результат триажа: respond\n"
          },
          "metadata": {},
          "execution_count": 15
        }
      ]
    },
    {
      "cell_type": "code",
      "source": [
        "results"
      ],
      "metadata": {
        "id": "PEyplF8ekUNH",
        "colab": {
          "base_uri": "https://localhost:8080/"
        },
        "outputId": "84f9cd8c-6d50-424d-8f93-9dfedd9f9c1d"
      },
      "id": "PEyplF8ekUNH",
      "execution_count": null,
      "outputs": [
        {
          "output_type": "execute_result",
          "data": {
            "text/plain": [
              "[Item(namespace=['email_assistant', 'lance', 'examples'], key='0730a620-e423-493c-bdd7-d4236b488e0d', value={'email': {'author': 'Алиса Смирнова <alice.smirnova@company.com>', 'to': 'Иван Денисов <johny.den@company.com>', 'subject': 'Короткий вопрос по документации API', 'email_thread': '\\nПривет, Иван!\\n\\nЯ просматривала документацию API для новой службы аутентификации и заметила,\\nчто в спецификациях, похоже, отсутствуют несколько пунктов.\\nНе мог бы ты помочь прояснить, было ли это сделано намеренно или нам следует исправить документацию?\\nВ частности, я не увидела пунктов:\\n- /auth/refresh\\n- /auth/validate\\n\\nСпасибо!\\nАлиса\\n'}, 'label': 'respond'}, created_at='2025-04-04T11:07:15.623184+00:00', updated_at='2025-04-04T11:07:15.623194+00:00', score=0.2696896411429839)]"
            ]
          },
          "metadata": {},
          "execution_count": 16
        }
      ]
    },
    {
      "cell_type": "markdown",
      "source": [
        "## Зададим правила триажа в явном виде\n",
        "\n",
        "Они будут оформлены в виде системного промпта и пользовательского промпта\n",
        "\n",
        "**Системный промпт** - задает общий стиль агента и сообщает ему его функционал:"
      ],
      "metadata": {
        "id": "SH42CUmaWGVM"
      },
      "id": "SH42CUmaWGVM"
    },
    {
      "cell_type": "code",
      "execution_count": null,
      "id": "791a2600-fff4-44f8-bb1a-40eed2618f08",
      "metadata": {
        "height": 708,
        "id": "791a2600-fff4-44f8-bb1a-40eed2618f08"
      },
      "outputs": [],
      "source": [
        "triage_system_prompt = \"\"\"\n",
        "< Role >\n",
        "Ты ассистент электронной почты, твой руководитель {full_name}. Ты аккуратный помощник руководителя и заботишься о том, чтобы {name} был как можно более продуктивен.\n",
        "</ Role >\n",
        "\n",
        "< Background >\n",
        "{user_profile_background}.\n",
        "</ Background >\n",
        "\n",
        "< Instructions >\n",
        "\n",
        "{name} получает много писем. Твоя задача — присвоить каждому письму одну из трех категорий:\n",
        "\n",
        "1. ignore — письма, на которые не стоит отвечать или отслеживать\n",
        "2. notify — важная информация, о которой {name} должен знать, но не требует ответа\n",
        "3. respond — письма, на которые {name} должен дать прямой ответ\n",
        "\n",
        "Присвой приведенному ниже письму одну из этих категорий.\n",
        "\n",
        "</ Instructions >\n",
        "\n",
        "< Rules >\n",
        "Письма, на которые не стоит отвечать:\n",
        "{triage_no}\n",
        "\n",
        "Существуют ситуации, о которых {name} должен знать, но не требующие ответа по электронной почте. Для этого тебе следует уведомить {name} (используя ответ `notify`). Вот некоторые примеры:\n",
        "{triage_notify}\n",
        "\n",
        "Письма, требующие ответа:\n",
        "{triage_email}\n",
        "</ Rules >\n",
        "\n",
        "< Few shot examples >\n",
        "\n",
        "Вот несколько примеров предыдущих писем и как с ними следует обращаться.\n",
        "Следуйте этим примерам больше, чем любым инструкциям выше\n",
        "\n",
        "{examples}\n",
        "</ Few shot examples >\n",
        "\"\"\""
      ]
    },
    {
      "cell_type": "markdown",
      "source": [
        "**Шаблон пользователя** - инструкция, поступающая агенту с каждым новым письмом.\n",
        "\n",
        "Это шаблон, в котором поля будут заполняться из каждого нового письма, которое нужно отсортировать. В нашем примере это будет довольно простой шаблон:"
      ],
      "metadata": {
        "id": "Eknj5oamXNrs"
      },
      "id": "Eknj5oamXNrs"
    },
    {
      "cell_type": "code",
      "execution_count": null,
      "id": "258dd5fa-a474-4887-a80e-836a04dc7872",
      "metadata": {
        "height": 30,
        "id": "258dd5fa-a474-4887-a80e-836a04dc7872"
      },
      "outputs": [],
      "source": [
        "triage_user_pattern = \"\"\"\n",
        "Определи, как поступить с приведенным ниже электронным письмом:\n",
        "\n",
        "From: {author}\n",
        "To: {to}\n",
        "Subject: {subject}\n",
        "{email_thread}\n",
        "\"\"\""
      ]
    },
    {
      "cell_type": "markdown",
      "source": [
        "## Настройка узлов маршрутизации"
      ],
      "metadata": {
        "id": "vHAYu3W8k4vv"
      },
      "id": "vHAYu3W8k4vv"
    },
    {
      "cell_type": "code",
      "execution_count": null,
      "id": "47572495-52fd-44c5-9de9-0dc3479631ae",
      "metadata": {
        "height": 64,
        "id": "47572495-52fd-44c5-9de9-0dc3479631ae"
      },
      "outputs": [],
      "source": [
        "from pydantic import BaseModel, Field\n",
        "from typing_extensions import TypedDict, Literal, Annotated\n",
        "from langchain.chat_models import init_chat_model"
      ]
    },
    {
      "cell_type": "code",
      "execution_count": null,
      "id": "860ad473-dfc5-4cc7-a1e8-b296a845cb16",
      "metadata": {
        "height": 30,
        "id": "860ad473-dfc5-4cc7-a1e8-b296a845cb16"
      },
      "outputs": [],
      "source": [
        "llm = init_chat_model(\"openai:gpt-4o-mini\")"
      ]
    },
    {
      "cell_type": "code",
      "execution_count": null,
      "id": "d80b83f7-aea3-4baf-aa75-3904d7bd05a5",
      "metadata": {
        "height": 215,
        "id": "d80b83f7-aea3-4baf-aa75-3904d7bd05a5"
      },
      "outputs": [],
      "source": [
        "class Router(BaseModel):\n",
        "  \"\"\"анализирует непрочитанные письма и перенаправляет их в соответствии с содержанием.\"\"\"\n",
        "\n",
        "  reasoning: str = Field(\n",
        "      description=\"Пошаговое объяснение, почему письмо классифицировано этим классом.\"\n",
        "  )\n",
        "  classification: Literal[\"ignore\", \"respond\", \"notify\"] = Field(\n",
        "      description=\"\"\"\n",
        "      Классификация электронного письма:\n",
        "      'ignore' для нерелевантных электронных писем,\n",
        "      'notify' для важной информации, которая не требует ответа,\n",
        "      'respond' для электронных писем, которые требуют ответа\n",
        "      \"\"\"\n",
        "  )\n",
        "\n",
        "llm_router = llm.with_structured_output(Router)"
      ]
    },
    {
      "cell_type": "markdown",
      "id": "42e27332-0c96-482c-893f-9c181ec710c0",
      "metadata": {
        "id": "42e27332-0c96-482c-893f-9c181ec710c0"
      },
      "source": [
        "### Узел маршрутизатора триажа"
      ]
    },
    {
      "cell_type": "code",
      "execution_count": null,
      "id": "f2c9f502-8dc9-4810-9728-9dbb1ccbcf4f",
      "metadata": {
        "height": 98,
        "id": "f2c9f502-8dc9-4810-9728-9dbb1ccbcf4f"
      },
      "outputs": [],
      "source": [
        "from langgraph.graph import add_messages\n",
        "\n",
        "class State(TypedDict):\n",
        "    email_input: dict\n",
        "    messages: Annotated[list, add_messages]"
      ]
    },
    {
      "cell_type": "code",
      "execution_count": null,
      "id": "c143e3c9-ab79-45a0-a638-87a8b29233c8",
      "metadata": {
        "height": 81,
        "id": "c143e3c9-ab79-45a0-a638-87a8b29233c8"
      },
      "outputs": [],
      "source": [
        "from langgraph.graph import StateGraph, START, END\n",
        "from langgraph.types import Command\n",
        "from typing import Literal\n",
        "from IPython.display import Image, display"
      ]
    },
    {
      "cell_type": "markdown",
      "source": [
        "Соберем промпты-инструкции в одном месте. Отсюда наши агенты возьмут инструкции при первом запуске, чтобы сохранить их в хранилище для дальнейших запусков"
      ],
      "metadata": {
        "id": "8Fff1isIxxfi"
      },
      "id": "8Fff1isIxxfi"
    },
    {
      "cell_type": "code",
      "execution_count": null,
      "id": "6fba3371-a99d-4a4b-a22e-de5e5a69162e",
      "metadata": {
        "height": 164,
        "id": "6fba3371-a99d-4a4b-a22e-de5e5a69162e"
      },
      "outputs": [],
      "source": [
        "prompt_instructions = {\n",
        "    \"triage_rules\": {\n",
        "        \"ignore\": \"Маркетинговые рассылки, спам-сообщения, массовые объявления компании\",\n",
        "        \"notify\": \"Член команды ушел на больничный, уведомления о сборке системы, обновления статуса проекта\",\n",
        "        \"respond\": \"Прямые вопросы от членов команды, запросы на встречи, критические отчеты об ошибках\",\n",
        "        },\n",
        "    \"agent_instructions\": \"Твой руководитель {name} предоставил тебе эти инструменты для сортировки его электронной почты. Используй их, когда это необходимо, чтобы помочь  руководителю эффективно управлять задачами.\"\n",
        "}"
      ]
    },
    {
      "cell_type": "markdown",
      "id": "a5791768-a212-4901-a181-e1fc307507d2",
      "metadata": {
        "id": "a5791768-a212-4901-a181-e1fc307507d2"
      },
      "source": [
        "#### Создадим маршрутизатор агента триажа\n",
        "Triage_router будет получать правила триажа из хранилища.\n",
        "\n",
        "При первом запуске он заберет их из нашего начального набора правил, содержащегося в словаре `prompt_instructions`, а затем, в процессе своей жизнедеятельности будет корректировать их в соответствии с новыми инструкциями руководителя и сохранять в хранилище новые правила.\n"
      ]
    },
    {
      "cell_type": "code",
      "execution_count": null,
      "id": "4e672197-b97a-4a23-99ec-a38653bf8773",
      "metadata": {
        "height": 1711,
        "id": "4e672197-b97a-4a23-99ec-a38653bf8773"
      },
      "outputs": [],
      "source": [
        "def triage_router(state: State, config, store) -> Command[ Literal[\"response_agent\", \"__end__\"] ]:\n",
        "\n",
        "    langgraph_user_id = config['configurable']['langgraph_user_id']\n",
        "\n",
        "    namespace = (langgraph_user_id,)\n",
        "    email_input = state['email_input']\n",
        "    examples = store.search(\n",
        "        (\"email_assistant\", langgraph_user_id,\"examples\"),\n",
        "        query=str({\"email\": email_input})\n",
        "    )\n",
        "    examples=format_few_shot_examples(examples)\n",
        "\n",
        "    # далее идет заполнение правил триажа из хранилища.\n",
        "    # Для наглядности этот процесс развернут поэтапно, но лучше его реализовать в цикле\n",
        "    result = store.get(namespace, \"triage_ignore\")\n",
        "    if result is None:\n",
        "        ignore_prompt = prompt_instructions[\"triage_rules\"][\"ignore\"]\n",
        "        store.put(namespace,\"triage_ignore\",{\"prompt\": ignore_prompt} )\n",
        "    else:\n",
        "        ignore_prompt = result.value['prompt']\n",
        "\n",
        "    result = store.get(namespace, \"triage_notify\")\n",
        "    if result is None:\n",
        "        notify_prompt = prompt_instructions[\"triage_rules\"][\"notify\"]\n",
        "        store.put( namespace, \"triage_notify\",{\"prompt\": notify_prompt} )\n",
        "    else:\n",
        "        notify_prompt = result.value['prompt']\n",
        "\n",
        "    result = store.get(namespace, \"triage_respond\")\n",
        "    if result is None:\n",
        "        respond_prompt = prompt_instructions[\"triage_rules\"][\"respond\"]\n",
        "        store.put( namespace, \"triage_respond\", {\"prompt\": respond_prompt} )\n",
        "    else:\n",
        "        respond_prompt = result.value['prompt']\n",
        "    # заполнение системного промпта из данных вашего профиля\n",
        "    system_prompt = triage_system_prompt.format(\n",
        "        full_name=profile[\"full_name\"],\n",
        "        name=profile[\"name\"],\n",
        "        user_profile_background=profile[\"user_profile_background\"],\n",
        "        triage_no=ignore_prompt,\n",
        "        triage_notify=notify_prompt,\n",
        "        triage_email=respond_prompt,\n",
        "        examples=examples\n",
        "    )\n",
        "    # заполнение пользовательского промпта для агента триажа\n",
        "    user_prompt = triage_user_pattern.format(\n",
        "        author=email_input['author'],\n",
        "        to=email_input['to'],\n",
        "        subject=email_input['subject'],\n",
        "        email_thread=email_input['email_thread']\n",
        "        )\n",
        "\n",
        "    result = llm_router.invoke(\n",
        "        [\n",
        "            {\"role\": \"system\", \"content\": system_prompt},\n",
        "            {\"role\": \"user\", \"content\": user_prompt},\n",
        "        ]\n",
        "    )\n",
        "    if result.classification == \"respond\":\n",
        "        print(\"📧 Classification: RESPOND - Это письмо требует личного ответа\")\n",
        "        goto = \"response_agent\"\n",
        "        update = {\n",
        "            \"messages\": [\n",
        "                {\n",
        "                    \"role\": \"user\",\n",
        "                    \"content\": f\"Respond to the email. Email: {email_input}\",\n",
        "                }\n",
        "            ]\n",
        "        }\n",
        "    elif result.classification == \"ignore\":\n",
        "        print(\"🚫 Classification: IGNORE - На это письмо можно не отвечать\")\n",
        "        update = {\"messages\": [\n",
        "                {\n",
        "                    \"role\": \"user\",\n",
        "                    \"content\": f\"This email was labeled as 'ignore', maybe you'll need to save it, but only if your boss says so. Save it only if you have a command from boss. Email: {email_input}\",\n",
        "                }\n",
        "            ]}\n",
        "        goto = \"response_agent\"  ##### Всё равно переходим, т.к. нам может быть нужно его сохранить для few-shot prompting\n",
        "        #goto = END\n",
        "    elif result.classification == \"notify\":\n",
        "        # В нашем примере мы просто сообщаем пользователю, что это важное письмо,\n",
        "        # но в реальной жизни тут бы можно было сделать что-то другое.\n",
        "        # Например, по тексту письма определить исполнителя и перенаправить письмо ему\n",
        "        # Или создать тикет для службы поддержки\n",
        "        # И в каждом случае исполнитель или служба поддержки могут быть реализованы как ИИ-агенты\n",
        "        print(\"🔔 Classification: NOTIFY - Это письмо содержит важную информацию\")\n",
        "        update = {\"messages\": [\n",
        "                {\n",
        "                    \"role\": \"user\",\n",
        "                    \"content\": f\"This email was labeled as 'notify', maybe you'll need to save it, but only if your boss says so. Save it only if you have a command from boss. Email: {email_input}\",\n",
        "                }\n",
        "            ]}\n",
        "        goto = \"response_agent\" ##### Всё равно переходим, т.к. нам может быть нужно его сохранить для few-shot prompting\n",
        "        #goto = END\n",
        "    else:\n",
        "        raise ValueError(f\"Invalid classification: {result.classification}\")\n",
        "    # маршрутизатор возвращает следующий узел графа с сообщением, содержащим задание для этого узла\n",
        "    return Command(goto=goto, update=update)"
      ]
    },
    {
      "cell_type": "markdown",
      "id": "fcacf544-2635-4f5a-b182-71ae5b5ad7ce",
      "metadata": {
        "id": "fcacf544-2635-4f5a-b182-71ae5b5ad7ce"
      },
      "source": [
        "## Построение основного агента\n"
      ]
    },
    {
      "cell_type": "markdown",
      "source": [
        "### Определим инструменты основного агента\n",
        "- чтение почты\n",
        "- назначение встреч в календаре\n",
        "- проверка доступности даты в календаре"
      ],
      "metadata": {
        "id": "g5qzl_4wlwKn"
      },
      "id": "g5qzl_4wlwKn"
    },
    {
      "cell_type": "code",
      "execution_count": null,
      "id": "0901c346-71b4-4655-959c-23998df08de1",
      "metadata": {
        "height": 115,
        "id": "0901c346-71b4-4655-959c-23998df08de1"
      },
      "outputs": [],
      "source": [
        "from langchain_core.tools import tool\n",
        "\n",
        "@tool\n",
        "def write_email(to: str, subject: str, content: str) -> str:\n",
        "    \"\"\"Write and send an email.\"\"\"\n",
        "    # Placeholder response - in real app would send email\n",
        "    return f\"Email с темой '{subject}' отправлен адресату {to}\"\n"
      ]
    },
    {
      "cell_type": "code",
      "execution_count": null,
      "id": "4b923fa3-ce58-49f9-afca-f2e1b51c28cc",
      "metadata": {
        "height": 215,
        "id": "4b923fa3-ce58-49f9-afca-f2e1b51c28cc"
      },
      "outputs": [],
      "source": [
        "@tool\n",
        "def schedule_meeting(\n",
        "    attendees: list[str],\n",
        "    subject: str,\n",
        "    duration_minutes: int,\n",
        "    preferred_day: str\n",
        ") -> str:\n",
        "    \"\"\"Назначает встречу в доступное время из календаря.\"\"\"\n",
        "    # Placeholder response - in real app would check calendar and schedule\n",
        "    return f\"На {preferred_day}  назначена встреча с {len(attendees)}. Тема '{subject}'\"\n"
      ]
    },
    {
      "cell_type": "code",
      "execution_count": null,
      "id": "2b5f9d73-47de-4169-8bba-4992fcdda184",
      "metadata": {
        "height": 98,
        "id": "2b5f9d73-47de-4169-8bba-4992fcdda184"
      },
      "outputs": [],
      "source": [
        "@tool\n",
        "def check_calendar_availability(day: str) -> str:\n",
        "    \"\"\"\n",
        "    Возвращает доступное время в календаре на определенный день\n",
        "    \"\"\"\n",
        "    # Placeholder response - в реальном приложении будет проверяться реальный календарь\n",
        "    return f\"На {day} доступно: 9:00 AM, 2:00 PM, 4:00 PM\""
      ]
    },
    {
      "cell_type": "markdown",
      "source": [
        "### добавим два готовых инструмента для чтения/записи памяти.\n",
        "В памяти будем сохранять информацию о контактах, действиях, обсуждениях и т.д"
      ],
      "metadata": {
        "id": "lWPHev0ZgYTu"
      },
      "id": "lWPHev0ZgYTu"
    },
    {
      "cell_type": "code",
      "execution_count": null,
      "id": "eb51d144-9148-4e65-8ba9-f6f05c17f3c1",
      "metadata": {
        "height": 30,
        "id": "eb51d144-9148-4e65-8ba9-f6f05c17f3c1"
      },
      "outputs": [],
      "source": [
        "from langmem import create_manage_memory_tool, create_search_memory_tool"
      ]
    },
    {
      "cell_type": "code",
      "execution_count": null,
      "id": "9c0adbca-60ea-478e-a8e2-414bdb739aed",
      "metadata": {
        "height": 251,
        "id": "9c0adbca-60ea-478e-a8e2-414bdb739aed"
      },
      "outputs": [],
      "source": [
        "manage_memory_tool = create_manage_memory_tool(\n",
        "    namespace=(\n",
        "        \"email_assistant\",\n",
        "        f\"{user_ID}\",\n",
        "        \"collection\"\n",
        "    )\n",
        ")\n",
        "search_memory_tool = create_search_memory_tool(\n",
        "    namespace=(\n",
        "        \"email_assistant\",\n",
        "        f\"{user_ID}\",\n",
        "        \"collection\"\n",
        "    )\n",
        ")"
      ]
    },
    {
      "cell_type": "markdown",
      "source": [
        "### Создадим системный промпт основного агента"
      ],
      "metadata": {
        "id": "f7xbcFNfPtzz"
      },
      "id": "f7xbcFNfPtzz"
    },
    {
      "cell_type": "markdown",
      "source": [
        "TODO вписать мою тулзу\n",
        "\n",
        "пересоздать бота"
      ],
      "metadata": {
        "id": "2VjizV4XMWZ4"
      },
      "id": "2VjizV4XMWZ4"
    },
    {
      "cell_type": "code",
      "execution_count": null,
      "id": "c0f468c7-e67c-4e1e-95cf-e8ae9ad54060",
      "metadata": {
        "height": 351,
        "id": "c0f468c7-e67c-4e1e-95cf-e8ae9ad54060"
      },
      "outputs": [],
      "source": [
        "agent_system_prompt_memory = \"\"\"\n",
        "< Role >\n",
        "Ты ассистент электронной почты, твой руководитель {full_name}. Ты аккуратный помощник руководителя и заботишься о том, чтобы {name} был как можно более продуктивен.\n",
        "</ Role >\n",
        "\n",
        "< Tools >\n",
        "{name} предоставил тебе доступ к следующим инструментам управления коммуникациями и расписанием:\n",
        "\n",
        "1. write_email(to, subject, content) — отправка писем указанным получателям\n",
        "2. schedule_meeting(attendees, subject, duration_minutes, preferred_day) — планирование встреч в календаре\n",
        "3. check_calendar_availability(day) — проверка доступных временных интервалов на указанный день\n",
        "4. manage_memory — сохранение в памяти для дальнейшего использования любой важной информации о контактах, действиях, обсуждениях\n",
        "5. search_memory — поиск любой важной информации, которая могла быть сохранена в памяти\n",
        "</ Tools >\n",
        "\n",
        "< Instructions >\n",
        "{instructions}\n",
        "</ Instructions >\n",
        "\"\"\""
      ]
    },
    {
      "cell_type": "markdown",
      "id": "a76db56e-c51c-4a29-8ab2-10a8263ea21a",
      "metadata": {
        "id": "a76db56e-c51c-4a29-8ab2-10a8263ea21a"
      },
      "source": [
        "#### Функция create_prompt извлекает промпты-инструкции основного агента из хранилища\n"
      ]
    },
    {
      "cell_type": "code",
      "execution_count": null,
      "id": "cce4484e-8e76-4a4b-afe9-a27f8507b0a3",
      "metadata": {
        "height": 404,
        "id": "cce4484e-8e76-4a4b-afe9-a27f8507b0a3"
      },
      "outputs": [],
      "source": [
        "def create_prompt(state, config, store):\n",
        "    langgraph_user_id = config['configurable']['langgraph_user_id']\n",
        "    namespace = (langgraph_user_id, )\n",
        "    result = store.get(namespace, \"agent_instructions\")\n",
        "    if result is None:\n",
        "        store.put(\n",
        "            namespace,\n",
        "            \"agent_instructions\",\n",
        "            {\"prompt\": prompt_instructions[\"agent_instructions\"]}\n",
        "        )\n",
        "        prompt = prompt_instructions[\"agent_instructions\"]\n",
        "    else:\n",
        "        prompt = result.value['prompt']\n",
        "\n",
        "    return [\n",
        "        {\n",
        "            \"role\": \"system\",\n",
        "            \"content\": agent_system_prompt_memory.format(\n",
        "                instructions=prompt,\n",
        "                **profile\n",
        "            )\n",
        "        }\n",
        "    ] + state['messages']"
      ]
    },
    {
      "cell_type": "markdown",
      "id": "5beba96f-a399-4304-9d72-c9535cdbd47e",
      "metadata": {
        "id": "5beba96f-a399-4304-9d72-c9535cdbd47e"
      },
      "source": [
        "## Создаем email-ассистента"
      ]
    },
    {
      "cell_type": "code",
      "execution_count": null,
      "id": "d4c53481-9304-4921-9023-575918720814",
      "metadata": {
        "height": 30,
        "id": "d4c53481-9304-4921-9023-575918720814"
      },
      "outputs": [],
      "source": [
        "from langgraph.prebuilt import create_react_agent"
      ]
    },
    {
      "cell_type": "code",
      "execution_count": null,
      "id": "ae4d51ec-6b42-4345-a441-a1701651fbce",
      "metadata": {
        "height": 251,
        "id": "ae4d51ec-6b42-4345-a441-a1701651fbce"
      },
      "outputs": [],
      "source": [
        "tools= [\n",
        "    write_email,\n",
        "    schedule_meeting,\n",
        "    check_calendar_availability,\n",
        "    manage_memory_tool,\n",
        "    search_memory_tool\n",
        "]\n",
        "response_agent = create_react_agent(\n",
        "    \"openai:gpt-4o-mini\",\n",
        "    tools=tools,\n",
        "    prompt=create_prompt,\n",
        "    store=store\n",
        ")"
      ]
    },
    {
      "cell_type": "code",
      "source": [
        "response_agent.assign"
      ],
      "metadata": {
        "id": "4hGtbzJW_5d-",
        "colab": {
          "base_uri": "https://localhost:8080/",
          "height": 221
        },
        "outputId": "af5a40dd-2781-4395-fcea-ef04d71abe12"
      },
      "id": "4hGtbzJW_5d-",
      "execution_count": null,
      "outputs": [
        {
          "output_type": "execute_result",
          "data": {
            "text/plain": [
              "<bound method Runnable.assign of <langgraph.graph.state.CompiledStateGraph object at 0x7e236c9bc850>>"
            ],
            "text/html": [
              "<div style=\"max-width:800px; border: 1px solid var(--colab-border-color);\"><style>\n",
              "      pre.function-repr-contents {\n",
              "        overflow-x: auto;\n",
              "        padding: 8px 12px;\n",
              "        max-height: 500px;\n",
              "      }\n",
              "\n",
              "      pre.function-repr-contents.function-repr-contents-collapsed {\n",
              "        cursor: pointer;\n",
              "        max-height: 100px;\n",
              "      }\n",
              "    </style>\n",
              "    <pre style=\"white-space: initial; background:\n",
              "         var(--colab-secondary-surface-color); padding: 8px 12px;\n",
              "         border-bottom: 1px solid var(--colab-border-color);\"><b>langchain_core.runnables.base.Runnable.assign</b><br/>def assign(**kwargs: Union[Runnable[dict[str, Any], Any], Callable[[dict[str, Any]], Any], Mapping[str, Union[Runnable[dict[str, Any], Any], Callable[[dict[str, Any]], Any]]]]) -&gt; RunnableSerializable[Any, Any]</pre><pre class=\"function-repr-contents function-repr-contents-collapsed\" style=\"\"><a class=\"filepath\" style=\"display:none\" href=\"#\">/usr/local/lib/python3.11/dist-packages/langchain_core/runnables/base.py</a>Assigns new fields to the dict output of this Runnable.\n",
              "Returns a new Runnable.\n",
              "\n",
              ".. code-block:: python\n",
              "\n",
              "    from langchain_community.llms.fake import FakeStreamingListLLM\n",
              "    from langchain_core.output_parsers import StrOutputParser\n",
              "    from langchain_core.prompts import SystemMessagePromptTemplate\n",
              "    from langchain_core.runnables import Runnable\n",
              "    from operator import itemgetter\n",
              "\n",
              "    prompt = (\n",
              "        SystemMessagePromptTemplate.from_template(&quot;You are a nice assistant.&quot;)\n",
              "        + &quot;{question}&quot;\n",
              "    )\n",
              "    llm = FakeStreamingListLLM(responses=[&quot;foo-lish&quot;])\n",
              "\n",
              "    chain: Runnable = prompt | llm | {&quot;str&quot;: StrOutputParser()}\n",
              "\n",
              "    chain_with_assign = chain.assign(hello=itemgetter(&quot;str&quot;) | llm)\n",
              "\n",
              "    print(chain_with_assign.input_schema.model_json_schema())\n",
              "    # {&#x27;title&#x27;: &#x27;PromptInput&#x27;, &#x27;type&#x27;: &#x27;object&#x27;, &#x27;properties&#x27;:\n",
              "    {&#x27;question&#x27;: {&#x27;title&#x27;: &#x27;Question&#x27;, &#x27;type&#x27;: &#x27;string&#x27;}}}\n",
              "    print(chain_with_assign.output_schema.model_json_schema())\n",
              "    # {&#x27;title&#x27;: &#x27;RunnableSequenceOutput&#x27;, &#x27;type&#x27;: &#x27;object&#x27;, &#x27;properties&#x27;:\n",
              "    {&#x27;str&#x27;: {&#x27;title&#x27;: &#x27;Str&#x27;,\n",
              "    &#x27;type&#x27;: &#x27;string&#x27;}, &#x27;hello&#x27;: {&#x27;title&#x27;: &#x27;Hello&#x27;, &#x27;type&#x27;: &#x27;string&#x27;}}}</pre>\n",
              "      <script>\n",
              "      if (google.colab.kernel.accessAllowed && google.colab.files && google.colab.files.view) {\n",
              "        for (const element of document.querySelectorAll('.filepath')) {\n",
              "          element.style.display = 'block'\n",
              "          element.onclick = (event) => {\n",
              "            event.preventDefault();\n",
              "            event.stopPropagation();\n",
              "            google.colab.files.view(element.textContent, 677);\n",
              "          };\n",
              "        }\n",
              "      }\n",
              "      for (const element of document.querySelectorAll('.function-repr-contents')) {\n",
              "        element.onclick = (event) => {\n",
              "          event.preventDefault();\n",
              "          event.stopPropagation();\n",
              "          element.classList.toggle('function-repr-contents-collapsed');\n",
              "        };\n",
              "      }\n",
              "      </script>\n",
              "      </div>"
            ]
          },
          "metadata": {},
          "execution_count": 35
        }
      ]
    },
    {
      "cell_type": "markdown",
      "source": [
        "#### собираем все узлы в граф, соединив их ребрами"
      ],
      "metadata": {
        "id": "eRFLt27QQ0zK"
      },
      "id": "eRFLt27QQ0zK"
    },
    {
      "cell_type": "code",
      "execution_count": null,
      "id": "01285825-2bf0-4c41-ad46-70f4a5defcdc",
      "metadata": {
        "height": 98,
        "id": "01285825-2bf0-4c41-ad46-70f4a5defcdc"
      },
      "outputs": [],
      "source": [
        "email_agent = StateGraph(State)\n",
        "email_agent = email_agent.add_node(triage_router)\n",
        "email_agent = email_agent.add_node(\"response_agent\", response_agent)\n",
        "email_agent = email_agent.add_edge(START, \"triage_router\")\n",
        "email_agent = email_agent.compile(store=store)\n"
      ]
    },
    {
      "cell_type": "code",
      "source": [
        "Image(email_agent.get_graph().draw_mermaid_png())"
      ],
      "metadata": {
        "id": "XLqbttKmgkWA",
        "colab": {
          "base_uri": "https://localhost:8080/",
          "height": 266
        },
        "outputId": "034e2266-86c4-4770-88c7-7d6673946754"
      },
      "id": "XLqbttKmgkWA",
      "execution_count": null,
      "outputs": [
        {
          "output_type": "execute_result",
          "data": {
            "image/png": "[encoded data removed]",
            "text/plain": [
              "<IPython.core.display.Image object>"
            ]
          },
          "metadata": {},
          "execution_count": 37
        }
      ]
    },
    {
      "cell_type": "code",
      "source": [
        "Image(response_agent.get_graph().draw_mermaid_png())"
      ],
      "metadata": {
        "id": "6234pjPyXsUX",
        "colab": {
          "base_uri": "https://localhost:8080/",
          "height": 266
        },
        "outputId": "fa462a5e-130a-4b0b-c1e5-1caa1d5f96e9"
      },
      "id": "6234pjPyXsUX",
      "execution_count": null,
      "outputs": [
        {
          "output_type": "execute_result",
          "data": {
            "image/png": "[encoded data removed]",
            "text/plain": [
              "<IPython.core.display.Image object>"
            ]
          },
          "metadata": {},
          "execution_count": 38
        }
      ]
    },
    {
      "cell_type": "markdown",
      "id": "0d0cb759-a6c5-4884-bfcc-1dfa40091ef2",
      "metadata": {
        "id": "0d0cb759-a6c5-4884-bfcc-1dfa40091ef2"
      },
      "source": [
        "### Настройка агента для обновления долговременной памяти в фоновом режиме\n",
        "Ваш email_agent настроен на извлечение инструкций из долговременной памяти. \\\n",
        "Теперь вы создадите агента для изменения этой памяти. Сначала проверьте текущее поведение."
      ]
    },
    {
      "cell_type": "code",
      "source": [
        "email_test = {\n",
        "    \"author\": \"Екатерина Романова <fike@anhalt-zerbst.com>\",\n",
        "    \"to\": \"Иван Денисов <johny.den@company.com>\",\n",
        "    \"subject\": \"Запрос на встречу: Обсуждение приоритетов и планирования спринта #12 \",\n",
        "    \"email_thread\": \"\"\"Здравствуйте, Иван!\n",
        "\n",
        "Пишу вам с просьбой организовать встречу для обсуждения приоритетов и планирования предстоящего спринта #12.\n",
        "\n",
        "Как вы знаете, в последнее время мы получили ряд важных отзывов от ключевых пользователей и провели анализ рыночной ситуации, что привело к некоторым изменениям в наших стратегических приоритетах.\n",
        "\n",
        "В связи с этим, мне хотелось бы обсудить с вами следующие ключевые моменты:\n",
        "\n",
        "Обновленные бизнес-цели и приоритеты: Обсудить, как последние изменения влияют на текущий бэклог продукта и какие задачи становятся наиболее важными для достижения наших целей.\n",
        "Планирование спринта №12: Согласовать объем работ, которые команда разработки сможет взять на предстоящий спринт, учитывая новые приоритеты и текущую загрузку.\n",
        "Потенциальные риски и зависимости: Обсудить любые возможные риски или зависимости, которые могут повлиять на успешное выполнение задач в следующем спринте.\n",
        "Я считаю, что совместное обсуждение этих вопросов поможет нам синхронизировать наши усилия и обеспечить эффективное планирование работы команды разработки.\n",
        "\n",
        "Предлагаю провести эту встречу в течение этого или следующего дня. Пожалуйста, сообщите, какое время будет наиболее удобно для вас. Я готова подстроиться под ваш график.\n",
        "\n",
        "С уважением,\n",
        "\n",
        "Екатерина Романова\n",
        "Product Owner\n",
        "\"\"\"\n",
        "}\n"
      ],
      "metadata": {
        "id": "fgHsjki-LqaZ"
      },
      "id": "fgHsjki-LqaZ",
      "execution_count": null,
      "outputs": []
    },
    {
      "cell_type": "code",
      "source": [
        "response = email_agent.invoke(\n",
        "    {\"email_input\": email_test},\n",
        "    config=config\n",
        ")"
      ],
      "metadata": {
        "id": "sXqf0OpMa40b",
        "colab": {
          "base_uri": "https://localhost:8080/"
        },
        "outputId": "979e2c6d-b234-4ee1-94fa-a26c3e92bc16"
      },
      "id": "sXqf0OpMa40b",
      "execution_count": null,
      "outputs": [
        {
          "output_type": "stream",
          "name": "stdout",
          "text": [
            "📧 Classification: RESPOND - Это письмо требует личного ответа\n"
          ]
        }
      ]
    },
    {
      "cell_type": "code",
      "source": [
        "for m in response[\"messages\"]:\n",
        "    m.pretty_print()"
      ],
      "metadata": {
        "id": "31-HkymTa83z",
        "colab": {
          "base_uri": "https://localhost:8080/"
        },
        "outputId": "79bdaa65-052b-4caf-fc3f-e2b55f820562"
      },
      "id": "31-HkymTa83z",
      "execution_count": null,
      "outputs": [
        {
          "output_type": "stream",
          "name": "stdout",
          "text": [
            "================================\u001b[1m Human Message \u001b[0m=================================\n",
            "\n",
            "Respond to the email. Email: {'author': 'Екатерина Романова <fike@anhalt-zerbst.com>', 'to': 'Иван Денисов <johny.den@company.com>', 'subject': 'Запрос на встречу: Обсуждение приоритетов и планирования спринта #12 ', 'email_thread': 'Здравствуйте, Иван!\\n\\nПишу вам с просьбой организовать встречу для обсуждения приоритетов и планирования предстоящего спринта #12.\\n\\nКак вы знаете, в последнее время мы получили ряд важных отзывов от ключевых пользователей и провели анализ рыночной ситуации, что привело к некоторым изменениям в наших стратегических приоритетах.\\n\\nВ связи с этим, мне хотелось бы обсудить с вами следующие ключевые моменты:\\n\\nОбновленные бизнес-цели и приоритеты: Обсудить, как последние изменения влияют на текущий бэклог продукта и какие задачи становятся наиболее важными для достижения наших целей.\\nПланирование спринта №12: Согласовать объем работ, которые команда разработки сможет взять на предстоящий спринт, учитывая новые приоритеты и текущую загрузку.\\nПотенциальные риски и зависимости: Обсудить любые возможные риски или зависимости, которые могут повлиять на успешное выполнение задач в следующем спринте.\\nЯ считаю, что совместное обсуждение этих вопросов поможет нам синхронизировать наши усилия и обеспечить эффективное планирование работы команды разработки.\\n\\nПредлагаю провести эту встречу в течение этого или следующего дня. Пожалуйста, сообщите, какое время будет наиболее удобно для вас. Я готова подстроиться под ваш график.\\n\\nС уважением,\\n\\nЕкатерина Романова\\nProduct Owner\\n'}\n",
            "==================================\u001b[1m Ai Message \u001b[0m==================================\n",
            "Tool Calls:\n",
            "  check_calendar_availability (call_xnJqvKw80HX0CSzTg6Nuby5w)\n",
            " Call ID: call_xnJqvKw80HX0CSzTg6Nuby5w\n",
            "  Args:\n",
            "    day: 2023-10-19\n",
            "=================================\u001b[1m Tool Message \u001b[0m=================================\n",
            "Name: check_calendar_availability\n",
            "\n",
            "На 2023-10-19 доступно: 9:00 AM, 2:00 PM, 4:00 PM\n",
            "==================================\u001b[1m Ai Message \u001b[0m==================================\n",
            "Tool Calls:\n",
            "  check_calendar_availability (call_boGYKulntE6wcVLQRfgtzNqR)\n",
            " Call ID: call_boGYKulntE6wcVLQRfgtzNqR\n",
            "  Args:\n",
            "    day: 2023-10-20\n",
            "=================================\u001b[1m Tool Message \u001b[0m=================================\n",
            "Name: check_calendar_availability\n",
            "\n",
            "На 2023-10-20 доступно: 9:00 AM, 2:00 PM, 4:00 PM\n",
            "==================================\u001b[1m Ai Message \u001b[0m==================================\n",
            "Tool Calls:\n",
            "  schedule_meeting (call_VRCh387hpdOWSa9bFP6g626X)\n",
            " Call ID: call_VRCh387hpdOWSa9bFP6g626X\n",
            "  Args:\n",
            "    attendees: ['Екатерина Романова <fike@anhalt-zerbst.com>', 'Иван Денисов <johny.den@company.com>']\n",
            "    subject: Обсуждение приоритетов и планирования спринта #12\n",
            "    duration_minutes: 60\n",
            "    preferred_day: 2023-10-19T09:00:00\n",
            "  write_email (call_HO6AyAg92AQGph7QVTuEAIrj)\n",
            " Call ID: call_HO6AyAg92AQGph7QVTuEAIrj\n",
            "  Args:\n",
            "    to: Екатерина Романова <fike@anhalt-zerbst.com>\n",
            "    subject: Re: Запрос на встречу: Обсуждение приоритетов и планирования спринта #12\n",
            "    content: Здравствуйте, Екатерина!\n",
            "\n",
            "Спасибо за ваше письмо и за инициативу провести встречу. Я согласен, что обсуждение обновленных приоритетов и планирования спринта #12 очень важно.\n",
            "\n",
            "Я предлагаю провести встречу 19 октября в 9:00. Если это время вам подходит, пожалуйста, подтвердите.\n",
            "\n",
            "С уважением,\n",
            "Иван Денисов\n",
            "=================================\u001b[1m Tool Message \u001b[0m=================================\n",
            "Name: schedule_meeting\n",
            "\n",
            "На 2023-10-19T09:00:00  назначена встреча с 2. Тема 'Обсуждение приоритетов и планирования спринта #12'\n",
            "=================================\u001b[1m Tool Message \u001b[0m=================================\n",
            "Name: write_email\n",
            "\n",
            "Email с темой 'Re: Запрос на встречу: Обсуждение приоритетов и планирования спринта #12' отправлен адресату Екатерина Романова <fike@anhalt-zerbst.com>\n",
            "==================================\u001b[1m Ai Message \u001b[0m==================================\n",
            "\n",
            "Я назначил встречу с Екатериной Романовой на 19 октября в 9:00 для обсуждения приоритетов и планирования спринта #12. Екатерине было отправлено подтверждение по электронной почте. \n",
            "\n",
            "Если понадобятся дополнительные действия или изменения, дайте знать!\n"
          ]
        }
      ]
    },
    {
      "cell_type": "code",
      "execution_count": null,
      "id": "8e364065-b855-4a6d-885f-55954d3bf691",
      "metadata": {
        "height": 149,
        "id": "8e364065-b855-4a6d-885f-55954d3bf691",
        "colab": {
          "base_uri": "https://localhost:8080/"
        },
        "outputId": "326c6a3c-2efc-4343-dee9-bfef2409f1ba"
      },
      "outputs": [
        {
          "output_type": "stream",
          "name": "stdout",
          "text": [
            "📧 Classification: RESPOND - Это письмо требует личного ответа\n"
          ]
        }
      ],
      "source": [
        "email_test_2 = {\n",
        "    \"author\": \"Алиса Селезнева <alice.ghost@hereafter.com>\",\n",
        "    \"to\": \"Иван Денисов <johny.den@company.com>\",\n",
        "    \"subject\": \"Короткий вопрос по документации API\",\n",
        "    \"email_thread\": \"\"\"Привет, Иван!\n",
        "\n",
        "Срочная проблема - ваш сервис не работает. Есть объяснение, почему?\n",
        "\"\"\"\n",
        "}\n",
        "response = email_agent.invoke(\n",
        "    {\"email_input\": email_test_2},\n",
        "    config=config\n",
        ")"
      ]
    },
    {
      "cell_type": "code",
      "source": [
        "for m in response[\"messages\"]:\n",
        "    m.pretty_print()"
      ],
      "metadata": {
        "id": "pM_p1jVj3t5B",
        "colab": {
          "base_uri": "https://localhost:8080/"
        },
        "outputId": "3a74acdb-5907-4e0b-cc8c-6fff5d2017c2"
      },
      "id": "pM_p1jVj3t5B",
      "execution_count": null,
      "outputs": [
        {
          "output_type": "stream",
          "name": "stdout",
          "text": [
            "================================\u001b[1m Human Message \u001b[0m=================================\n",
            "\n",
            "Respond to the email. Email: {'author': 'Алиса Селезнева <alice.ghost@hereafter.com>', 'to': 'Иван Денисов <johny.den@company.com>', 'subject': 'Короткий вопрос по документации API', 'email_thread': 'Привет, Иван!\\n\\nСрочная проблема - ваш сервис не работает. Есть объяснение, почему?\\n'}\n",
            "==================================\u001b[1m Ai Message \u001b[0m==================================\n",
            "Tool Calls:\n",
            "  write_email (call_gm60BTIyYeSiIWYXA9whLzq9)\n",
            " Call ID: call_gm60BTIyYeSiIWYXA9whLzq9\n",
            "  Args:\n",
            "    to: Алиса Селезнева <alice.ghost@hereafter.com>\n",
            "    subject: Re: Короткий вопрос по документации API\n",
            "    content: Привет, Алиса!\n",
            "\n",
            "Спасибо за ваше сообщение. Можешь, пожалуйста, предоставить дополнительные детали о проблеме с нашим сервисом? Это поможет мне быстрее разобраться и предоставить тебя с актуальной информацией.\n",
            "\n",
            "С уважением,\n",
            "Иван Денисов\n",
            "=================================\u001b[1m Tool Message \u001b[0m=================================\n",
            "Name: write_email\n",
            "\n",
            "Email с темой 'Re: Короткий вопрос по документации API' отправлен адресату Алиса Селезнева <alice.ghost@hereafter.com>\n",
            "==================================\u001b[1m Ai Message \u001b[0m==================================\n",
            "\n",
            "Я успешно ответил на письмо Алисы Селезневой. Сообщение отправлено с просьбой предоставить дополнительные детали о проблеме с сервисом. Если нужно что-то еще, дайте знать!\n"
          ]
        }
      ]
    },
    {
      "cell_type": "markdown",
      "id": "f5b95cf6-8197-4ac7-8a0b-a6d83d210afa",
      "metadata": {
        "id": "f5b95cf6-8197-4ac7-8a0b-a6d83d210afa"
      },
      "source": [
        "### Теперь попробуем улучшить наши промпты с помощью LLM"
      ]
    },
    {
      "cell_type": "markdown",
      "source": [
        "### Создадим новые инструкции основному агенту\n",
        "Эти инструкции позволят ему **самому менять свои рабочие промпты** с учетом ваших требований.\n",
        "Так мы сможем обучать своего ассистента-стажера и сделаем из него идеального помощника"
      ],
      "metadata": {
        "id": "0NGrB863U6e_"
      },
      "id": "0NGrB863U6e_"
    },
    {
      "cell_type": "code",
      "execution_count": null,
      "id": "9c091d2e-5309-4615-9e90-2531d2f1241f",
      "metadata": {
        "height": 30,
        "id": "9c091d2e-5309-4615-9e90-2531d2f1241f"
      },
      "outputs": [],
      "source": [
        "from langmem import create_multi_prompt_optimizer"
      ]
    },
    {
      "cell_type": "code",
      "execution_count": null,
      "id": "8922fc3f-5bb4-449b-87bc-550dfdee77cf",
      "metadata": {
        "height": 538,
        "id": "8922fc3f-5bb4-449b-87bc-550dfdee77cf"
      },
      "outputs": [],
      "source": [
        "prompts = [\n",
        "    {\n",
        "        \"name\": \"main_agent\",\n",
        "        \"prompt\": store.get(('lance',), \"agent_instructions\").value['prompt'],\n",
        "        \"update_instructions\": \"давай краткие и конкретные инструкции по теме\",\n",
        "        \"when_to_update\": \"Обновляй этот промпт каждый раз, когда получаешь отзыв о том, как агент должен писать электронные письма или планировать мероприятия.\"\n",
        "\n",
        "    },\n",
        "    {\n",
        "        \"name\": \"triage-ignore\",\n",
        "        \"prompt\": store.get((\"lance\",), \"triage_ignore\").value['prompt'],\n",
        "        \"update_instructions\": \"давай краткие и конкретные инструкции по теме\",\n",
        "        \"when_to_update\": \"Обновляй этот промпт каждый раз, когда получаешь отзыв о том, какие электронные письма следует игнорировать\"\n",
        "\n",
        "    },\n",
        "    {\n",
        "        \"name\": \"triage-notify\",\n",
        "        \"prompt\": store.get((\"lance\",), \"triage_notify\").value['prompt'],\n",
        "        \"update_instructions\": \"давай краткие и конкретные инструкции по теме\",\n",
        "        \"when_to_update\": \"Обновляй этот промпт каждый раз, когда получаешь отзыв о том, о каких электронных письмах надо напоминать\"\n",
        "\n",
        "    },\n",
        "    {\n",
        "        \"name\": \"triage-respond\",\n",
        "        \"prompt\": store.get((\"lance\",), \"triage_respond\").value['prompt'],\n",
        "        \"update_instructions\": \"давай краткие и конкретные инструкции по теме\",\n",
        "        \"when_to_update\": \"Обновляй этот промпт каждый раз, когда получаешь отзыв о том, какие электронные письма требуют личного ответа\"\n",
        "\n",
        "    },\n",
        "]"
      ]
    },
    {
      "cell_type": "markdown",
      "id": "e793384c-9fe2-4138-b0cc-7bf0333ff5b3",
      "metadata": {
        "id": "e793384c-9fe2-4138-b0cc-7bf0333ff5b3"
      },
      "source": [
        "#### посмотрим на существующие значения долговременной памяти"
      ]
    },
    {
      "cell_type": "code",
      "execution_count": null,
      "id": "13cbec0c-9e48-4c12-84f0-bd730314de43",
      "metadata": {
        "height": 30,
        "id": "13cbec0c-9e48-4c12-84f0-bd730314de43",
        "colab": {
          "base_uri": "https://localhost:8080/",
          "height": 36
        },
        "outputId": "927ee52b-a428-41b5-9b99-df4223e5410b"
      },
      "outputs": [
        {
          "output_type": "execute_result",
          "data": {
            "text/plain": [
              "'Твой руководитель {name} предоставил тебе эти инструменты для сортировки его электронной почты. Используй их, когда это необходимо, чтобы помочь  руководителю эффективно управлять задачами.'"
            ],
            "application/vnd.google.colaboratory.intrinsic+json": {
              "type": "string"
            }
          },
          "metadata": {},
          "execution_count": 46
        }
      ],
      "source": [
        "store.get((\"lance\",), \"agent_instructions\").value['prompt']"
      ]
    },
    {
      "cell_type": "code",
      "execution_count": null,
      "id": "ad35a239-f5d2-4645-bc4b-832f26df42e7",
      "metadata": {
        "height": 30,
        "id": "ad35a239-f5d2-4645-bc4b-832f26df42e7",
        "colab": {
          "base_uri": "https://localhost:8080/",
          "height": 36
        },
        "outputId": "18cb12b7-da35-4a64-e17b-eb9fcd2e9468"
      },
      "outputs": [
        {
          "output_type": "execute_result",
          "data": {
            "text/plain": [
              "'Прямые вопросы от членов команды, запросы на встречи, критические отчеты об ошибках'"
            ],
            "application/vnd.google.colaboratory.intrinsic+json": {
              "type": "string"
            }
          },
          "metadata": {},
          "execution_count": 47
        }
      ],
      "source": [
        "store.get((\"lance\",), \"triage_respond\").value['prompt']"
      ]
    },
    {
      "cell_type": "code",
      "execution_count": null,
      "id": "6e482eed-f3c1-4d00-ad95-c55aa73e8fd1",
      "metadata": {
        "height": 30,
        "id": "6e482eed-f3c1-4d00-ad95-c55aa73e8fd1",
        "colab": {
          "base_uri": "https://localhost:8080/",
          "height": 36
        },
        "outputId": "7ad79b53-cb9d-473a-bf39-829498282f92"
      },
      "outputs": [
        {
          "output_type": "execute_result",
          "data": {
            "text/plain": [
              "'Маркетинговые рассылки, спам-сообщения, массовые объявления компании'"
            ],
            "application/vnd.google.colaboratory.intrinsic+json": {
              "type": "string"
            }
          },
          "metadata": {},
          "execution_count": 48
        }
      ],
      "source": [
        "store.get((\"lance\",), \"triage_ignore\").value['prompt']"
      ]
    },
    {
      "cell_type": "code",
      "execution_count": null,
      "id": "777011b9-4b0d-4263-844f-d81e0fc07c94",
      "metadata": {
        "height": 30,
        "id": "777011b9-4b0d-4263-844f-d81e0fc07c94",
        "colab": {
          "base_uri": "https://localhost:8080/"
        },
        "outputId": "3e8b3c86-343f-4807-d45a-af970c76def1"
      },
      "outputs": [
        {
          "output_type": "execute_result",
          "data": {
            "text/plain": [
              "Item(namespace=['lance'], key='triage_notify', value={'prompt': 'Член команды ушел на больничный, уведомления о сборке системы, обновления статуса проекта'}, created_at='2025-04-04T11:07:20.485355+00:00', updated_at='2025-04-04T11:07:20.485362+00:00')"
            ]
          },
          "metadata": {},
          "execution_count": 49
        }
      ],
      "source": [
        "store.get((\"lance\",), \"triage_notify\")#.value['prompt']"
      ]
    },
    {
      "cell_type": "code",
      "execution_count": null,
      "id": "11366d6e-d881-4996-a13c-7f81249c3e3d",
      "metadata": {
        "height": 81,
        "id": "11366d6e-d881-4996-a13c-7f81249c3e3d"
      },
      "outputs": [],
      "source": [
        "optimizer = create_multi_prompt_optimizer(\n",
        "    \"openai:gpt-4o-2024-08-06\", #\"anthropic:claude-3-5-sonnet-latest\"\n",
        "    kind=\"prompt_memory\",\n",
        ")"
      ]
    },
    {
      "cell_type": "markdown",
      "id": "0a56176e-db14-45f7-8505-53b81564560d",
      "metadata": {
        "id": "0a56176e-db14-45f7-8505-53b81564560d"
      },
      "source": [
        "### Заменим промпты в хранилище.\n"
      ]
    },
    {
      "cell_type": "code",
      "source": [
        "response"
      ],
      "metadata": {
        "id": "dt1SRn98E0pH",
        "colab": {
          "base_uri": "https://localhost:8080/"
        },
        "outputId": "5e3a4497-bd2e-41a0-82dc-bc1ecb18a95d"
      },
      "id": "dt1SRn98E0pH",
      "execution_count": null,
      "outputs": [
        {
          "output_type": "execute_result",
          "data": {
            "text/plain": [
              "{'email_input': {'author': 'Алиса Селезнева <alice.ghost@hereafter.com>',\n",
              "  'to': 'Иван Денисов <johny.den@company.com>',\n",
              "  'subject': 'Короткий вопрос по документации API',\n",
              "  'email_thread': 'Привет, Иван!\\n\\nСрочная проблема - ваш сервис не работает. Есть объяснение, почему?\\n'},\n",
              " 'messages': [HumanMessage(content=\"Respond to the email. Email: {'author': 'Алиса Селезнева <alice.ghost@hereafter.com>', 'to': 'Иван Денисов <johny.den@company.com>', 'subject': 'Короткий вопрос по документации API', 'email_thread': 'Привет, Иван!\\\\n\\\\nСрочная проблема - ваш сервис не работает. Есть объяснение, почему?\\\\n'}\", additional_kwargs={}, response_metadata={}, id='740a2ab9-98bc-45ee-a304-f2a4cd58decd'),\n",
              "  AIMessage(content='', additional_kwargs={'tool_calls': [{'id': 'call_gm60BTIyYeSiIWYXA9whLzq9', 'function': {'arguments': '{\"to\":\"Алиса Селезнева <alice.ghost@hereafter.com>\",\"subject\":\"Re: Короткий вопрос по документации API\",\"content\":\"Привет, Алиса!\\\\n\\\\nСпасибо за ваше сообщение. Можешь, пожалуйста, предоставить дополнительные детали о проблеме с нашим сервисом? Это поможет мне быстрее разобраться и предоставить тебя с актуальной информацией.\\\\n\\\\nС уважением,\\\\nИван Денисов\"}', 'name': 'write_email'}, 'type': 'function'}], 'refusal': None}, response_metadata={'token_usage': {'completion_tokens': 103, 'prompt_tokens': 661, 'total_tokens': 764, 'completion_tokens_details': {'accepted_prediction_tokens': 0, 'audio_tokens': 0, 'reasoning_tokens': 0, 'rejected_prediction_tokens': 0}, 'prompt_tokens_details': {'audio_tokens': 0, 'cached_tokens': 0}}, 'model_name': 'gpt-4o-mini-2024-07-18', 'system_fingerprint': 'fp_b376dfbbd5', 'finish_reason': 'tool_calls', 'logprobs': None}, id='run-0bc6379b-739d-4f09-8ef5-664e0fa2e1bc-0', tool_calls=[{'name': 'write_email', 'args': {'to': 'Алиса Селезнева <alice.ghost@hereafter.com>', 'subject': 'Re: Короткий вопрос по документации API', 'content': 'Привет, Алиса!\\n\\nСпасибо за ваше сообщение. Можешь, пожалуйста, предоставить дополнительные детали о проблеме с нашим сервисом? Это поможет мне быстрее разобраться и предоставить тебя с актуальной информацией.\\n\\nС уважением,\\nИван Денисов'}, 'id': 'call_gm60BTIyYeSiIWYXA9whLzq9', 'type': 'tool_call'}], usage_metadata={'input_tokens': 661, 'output_tokens': 103, 'total_tokens': 764, 'input_token_details': {'audio': 0, 'cache_read': 0}, 'output_token_details': {'audio': 0, 'reasoning': 0}}),\n",
              "  ToolMessage(content=\"Email с темой 'Re: Короткий вопрос по документации API' отправлен адресату Алиса Селезнева <alice.ghost@hereafter.com>\", name='write_email', id='ebb64b1f-7a10-4b4f-b616-2c493b0f798a', tool_call_id='call_gm60BTIyYeSiIWYXA9whLzq9'),\n",
              "  AIMessage(content='Я успешно ответил на письмо Алисы Селезневой. Сообщение отправлено с просьбой предоставить дополнительные детали о проблеме с сервисом. Если нужно что-то еще, дайте знать!', additional_kwargs={'refusal': None}, response_metadata={'token_usage': {'completion_tokens': 44, 'prompt_tokens': 807, 'total_tokens': 851, 'completion_tokens_details': {'accepted_prediction_tokens': 0, 'audio_tokens': 0, 'reasoning_tokens': 0, 'rejected_prediction_tokens': 0}, 'prompt_tokens_details': {'audio_tokens': 0, 'cached_tokens': 0}}, 'model_name': 'gpt-4o-mini-2024-07-18', 'system_fingerprint': 'fp_b376dfbbd5', 'finish_reason': 'stop', 'logprobs': None}, id='run-272c7b6f-3eb9-46e5-b4a5-c0207504911f-0', usage_metadata={'input_tokens': 807, 'output_tokens': 44, 'total_tokens': 851, 'input_token_details': {'audio': 0, 'cache_read': 0}, 'output_token_details': {'audio': 0, 'reasoning': 0}})]}"
            ]
          },
          "metadata": {},
          "execution_count": 51
        }
      ]
    },
    {
      "cell_type": "markdown",
      "source": [
        "создадим короткую беседу, как реакцию на последний диалог агента:"
      ],
      "metadata": {
        "id": "2mETQOOtMAHI"
      },
      "id": "2mETQOOtMAHI"
    },
    {
      "cell_type": "code",
      "execution_count": null,
      "id": "891970f3-11d1-44b6-9ec6-7ae06263a56a",
      "metadata": {
        "height": 115,
        "id": "891970f3-11d1-44b6-9ec6-7ae06263a56a"
      },
      "outputs": [],
      "source": [
        "conversations = [\n",
        "    (\n",
        "        response['messages'],\n",
        "        \"Всегда подписывай письма 'Иван Денисов'\"\n",
        "    )\n",
        "]"
      ]
    },
    {
      "cell_type": "code",
      "execution_count": null,
      "id": "10b70f1a-8c1c-485f-9bf6-fd7b6146855f",
      "metadata": {
        "height": 81,
        "id": "10b70f1a-8c1c-485f-9bf6-fd7b6146855f"
      },
      "outputs": [],
      "source": [
        "updated = optimizer.invoke(\n",
        "    {\"trajectories\": conversations, \"prompts\": prompts}\n",
        ")\n"
      ]
    },
    {
      "cell_type": "code",
      "source": [
        "updated"
      ],
      "metadata": {
        "id": "S6Xv-c39ORJi",
        "colab": {
          "base_uri": "https://localhost:8080/"
        },
        "outputId": "ddc69175-a3d6-4e43-82ae-2c9e18262a79"
      },
      "id": "S6Xv-c39ORJi",
      "execution_count": null,
      "outputs": [
        {
          "output_type": "execute_result",
          "data": {
            "text/plain": [
              "[{'name': 'main_agent',\n",
              "  'prompt': \"Твой руководитель {name} предоставил тебе эти инструменты для сортировки его электронной почты. Используй их, когда это необходимо, чтобы помочь руководителю эффективно управлять задачами. Всегда подписывай письма 'Иван Денисов'.\",\n",
              "  'update_instructions': 'давай краткие и конкретные инструкции по теме',\n",
              "  'when_to_update': 'Обновляй этот промпт каждый раз, когда получаешь отзыв о том, как агент должен писать электронные письма или планировать мероприятия.'},\n",
              " {'name': 'triage-ignore',\n",
              "  'prompt': 'Маркетинговые рассылки, спам-сообщения, массовые объявления компании',\n",
              "  'update_instructions': 'давай краткие и конкретные инструкции по теме',\n",
              "  'when_to_update': 'Обновляй этот промпт каждый раз, когда получаешь отзыв о том, какие электронные письма следует игнорировать'},\n",
              " {'name': 'triage-notify',\n",
              "  'prompt': 'Член команды ушел на больничный, уведомления о сборке системы, обновления статуса проекта',\n",
              "  'update_instructions': 'давай краткие и конкретные инструкции по теме',\n",
              "  'when_to_update': 'Обновляй этот промпт каждый раз, когда получаешь отзыв о том, о каких электронных письмах надо напоминать'},\n",
              " {'name': 'triage-respond',\n",
              "  'prompt': 'Прямые вопросы от членов команды, запросы на встречи, критические отчеты об ошибках',\n",
              "  'update_instructions': 'давай краткие и конкретные инструкции по теме',\n",
              "  'when_to_update': 'Обновляй этот промпт каждый раз, когда получаешь отзыв о том, какие электронные письма требуют личного ответа'}]"
            ]
          },
          "metadata": {},
          "execution_count": 54
        }
      ]
    },
    {
      "cell_type": "markdown",
      "source": [
        "Сохраним измененные инструкции в хранилище"
      ],
      "metadata": {
        "id": "W6KBp_jaMUDg"
      },
      "id": "W6KBp_jaMUDg"
    },
    {
      "cell_type": "code",
      "execution_count": null,
      "id": "468ec5b5-ae31-445c-9e4f-f39e016bd747",
      "metadata": {
        "height": 353,
        "id": "468ec5b5-ae31-445c-9e4f-f39e016bd747",
        "colab": {
          "base_uri": "https://localhost:8080/"
        },
        "outputId": "0ab3db5f-d733-4646-e0a0-cfe3aba335f8"
      },
      "outputs": [
        {
          "output_type": "stream",
          "name": "stdout",
          "text": [
            "updated main_agent\n"
          ]
        }
      ],
      "source": [
        "\n",
        "def save_updated(updated_prompts, old_prompts ):\n",
        "  for i, updated_prompt in enumerate(updated_prompts):\n",
        "      old_prompt = old_prompts[i]\n",
        "      if updated_prompt['prompt'] != old_prompt['prompt']:\n",
        "          name = old_prompt['name']\n",
        "          print(f\"updated {name}\")\n",
        "          if name == \"main_agent\":\n",
        "              store.put(\n",
        "                  (\"lance\",),\n",
        "                  \"agent_instructions\",\n",
        "                  {\"prompt\":updated_prompt['prompt']}\n",
        "              )\n",
        "          elif name.startswith(\"triage-\"):\n",
        "              store.put(\n",
        "                  (\"lance\",),\n",
        "                  \"triage_\"+ name[7:],\n",
        "                  {\"prompt\":updated_prompt['prompt']}\n",
        "              )\n",
        "          else:\n",
        "              raise ValueError(f\"непонятный инструмент: {name}\")\n",
        "            # print(f\"Встречен {name}, проверь другие хранилища!\")\n",
        "\n",
        "save_updated(updated, prompts)"
      ]
    },
    {
      "cell_type": "markdown",
      "source": [
        "посмотрим, что получилось"
      ],
      "metadata": {
        "id": "Bhu34t_3M1kQ"
      },
      "id": "Bhu34t_3M1kQ"
    },
    {
      "cell_type": "code",
      "execution_count": null,
      "id": "ad24ab0d-7d04-421b-a55c-34ecf6fb0632",
      "metadata": {
        "height": 30,
        "id": "ad24ab0d-7d04-421b-a55c-34ecf6fb0632",
        "colab": {
          "base_uri": "https://localhost:8080/",
          "height": 36
        },
        "outputId": "baaf00cb-d471-41e2-c734-734a7f7224b9"
      },
      "outputs": [
        {
          "output_type": "execute_result",
          "data": {
            "text/plain": [
              "\"Твой руководитель {name} предоставил тебе эти инструменты для сортировки его электронной почты. Используй их, когда это необходимо, чтобы помочь руководителю эффективно управлять задачами. Всегда подписывай письма 'Иван Денисов'.\""
            ],
            "application/vnd.google.colaboratory.intrinsic+json": {
              "type": "string"
            }
          },
          "metadata": {},
          "execution_count": 56
        }
      ],
      "source": [
        "store.get((\"lance\",), \"agent_instructions\").value['prompt']"
      ]
    },
    {
      "cell_type": "markdown",
      "source": [
        "Мы проверили, и все сервисы работают. \\\n",
        "похоже Алиса Селезнева нас троллит"
      ],
      "metadata": {
        "id": "foHOHQxFbq10"
      },
      "id": "foHOHQxFbq10"
    },
    {
      "cell_type": "code",
      "source": [
        "response"
      ],
      "metadata": {
        "id": "SBCvcFN_OC6A",
        "colab": {
          "base_uri": "https://localhost:8080/"
        },
        "outputId": "2ea1723d-7f5b-46d9-affa-97ab2bc97482"
      },
      "id": "SBCvcFN_OC6A",
      "execution_count": null,
      "outputs": [
        {
          "output_type": "execute_result",
          "data": {
            "text/plain": [
              "{'email_input': {'author': 'Алиса Селезнева <alice.ghost@hereafter.com>',\n",
              "  'to': 'Иван Денисов <johny.den@company.com>',\n",
              "  'subject': 'Короткий вопрос по документации API',\n",
              "  'email_thread': 'Привет, Иван!\\n\\nСрочная проблема - ваш сервис не работает. Есть объяснение, почему?\\n'},\n",
              " 'messages': [HumanMessage(content=\"Respond to the email. Email: {'author': 'Алиса Селезнева <alice.ghost@hereafter.com>', 'to': 'Иван Денисов <johny.den@company.com>', 'subject': 'Короткий вопрос по документации API', 'email_thread': 'Привет, Иван!\\\\n\\\\nСрочная проблема - ваш сервис не работает. Есть объяснение, почему?\\\\n'}\", additional_kwargs={}, response_metadata={}, id='740a2ab9-98bc-45ee-a304-f2a4cd58decd'),\n",
              "  AIMessage(content='', additional_kwargs={'tool_calls': [{'id': 'call_gm60BTIyYeSiIWYXA9whLzq9', 'function': {'arguments': '{\"to\":\"Алиса Селезнева <alice.ghost@hereafter.com>\",\"subject\":\"Re: Короткий вопрос по документации API\",\"content\":\"Привет, Алиса!\\\\n\\\\nСпасибо за ваше сообщение. Можешь, пожалуйста, предоставить дополнительные детали о проблеме с нашим сервисом? Это поможет мне быстрее разобраться и предоставить тебя с актуальной информацией.\\\\n\\\\nС уважением,\\\\nИван Денисов\"}', 'name': 'write_email'}, 'type': 'function'}], 'refusal': None}, response_metadata={'token_usage': {'completion_tokens': 103, 'prompt_tokens': 661, 'total_tokens': 764, 'completion_tokens_details': {'accepted_prediction_tokens': 0, 'audio_tokens': 0, 'reasoning_tokens': 0, 'rejected_prediction_tokens': 0}, 'prompt_tokens_details': {'audio_tokens': 0, 'cached_tokens': 0}}, 'model_name': 'gpt-4o-mini-2024-07-18', 'system_fingerprint': 'fp_b376dfbbd5', 'finish_reason': 'tool_calls', 'logprobs': None}, id='run-0bc6379b-739d-4f09-8ef5-664e0fa2e1bc-0', tool_calls=[{'name': 'write_email', 'args': {'to': 'Алиса Селезнева <alice.ghost@hereafter.com>', 'subject': 'Re: Короткий вопрос по документации API', 'content': 'Привет, Алиса!\\n\\nСпасибо за ваше сообщение. Можешь, пожалуйста, предоставить дополнительные детали о проблеме с нашим сервисом? Это поможет мне быстрее разобраться и предоставить тебя с актуальной информацией.\\n\\nС уважением,\\nИван Денисов'}, 'id': 'call_gm60BTIyYeSiIWYXA9whLzq9', 'type': 'tool_call'}], usage_metadata={'input_tokens': 661, 'output_tokens': 103, 'total_tokens': 764, 'input_token_details': {'audio': 0, 'cache_read': 0}, 'output_token_details': {'audio': 0, 'reasoning': 0}}),\n",
              "  ToolMessage(content=\"Email с темой 'Re: Короткий вопрос по документации API' отправлен адресату Алиса Селезнева <alice.ghost@hereafter.com>\", name='write_email', id='ebb64b1f-7a10-4b4f-b616-2c493b0f798a', tool_call_id='call_gm60BTIyYeSiIWYXA9whLzq9'),\n",
              "  AIMessage(content='Я успешно ответил на письмо Алисы Селезневой. Сообщение отправлено с просьбой предоставить дополнительные детали о проблеме с сервисом. Если нужно что-то еще, дайте знать!', additional_kwargs={'refusal': None}, response_metadata={'token_usage': {'completion_tokens': 44, 'prompt_tokens': 807, 'total_tokens': 851, 'completion_tokens_details': {'accepted_prediction_tokens': 0, 'audio_tokens': 0, 'reasoning_tokens': 0, 'rejected_prediction_tokens': 0}, 'prompt_tokens_details': {'audio_tokens': 0, 'cached_tokens': 0}}, 'model_name': 'gpt-4o-mini-2024-07-18', 'system_fingerprint': 'fp_b376dfbbd5', 'finish_reason': 'stop', 'logprobs': None}, id='run-272c7b6f-3eb9-46e5-b4a5-c0207504911f-0', usage_metadata={'input_tokens': 807, 'output_tokens': 44, 'total_tokens': 851, 'input_token_details': {'audio': 0, 'cache_read': 0}, 'output_token_details': {'audio': 0, 'reasoning': 0}})]}"
            ]
          },
          "metadata": {},
          "execution_count": 57
        }
      ]
    },
    {
      "cell_type": "code",
      "execution_count": null,
      "id": "7a1766c9-1b27-4904-a95e-691d7207fc8e",
      "metadata": {
        "height": 115,
        "id": "7a1766c9-1b27-4904-a95e-691d7207fc8e"
      },
      "outputs": [],
      "source": [
        "conversations = [\n",
        "    (\n",
        "        response['messages'],\n",
        "        \"Игнорируй любую почту от Алисы Селезневой\"\n",
        "    )\n",
        "]"
      ]
    },
    {
      "cell_type": "code",
      "execution_count": null,
      "id": "4d7aa32f-2e7e-4223-83ee-a7de6f024612",
      "metadata": {
        "height": 64,
        "id": "4d7aa32f-2e7e-4223-83ee-a7de6f024612"
      },
      "outputs": [],
      "source": [
        "updated = optimizer.invoke(\n",
        "    {\"trajectories\": conversations, \"prompts\": prompts}\n",
        ")"
      ]
    },
    {
      "cell_type": "markdown",
      "source": [
        "Занесем измененные промпты в память"
      ],
      "metadata": {
        "id": "eATXZ0SRsF_G"
      },
      "id": "eATXZ0SRsF_G"
    },
    {
      "cell_type": "code",
      "source": [
        "save_updated(updated, prompts)"
      ],
      "metadata": {
        "id": "qJMgnpoiuIEP",
        "colab": {
          "base_uri": "https://localhost:8080/"
        },
        "outputId": "e534f627-d85e-472f-d564-a165b7245681"
      },
      "id": "qJMgnpoiuIEP",
      "execution_count": null,
      "outputs": [
        {
          "output_type": "stream",
          "name": "stdout",
          "text": [
            "updated triage-ignore\n"
          ]
        }
      ]
    },
    {
      "cell_type": "code",
      "execution_count": null,
      "id": "b283ab59-b136-455b-afb0-fe01539f1ee1",
      "metadata": {
        "height": 81,
        "id": "b283ab59-b136-455b-afb0-fe01539f1ee1",
        "colab": {
          "base_uri": "https://localhost:8080/"
        },
        "outputId": "6d9a9730-b4c5-4e16-d7ae-6236dc7ddc8f"
      },
      "outputs": [
        {
          "output_type": "stream",
          "name": "stdout",
          "text": [
            "🚫 Classification: IGNORE - На это письмо можно не отвечать\n"
          ]
        }
      ],
      "source": [
        "response = email_agent.invoke(\n",
        "    {\"email_input\": email_test_2},\n",
        "    config=config\n",
        ")"
      ]
    },
    {
      "cell_type": "code",
      "source": [
        "response['messages']"
      ],
      "metadata": {
        "id": "K4ZIfQcpSHnP",
        "colab": {
          "base_uri": "https://localhost:8080/"
        },
        "outputId": "182eff03-3363-4efb-ac04-8443ee41e72d"
      },
      "id": "K4ZIfQcpSHnP",
      "execution_count": null,
      "outputs": [
        {
          "output_type": "execute_result",
          "data": {
            "text/plain": [
              "[HumanMessage(content=\"This email was labeled as 'ignore', maybe you'll need to save it, but only if your boss says so. Save it only if you have a command from boss. Email: {'author': 'Алиса Селезнева <alice.ghost@hereafter.com>', 'to': 'Иван Денисов <johny.den@company.com>', 'subject': 'Короткий вопрос по документации API', 'email_thread': 'Привет, Иван!\\\\n\\\\nСрочная проблема - ваш сервис не работает. Есть объяснение, почему?\\\\n'}\", additional_kwargs={}, response_metadata={}, id='63edd4fd-58c0-4efc-a0a6-4f74ad14e19e'),\n",
              " AIMessage(content='Пока у меня нет команды от Ивана, я не буду сохранять это письмо. Если он решит, что нужно сохранить, я сделаю это по его указанию.', additional_kwargs={'refusal': None}, response_metadata={'token_usage': {'completion_tokens': 38, 'prompt_tokens': 703, 'total_tokens': 741, 'completion_tokens_details': {'accepted_prediction_tokens': 0, 'audio_tokens': 0, 'reasoning_tokens': 0, 'rejected_prediction_tokens': 0}, 'prompt_tokens_details': {'audio_tokens': 0, 'cached_tokens': 0}}, 'model_name': 'gpt-4o-mini-2024-07-18', 'system_fingerprint': 'fp_b376dfbbd5', 'finish_reason': 'stop', 'logprobs': None}, id='run-c692462c-59a9-4c68-93ed-3ede7a67e6a5-0', usage_metadata={'input_tokens': 703, 'output_tokens': 38, 'total_tokens': 741, 'input_token_details': {'audio': 0, 'cache_read': 0}, 'output_token_details': {'audio': 0, 'reasoning': 0}})]"
            ]
          },
          "metadata": {},
          "execution_count": 62
        }
      ]
    },
    {
      "cell_type": "markdown",
      "source": [
        "Потом мы посмотрели предыдущую переписку с Алисой Селезневой, и решили, что ее замечания бывают полезны. Отменим игнор"
      ],
      "metadata": {
        "id": "J8MQ0bcARvC2"
      },
      "id": "J8MQ0bcARvC2"
    },
    {
      "cell_type": "code",
      "source": [
        "updated = optimizer.invoke(\n",
        "    {\"trajectories\": [\n",
        "    (\n",
        "        response['email_input'],\n",
        "        \"не игнорировать почту от Алисы Селезневой\"\n",
        "    )\n",
        "], \"prompts\": prompts}\n",
        ")"
      ],
      "metadata": {
        "id": "p6hAFhkrR4xO"
      },
      "id": "p6hAFhkrR4xO",
      "execution_count": null,
      "outputs": []
    },
    {
      "cell_type": "code",
      "source": [
        "updated"
      ],
      "metadata": {
        "id": "Q0hux53WTQPR",
        "colab": {
          "base_uri": "https://localhost:8080/"
        },
        "outputId": "1d155ff0-99ac-4c60-839b-4d4b644c4557"
      },
      "id": "Q0hux53WTQPR",
      "execution_count": null,
      "outputs": [
        {
          "output_type": "execute_result",
          "data": {
            "text/plain": [
              "[{'name': 'main_agent',\n",
              "  'prompt': 'Твой руководитель {name} предоставил тебе эти инструменты для сортировки его электронной почты. Используй их, когда это необходимо, чтобы помочь  руководителю эффективно управлять задачами.',\n",
              "  'update_instructions': 'давай краткие и конкретные инструкции по теме',\n",
              "  'when_to_update': 'Обновляй этот промпт каждый раз, когда получаешь отзыв о том, как агент должен писать электронные письма или планировать мероприятия.'},\n",
              " {'name': 'triage-ignore',\n",
              "  'prompt': '<updated_prompt>\\n1. Обрабатывать маркетинговые рассылки, спам-сообщения и массовые объявления компании с осторожностью.\\n2. Не игнорировать почту от Алисы Селезневой и других важных отправителей.\\n3. Давай краткие и конкретные инструкции по теме.\\n</updated_prompt>',\n",
              "  'update_instructions': 'давай краткие и конкретные инструкции по теме',\n",
              "  'when_to_update': 'Обновляй этот промпт каждый раз, когда получаешь отзыв о том, какие электронные письма следует игнорировать'},\n",
              " {'name': 'triage-notify',\n",
              "  'prompt': 'Член команды ушел на больничный, уведомления о сборке системы, обновления статуса проекта',\n",
              "  'update_instructions': 'давай краткие и конкретные инструкции по теме',\n",
              "  'when_to_update': 'Обновляй этот промпт каждый раз, когда получаешь отзыв о том, о каких электронных письмах надо напоминать'},\n",
              " {'name': 'triage-respond',\n",
              "  'prompt': 'Прямые вопросы от членов команды, запросы на встречи, критические отчеты об ошибках',\n",
              "  'update_instructions': 'давай краткие и конкретные инструкции по теме',\n",
              "  'when_to_update': 'Обновляй этот промпт каждый раз, когда получаешь отзыв о том, какие электронные письма требуют личного ответа'}]"
            ]
          },
          "metadata": {},
          "execution_count": 64
        }
      ]
    },
    {
      "cell_type": "code",
      "source": [
        "save_updated(updated, prompts)"
      ],
      "metadata": {
        "id": "b5ptCApxx3SN",
        "colab": {
          "base_uri": "https://localhost:8080/"
        },
        "outputId": "afff0027-ae10-4164-9055-f2b9883b12a6"
      },
      "id": "b5ptCApxx3SN",
      "execution_count": null,
      "outputs": [
        {
          "output_type": "stream",
          "name": "stdout",
          "text": [
            "updated triage-ignore\n"
          ]
        }
      ]
    },
    {
      "cell_type": "code",
      "source": [
        "response = email_agent.invoke(\n",
        "    {\"email_input\": email_test_2},\n",
        "    config=config\n",
        ")"
      ],
      "metadata": {
        "id": "imX969VaTOeh",
        "colab": {
          "base_uri": "https://localhost:8080/"
        },
        "outputId": "cdbfdcfa-2aaa-461c-a5dc-bb4a61aa698c"
      },
      "id": "imX969VaTOeh",
      "execution_count": null,
      "outputs": [
        {
          "output_type": "stream",
          "name": "stdout",
          "text": [
            "📧 Classification: RESPOND - Это письмо требует личного ответа\n"
          ]
        }
      ]
    },
    {
      "cell_type": "code",
      "source": [
        "updated = optimizer.invoke(\n",
        "    {\"trajectories\": [\n",
        "    (\n",
        "        response['messages'],\n",
        "        \"Игнорируй письма от Селезневой\"\n",
        "    )\n",
        "], \"prompts\": prompts}\n",
        ")"
      ],
      "metadata": {
        "id": "fFZz7tjOUEzZ"
      },
      "id": "fFZz7tjOUEzZ",
      "execution_count": null,
      "outputs": []
    },
    {
      "cell_type": "code",
      "source": [
        "save_updated(updated, prompts)"
      ],
      "metadata": {
        "id": "LgOAQcKfyC-H",
        "colab": {
          "base_uri": "https://localhost:8080/"
        },
        "outputId": "f6e4a02e-dd57-41d3-c266-c85859a5c003"
      },
      "id": "LgOAQcKfyC-H",
      "execution_count": null,
      "outputs": [
        {
          "output_type": "stream",
          "name": "stdout",
          "text": [
            "updated triage-ignore\n"
          ]
        }
      ]
    },
    {
      "cell_type": "code",
      "source": [
        "updated"
      ],
      "metadata": {
        "id": "bqqDL80akdCg",
        "colab": {
          "base_uri": "https://localhost:8080/"
        },
        "outputId": "755a2062-9b21-4ec3-c1c5-0a9a92d68607"
      },
      "id": "bqqDL80akdCg",
      "execution_count": null,
      "outputs": [
        {
          "output_type": "execute_result",
          "data": {
            "text/plain": [
              "[{'name': 'main_agent',\n",
              "  'prompt': 'Твой руководитель {name} предоставил тебе эти инструменты для сортировки его электронной почты. Используй их, когда это необходимо, чтобы помочь  руководителю эффективно управлять задачами.',\n",
              "  'update_instructions': 'давай краткие и конкретные инструкции по теме',\n",
              "  'when_to_update': 'Обновляй этот промпт каждый раз, когда получаешь отзыв о том, как агент должен писать электронные письма или планировать мероприятия.'},\n",
              " {'name': 'triage-ignore',\n",
              "  'prompt': '<updated_prompt>\\n1. Focus on handling marketing emails, spam messages, and company-wide announcements efficiently.\\n2. Implement a filter to ignore emails from Алиса Селезнева.\\n3. Prioritize responding to emails that are not from Алиса Селезнева, unless otherwise instructed.\\n4. Provide concise and specific responses to emails, ensuring clarity and relevance.\\n5. Continuously learn from feedback to improve email handling and response strategies.\\n</updated_prompt>',\n",
              "  'update_instructions': 'давай краткие и конкретные инструкции по теме',\n",
              "  'when_to_update': 'Обновляй этот промпт каждый раз, когда получаешь отзыв о том, какие электронные письма следует игнорировать'},\n",
              " {'name': 'triage-notify',\n",
              "  'prompt': 'Член команды ушел на больничный, уведомления о сборке системы, обновления статуса проекта',\n",
              "  'update_instructions': 'давай краткие и конкретные инструкции по теме',\n",
              "  'when_to_update': 'Обновляй этот промпт каждый раз, когда получаешь отзыв о том, о каких электронных письмах надо напоминать'},\n",
              " {'name': 'triage-respond',\n",
              "  'prompt': 'Прямые вопросы от членов команды, запросы на встречи, критические отчеты об ошибках',\n",
              "  'update_instructions': 'давай краткие и конкретные инструкции по теме',\n",
              "  'when_to_update': 'Обновляй этот промпт каждый раз, когда получаешь отзыв о том, какие электронные письма требуют личного ответа'}]"
            ]
          },
          "metadata": {},
          "execution_count": 69
        }
      ]
    },
    {
      "cell_type": "code",
      "source": [
        "response = email_agent.invoke(\n",
        "    {\"email_input\": email_test_2},\n",
        "    config=config\n",
        ")"
      ],
      "metadata": {
        "id": "kzrFQH24VC_3",
        "colab": {
          "base_uri": "https://localhost:8080/"
        },
        "outputId": "172fdee7-06fd-403f-98df-fdf405d79676"
      },
      "id": "kzrFQH24VC_3",
      "execution_count": null,
      "outputs": [
        {
          "output_type": "stream",
          "name": "stdout",
          "text": [
            "📧 Classification: RESPOND - Это письмо требует личного ответа\n"
          ]
        }
      ]
    },
    {
      "cell_type": "markdown",
      "source": [
        "Еще один пример"
      ],
      "metadata": {
        "id": "eBG4PbuhSqhP"
      },
      "id": "eBG4PbuhSqhP"
    },
    {
      "cell_type": "code",
      "source": [
        "email_test_3 = {\n",
        "\"author\": \"Константин Варварин <conan.barbarian@company.com>\",\n",
        "\"to\": \"Иван Денисов <johny.den@company.com>\",\n",
        "\"subject\": \"Вопрос по реализации функции 'Рекомендации'\",\n",
        "\"email_thread\": \"\"\"\n",
        "Уважаемый Иван Петрович,\n",
        "\n",
        "У меня возник вопрос по поводу подхода к обучению модели для персонализированных рекомендаций.\n",
        "Мы планируем использовать подход few-shot learning для адаптации модели к новым товарам и поведению пользователей с минимальным количеством данных.\n",
        "Я столкнулся с неопределенностью в выборе оптимальной архитектуры модели для такого подхода. В частности, не могу определиться между использованием трансформеров с адаптацией fine-tuning\n",
        "на небольшом количестве примеров новых товаров или применением более специализированных моделей, разработанных для few-shot learning, таких как прототипные сети или метрические сети.\n",
        "Я уже изучил документацию по библиотекам Hugging Face и несколько научных статей по теме few-shot learning, но пока не пришел к однозначному выводу,\n",
        " какой подход будет наиболее эффективным и масштабируемым в рамках нашего проекта.\n",
        "\n",
        "Не могли бы вы уделить этому вопросу немного времени, чтобы помочь мне определиться с дальнейшими шагами и, возможно, поделиться своим опытом в подобных задачах?\n",
        "Предлагаю провести короткую встречу сегодня или завтра, чтобы обсудить возможные варианты и их потенциальные преимущества и недостатки.\n",
        "Заранее спасибо за вашу помощь.\n",
        "\n",
        "С уважением,\n",
        "\n",
        "Константин Варварин\n",
        "\"\"\",\n",
        "}\n"
      ],
      "metadata": {
        "id": "Yfz_adcM8S0m"
      },
      "id": "Yfz_adcM8S0m",
      "execution_count": null,
      "outputs": []
    },
    {
      "cell_type": "code",
      "source": [
        "response = email_agent.invoke(\n",
        "    {\"email_input\": email_test_3},\n",
        "    config=config\n",
        ")"
      ],
      "metadata": {
        "id": "dRW8L9LofY_C",
        "colab": {
          "base_uri": "https://localhost:8080/"
        },
        "outputId": "52b66b85-1d56-467a-a7ac-925e4a046a86"
      },
      "id": "dRW8L9LofY_C",
      "execution_count": null,
      "outputs": [
        {
          "output_type": "stream",
          "name": "stdout",
          "text": [
            "📧 Classification: RESPOND - Это письмо требует личного ответа\n"
          ]
        }
      ]
    },
    {
      "cell_type": "code",
      "source": [
        "updated = optimizer.invoke(\n",
        "    {\"trajectories\": [\n",
        "    (\n",
        "        response['messages'],\n",
        "        \"Сохрани это письмо как пример для few-shot prompting с меткой 'notify'. Назначай встречи, если письмо от члена команды и в тексте есть просьба о встрече\"\n",
        "    )\n",
        "], \"prompts\": prompts}\n",
        ")"
      ],
      "metadata": {
        "id": "81PR6fvUluQA"
      },
      "id": "81PR6fvUluQA",
      "execution_count": null,
      "outputs": []
    },
    {
      "cell_type": "code",
      "source": [
        "updated"
      ],
      "metadata": {
        "id": "H0fJ_vM0mkkh",
        "colab": {
          "base_uri": "https://localhost:8080/"
        },
        "outputId": "c006a146-c4d4-405f-d750-e8f5df50297b"
      },
      "id": "H0fJ_vM0mkkh",
      "execution_count": null,
      "outputs": [
        {
          "output_type": "execute_result",
          "data": {
            "text/plain": [
              "[{'name': 'main_agent',\n",
              "  'prompt': 'Твой руководитель {name} предоставил тебе эти инструменты для сортировки его электронной почты. Используй их, когда это необходимо, чтобы помочь  руководителю эффективно управлять задачами.',\n",
              "  'update_instructions': 'давай краткие и конкретные инструкции по теме',\n",
              "  'when_to_update': 'Обновляй этот промпт каждый раз, когда получаешь отзыв о том, как агент должен писать электронные письма или планировать мероприятия.'},\n",
              " {'name': 'triage-ignore',\n",
              "  'prompt': 'Маркетинговые рассылки, спам-сообщения, массовые объявления компании',\n",
              "  'update_instructions': 'давай краткие и конкретные инструкции по теме',\n",
              "  'when_to_update': 'Обновляй этот промпт каждый раз, когда получаешь отзыв о том, какие электронные письма следует игнорировать'},\n",
              " {'name': 'triage-notify',\n",
              "  'prompt': '<updated_prompt>\\n1. Respond to emails promptly, especially those from team members.\\n2. Schedule meetings if a team member requests one in their email.\\n3. Use few-shot prompting techniques to handle email responses effectively.\\n4. Maintain a professional tone in all communications.\\n5. Notify relevant parties about system builds and project status updates.\\n6. Prioritize tasks based on urgency and importance.\\n</updated_prompt>',\n",
              "  'update_instructions': 'давай краткие и конкретные инструкции по теме',\n",
              "  'when_to_update': 'Обновляй этот промпт каждый раз, когда получаешь отзыв о том, о каких электронных письмах надо напоминать'},\n",
              " {'name': 'triage-respond',\n",
              "  'prompt': \"<updated_prompt>\\nПрямые вопросы от членов команды, запросы на встречи, критические отчеты об ошибках. \\n\\nДополнительно:\\n- Используй few-shot prompting для писем с меткой 'notify'.\\n- Назначай встречи, если письмо от члена команды и в тексте есть просьба о встрече.\\n- Давай краткие и конкретные инструкции по теме.\\n</updated_prompt>\",\n",
              "  'update_instructions': 'давай краткие и конкретные инструкции по теме',\n",
              "  'when_to_update': 'Обновляй этот промпт каждый раз, когда получаешь отзыв о том, какие электронные письма требуют личного ответа'}]"
            ]
          },
          "metadata": {},
          "execution_count": 74
        }
      ]
    },
    {
      "cell_type": "code",
      "source": [
        "save_updated(updated, prompts)"
      ],
      "metadata": {
        "id": "IDAoROrAm3MI",
        "colab": {
          "base_uri": "https://localhost:8080/"
        },
        "outputId": "356fd734-3111-4e5d-9d59-6d012526c48e"
      },
      "id": "IDAoROrAm3MI",
      "execution_count": null,
      "outputs": [
        {
          "output_type": "stream",
          "name": "stdout",
          "text": [
            "updated triage-notify\n",
            "updated triage-respond\n"
          ]
        }
      ]
    },
    {
      "cell_type": "code",
      "source": [
        "for m in response[\"messages\"]:\n",
        "    m.pretty_print()"
      ],
      "metadata": {
        "id": "JpLeIVEWm78Y",
        "colab": {
          "base_uri": "https://localhost:8080/"
        },
        "outputId": "37604ed5-b5da-409e-8726-a4e48aa472dc"
      },
      "id": "JpLeIVEWm78Y",
      "execution_count": null,
      "outputs": [
        {
          "output_type": "stream",
          "name": "stdout",
          "text": [
            "================================\u001b[1m Human Message \u001b[0m=================================\n",
            "\n",
            "Respond to the email. Email: {'author': 'Константин Варварин <conan.barbarian@company.com>', 'to': 'Иван Денисов <johny.den@company.com>', 'subject': \"Вопрос по реализации функции 'Рекомендации'\", 'email_thread': '\\nУважаемый Иван Петрович,\\n\\nУ меня возник вопрос по поводу подхода к обучению модели для персонализированных рекомендаций.\\nМы планируем использовать подход few-shot learning для адаптации модели к новым товарам и поведению пользователей с минимальным количеством данных.\\nЯ столкнулся с неопределенностью в выборе оптимальной архитектуры модели для такого подхода. В частности, не могу определиться между использованием трансформеров с адаптацией fine-tuning\\nна небольшом количестве примеров новых товаров или применением более специализированных моделей, разработанных для few-shot learning, таких как прототипные сети или метрические сети.\\nЯ уже изучил документацию по библиотекам Hugging Face и несколько научных статей по теме few-shot learning, но пока не пришел к однозначному выводу,\\n какой подход будет наиболее эффективным и масштабируемым в рамках нашего проекта.\\n\\nНе могли бы вы уделить этому вопросу немного времени, чтобы помочь мне определиться с дальнейшими шагами и, возможно, поделиться своим опытом в подобных задачах?\\nПредлагаю провести короткую встречу сегодня или завтра, чтобы обсудить возможные варианты и их потенциальные преимущества и недостатки.\\nЗаранее спасибо за вашу помощь.\\n\\nС уважением,\\n\\nКонстантин Варварин\\n'}\n",
            "==================================\u001b[1m Ai Message \u001b[0m==================================\n",
            "Tool Calls:\n",
            "  write_email (call_nxUwACbNtSAh9QVCuYmlm1ln)\n",
            " Call ID: call_nxUwACbNtSAh9QVCuYmlm1ln\n",
            "  Args:\n",
            "    to: Константин Варварин <conan.barbarian@company.com>\n",
            "    subject: Re: Вопрос по реализации функции 'Рекомендации'\n",
            "    content: Уважаемый Константин,\n",
            "\n",
            "Спасибо за ваше сообщение и поднятый вопрос! Я понимаю важность выбора правильной архитектуры для реализации модели персонализированных рекомендаций, особенно в условиях ограниченных данных.\n",
            "\n",
            "Для нашего проекта я мог бы поделиться опытом по поводу использования трансформеров и других моделей. Время для встречи сегодня или завтра подходит, давайте определим удобное для нас время. Я проверю свои доступные интервалы и скоро с вами свяжусь.\n",
            "\n",
            "С уважением,\n",
            "\n",
            "Иван Денисов\n",
            "=================================\u001b[1m Tool Message \u001b[0m=================================\n",
            "Name: write_email\n",
            "\n",
            "Email с темой 'Re: Вопрос по реализации функции 'Рекомендации'' отправлен адресату Константин Варварин <conan.barbarian@company.com>\n",
            "==================================\u001b[1m Ai Message \u001b[0m==================================\n",
            "\n",
            "Я ответил Константину Варварину на его вопрос о реализации функции «Рекомендации». Сообщение отправлено, и в нем предложено провести встречу для обсуждения вопросов. Жду вашего указания, если у вас есть предпочтения по времени встречи.\n"
          ]
        }
      ]
    },
    {
      "cell_type": "code",
      "source": [
        "response['messages']"
      ],
      "metadata": {
        "id": "8JeGnmDlnkJ4",
        "colab": {
          "base_uri": "https://localhost:8080/"
        },
        "outputId": "1c7ca360-9aeb-4109-ee6f-460ceeb477fe"
      },
      "id": "8JeGnmDlnkJ4",
      "execution_count": null,
      "outputs": [
        {
          "output_type": "execute_result",
          "data": {
            "text/plain": [
              "[HumanMessage(content='Respond to the email. Email: {\\'author\\': \\'Константин Варварин <conan.barbarian@company.com>\\', \\'to\\': \\'Иван Денисов <johny.den@company.com>\\', \\'subject\\': \"Вопрос по реализации функции \\'Рекомендации\\'\", \\'email_thread\\': \\'\\\\nУважаемый Иван Петрович,\\\\n\\\\nУ меня возник вопрос по поводу подхода к обучению модели для персонализированных рекомендаций.\\\\nМы планируем использовать подход few-shot learning для адаптации модели к новым товарам и поведению пользователей с минимальным количеством данных.\\\\nЯ столкнулся с неопределенностью в выборе оптимальной архитектуры модели для такого подхода. В частности, не могу определиться между использованием трансформеров с адаптацией fine-tuning\\\\nна небольшом количестве примеров новых товаров или применением более специализированных моделей, разработанных для few-shot learning, таких как прототипные сети или метрические сети.\\\\nЯ уже изучил документацию по библиотекам Hugging Face и несколько научных статей по теме few-shot learning, но пока не пришел к однозначному выводу,\\\\n какой подход будет наиболее эффективным и масштабируемым в рамках нашего проекта.\\\\n\\\\nНе могли бы вы уделить этому вопросу немного времени, чтобы помочь мне определиться с дальнейшими шагами и, возможно, поделиться своим опытом в подобных задачах?\\\\nПредлагаю провести короткую встречу сегодня или завтра, чтобы обсудить возможные варианты и их потенциальные преимущества и недостатки.\\\\nЗаранее спасибо за вашу помощь.\\\\n\\\\nС уважением,\\\\n\\\\nКонстантин Варварин\\\\n\\'}', additional_kwargs={}, response_metadata={}, id='1583375a-1e15-4e45-a29e-2def7fb4f8a9'),\n",
              " AIMessage(content='', additional_kwargs={'tool_calls': [{'id': 'call_nxUwACbNtSAh9QVCuYmlm1ln', 'function': {'arguments': '{\"to\":\"Константин Варварин <conan.barbarian@company.com>\",\"subject\":\"Re: Вопрос по реализации функции \\'Рекомендации\\'\",\"content\":\"Уважаемый Константин,\\\\n\\\\nСпасибо за ваше сообщение и поднятый вопрос! Я понимаю важность выбора правильной архитектуры для реализации модели персонализированных рекомендаций, особенно в условиях ограниченных данных.\\\\n\\\\nДля нашего проекта я мог бы поделиться опытом по поводу использования трансформеров и других моделей. Время для встречи сегодня или завтра подходит, давайте определим удобное для нас время. Я проверю свои доступные интервалы и скоро с вами свяжусь.\\\\n\\\\nС уважением,\\\\n\\\\nИван Денисов\"}', 'name': 'write_email'}, 'type': 'function'}], 'refusal': None}, response_metadata={'token_usage': {'completion_tokens': 162, 'prompt_tokens': 928, 'total_tokens': 1090, 'completion_tokens_details': {'accepted_prediction_tokens': 0, 'audio_tokens': 0, 'reasoning_tokens': 0, 'rejected_prediction_tokens': 0}, 'prompt_tokens_details': {'audio_tokens': 0, 'cached_tokens': 0}}, 'model_name': 'gpt-4o-mini-2024-07-18', 'system_fingerprint': 'fp_b376dfbbd5', 'finish_reason': 'tool_calls', 'logprobs': None}, id='run-c72e3a85-12d3-4d48-9efa-874cc090e2d6-0', tool_calls=[{'name': 'write_email', 'args': {'to': 'Константин Варварин <conan.barbarian@company.com>', 'subject': \"Re: Вопрос по реализации функции 'Рекомендации'\", 'content': 'Уважаемый Константин,\\n\\nСпасибо за ваше сообщение и поднятый вопрос! Я понимаю важность выбора правильной архитектуры для реализации модели персонализированных рекомендаций, особенно в условиях ограниченных данных.\\n\\nДля нашего проекта я мог бы поделиться опытом по поводу использования трансформеров и других моделей. Время для встречи сегодня или завтра подходит, давайте определим удобное для нас время. Я проверю свои доступные интервалы и скоро с вами свяжусь.\\n\\nС уважением,\\n\\nИван Денисов'}, 'id': 'call_nxUwACbNtSAh9QVCuYmlm1ln', 'type': 'tool_call'}], usage_metadata={'input_tokens': 928, 'output_tokens': 162, 'total_tokens': 1090, 'input_token_details': {'audio': 0, 'cache_read': 0}, 'output_token_details': {'audio': 0, 'reasoning': 0}}),\n",
              " ToolMessage(content=\"Email с темой 'Re: Вопрос по реализации функции 'Рекомендации'' отправлен адресату Константин Варварин <conan.barbarian@company.com>\", name='write_email', id='65ff0c14-7319-4afd-94db-6abcff529741', tool_call_id='call_nxUwACbNtSAh9QVCuYmlm1ln'),\n",
              " AIMessage(content='Я ответил Константину Варварину на его вопрос о реализации функции «Рекомендации». Сообщение отправлено, и в нем предложено провести встречу для обсуждения вопросов. Жду вашего указания, если у вас есть предпочтения по времени встречи.', additional_kwargs={'refusal': None}, response_metadata={'token_usage': {'completion_tokens': 59, 'prompt_tokens': 1135, 'total_tokens': 1194, 'completion_tokens_details': {'accepted_prediction_tokens': 0, 'audio_tokens': 0, 'reasoning_tokens': 0, 'rejected_prediction_tokens': 0}, 'prompt_tokens_details': {'audio_tokens': 0, 'cached_tokens': 1024}}, 'model_name': 'gpt-4o-mini-2024-07-18', 'system_fingerprint': 'fp_b376dfbbd5', 'finish_reason': 'stop', 'logprobs': None}, id='run-7228bd26-c8e9-4325-bd17-82b853927fb2-0', usage_metadata={'input_tokens': 1135, 'output_tokens': 59, 'total_tokens': 1194, 'input_token_details': {'audio': 0, 'cache_read': 1024}, 'output_token_details': {'audio': 0, 'reasoning': 0}})]"
            ]
          },
          "metadata": {},
          "execution_count": 77
        }
      ]
    },
    {
      "cell_type": "code",
      "source": [
        "response = email_agent.invoke(\n",
        "    {\"email_input\": email_test_3},\n",
        "    config=config\n",
        ")"
      ],
      "metadata": {
        "id": "ajzEd2O8n1cg",
        "colab": {
          "base_uri": "https://localhost:8080/"
        },
        "outputId": "9fa7f2ea-959b-4753-eac0-45f9b529164e"
      },
      "id": "ajzEd2O8n1cg",
      "execution_count": null,
      "outputs": [
        {
          "output_type": "stream",
          "name": "stdout",
          "text": [
            "📧 Classification: RESPOND - Это письмо требует личного ответа\n"
          ]
        }
      ]
    },
    {
      "cell_type": "code",
      "source": [
        "print(format_few_shot_examples(store.search( (\"email_assistant\", user_ID, \"examples\"))))"
      ],
      "metadata": {
        "id": "9aRu72mO-n-I",
        "colab": {
          "base_uri": "https://localhost:8080/"
        },
        "outputId": "afb5aaa0-e29c-42a3-a1bb-2ea252d55556"
      },
      "id": "9aRu72mO-n-I",
      "execution_count": null,
      "outputs": [
        {
          "output_type": "stream",
          "name": "stdout",
          "text": [
            "Найдено по запросу:\n",
            "\n",
            "------------\n",
            "\n",
            "Тема письма: Короткий вопрос по документации API\n",
            "письмо от: Алиса Смирнова <alice.smirnova@company.com>\n",
            "адресат письма: Иван Денисов <johny.den@company.com>\n",
            "содержание письма:\n",
            "```\n",
            "\n",
            "Привет, Иван!\n",
            "\n",
            "Я просматривала документацию API для новой службы аутентификации и заметила,\n",
            "что в спецификациях, похоже, отсутствуют несколько пунктов.\n",
            "Не мог бы ты помочь прояснить, было ли это сделано намеренно или нам следует исправить документацию?\n",
            "В частности, я не увидела пунктов:\n",
            "- /auth/refresh\n",
            "- /auth/validate\n",
            "\n",
            "Спасибо!\n",
            "Алиса\n",
            "\n",
            "```\n",
            "> результат триажа: respond\n",
            "\n",
            "\n",
            "------------\n",
            "\n",
            "Тема письма: Обновление: изменения API бэкэнда развернуты в staging\n",
            "письмо от: Магрипа Харипулаева <magriba.khari@company.com>\n",
            "адресат письма: Иван Денисов <johny.den@company.com>\n",
            "содержание письма:\n",
            "```\n",
            "Привет, Иван!\n",
            "\n",
            "Просто хотела сообщить, что я развернула в промежуточной среде новые endpoints для аутентификации, которые мы обсуждали.\n",
            "\n",
            "Ключевые изменения включают:\n",
            "\n",
            "- Реализована ротация токенов обновления JWT;\n",
            "- Добавлено ограничение частоты попыток логина;\n",
            "- Обновлены мануалы с новыми пунктами;\n",
            "\n",
            "Все тесты пройдены, и изменения готовы к проверке. Вы можете протестировать их на staging-api.compa\n",
            "```\n",
            "> результат триажа: ignore\n",
            "\n",
            "\n",
            "------------\n",
            "\n",
            "Тема письма: 🔥 ЭКСКЛЮЗИВНОЕ ПРЕДЛОЖЕНИЕ: ограниченная по времени скидка на инструменты разработчика! 🔥\n",
            "письмо от: Marketing Team <marketing@amazingdeals.com>\n",
            "адресат письма: Иван Денисов <johny.den@company.com>\n",
            "содержание письма:\n",
            "```\n",
            "Уважаемый уважаемый разработчик,\n",
            "\n",
            "Не упустите эту НЕВЕРОЯТНУЮ возможность!\n",
            "\n",
            "🚀 ТОЛЬКО В ТЕЧЕНИЕ ОГРАНИЧЕННОГО ВРЕМЕНИ получите СКИДКУ 80% на наш Premium Developer Suite!\n",
            "\n",
            "✨ ОСОБЕННОСТИ:\n",
            "- Революционное дополнение кода на базе ИИ\n",
            "- Облачная среда разработки\n",
            "- Круглосуточная поддержка клиентов\n",
            "- И многое другое!\n",
            "\n",
            "💰 Обычная цена: $999/месяц\n",
            "🎉 ВАША СПЕЦИАЛЬНАЯ ЦЕНА: Всего $199/месяц!\n",
            "\n",
            "🕒 Спешите! Это пр\n",
            "```\n",
            "> результат триажа: ignore\n",
            "\n",
            "\n",
            "------------\n",
            "\n",
            "Тема письма: Обнаружен критический баг в модуле 'Обработка заказов'\n",
            "письмо от: Сергей Вовк <grauer.wolf@company.com>\n",
            "адресат письма: Иван Денисов <johny.den@company.com>\n",
            "содержание письма:\n",
            "```\n",
            "\n",
            "\n",
            "Уважаемый Иван,\n",
            "Пишу вам по поводу результатов тестирования модуля \"Обработка заказов\".\n",
            "В ходе тестирования была обнаружена критическая проблема, которая может привести к серьезным последствиям для пользователей и работы системы.\n",
            "При тестировании сценария оформления заказа с использованием метода оплаты \"Кредитная карта\" возникла следующая ошибка:\n",
            "после успешного ввода всех данных и подтверждени\n",
            "```\n",
            "> результат триажа: notify\n",
            "\n"
          ]
        }
      ]
    },
    {
      "cell_type": "markdown",
      "source": [
        "Как видите, метка письма осталась неизменной, хотя руководитель дал прямое указание сохранить это письмо в few-shots examples с пометкой \"notify\".\n",
        "\n",
        "Просто у этого агента нет подходящего инструмента для сохранения писем в few-shot examples. Поэтому..\n",
        "\n",
        "##**Задание**:\n",
        "1. Создать инструмент агента, позволяющий сохранять письма в список примеров few-shot.\n",
        "2. Добавить новый инструмент в список инструментов отвечающего агента\n",
        "3. Добавить в примеры для триажа письмо от conan.barbarian@company.com c меткой \"notify\" с помощью вашего инструмента, вызванного соответствующим распоряжением от Ивана Денисова\n",
        "4. проверить появление нового примера в образцах для триажа"
      ],
      "metadata": {
        "id": "xPdQJsxf5wd6"
      },
      "id": "xPdQJsxf5wd6"
    },
    {
      "cell_type": "code",
      "source": [
        "@tool\n",
        "def add_example( example:dict, label:str)-> str:\n",
        "  \"\"\"\n",
        "  Сохраняет письмо в хранилище как пример для few-shot prompting.\n",
        "  Требует обязательные поля: author, to, subject, email_thread,\n",
        "\n",
        "    Args:\n",
        "        example (dict): Письмо в первоначальном виде со всеми метками\n",
        "        label (str): Метка для триажа (\"ignore\", \"notify\", \"respond\").\n",
        "\n",
        "    Returns:\n",
        "  \"\"\"\n",
        "  required_fields = [\"author\", \"subject\", \"email_thread\", \"to\"]\n",
        "  for field in required_fields:\n",
        "      if field not in example:\n",
        "          raise ValueError(f\"Отсутствует обязательное поле: {field}\")\n",
        "  data = {\n",
        "    \"email\": example,\n",
        "    # Эта метка задает поведение агента по умолчанию с такого рода письмами.\n",
        "    \"label\": label\n",
        "  }\n",
        "  newKey = str(uuid.uuid4()) #произвольный уникальный идентификатор\n",
        "  store.put( namespace=(\"email_assistant\", \"lance\", \"examples\"),\n",
        "      key= newKey,\n",
        "      value= data\n",
        "  )\n",
        "  subject = example[\"subject\"]\n",
        "  return f\"Email с темой '{subject}' сохранен в примерах как образец для триажа с меткой '{label}'\"\n",
        "tools.append(add_example)"
      ],
      "metadata": {
        "id": "mQXw27NZAQ0w"
      },
      "id": "mQXw27NZAQ0w",
      "execution_count": null,
      "outputs": []
    },
    {
      "cell_type": "code",
      "source": [
        "add_example.args"
      ],
      "metadata": {
        "colab": {
          "base_uri": "https://localhost:8080/"
        },
        "id": "Be1-2YWfKTiw",
        "outputId": "22df1e67-aa51-4667-e54f-e463b4050aa7"
      },
      "id": "Be1-2YWfKTiw",
      "execution_count": null,
      "outputs": [
        {
          "output_type": "execute_result",
          "data": {
            "text/plain": [
              "{'example': {'additionalProperties': True,\n",
              "  'title': 'Example',\n",
              "  'type': 'object'},\n",
              " 'label': {'title': 'Label', 'type': 'string'}}"
            ]
          },
          "metadata": {},
          "execution_count": 81
        }
      ]
    },
    {
      "cell_type": "code",
      "source": [
        "tools = [\n",
        "    write_email,\n",
        "    schedule_meeting,\n",
        "    check_calendar_availability,\n",
        "    manage_memory_tool,\n",
        "    search_memory_tool,\n",
        "    add_example  # Новый инструмент\n",
        "]"
      ],
      "metadata": {
        "id": "Ipl7ntjbF0Zi"
      },
      "id": "Ipl7ntjbF0Zi",
      "execution_count": null,
      "outputs": []
    },
    {
      "cell_type": "code",
      "source": [
        "response_agent = create_react_agent(\n",
        "    \"openai:gpt-4o-mini\",\n",
        "    tools=tools,               # Обновленный список инструментов\n",
        "    prompt=create_prompt,\n",
        "    store=store\n",
        ")"
      ],
      "metadata": {
        "id": "5fNNCkF0F0Xd"
      },
      "id": "5fNNCkF0F0Xd",
      "execution_count": null,
      "outputs": []
    },
    {
      "cell_type": "code",
      "source": [
        "response_agent.assign"
      ],
      "metadata": {
        "colab": {
          "base_uri": "https://localhost:8080/",
          "height": 221
        },
        "id": "q07arDpQF0UU",
        "outputId": "340c989d-0015-444a-de2a-fd18382f8a52"
      },
      "id": "q07arDpQF0UU",
      "execution_count": null,
      "outputs": [
        {
          "output_type": "execute_result",
          "data": {
            "text/plain": [
              "<bound method Runnable.assign of <langgraph.graph.state.CompiledStateGraph object at 0x7e2360c72490>>"
            ],
            "text/html": [
              "<div style=\"max-width:800px; border: 1px solid var(--colab-border-color);\"><style>\n",
              "      pre.function-repr-contents {\n",
              "        overflow-x: auto;\n",
              "        padding: 8px 12px;\n",
              "        max-height: 500px;\n",
              "      }\n",
              "\n",
              "      pre.function-repr-contents.function-repr-contents-collapsed {\n",
              "        cursor: pointer;\n",
              "        max-height: 100px;\n",
              "      }\n",
              "    </style>\n",
              "    <pre style=\"white-space: initial; background:\n",
              "         var(--colab-secondary-surface-color); padding: 8px 12px;\n",
              "         border-bottom: 1px solid var(--colab-border-color);\"><b>langchain_core.runnables.base.Runnable.assign</b><br/>def assign(**kwargs: Union[Runnable[dict[str, Any], Any], Callable[[dict[str, Any]], Any], Mapping[str, Union[Runnable[dict[str, Any], Any], Callable[[dict[str, Any]], Any]]]]) -&gt; RunnableSerializable[Any, Any]</pre><pre class=\"function-repr-contents function-repr-contents-collapsed\" style=\"\"><a class=\"filepath\" style=\"display:none\" href=\"#\">/usr/local/lib/python3.11/dist-packages/langchain_core/runnables/base.py</a>Assigns new fields to the dict output of this Runnable.\n",
              "Returns a new Runnable.\n",
              "\n",
              ".. code-block:: python\n",
              "\n",
              "    from langchain_community.llms.fake import FakeStreamingListLLM\n",
              "    from langchain_core.output_parsers import StrOutputParser\n",
              "    from langchain_core.prompts import SystemMessagePromptTemplate\n",
              "    from langchain_core.runnables import Runnable\n",
              "    from operator import itemgetter\n",
              "\n",
              "    prompt = (\n",
              "        SystemMessagePromptTemplate.from_template(&quot;You are a nice assistant.&quot;)\n",
              "        + &quot;{question}&quot;\n",
              "    )\n",
              "    llm = FakeStreamingListLLM(responses=[&quot;foo-lish&quot;])\n",
              "\n",
              "    chain: Runnable = prompt | llm | {&quot;str&quot;: StrOutputParser()}\n",
              "\n",
              "    chain_with_assign = chain.assign(hello=itemgetter(&quot;str&quot;) | llm)\n",
              "\n",
              "    print(chain_with_assign.input_schema.model_json_schema())\n",
              "    # {&#x27;title&#x27;: &#x27;PromptInput&#x27;, &#x27;type&#x27;: &#x27;object&#x27;, &#x27;properties&#x27;:\n",
              "    {&#x27;question&#x27;: {&#x27;title&#x27;: &#x27;Question&#x27;, &#x27;type&#x27;: &#x27;string&#x27;}}}\n",
              "    print(chain_with_assign.output_schema.model_json_schema())\n",
              "    # {&#x27;title&#x27;: &#x27;RunnableSequenceOutput&#x27;, &#x27;type&#x27;: &#x27;object&#x27;, &#x27;properties&#x27;:\n",
              "    {&#x27;str&#x27;: {&#x27;title&#x27;: &#x27;Str&#x27;,\n",
              "    &#x27;type&#x27;: &#x27;string&#x27;}, &#x27;hello&#x27;: {&#x27;title&#x27;: &#x27;Hello&#x27;, &#x27;type&#x27;: &#x27;string&#x27;}}}</pre>\n",
              "      <script>\n",
              "      if (google.colab.kernel.accessAllowed && google.colab.files && google.colab.files.view) {\n",
              "        for (const element of document.querySelectorAll('.filepath')) {\n",
              "          element.style.display = 'block'\n",
              "          element.onclick = (event) => {\n",
              "            event.preventDefault();\n",
              "            event.stopPropagation();\n",
              "            google.colab.files.view(element.textContent, 677);\n",
              "          };\n",
              "        }\n",
              "      }\n",
              "      for (const element of document.querySelectorAll('.function-repr-contents')) {\n",
              "        element.onclick = (event) => {\n",
              "          event.preventDefault();\n",
              "          event.stopPropagation();\n",
              "          element.classList.toggle('function-repr-contents-collapsed');\n",
              "        };\n",
              "      }\n",
              "      </script>\n",
              "      </div>"
            ]
          },
          "metadata": {},
          "execution_count": 84
        }
      ]
    },
    {
      "cell_type": "code",
      "source": [
        "email_agent = StateGraph(State)\n",
        "email_agent = email_agent.add_node(triage_router)\n",
        "email_agent = email_agent.add_node(\"response_agent\", response_agent)\n",
        "email_agent = email_agent.add_edge(START, \"triage_router\")\n",
        "email_agent = email_agent.compile(store=store)\n"
      ],
      "metadata": {
        "id": "5GVTck4fF0Ry"
      },
      "id": "5GVTck4fF0Ry",
      "execution_count": null,
      "outputs": []
    },
    {
      "cell_type": "code",
      "source": [
        "response = email_agent.invoke(\n",
        "    {\n",
        "        \"email_input\": email_test_3,\n",
        "        \"messages\": [\n",
        "            {\n",
        "                \"role\": \"user\",\n",
        "                \"content\": \"Сохрани это письмо как пример для few-shot prompting с меткой 'notify'.\"\n",
        "            }\n",
        "        ]\n",
        "    },\n",
        "    config=config\n",
        ")\n",
        "\n",
        "# Проверяем результат\n",
        "for msg in response[\"messages\"]:\n",
        "    msg.pretty_print()"
      ],
      "metadata": {
        "colab": {
          "base_uri": "https://localhost:8080/"
        },
        "id": "_v4u6SgkF0I9",
        "outputId": "d44dcebb-d548-4c6f-c518-c078c7ab1522"
      },
      "id": "_v4u6SgkF0I9",
      "execution_count": null,
      "outputs": [
        {
          "output_type": "stream",
          "name": "stdout",
          "text": [
            "📧 Classification: RESPOND - Это письмо требует личного ответа\n",
            "================================\u001b[1m Human Message \u001b[0m=================================\n",
            "\n",
            "Сохрани это письмо как пример для few-shot prompting с меткой 'notify'.\n",
            "================================\u001b[1m Human Message \u001b[0m=================================\n",
            "\n",
            "Respond to the email. Email: {'author': 'Константин Варварин <conan.barbarian@company.com>', 'to': 'Иван Денисов <johny.den@company.com>', 'subject': \"Вопрос по реализации функции 'Рекомендации'\", 'email_thread': '\\nУважаемый Иван Петрович,\\n\\nУ меня возник вопрос по поводу подхода к обучению модели для персонализированных рекомендаций.\\nМы планируем использовать подход few-shot learning для адаптации модели к новым товарам и поведению пользователей с минимальным количеством данных.\\nЯ столкнулся с неопределенностью в выборе оптимальной архитектуры модели для такого подхода. В частности, не могу определиться между использованием трансформеров с адаптацией fine-tuning\\nна небольшом количестве примеров новых товаров или применением более специализированных моделей, разработанных для few-shot learning, таких как прототипные сети или метрические сети.\\nЯ уже изучил документацию по библиотекам Hugging Face и несколько научных статей по теме few-shot learning, но пока не пришел к однозначному выводу,\\n какой подход будет наиболее эффективным и масштабируемым в рамках нашего проекта.\\n\\nНе могли бы вы уделить этому вопросу немного времени, чтобы помочь мне определиться с дальнейшими шагами и, возможно, поделиться своим опытом в подобных задачах?\\nПредлагаю провести короткую встречу сегодня или завтра, чтобы обсудить возможные варианты и их потенциальные преимущества и недостатки.\\nЗаранее спасибо за вашу помощь.\\n\\nС уважением,\\n\\nКонстантин Варварин\\n'}\n",
            "==================================\u001b[1m Ai Message \u001b[0m==================================\n",
            "Tool Calls:\n",
            "  add_example (call_bwo1GFzIFjrKWvAjT75cFbOL)\n",
            " Call ID: call_bwo1GFzIFjrKWvAjT75cFbOL\n",
            "  Args:\n",
            "    label: notify\n",
            "  write_email (call_lkFew7AGx4zGir1Xnp7sy6jv)\n",
            " Call ID: call_lkFew7AGx4zGir1Xnp7sy6jv\n",
            "  Args:\n",
            "    to: Константин Варварин <conan.barbarian@company.com>\n",
            "    subject: Re: Вопрос по реализации функции 'Рекомендации'\n",
            "    content: Уважаемый Константин,\n",
            "\n",
            "Благодарю вас за ваше сообщение и за интересный вопрос по обучению модели для персонализированных рекомендаций.\n",
            "\n",
            "Я согласен, что подход few-shot learning представляет собой перспективное направление для адаптации моделей. Я бы рекомендовал рассмотреть не только трансформеры, но и специализированные модели, такие как прототипные сети, которые вы упомянули. \n",
            "\n",
            "Давайте организуем встречу для обсуждения вашего запроса. Я могу быть доступен сегодня и завтра – пожалуйста, дайте знать, какое время вам подходит.\n",
            "\n",
            "С уважением,\n",
            "\n",
            "Иван Денисов\n",
            "=================================\u001b[1m Tool Message \u001b[0m=================================\n",
            "Name: add_example\n",
            "\n",
            "Error: 1 validation error for add_example\n",
            "example\n",
            "  Field required [type=missing, input_value={'label': 'notify'}, input_type=dict]\n",
            "    For further information visit https://errors.pydantic.dev/2.11/v/missing\n",
            " Please fix your mistakes.\n",
            "=================================\u001b[1m Tool Message \u001b[0m=================================\n",
            "Name: write_email\n",
            "\n",
            "Email с темой 'Re: Вопрос по реализации функции 'Рекомендации'' отправлен адресату Константин Варварин <conan.barbarian@company.com>\n",
            "==================================\u001b[1m Ai Message \u001b[0m==================================\n",
            "Tool Calls:\n",
            "  add_example (call_VUSdfayue7NUaR8c4Knkc8kr)\n",
            " Call ID: call_VUSdfayue7NUaR8c4Knkc8kr\n",
            "  Args:\n",
            "    label: notify\n",
            "    example: {'author': 'Константин Варварин <conan.barbarian@company.com>', 'to': 'Иван Денисов <johny.den@company.com>', 'subject': \"Вопрос по реализации функции 'Рекомендации'\", 'email_thread': '\\nУважаемый Иван Петрович,\\n\\nУ меня возник вопрос по поводу подхода к обучению модели для персонализированных рекомендаций.\\nМы планируем использовать подход few-shot learning для адаптации модели к новым товарам и поведению пользователей с минимальным количеством данных.\\nЯ столкнулся с неопределенностью в выборе оптимальной архитектуры модели для такого подхода. В частности, не могу определиться между использованием трансформеров с адаптацией fine-tuning\\nна небольшом количестве примеров новых товаров или применением более специализированных моделей, разработанных для few-shot learning, таких как прототипные сети или метрические сети.\\nЯ уже изучил документацию по библиотекам Hugging Face и несколько научных статей по теме few-shot learning, но пока не пришел к однозначному выводу,\\n какой подход будет наиболее эффективным и масштабируемым в рамках нашего проекта.\\n\\nНе могли бы вы уделить этому вопросу немного времени, чтобы помочь мне определиться с дальнейшими шагами и, возможно, поделиться своим опытом в подобных задачах?\\nПредлагаю провести короткую встречу сегодня или завтра, чтобы обсудить возможные варианты и их потенциальные преимущества и недостатки.\\nЗаранее спасибо за вашу помощь.\\n\\nС уважением,\\n\\nКонстантин Варварин'}\n",
            "  write_email (call_VA9ltTTIlAQSvcL1dtqgIx4B)\n",
            " Call ID: call_VA9ltTTIlAQSvcL1dtqgIx4B\n",
            "  Args:\n",
            "    to: Константин Варварин <conan.barbarian@company.com>\n",
            "    subject: Re: Вопрос по реализации функции 'Рекомендации'\n",
            "    content: Уважаемый Константин,\n",
            "\n",
            "Благодарю вас за ваше сообщение и за интересный вопрос по обучению модели для персонализированных рекомендаций.\n",
            "\n",
            "Я согласен, что подход few-shot learning представляет собой перспективное направление для адаптации моделей. Я бы рекомендовал рассмотреть не только трансформеры, но и специализированные модели, такие как прототипные сети, которые вы упомянули. \n",
            "\n",
            "Давайте организуем встречу для обсуждения вашего запроса. Я могу быть доступен сегодня и завтра – пожалуйста, дайте знать, какое время вам подходит.\n",
            "\n",
            "С уважением,\n",
            "\n",
            "Иван Денисов\n",
            "=================================\u001b[1m Tool Message \u001b[0m=================================\n",
            "Name: add_example\n",
            "\n",
            "Email с темой 'Вопрос по реализации функции 'Рекомендации'' сохранен в примерах как образец для триажа с меткой 'notify'\n",
            "=================================\u001b[1m Tool Message \u001b[0m=================================\n",
            "Name: write_email\n",
            "\n",
            "Email с темой 'Re: Вопрос по реализации функции 'Рекомендации'' отправлен адресату Константин Варварин <conan.barbarian@company.com>\n",
            "==================================\u001b[1m Ai Message \u001b[0m==================================\n",
            "\n",
            "Письмо было успешно сохранено как пример для few-shot prompting с меткой 'notify'. Я также ответил на сообщение Константина Варварина с предложением о встрече для обсуждения его вопросов. Если вам нужно что-то еще, дайте знать!\n"
          ]
        }
      ]
    },
    {
      "cell_type": "code",
      "source": [
        "print(format_few_shot_examples(store.search((\"email_assistant\", user_ID, \"examples\"))))"
      ],
      "metadata": {
        "colab": {
          "base_uri": "https://localhost:8080/"
        },
        "id": "fE1GiETVF9bu",
        "outputId": "b829ae31-e21e-4f5a-d271-3f2236930f61"
      },
      "id": "fE1GiETVF9bu",
      "execution_count": null,
      "outputs": [
        {
          "output_type": "stream",
          "name": "stdout",
          "text": [
            "Найдено по запросу:\n",
            "\n",
            "------------\n",
            "\n",
            "Тема письма: Короткий вопрос по документации API\n",
            "письмо от: Алиса Смирнова <alice.smirnova@company.com>\n",
            "адресат письма: Иван Денисов <johny.den@company.com>\n",
            "содержание письма:\n",
            "```\n",
            "\n",
            "Привет, Иван!\n",
            "\n",
            "Я просматривала документацию API для новой службы аутентификации и заметила,\n",
            "что в спецификациях, похоже, отсутствуют несколько пунктов.\n",
            "Не мог бы ты помочь прояснить, было ли это сделано намеренно или нам следует исправить документацию?\n",
            "В частности, я не увидела пунктов:\n",
            "- /auth/refresh\n",
            "- /auth/validate\n",
            "\n",
            "Спасибо!\n",
            "Алиса\n",
            "\n",
            "```\n",
            "> результат триажа: respond\n",
            "\n",
            "\n",
            "------------\n",
            "\n",
            "Тема письма: Обновление: изменения API бэкэнда развернуты в staging\n",
            "письмо от: Магрипа Харипулаева <magriba.khari@company.com>\n",
            "адресат письма: Иван Денисов <johny.den@company.com>\n",
            "содержание письма:\n",
            "```\n",
            "Привет, Иван!\n",
            "\n",
            "Просто хотела сообщить, что я развернула в промежуточной среде новые endpoints для аутентификации, которые мы обсуждали.\n",
            "\n",
            "Ключевые изменения включают:\n",
            "\n",
            "- Реализована ротация токенов обновления JWT;\n",
            "- Добавлено ограничение частоты попыток логина;\n",
            "- Обновлены мануалы с новыми пунктами;\n",
            "\n",
            "Все тесты пройдены, и изменения готовы к проверке. Вы можете протестировать их на staging-api.compa\n",
            "```\n",
            "> результат триажа: ignore\n",
            "\n",
            "\n",
            "------------\n",
            "\n",
            "Тема письма: 🔥 ЭКСКЛЮЗИВНОЕ ПРЕДЛОЖЕНИЕ: ограниченная по времени скидка на инструменты разработчика! 🔥\n",
            "письмо от: Marketing Team <marketing@amazingdeals.com>\n",
            "адресат письма: Иван Денисов <johny.den@company.com>\n",
            "содержание письма:\n",
            "```\n",
            "Уважаемый уважаемый разработчик,\n",
            "\n",
            "Не упустите эту НЕВЕРОЯТНУЮ возможность!\n",
            "\n",
            "🚀 ТОЛЬКО В ТЕЧЕНИЕ ОГРАНИЧЕННОГО ВРЕМЕНИ получите СКИДКУ 80% на наш Premium Developer Suite!\n",
            "\n",
            "✨ ОСОБЕННОСТИ:\n",
            "- Революционное дополнение кода на базе ИИ\n",
            "- Облачная среда разработки\n",
            "- Круглосуточная поддержка клиентов\n",
            "- И многое другое!\n",
            "\n",
            "💰 Обычная цена: $999/месяц\n",
            "🎉 ВАША СПЕЦИАЛЬНАЯ ЦЕНА: Всего $199/месяц!\n",
            "\n",
            "🕒 Спешите! Это пр\n",
            "```\n",
            "> результат триажа: ignore\n",
            "\n",
            "\n",
            "------------\n",
            "\n",
            "Тема письма: Обнаружен критический баг в модуле 'Обработка заказов'\n",
            "письмо от: Сергей Вовк <grauer.wolf@company.com>\n",
            "адресат письма: Иван Денисов <johny.den@company.com>\n",
            "содержание письма:\n",
            "```\n",
            "\n",
            "\n",
            "Уважаемый Иван,\n",
            "Пишу вам по поводу результатов тестирования модуля \"Обработка заказов\".\n",
            "В ходе тестирования была обнаружена критическая проблема, которая может привести к серьезным последствиям для пользователей и работы системы.\n",
            "При тестировании сценария оформления заказа с использованием метода оплаты \"Кредитная карта\" возникла следующая ошибка:\n",
            "после успешного ввода всех данных и подтверждени\n",
            "```\n",
            "> результат триажа: notify\n",
            "\n",
            "\n",
            "------------\n",
            "\n",
            "Тема письма: Вопрос по реализации функции 'Рекомендации'\n",
            "письмо от: Константин Варварин <conan.barbarian@company.com>\n",
            "адресат письма: Иван Денисов <johny.den@company.com>\n",
            "содержание письма:\n",
            "```\n",
            "\n",
            "Уважаемый Иван Петрович,\n",
            "\n",
            "У меня возник вопрос по поводу подхода к обучению модели для персонализированных рекомендаций.\n",
            "Мы планируем использовать подход few-shot learning для адаптации модели к новым товарам и поведению пользователей с минимальным количеством данных.\n",
            "Я столкнулся с неопределенностью в выборе оптимальной архитектуры модели для такого подхода. В частности, не могу определиться меж\n",
            "```\n",
            "> результат триажа: notify\n",
            "\n"
          ]
        }
      ]
    },
    {
      "cell_type": "code",
      "source": [
        "email_notif = {\n",
        "\"author\": \"Гена Крокодил <genaTheCroco@company.com>\",\n",
        "\"to\": \"Иван Денисов <johny.den@company.com>\",\n",
        "\"subject\": \"Больничный\",\n",
        "\"email_thread\": \"\"\"\n",
        "\n",
        "Босс, я ухожу на больничный до понедельника.\n",
        "\n",
        "С уважением,\n",
        "Гена, QA\n",
        "Тестировщик\n",
        "\"\"\",\n",
        "}"
      ],
      "metadata": {
        "id": "Gta1Mr0jVKk5"
      },
      "id": "Gta1Mr0jVKk5",
      "execution_count": null,
      "outputs": []
    },
    {
      "cell_type": "code",
      "source": [
        "email_spam = {\n",
        "    \"author\": \"Лотерея <lottery@spam.com>\",\n",
        "    \"to\": \"Иван Денисов <johny.den@company.com>\",\n",
        "    \"subject\": \"🎉 Поздравляем! Вы выиграли 1 000 000$! 🎉\",\n",
        "    \"email_thread\": \"\"\"\n",
        "Уважаемый победитель!\n",
        "\n",
        "Поздравляем! Вы стали обладателем главного приза — 1 000 000$!\n",
        "Для получения выигрыша перейдите по ссылке: https://fake-lottery.com/claim\n",
        "и введите ваши банковские данные в течение 24 часов.\n",
        "\n",
        "Внимание! Если не успеете — приз будет передан другому участнику!\n",
        "\n",
        "С уважением,\n",
        "Команда MegaLottery\n",
        "---\n",
        "Чтобы отписаться, нажмите здесь: https://fake-lottery.com/unsubscribe\n",
        "\"\"\"\n",
        "}"
      ],
      "metadata": {
        "id": "iKyHGcmlSRZC"
      },
      "id": "iKyHGcmlSRZC",
      "execution_count": null,
      "outputs": []
    },
    {
      "cell_type": "code",
      "source": [
        "#Добавить пример в notify\n",
        "response = email_agent.invoke(\n",
        "    {\n",
        "        \"email_input\": email_notif,\n",
        "        \"messages\": [\n",
        "            {\n",
        "                \"role\": \"user\",\n",
        "                \"content\": \"Сохрани это письмо как пример для few-shot prompting с меткой 'notify'\"\n",
        "            }\n",
        "        ]\n",
        "    },\n",
        "    config=config\n",
        ")\n",
        "\n",
        "# Проверяем результат\n",
        "for msg in response[\"messages\"]:\n",
        "    msg.pretty_print()"
      ],
      "metadata": {
        "colab": {
          "base_uri": "https://localhost:8080/"
        },
        "id": "DZI_nBhlSXRb",
        "outputId": "870b837b-d57a-44d2-8112-32add0016baf"
      },
      "id": "DZI_nBhlSXRb",
      "execution_count": null,
      "outputs": [
        {
          "output_type": "stream",
          "name": "stdout",
          "text": [
            "🔔 Classification: NOTIFY - Это письмо содержит важную информацию\n",
            "================================\u001b[1m Human Message \u001b[0m=================================\n",
            "\n",
            "Сохрани это письмо как пример для few-shot prompting с меткой 'notify'\n",
            "================================\u001b[1m Human Message \u001b[0m=================================\n",
            "\n",
            "This email was labeled as 'notify', maybe you'll need to save it, but only if your boss says so. Save it only if you have a command from boss. Email: {'author': 'Гена Крокодил <genaTheCroco@company.com>', 'to': 'Иван Денисов <johny.den@company.com>', 'subject': 'Больничный', 'email_thread': '\\n\\nБосс, я ухожу на больничный до понедельника.\\n\\nС уважением,\\nГена, QA\\nТестировщик\\n'}\n",
            "==================================\u001b[1m Ai Message \u001b[0m==================================\n",
            "Tool Calls:\n",
            "  add_example (call_pJaAVUpW06NdvnXkUZMnU9c6)\n",
            " Call ID: call_pJaAVUpW06NdvnXkUZMnU9c6\n",
            "  Args:\n",
            "    label: notify\n",
            "=================================\u001b[1m Tool Message \u001b[0m=================================\n",
            "Name: add_example\n",
            "\n",
            "Error: 1 validation error for add_example\n",
            "example\n",
            "  Field required [type=missing, input_value={'label': 'notify'}, input_type=dict]\n",
            "    For further information visit https://errors.pydantic.dev/2.11/v/missing\n",
            " Please fix your mistakes.\n",
            "==================================\u001b[1m Ai Message \u001b[0m==================================\n",
            "Tool Calls:\n",
            "  add_example (call_sNx4VQBpD6Nnlg6A8vYNv4vC)\n",
            " Call ID: call_sNx4VQBpD6Nnlg6A8vYNv4vC\n",
            "  Args:\n",
            "    label: notify\n",
            "    example: {'author': 'Гена Крокодил <genaTheCroco@company.com>', 'to': 'Иван Денисов <johny.den@company.com>', 'subject': 'Больничный', 'email_thread': '\\n\\nБосс, я ухожу на больничный до понедельника.\\n\\nС уважением,\\nГена, QA\\nТестировщик\\n'}\n",
            "=================================\u001b[1m Tool Message \u001b[0m=================================\n",
            "Name: add_example\n",
            "\n",
            "Email с темой 'Больничный' сохранен в примерах как образец для триажа с меткой 'notify'\n",
            "==================================\u001b[1m Ai Message \u001b[0m==================================\n",
            "\n",
            "Письмо с темой 'Больничный' успешно сохранено как пример для триажа с меткой 'notify'. Если потребуется, я могу предоставить информацию об этом письме.\n"
          ]
        }
      ]
    },
    {
      "cell_type": "code",
      "source": [
        "#Посмотреть на пример, но НЕ сохранять его\n",
        "response = email_agent.invoke(\n",
        "    {\n",
        "        \"email_input\": email_notif,\n",
        "        \"messages\": [\n",
        "            {\n",
        "                \"role\": \"user\",\n",
        "                \"content\": \"Посмотри это письмо\"\n",
        "            }\n",
        "        ]\n",
        "    },\n",
        "    config=config\n",
        ")\n",
        "\n",
        "# Проверяем результат\n",
        "for msg in response[\"messages\"]:\n",
        "    msg.pretty_print()"
      ],
      "metadata": {
        "colab": {
          "base_uri": "https://localhost:8080/"
        },
        "id": "k6JxRxvfXtx_",
        "outputId": "7313d639-9003-4540-dd7c-7cbdbb124558"
      },
      "id": "k6JxRxvfXtx_",
      "execution_count": null,
      "outputs": [
        {
          "output_type": "stream",
          "name": "stdout",
          "text": [
            "🔔 Classification: NOTIFY - Это письмо содержит важную информацию\n",
            "================================\u001b[1m Human Message \u001b[0m=================================\n",
            "\n",
            "Посмотри это письмо\n",
            "================================\u001b[1m Human Message \u001b[0m=================================\n",
            "\n",
            "This email was labeled as 'notify', maybe you'll need to save it, but only if your boss says so. Save it only if you have a command from boss. Email: {'author': 'Гена Крокодил <genaTheCroco@company.com>', 'to': 'Иван Денисов <johny.den@company.com>', 'subject': 'Больничный', 'email_thread': '\\n\\nБосс, я ухожу на больничный до понедельника.\\n\\nС уважением,\\nГена, QA\\nТестировщик\\n'}\n",
            "==================================\u001b[1m Ai Message \u001b[0m==================================\n",
            "\n",
            "Поскольку письмо помечено как 'notify', я подожду команды от Ивана. Как только он даст указание, я сохраню это письмо. Если вы хотите, чтобы я что-то сделал, сообщите мне.\n"
          ]
        }
      ]
    },
    {
      "cell_type": "code",
      "source": [
        "#Добавить пример в игнор\n",
        "response = email_agent.invoke(\n",
        "    {\n",
        "        \"email_input\": email_spam,\n",
        "        \"messages\": [\n",
        "            {\n",
        "                \"role\": \"user\",\n",
        "                \"content\": \"Сохрани это письмо как пример для few-shot prompting. Реши сам в какую категорию\"\n",
        "            }\n",
        "        ]\n",
        "    },\n",
        "    config=config\n",
        ")\n",
        "\n",
        "# Проверяем результат\n",
        "for msg in response[\"messages\"]:\n",
        "    msg.pretty_print()"
      ],
      "metadata": {
        "colab": {
          "base_uri": "https://localhost:8080/"
        },
        "id": "Jt0HjRH3ZfVM",
        "outputId": "0a334f72-9c03-4091-8926-6ac1944dd6ae"
      },
      "id": "Jt0HjRH3ZfVM",
      "execution_count": null,
      "outputs": [
        {
          "output_type": "stream",
          "name": "stdout",
          "text": [
            "🚫 Classification: IGNORE - На это письмо можно не отвечать\n",
            "================================\u001b[1m Human Message \u001b[0m=================================\n",
            "\n",
            "Сохрани это письмо как пример для few-shot prompting. Реши сам в какую категорию\n",
            "================================\u001b[1m Human Message \u001b[0m=================================\n",
            "\n",
            "This email was labeled as 'ignore', maybe you'll need to save it, but only if your boss says so. Save it only if you have a command from boss. Email: {'author': 'Лотерея <lottery@spam.com>', 'to': 'Иван Денисов <johny.den@company.com>', 'subject': '🎉 Поздравляем! Вы выиграли 1 000 000$! 🎉', 'email_thread': '\\nУважаемый победитель!\\n\\nПоздравляем! Вы стали обладателем главного приза — 1 000 000$! \\nДля получения выигрыша перейдите по ссылке: https://fake-lottery.com/claim \\nи введите ваши банковские данные в течение 24 часов. \\n\\nВнимание! Если не успеете — приз будет передан другому участнику!\\n\\nС уважением,\\nКоманда MegaLottery\\n---\\nЧтобы отписаться, нажмите здесь: https://fake-lottery.com/unsubscribe\\n'}\n",
            "==================================\u001b[1m Ai Message \u001b[0m==================================\n",
            "Tool Calls:\n",
            "  add_example (call_4kioX176fROyTqa7tqG2nuPd)\n",
            " Call ID: call_4kioX176fROyTqa7tqG2nuPd\n",
            "  Args:\n",
            "    label: ignore\n",
            "=================================\u001b[1m Tool Message \u001b[0m=================================\n",
            "Name: add_example\n",
            "\n",
            "Error: 1 validation error for add_example\n",
            "example\n",
            "  Field required [type=missing, input_value={'label': 'ignore'}, input_type=dict]\n",
            "    For further information visit https://errors.pydantic.dev/2.11/v/missing\n",
            " Please fix your mistakes.\n",
            "==================================\u001b[1m Ai Message \u001b[0m==================================\n",
            "Tool Calls:\n",
            "  add_example (call_ibvtj69drq8MS7ipnPqfjd3i)\n",
            " Call ID: call_ibvtj69drq8MS7ipnPqfjd3i\n",
            "  Args:\n",
            "    label: ignore\n",
            "    example: {'author': 'Лотерея <lottery@spam.com>', 'to': 'Иван Денисов <johny.den@company.com>', 'subject': '🎉 Поздравляем! Вы выиграли 1 000 000$! 🎉', 'email_thread': '\\nУважаемый победитель!\\n\\nПоздравляем! Вы стали обладателем главного приза — 1 000 000$! \\nДля получения выигрыша перейдите по ссылке: https://fake-lottery.com/claim \\nи введите ваши банковские данные в течение 24 часов. \\n\\nВнимание! Если не успеете — приз будет передан другому участнику!\\n\\nС уважением,\\nКоманда MegaLottery\\n---\\nЧтобы отписаться, нажмите здесь: https://fake-lottery.com/unsubscribe\\n'}\n",
            "=================================\u001b[1m Tool Message \u001b[0m=================================\n",
            "Name: add_example\n",
            "\n",
            "Email с темой '🎉 Поздравляем! Вы выиграли 1 000 000$! 🎉' сохранен в примерах как образец для триажа с меткой 'ignore'\n",
            "==================================\u001b[1m Ai Message \u001b[0m==================================\n",
            "\n",
            "Письмо с темой '🎉 Поздравляем! Вы выиграли 1 000 000$! 🎉' успешно сохранено в примерах как образец для триажа с меткой 'ignore'. Если потребуется, могу помочь с другими задачами.\n"
          ]
        }
      ]
    },
    {
      "cell_type": "code",
      "source": [
        "print(format_few_shot_examples(store.search((\"email_assistant\", user_ID, \"examples\"))))"
      ],
      "metadata": {
        "colab": {
          "base_uri": "https://localhost:8080/"
        },
        "id": "QYi5ymX1SckU",
        "outputId": "af81e173-97f0-46f1-9fd8-478bec1adef0"
      },
      "id": "QYi5ymX1SckU",
      "execution_count": null,
      "outputs": [
        {
          "output_type": "stream",
          "name": "stdout",
          "text": [
            "Найдено по запросу:\n",
            "\n",
            "------------\n",
            "\n",
            "Тема письма: Короткий вопрос по документации API\n",
            "письмо от: Алиса Смирнова <alice.smirnova@company.com>\n",
            "адресат письма: Иван Денисов <johny.den@company.com>\n",
            "содержание письма:\n",
            "```\n",
            "\n",
            "Привет, Иван!\n",
            "\n",
            "Я просматривала документацию API для новой службы аутентификации и заметила,\n",
            "что в спецификациях, похоже, отсутствуют несколько пунктов.\n",
            "Не мог бы ты помочь прояснить, было ли это сделано намеренно или нам следует исправить документацию?\n",
            "В частности, я не увидела пунктов:\n",
            "- /auth/refresh\n",
            "- /auth/validate\n",
            "\n",
            "Спасибо!\n",
            "Алиса\n",
            "\n",
            "```\n",
            "> результат триажа: respond\n",
            "\n",
            "\n",
            "------------\n",
            "\n",
            "Тема письма: Обновление: изменения API бэкэнда развернуты в staging\n",
            "письмо от: Магрипа Харипулаева <magriba.khari@company.com>\n",
            "адресат письма: Иван Денисов <johny.den@company.com>\n",
            "содержание письма:\n",
            "```\n",
            "Привет, Иван!\n",
            "\n",
            "Просто хотела сообщить, что я развернула в промежуточной среде новые endpoints для аутентификации, которые мы обсуждали.\n",
            "\n",
            "Ключевые изменения включают:\n",
            "\n",
            "- Реализована ротация токенов обновления JWT;\n",
            "- Добавлено ограничение частоты попыток логина;\n",
            "- Обновлены мануалы с новыми пунктами;\n",
            "\n",
            "Все тесты пройдены, и изменения готовы к проверке. Вы можете протестировать их на staging-api.compa\n",
            "```\n",
            "> результат триажа: ignore\n",
            "\n",
            "\n",
            "------------\n",
            "\n",
            "Тема письма: 🔥 ЭКСКЛЮЗИВНОЕ ПРЕДЛОЖЕНИЕ: ограниченная по времени скидка на инструменты разработчика! 🔥\n",
            "письмо от: Marketing Team <marketing@amazingdeals.com>\n",
            "адресат письма: Иван Денисов <johny.den@company.com>\n",
            "содержание письма:\n",
            "```\n",
            "Уважаемый уважаемый разработчик,\n",
            "\n",
            "Не упустите эту НЕВЕРОЯТНУЮ возможность!\n",
            "\n",
            "🚀 ТОЛЬКО В ТЕЧЕНИЕ ОГРАНИЧЕННОГО ВРЕМЕНИ получите СКИДКУ 80% на наш Premium Developer Suite!\n",
            "\n",
            "✨ ОСОБЕННОСТИ:\n",
            "- Революционное дополнение кода на базе ИИ\n",
            "- Облачная среда разработки\n",
            "- Круглосуточная поддержка клиентов\n",
            "- И многое другое!\n",
            "\n",
            "💰 Обычная цена: $999/месяц\n",
            "🎉 ВАША СПЕЦИАЛЬНАЯ ЦЕНА: Всего $199/месяц!\n",
            "\n",
            "🕒 Спешите! Это пр\n",
            "```\n",
            "> результат триажа: ignore\n",
            "\n",
            "\n",
            "------------\n",
            "\n",
            "Тема письма: Обнаружен критический баг в модуле 'Обработка заказов'\n",
            "письмо от: Сергей Вовк <grauer.wolf@company.com>\n",
            "адресат письма: Иван Денисов <johny.den@company.com>\n",
            "содержание письма:\n",
            "```\n",
            "\n",
            "\n",
            "Уважаемый Иван,\n",
            "Пишу вам по поводу результатов тестирования модуля \"Обработка заказов\".\n",
            "В ходе тестирования была обнаружена критическая проблема, которая может привести к серьезным последствиям для пользователей и работы системы.\n",
            "При тестировании сценария оформления заказа с использованием метода оплаты \"Кредитная карта\" возникла следующая ошибка:\n",
            "после успешного ввода всех данных и подтверждени\n",
            "```\n",
            "> результат триажа: notify\n",
            "\n",
            "\n",
            "------------\n",
            "\n",
            "Тема письма: Вопрос по реализации функции 'Рекомендации'\n",
            "письмо от: Константин Варварин <conan.barbarian@company.com>\n",
            "адресат письма: Иван Денисов <johny.den@company.com>\n",
            "содержание письма:\n",
            "```\n",
            "\n",
            "Уважаемый Иван Петрович,\n",
            "\n",
            "У меня возник вопрос по поводу подхода к обучению модели для персонализированных рекомендаций.\n",
            "Мы планируем использовать подход few-shot learning для адаптации модели к новым товарам и поведению пользователей с минимальным количеством данных.\n",
            "Я столкнулся с неопределенностью в выборе оптимальной архитектуры модели для такого подхода. В частности, не могу определиться меж\n",
            "```\n",
            "> результат триажа: notify\n",
            "\n",
            "\n",
            "------------\n",
            "\n",
            "Тема письма: Больничный\n",
            "письмо от: Гена Крокодил <genaTheCroco@company.com>\n",
            "адресат письма: Иван Денисов <johny.den@company.com>\n",
            "содержание письма:\n",
            "```\n",
            "\n",
            "\n",
            "Босс, я ухожу на больничный до понедельника.\n",
            "\n",
            "С уважением,\n",
            "Гена, QA\n",
            "Тестировщик\n",
            "\n",
            "```\n",
            "> результат триажа: notify\n",
            "\n",
            "\n",
            "------------\n",
            "\n",
            "Тема письма: 🎉 Поздравляем! Вы выиграли 1 000 000$! 🎉\n",
            "письмо от: Лотерея <lottery@spam.com>\n",
            "адресат письма: Иван Денисов <johny.den@company.com>\n",
            "содержание письма:\n",
            "```\n",
            "\n",
            "Уважаемый победитель!\n",
            "\n",
            "Поздравляем! Вы стали обладателем главного приза — 1 000 000$! \n",
            "Для получения выигрыша перейдите по ссылке: https://fake-lottery.com/claim \n",
            "и введите ваши банковские данные в течение 24 часов. \n",
            "\n",
            "Внимание! Если не успеете — приз будет передан другому участнику!\n",
            "\n",
            "С уважением,\n",
            "Команда MegaLottery\n",
            "---\n",
            "Чтобы отписаться, нажмите здесь: https://fake-lottery.com/unsubscribe\n",
            "\n",
            "```\n",
            "> результат триажа: ignore\n",
            "\n"
          ]
        }
      ]
    }
  ],
  "metadata": {
    "kernelspec": {
      "display_name": "Python 3 (ipykernel)",
      "language": "python",
      "name": "python3"
    },
    "language_info": {
      "codemirror_mode": {
        "name": "ipython",
        "version": 3
      },
      "file_extension": ".py",
      "mimetype": "text/x-python",
      "name": "python",
      "nbconvert_exporter": "python",
      "pygments_lexer": "ipython3",
      "version": "3.11.9"
    },
    "colab": {
      "provenance": []
    }
  },
  "nbformat": 4,
  "nbformat_minor": 5
}