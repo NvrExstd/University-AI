{
  "nbformat": 4,
  "nbformat_minor": 0,
  "metadata": {
    "colab": {
      "provenance": []
    },
    "kernelspec": {
      "name": "python3",
      "display_name": "Python 3"
    },
    "language_info": {
      "name": "python"
    }
  },
  "cells": [
    {
      "cell_type": "code",
      "source": [
        "#https://github.com/pdichone/advanced-rag-techniques.git"
      ],
      "metadata": {
        "id": "n0hq4r53xvIX"
      },
      "execution_count": null,
      "outputs": []
    },
    {
      "cell_type": "markdown",
      "source": [
        "## Начальная настройка:\n",
        "подготовка необходимых библиотек. Это займёт несколько минут. \\\\\n",
        "После их загрузки надо будет сделать рестарт сессии"
      ],
      "metadata": {
        "id": "arBHmGyfwQnJ"
      }
    },
    {
      "cell_type": "code",
      "source": [
        "!pip install  chromadb pypdf langchain langchain-community langchain-text-splitters sentence-transformers\n"
      ],
      "metadata": {
        "id": "j1HkW6O6rMUn",
        "colab": {
          "base_uri": "https://localhost:8080/"
        },
        "outputId": "89b60600-aa0b-49ea-e4d9-a395f053fc1b"
      },
      "execution_count": null,
      "outputs": [
        {
          "output_type": "stream",
          "name": "stdout",
          "text": [
            "Requirement already satisfied: chromadb in /usr/local/lib/python3.11/dist-packages (0.6.3)\n",
            "Requirement already satisfied: pypdf in /usr/local/lib/python3.11/dist-packages (5.3.1)\n",
            "Requirement already satisfied: langchain in /usr/local/lib/python3.11/dist-packages (0.3.20)\n",
            "Requirement already satisfied: langchain-community in /usr/local/lib/python3.11/dist-packages (0.3.19)\n",
            "Requirement already satisfied: langchain-text-splitters in /usr/local/lib/python3.11/dist-packages (0.3.6)\n",
            "Requirement already satisfied: sentence-transformers in /usr/local/lib/python3.11/dist-packages (3.4.1)\n",
            "Requirement already satisfied: build>=1.0.3 in /usr/local/lib/python3.11/dist-packages (from chromadb) (1.2.2.post1)\n",
            "Requirement already satisfied: pydantic>=1.9 in /usr/local/lib/python3.11/dist-packages (from chromadb) (2.10.6)\n",
            "Requirement already satisfied: chroma-hnswlib==0.7.6 in /usr/local/lib/python3.11/dist-packages (from chromadb) (0.7.6)\n",
            "Requirement already satisfied: fastapi>=0.95.2 in /usr/local/lib/python3.11/dist-packages (from chromadb) (0.115.11)\n",
            "Requirement already satisfied: uvicorn>=0.18.3 in /usr/local/lib/python3.11/dist-packages (from uvicorn[standard]>=0.18.3->chromadb) (0.34.0)\n",
            "Requirement already satisfied: numpy>=1.22.5 in /usr/local/lib/python3.11/dist-packages (from chromadb) (1.26.4)\n",
            "Requirement already satisfied: posthog>=2.4.0 in /usr/local/lib/python3.11/dist-packages (from chromadb) (3.19.1)\n",
            "Requirement already satisfied: typing_extensions>=4.5.0 in /usr/local/lib/python3.11/dist-packages (from chromadb) (4.12.2)\n",
            "Requirement already satisfied: onnxruntime>=1.14.1 in /usr/local/lib/python3.11/dist-packages (from chromadb) (1.21.0)\n",
            "Requirement already satisfied: opentelemetry-api>=1.2.0 in /usr/local/lib/python3.11/dist-packages (from chromadb) (1.31.0)\n",
            "Requirement already satisfied: opentelemetry-exporter-otlp-proto-grpc>=1.2.0 in /usr/local/lib/python3.11/dist-packages (from chromadb) (1.31.0)\n",
            "Requirement already satisfied: opentelemetry-instrumentation-fastapi>=0.41b0 in /usr/local/lib/python3.11/dist-packages (from chromadb) (0.52b0)\n",
            "Requirement already satisfied: opentelemetry-sdk>=1.2.0 in /usr/local/lib/python3.11/dist-packages (from chromadb) (1.31.0)\n",
            "Requirement already satisfied: tokenizers>=0.13.2 in /usr/local/lib/python3.11/dist-packages (from chromadb) (0.21.0)\n",
            "Requirement already satisfied: pypika>=0.48.9 in /usr/local/lib/python3.11/dist-packages (from chromadb) (0.48.9)\n",
            "Requirement already satisfied: tqdm>=4.65.0 in /usr/local/lib/python3.11/dist-packages (from chromadb) (4.67.1)\n",
            "Requirement already satisfied: overrides>=7.3.1 in /usr/local/lib/python3.11/dist-packages (from chromadb) (7.7.0)\n",
            "Requirement already satisfied: importlib-resources in /usr/local/lib/python3.11/dist-packages (from chromadb) (6.5.2)\n",
            "Requirement already satisfied: grpcio>=1.58.0 in /usr/local/lib/python3.11/dist-packages (from chromadb) (1.71.0)\n",
            "Requirement already satisfied: bcrypt>=4.0.1 in /usr/local/lib/python3.11/dist-packages (from chromadb) (4.3.0)\n",
            "Requirement already satisfied: typer>=0.9.0 in /usr/local/lib/python3.11/dist-packages (from chromadb) (0.15.2)\n",
            "Requirement already satisfied: kubernetes>=28.1.0 in /usr/local/lib/python3.11/dist-packages (from chromadb) (32.0.1)\n",
            "Requirement already satisfied: tenacity>=8.2.3 in /usr/local/lib/python3.11/dist-packages (from chromadb) (9.0.0)\n",
            "Requirement already satisfied: PyYAML>=6.0.0 in /usr/local/lib/python3.11/dist-packages (from chromadb) (6.0.2)\n",
            "Requirement already satisfied: mmh3>=4.0.1 in /usr/local/lib/python3.11/dist-packages (from chromadb) (5.1.0)\n",
            "Requirement already satisfied: orjson>=3.9.12 in /usr/local/lib/python3.11/dist-packages (from chromadb) (3.10.15)\n",
            "Requirement already satisfied: httpx>=0.27.0 in /usr/local/lib/python3.11/dist-packages (from chromadb) (0.28.1)\n",
            "Requirement already satisfied: rich>=10.11.0 in /usr/local/lib/python3.11/dist-packages (from chromadb) (13.9.4)\n",
            "Requirement already satisfied: langchain-core<1.0.0,>=0.3.41 in /usr/local/lib/python3.11/dist-packages (from langchain) (0.3.43)\n",
            "Requirement already satisfied: langsmith<0.4,>=0.1.17 in /usr/local/lib/python3.11/dist-packages (from langchain) (0.3.13)\n",
            "Requirement already satisfied: SQLAlchemy<3,>=1.4 in /usr/local/lib/python3.11/dist-packages (from langchain) (2.0.38)\n",
            "Requirement already satisfied: requests<3,>=2 in /usr/local/lib/python3.11/dist-packages (from langchain) (2.32.3)\n",
            "Requirement already satisfied: aiohttp<4.0.0,>=3.8.3 in /usr/local/lib/python3.11/dist-packages (from langchain-community) (3.11.13)\n",
            "Requirement already satisfied: dataclasses-json<0.7,>=0.5.7 in /usr/local/lib/python3.11/dist-packages (from langchain-community) (0.6.7)\n",
            "Requirement already satisfied: pydantic-settings<3.0.0,>=2.4.0 in /usr/local/lib/python3.11/dist-packages (from langchain-community) (2.8.1)\n",
            "Requirement already satisfied: httpx-sse<1.0.0,>=0.4.0 in /usr/local/lib/python3.11/dist-packages (from langchain-community) (0.4.0)\n",
            "Requirement already satisfied: transformers<5.0.0,>=4.41.0 in /usr/local/lib/python3.11/dist-packages (from sentence-transformers) (4.48.3)\n",
            "Requirement already satisfied: torch>=1.11.0 in /usr/local/lib/python3.11/dist-packages (from sentence-transformers) (2.5.1+cu124)\n",
            "Requirement already satisfied: scikit-learn in /usr/local/lib/python3.11/dist-packages (from sentence-transformers) (1.6.1)\n",
            "Requirement already satisfied: scipy in /usr/local/lib/python3.11/dist-packages (from sentence-transformers) (1.14.1)\n",
            "Requirement already satisfied: huggingface-hub>=0.20.0 in /usr/local/lib/python3.11/dist-packages (from sentence-transformers) (0.28.1)\n",
            "Requirement already satisfied: Pillow in /usr/local/lib/python3.11/dist-packages (from sentence-transformers) (11.1.0)\n",
            "Requirement already satisfied: aiohappyeyeballs>=2.3.0 in /usr/local/lib/python3.11/dist-packages (from aiohttp<4.0.0,>=3.8.3->langchain-community) (2.5.0)\n",
            "Requirement already satisfied: aiosignal>=1.1.2 in /usr/local/lib/python3.11/dist-packages (from aiohttp<4.0.0,>=3.8.3->langchain-community) (1.3.2)\n",
            "Requirement already satisfied: attrs>=17.3.0 in /usr/local/lib/python3.11/dist-packages (from aiohttp<4.0.0,>=3.8.3->langchain-community) (25.1.0)\n",
            "Requirement already satisfied: frozenlist>=1.1.1 in /usr/local/lib/python3.11/dist-packages (from aiohttp<4.0.0,>=3.8.3->langchain-community) (1.5.0)\n",
            "Requirement already satisfied: multidict<7.0,>=4.5 in /usr/local/lib/python3.11/dist-packages (from aiohttp<4.0.0,>=3.8.3->langchain-community) (6.1.0)\n",
            "Requirement already satisfied: propcache>=0.2.0 in /usr/local/lib/python3.11/dist-packages (from aiohttp<4.0.0,>=3.8.3->langchain-community) (0.3.0)\n",
            "Requirement already satisfied: yarl<2.0,>=1.17.0 in /usr/local/lib/python3.11/dist-packages (from aiohttp<4.0.0,>=3.8.3->langchain-community) (1.18.3)\n",
            "Requirement already satisfied: packaging>=19.1 in /usr/local/lib/python3.11/dist-packages (from build>=1.0.3->chromadb) (24.2)\n",
            "Requirement already satisfied: pyproject_hooks in /usr/local/lib/python3.11/dist-packages (from build>=1.0.3->chromadb) (1.2.0)\n",
            "Requirement already satisfied: marshmallow<4.0.0,>=3.18.0 in /usr/local/lib/python3.11/dist-packages (from dataclasses-json<0.7,>=0.5.7->langchain-community) (3.26.1)\n",
            "Requirement already satisfied: typing-inspect<1,>=0.4.0 in /usr/local/lib/python3.11/dist-packages (from dataclasses-json<0.7,>=0.5.7->langchain-community) (0.9.0)\n",
            "Requirement already satisfied: starlette<0.47.0,>=0.40.0 in /usr/local/lib/python3.11/dist-packages (from fastapi>=0.95.2->chromadb) (0.46.1)\n",
            "Requirement already satisfied: anyio in /usr/local/lib/python3.11/dist-packages (from httpx>=0.27.0->chromadb) (3.7.1)\n",
            "Requirement already satisfied: certifi in /usr/local/lib/python3.11/dist-packages (from httpx>=0.27.0->chromadb) (2025.1.31)\n",
            "Requirement already satisfied: httpcore==1.* in /usr/local/lib/python3.11/dist-packages (from httpx>=0.27.0->chromadb) (1.0.7)\n",
            "Requirement already satisfied: idna in /usr/local/lib/python3.11/dist-packages (from httpx>=0.27.0->chromadb) (3.10)\n",
            "Requirement already satisfied: h11<0.15,>=0.13 in /usr/local/lib/python3.11/dist-packages (from httpcore==1.*->httpx>=0.27.0->chromadb) (0.14.0)\n",
            "Requirement already satisfied: filelock in /usr/local/lib/python3.11/dist-packages (from huggingface-hub>=0.20.0->sentence-transformers) (3.17.0)\n",
            "Requirement already satisfied: fsspec>=2023.5.0 in /usr/local/lib/python3.11/dist-packages (from huggingface-hub>=0.20.0->sentence-transformers) (2024.10.0)\n",
            "Requirement already satisfied: six>=1.9.0 in /usr/local/lib/python3.11/dist-packages (from kubernetes>=28.1.0->chromadb) (1.17.0)\n",
            "Requirement already satisfied: python-dateutil>=2.5.3 in /usr/local/lib/python3.11/dist-packages (from kubernetes>=28.1.0->chromadb) (2.8.2)\n",
            "Requirement already satisfied: google-auth>=1.0.1 in /usr/local/lib/python3.11/dist-packages (from kubernetes>=28.1.0->chromadb) (2.38.0)\n",
            "Requirement already satisfied: websocket-client!=0.40.0,!=0.41.*,!=0.42.*,>=0.32.0 in /usr/local/lib/python3.11/dist-packages (from kubernetes>=28.1.0->chromadb) (1.8.0)\n",
            "Requirement already satisfied: requests-oauthlib in /usr/local/lib/python3.11/dist-packages (from kubernetes>=28.1.0->chromadb) (2.0.0)\n",
            "Requirement already satisfied: oauthlib>=3.2.2 in /usr/local/lib/python3.11/dist-packages (from kubernetes>=28.1.0->chromadb) (3.2.2)\n",
            "Requirement already satisfied: urllib3>=1.24.2 in /usr/local/lib/python3.11/dist-packages (from kubernetes>=28.1.0->chromadb) (2.3.0)\n",
            "Requirement already satisfied: durationpy>=0.7 in /usr/local/lib/python3.11/dist-packages (from kubernetes>=28.1.0->chromadb) (0.9)\n",
            "Requirement already satisfied: jsonpatch<2.0,>=1.33 in /usr/local/lib/python3.11/dist-packages (from langchain-core<1.0.0,>=0.3.41->langchain) (1.33)\n",
            "Requirement already satisfied: requests-toolbelt<2.0.0,>=1.0.0 in /usr/local/lib/python3.11/dist-packages (from langsmith<0.4,>=0.1.17->langchain) (1.0.0)\n",
            "Requirement already satisfied: zstandard<0.24.0,>=0.23.0 in /usr/local/lib/python3.11/dist-packages (from langsmith<0.4,>=0.1.17->langchain) (0.23.0)\n",
            "Requirement already satisfied: coloredlogs in /usr/local/lib/python3.11/dist-packages (from onnxruntime>=1.14.1->chromadb) (15.0.1)\n",
            "Requirement already satisfied: flatbuffers in /usr/local/lib/python3.11/dist-packages (from onnxruntime>=1.14.1->chromadb) (25.2.10)\n",
            "Requirement already satisfied: protobuf in /usr/local/lib/python3.11/dist-packages (from onnxruntime>=1.14.1->chromadb) (5.29.3)\n",
            "Requirement already satisfied: sympy in /usr/local/lib/python3.11/dist-packages (from onnxruntime>=1.14.1->chromadb) (1.13.1)\n",
            "Requirement already satisfied: deprecated>=1.2.6 in /usr/local/lib/python3.11/dist-packages (from opentelemetry-api>=1.2.0->chromadb) (1.2.18)\n",
            "Requirement already satisfied: importlib-metadata<8.7.0,>=6.0 in /usr/local/lib/python3.11/dist-packages (from opentelemetry-api>=1.2.0->chromadb) (8.6.1)\n",
            "Requirement already satisfied: googleapis-common-protos~=1.52 in /usr/local/lib/python3.11/dist-packages (from opentelemetry-exporter-otlp-proto-grpc>=1.2.0->chromadb) (1.69.1)\n",
            "Requirement already satisfied: opentelemetry-exporter-otlp-proto-common==1.31.0 in /usr/local/lib/python3.11/dist-packages (from opentelemetry-exporter-otlp-proto-grpc>=1.2.0->chromadb) (1.31.0)\n",
            "Requirement already satisfied: opentelemetry-proto==1.31.0 in /usr/local/lib/python3.11/dist-packages (from opentelemetry-exporter-otlp-proto-grpc>=1.2.0->chromadb) (1.31.0)\n",
            "Requirement already satisfied: opentelemetry-instrumentation-asgi==0.52b0 in /usr/local/lib/python3.11/dist-packages (from opentelemetry-instrumentation-fastapi>=0.41b0->chromadb) (0.52b0)\n",
            "Requirement already satisfied: opentelemetry-instrumentation==0.52b0 in /usr/local/lib/python3.11/dist-packages (from opentelemetry-instrumentation-fastapi>=0.41b0->chromadb) (0.52b0)\n",
            "Requirement already satisfied: opentelemetry-semantic-conventions==0.52b0 in /usr/local/lib/python3.11/dist-packages (from opentelemetry-instrumentation-fastapi>=0.41b0->chromadb) (0.52b0)\n",
            "Requirement already satisfied: opentelemetry-util-http==0.52b0 in /usr/local/lib/python3.11/dist-packages (from opentelemetry-instrumentation-fastapi>=0.41b0->chromadb) (0.52b0)\n",
            "Requirement already satisfied: wrapt<2.0.0,>=1.0.0 in /usr/local/lib/python3.11/dist-packages (from opentelemetry-instrumentation==0.52b0->opentelemetry-instrumentation-fastapi>=0.41b0->chromadb) (1.17.2)\n",
            "Requirement already satisfied: asgiref~=3.0 in /usr/local/lib/python3.11/dist-packages (from opentelemetry-instrumentation-asgi==0.52b0->opentelemetry-instrumentation-fastapi>=0.41b0->chromadb) (3.8.1)\n",
            "Requirement already satisfied: monotonic>=1.5 in /usr/local/lib/python3.11/dist-packages (from posthog>=2.4.0->chromadb) (1.6)\n",
            "Requirement already satisfied: backoff>=1.10.0 in /usr/local/lib/python3.11/dist-packages (from posthog>=2.4.0->chromadb) (2.2.1)\n",
            "Requirement already satisfied: distro>=1.5.0 in /usr/local/lib/python3.11/dist-packages (from posthog>=2.4.0->chromadb) (1.9.0)\n",
            "Requirement already satisfied: annotated-types>=0.6.0 in /usr/local/lib/python3.11/dist-packages (from pydantic>=1.9->chromadb) (0.7.0)\n",
            "Requirement already satisfied: pydantic-core==2.27.2 in /usr/local/lib/python3.11/dist-packages (from pydantic>=1.9->chromadb) (2.27.2)\n",
            "Requirement already satisfied: python-dotenv>=0.21.0 in /usr/local/lib/python3.11/dist-packages (from pydantic-settings<3.0.0,>=2.4.0->langchain-community) (1.0.1)\n",
            "Requirement already satisfied: charset-normalizer<4,>=2 in /usr/local/lib/python3.11/dist-packages (from requests<3,>=2->langchain) (3.4.1)\n",
            "Requirement already satisfied: markdown-it-py>=2.2.0 in /usr/local/lib/python3.11/dist-packages (from rich>=10.11.0->chromadb) (3.0.0)\n",
            "Requirement already satisfied: pygments<3.0.0,>=2.13.0 in /usr/local/lib/python3.11/dist-packages (from rich>=10.11.0->chromadb) (2.18.0)\n",
            "Requirement already satisfied: greenlet!=0.4.17 in /usr/local/lib/python3.11/dist-packages (from SQLAlchemy<3,>=1.4->langchain) (3.1.1)\n",
            "Requirement already satisfied: networkx in /usr/local/lib/python3.11/dist-packages (from torch>=1.11.0->sentence-transformers) (3.4.2)\n",
            "Requirement already satisfied: jinja2 in /usr/local/lib/python3.11/dist-packages (from torch>=1.11.0->sentence-transformers) (3.1.6)\n",
            "Requirement already satisfied: nvidia-cuda-nvrtc-cu12==12.4.127 in /usr/local/lib/python3.11/dist-packages (from torch>=1.11.0->sentence-transformers) (12.4.127)\n",
            "Requirement already satisfied: nvidia-cuda-runtime-cu12==12.4.127 in /usr/local/lib/python3.11/dist-packages (from torch>=1.11.0->sentence-transformers) (12.4.127)\n",
            "Requirement already satisfied: nvidia-cuda-cupti-cu12==12.4.127 in /usr/local/lib/python3.11/dist-packages (from torch>=1.11.0->sentence-transformers) (12.4.127)\n",
            "Requirement already satisfied: nvidia-cudnn-cu12==9.1.0.70 in /usr/local/lib/python3.11/dist-packages (from torch>=1.11.0->sentence-transformers) (9.1.0.70)\n",
            "Requirement already satisfied: nvidia-cublas-cu12==12.4.5.8 in /usr/local/lib/python3.11/dist-packages (from torch>=1.11.0->sentence-transformers) (12.4.5.8)\n",
            "Requirement already satisfied: nvidia-cufft-cu12==11.2.1.3 in /usr/local/lib/python3.11/dist-packages (from torch>=1.11.0->sentence-transformers) (11.2.1.3)\n",
            "Requirement already satisfied: nvidia-curand-cu12==10.3.5.147 in /usr/local/lib/python3.11/dist-packages (from torch>=1.11.0->sentence-transformers) (10.3.5.147)\n",
            "Requirement already satisfied: nvidia-cusolver-cu12==11.6.1.9 in /usr/local/lib/python3.11/dist-packages (from torch>=1.11.0->sentence-transformers) (11.6.1.9)\n",
            "Requirement already satisfied: nvidia-cusparse-cu12==12.3.1.170 in /usr/local/lib/python3.11/dist-packages (from torch>=1.11.0->sentence-transformers) (12.3.1.170)\n",
            "Requirement already satisfied: nvidia-nccl-cu12==2.21.5 in /usr/local/lib/python3.11/dist-packages (from torch>=1.11.0->sentence-transformers) (2.21.5)\n",
            "Requirement already satisfied: nvidia-nvtx-cu12==12.4.127 in /usr/local/lib/python3.11/dist-packages (from torch>=1.11.0->sentence-transformers) (12.4.127)\n",
            "Requirement already satisfied: nvidia-nvjitlink-cu12==12.4.127 in /usr/local/lib/python3.11/dist-packages (from torch>=1.11.0->sentence-transformers) (12.4.127)\n",
            "Requirement already satisfied: triton==3.1.0 in /usr/local/lib/python3.11/dist-packages (from torch>=1.11.0->sentence-transformers) (3.1.0)\n",
            "Requirement already satisfied: mpmath<1.4,>=1.1.0 in /usr/local/lib/python3.11/dist-packages (from sympy->onnxruntime>=1.14.1->chromadb) (1.3.0)\n",
            "Requirement already satisfied: regex!=2019.12.17 in /usr/local/lib/python3.11/dist-packages (from transformers<5.0.0,>=4.41.0->sentence-transformers) (2024.11.6)\n",
            "Requirement already satisfied: safetensors>=0.4.1 in /usr/local/lib/python3.11/dist-packages (from transformers<5.0.0,>=4.41.0->sentence-transformers) (0.5.3)\n",
            "Requirement already satisfied: click>=8.0.0 in /usr/local/lib/python3.11/dist-packages (from typer>=0.9.0->chromadb) (8.1.8)\n",
            "Requirement already satisfied: shellingham>=1.3.0 in /usr/local/lib/python3.11/dist-packages (from typer>=0.9.0->chromadb) (1.5.4)\n",
            "Requirement already satisfied: httptools>=0.6.3 in /usr/local/lib/python3.11/dist-packages (from uvicorn[standard]>=0.18.3->chromadb) (0.6.4)\n",
            "Requirement already satisfied: uvloop!=0.15.0,!=0.15.1,>=0.14.0 in /usr/local/lib/python3.11/dist-packages (from uvicorn[standard]>=0.18.3->chromadb) (0.21.0)\n",
            "Requirement already satisfied: watchfiles>=0.13 in /usr/local/lib/python3.11/dist-packages (from uvicorn[standard]>=0.18.3->chromadb) (1.0.4)\n",
            "Requirement already satisfied: websockets>=10.4 in /usr/local/lib/python3.11/dist-packages (from uvicorn[standard]>=0.18.3->chromadb) (14.2)\n",
            "Requirement already satisfied: joblib>=1.2.0 in /usr/local/lib/python3.11/dist-packages (from scikit-learn->sentence-transformers) (1.4.2)\n",
            "Requirement already satisfied: threadpoolctl>=3.1.0 in /usr/local/lib/python3.11/dist-packages (from scikit-learn->sentence-transformers) (3.5.0)\n",
            "Requirement already satisfied: cachetools<6.0,>=2.0.0 in /usr/local/lib/python3.11/dist-packages (from google-auth>=1.0.1->kubernetes>=28.1.0->chromadb) (5.5.2)\n",
            "Requirement already satisfied: pyasn1-modules>=0.2.1 in /usr/local/lib/python3.11/dist-packages (from google-auth>=1.0.1->kubernetes>=28.1.0->chromadb) (0.4.1)\n",
            "Requirement already satisfied: rsa<5,>=3.1.4 in /usr/local/lib/python3.11/dist-packages (from google-auth>=1.0.1->kubernetes>=28.1.0->chromadb) (4.9)\n",
            "Requirement already satisfied: zipp>=3.20 in /usr/local/lib/python3.11/dist-packages (from importlib-metadata<8.7.0,>=6.0->opentelemetry-api>=1.2.0->chromadb) (3.21.0)\n",
            "Requirement already satisfied: jsonpointer>=1.9 in /usr/local/lib/python3.11/dist-packages (from jsonpatch<2.0,>=1.33->langchain-core<1.0.0,>=0.3.41->langchain) (3.0.0)\n",
            "Requirement already satisfied: mdurl~=0.1 in /usr/local/lib/python3.11/dist-packages (from markdown-it-py>=2.2.0->rich>=10.11.0->chromadb) (0.1.2)\n",
            "Requirement already satisfied: sniffio>=1.1 in /usr/local/lib/python3.11/dist-packages (from anyio->httpx>=0.27.0->chromadb) (1.3.1)\n",
            "Requirement already satisfied: mypy-extensions>=0.3.0 in /usr/local/lib/python3.11/dist-packages (from typing-inspect<1,>=0.4.0->dataclasses-json<0.7,>=0.5.7->langchain-community) (1.0.0)\n",
            "Requirement already satisfied: humanfriendly>=9.1 in /usr/local/lib/python3.11/dist-packages (from coloredlogs->onnxruntime>=1.14.1->chromadb) (10.0)\n",
            "Requirement already satisfied: MarkupSafe>=2.0 in /usr/local/lib/python3.11/dist-packages (from jinja2->torch>=1.11.0->sentence-transformers) (3.0.2)\n",
            "Requirement already satisfied: pyasn1<0.7.0,>=0.4.6 in /usr/local/lib/python3.11/dist-packages (from pyasn1-modules>=0.2.1->google-auth>=1.0.1->kubernetes>=28.1.0->chromadb) (0.6.1)\n"
          ]
        }
      ]
    },
    {
      "cell_type": "markdown",
      "source": [
        "Попробуйте несколько разных вопросов, посмотрите, как модель выбирает ответы:"
      ],
      "metadata": {
        "id": "UfTflBhEEqen"
      }
    },
    {
      "cell_type": "markdown",
      "source": [
        "###Загрузка данных:\n",
        "\n",
        "Теперь попробуем c реальным документом. Мы загрузим годовой финансовый отчет для акционеров корпорации Microsoft в формате PDF-документа"
      ],
      "metadata": {
        "id": "IA5KaDgzG3pm"
      }
    },
    {
      "cell_type": "markdown",
      "source": [
        "ваш URL-адрес для совместного использования документа на Google Drive выглядит примерно так:\n",
        "\n",
        "`https://drive.google.com/file/d/`**1LDRlyZaZTF-bxHjBDEiL2obMxYHtf3YT**`/view?usp=sharing`\n",
        "\n",
        "отсюда надо извлечь идентификатор файла, часть между /d/ и /view, и поместить его в новый URL-адрес, который выглядит так:\n",
        "\n",
        "`https://drive.google.com/uc?export=download&id=`**1LDRlyZaZTF-bxHjBDEiL2obMxYHtf3YT**"
      ],
      "metadata": {
        "id": "Bjwi50D543pD"
      }
    },
    {
      "cell_type": "markdown",
      "source": [
        "Извлечем из PDF текст, и посмотрим на первую страницу"
      ],
      "metadata": {
        "id": "0-C1wzxlFPXm"
      }
    },
    {
      "cell_type": "code",
      "source": [
        "def word_wrap(text, width=87):\n",
        "    \"\"\"\n",
        "    Форматирует текст на указанную ширину.\n",
        "\n",
        "    Args:\n",
        "    text (str): Текст для форматирования.\n",
        "    width (int): Новая ширина текста.\n",
        "\n",
        "    Returns:\n",
        "    str: форматированный текст.\n",
        "    \"\"\"\n",
        "    return \"\\n\".join([text[i : i + width] for i in range(0, len(text), width)])\n",
        "\n",
        "\n",
        "\n",
        "with open(\"Особые преимущества.txt\", \"r\") as file:\n",
        "  texts = file.readlines()\n",
        "\n",
        "\n",
        "# Filter the empty strings\n",
        "texts = [text for text in texts if len(text) > 2]\n",
        "print(\n",
        "    word_wrap(\n",
        "        texts[0],\n",
        "        width=100,\n",
        "    )\n",
        ")"
      ],
      "metadata": {
        "id": "cqqX5mXO9K8f",
        "colab": {
          "base_uri": "https://localhost:8080/"
        },
        "outputId": "b800fb08-5411-44a4-ba73-b4d411c2fa94"
      },
      "execution_count": null,
      "outputs": [
        {
          "output_type": "stream",
          "name": "stdout",
          "text": [
            "Особые права и преимущества. Бакалавриат\n",
            "\n"
          ]
        }
      ]
    },
    {
      "cell_type": "markdown",
      "source": [
        "Подключим модель OpenAI"
      ],
      "metadata": {
        "id": "HCAuW10d84_5"
      }
    },
    {
      "cell_type": "code",
      "source": [
        "from openai import OpenAI\n",
        "import numpy as np\n",
        "import chromadb\n",
        "import pandas as pd\n",
        "\n",
        "\n",
        "from google.colab import userdata\n",
        "openai_api_key = userdata.get('OPENAI_API_KEY')\n",
        "client = OpenAI(api_key=openai_api_key)\n",
        "\n",
        "\n"
      ],
      "metadata": {
        "id": "Q-P-GVRLkJY1"
      },
      "execution_count": null,
      "outputs": []
    },
    {
      "cell_type": "code",
      "source": [
        "client.models.list()"
      ],
      "metadata": {
        "id": "rtmeTdIFFy6e",
        "colab": {
          "base_uri": "https://localhost:8080/"
        },
        "outputId": "dc7ff96d-55ff-408f-b264-d9de2041da15"
      },
      "execution_count": null,
      "outputs": [
        {
          "output_type": "execute_result",
          "data": {
            "text/plain": [
              "SyncPage[Model](data=[Model(id='gpt-4o-mini-audio-preview-2024-12-17', created=1734115920, object='model', owned_by='system'), Model(id='dall-e-3', created=1698785189, object='model', owned_by='system'), Model(id='dall-e-2', created=1698798177, object='model', owned_by='system'), Model(id='gpt-4o-audio-preview-2024-10-01', created=1727389042, object='model', owned_by='system'), Model(id='gpt-4o-audio-preview', created=1727460443, object='model', owned_by='system'), Model(id='gpt-4o-mini-realtime-preview-2024-12-17', created=1734112601, object='model', owned_by='system'), Model(id='gpt-4o-mini-realtime-preview', created=1734387380, object='model', owned_by='system'), Model(id='o1-mini-2024-09-12', created=1725648979, object='model', owned_by='system'), Model(id='o1-mini', created=1725649008, object='model', owned_by='system'), Model(id='omni-moderation-latest', created=1731689265, object='model', owned_by='system'), Model(id='gpt-4o-mini-audio-preview', created=1734387424, object='model', owned_by='system'), Model(id='omni-moderation-2024-09-26', created=1732734466, object='model', owned_by='system'), Model(id='gpt-4o-realtime-preview-2024-10-01', created=1727131766, object='model', owned_by='system'), Model(id='babbage-002', created=1692634615, object='model', owned_by='system'), Model(id='tts-1-hd-1106', created=1699053533, object='model', owned_by='system'), Model(id='text-embedding-3-large', created=1705953180, object='model', owned_by='system'), Model(id='gpt-4o-audio-preview-2024-12-17', created=1734034239, object='model', owned_by='system'), Model(id='gpt-4', created=1687882411, object='model', owned_by='openai'), Model(id='gpt-4o-mini-2024-07-18', created=1721172717, object='model', owned_by='system'), Model(id='gpt-4o-2024-05-13', created=1715368132, object='model', owned_by='system'), Model(id='gpt-4o-mini', created=1721172741, object='model', owned_by='system'), Model(id='gpt-4o-2024-11-20', created=1739331543, object='model', owned_by='system'), Model(id='tts-1-hd', created=1699046015, object='model', owned_by='system'), Model(id='o1-preview', created=1725648897, object='model', owned_by='system'), Model(id='o1-preview-2024-09-12', created=1725648865, object='model', owned_by='system'), Model(id='o1-2024-12-17', created=1734326976, object='model', owned_by='system'), Model(id='gpt-3.5-turbo-instruct-0914', created=1694122472, object='model', owned_by='system'), Model(id='gpt-4o-mini-search-preview', created=1741391161, object='model', owned_by='system'), Model(id='o1', created=1734375816, object='model', owned_by='system'), Model(id='tts-1-1106', created=1699053241, object='model', owned_by='system'), Model(id='davinci-002', created=1692634301, object='model', owned_by='system'), Model(id='gpt-3.5-turbo-1106', created=1698959748, object='model', owned_by='system'), Model(id='gpt-4o-search-preview', created=1741388720, object='model', owned_by='system'), Model(id='gpt-4-turbo', created=1712361441, object='model', owned_by='system'), Model(id='o3-mini-2025-01-31', created=1738010200, object='model', owned_by='system'), Model(id='gpt-3.5-turbo-instruct', created=1692901427, object='model', owned_by='system'), Model(id='gpt-4o-mini-search-preview-2025-03-11', created=1741390858, object='model', owned_by='system'), Model(id='gpt-3.5-turbo-0125', created=1706048358, object='model', owned_by='system'), Model(id='gpt-4o-2024-08-06', created=1722814719, object='model', owned_by='system'), Model(id='o3-mini', created=1737146383, object='model', owned_by='system'), Model(id='gpt-4o-realtime-preview-2024-12-17', created=1733945430, object='model', owned_by='system'), Model(id='gpt-3.5-turbo', created=1677610602, object='model', owned_by='openai'), Model(id='gpt-4-turbo-2024-04-09', created=1712601677, object='model', owned_by='system'), Model(id='gpt-4o-realtime-preview', created=1727659998, object='model', owned_by='system'), Model(id='gpt-3.5-turbo-16k', created=1683758102, object='model', owned_by='openai-internal'), Model(id='gpt-4o', created=1715367049, object='model', owned_by='system'), Model(id='text-embedding-3-small', created=1705948997, object='model', owned_by='system'), Model(id='chatgpt-4o-latest', created=1723515131, object='model', owned_by='system'), Model(id='gpt-4-1106-preview', created=1698957206, object='model', owned_by='system'), Model(id='text-embedding-ada-002', created=1671217299, object='model', owned_by='openai-internal'), Model(id='gpt-4-0613', created=1686588896, object='model', owned_by='openai'), Model(id='tts-1', created=1681940951, object='model', owned_by='openai-internal'), Model(id='gpt-4-turbo-preview', created=1706037777, object='model', owned_by='system'), Model(id='gpt-4.5-preview', created=1740623059, object='model', owned_by='system'), Model(id='whisper-1', created=1677532384, object='model', owned_by='openai-internal'), Model(id='gpt-4.5-preview-2025-02-27', created=1740623304, object='model', owned_by='system'), Model(id='gpt-4o-search-preview-2025-03-11', created=1741388170, object='model', owned_by='system'), Model(id='gpt-4-0125-preview', created=1706037612, object='model', owned_by='system')], object='list')"
            ]
          },
          "metadata": {},
          "execution_count": 5
        }
      ]
    },
    {
      "cell_type": "markdown",
      "source": [
        "###Разбиение данных на части:\n",
        "\n",
        "Разделим текст на более мелкие фрагменты с использованием инструментов RecursiveCharacterTextSplitter и SentenceTransformersTokenTextSplitter из **Langchain** *. \\\\\n",
        "\n",
        "Этот шаг гарантирует, что текст разбит на управляемые сегменты, учитывая ограничения по размеру токенов больших языковых моделей\n",
        "___________________________________\n",
        "**LangChain** — это фреймворк (библиотека) с открытым исходным кодом, предназначенный для упрощения разработки приложений, использующих большие языковые модели (LLM), такие как GPT-3, LLaMa, и другие. Он предоставляет инструменты для соединения LLM с различными источниками данных (базы данных, API, документы) и позволяет создавать цепочки (chains) последовательных вызовов LLM и других компонентов, реализуя сложные сценарии взаимодействия.\n",
        "\n",
        "По сути, LangChain помогает \"подружить\" мощь языковых моделей с внешним миром и вашими данными."
      ],
      "metadata": {
        "id": "eLoXv0dnGkMe"
      }
    },
    {
      "cell_type": "code",
      "source": [
        "# Разделение текста на более мелкие фрагменты\n",
        "\n",
        "from langchain.text_splitter import (\n",
        "    RecursiveCharacterTextSplitter,\n",
        "    SentenceTransformersTokenTextSplitter,\n",
        ")\n",
        "\n",
        "character_splitter = RecursiveCharacterTextSplitter(\n",
        "    separators=[\"\\n\\n\", \"\\n\", \". \", \" \", \"\"], chunk_size=1000, chunk_overlap=0\n",
        ")\n",
        "character_split_texts = character_splitter.split_text(\"\\n\\n\".join(texts))\n",
        "\n"
      ],
      "metadata": {
        "id": "6ddZNgIInEuP"
      },
      "execution_count": null,
      "outputs": []
    },
    {
      "cell_type": "markdown",
      "source": [
        "### Токенизация фрагментов текста"
      ],
      "metadata": {
        "id": "ZVAFHf1ALRnG"
      }
    },
    {
      "cell_type": "code",
      "source": [
        "token_splitter = SentenceTransformersTokenTextSplitter(\n",
        "    chunk_overlap=0, tokens_per_chunk=256\n",
        ")\n",
        "token_split_texts = []\n",
        "for text in character_split_texts:\n",
        "    token_split_texts += token_splitter.split_text(text)\n",
        "# выведем один chunk\n",
        "print(\"Один из отрывков текста:\\n\", word_wrap(token_split_texts[10]))\n",
        "print(f\"\\nВсего отрывков: {len(token_split_texts)}\")\n"
      ],
      "metadata": {
        "id": "ckVlCQP4LQfy",
        "colab": {
          "base_uri": "https://localhost:8080/"
        },
        "outputId": "55b5d5ed-1d9c-4385-d1d0-8f1aa13771ef"
      },
      "execution_count": null,
      "outputs": [
        {
          "output_type": "stream",
          "name": "stdout",
          "text": [
            "Один из отрывков текста:\n",
            " 4. для приема на обучение лиц, имеющих право на прием без вступительных испытании в соо\n",
            "тветствии с частью 4 статьи 71 федерального закона n 273 - фз, агу им. в. н. татищева и\n",
            " филиал : устанавливают соответствие конкурсных профилеи ( образовательных программ, сп\n",
            "ециальностеи, направлении подготовки, совокупностеи\n",
            "\n",
            "Всего отрывков: 31\n"
          ]
        }
      ]
    },
    {
      "cell_type": "markdown",
      "source": [
        "### Генерация эмбеддингов из полученных токенов\n",
        "Генерация embeddings для каждого текстового фрагмента с использованием функции [sentence transformer embedding](https://docs.trychroma.com/docs/embeddings/embedding-functions)\n",
        "\n",
        "**Эмбеддинги** — это способ представления любых данных, в виде векторов многомерного пространства, что делает их идеальными для работы со всеми видами инструментов и алгоритмов на основе ИИ. Эмбеддинги могут представлять текст, изображения, аудио и видео. Существует множество вариантов создания эмбеддингов, как локально с использованием установленной библиотеки, так и путем вызова API.\n",
        "\n",
        "Библиотека **ChromaDB** * предоставляет легкие оболочки вокруг популярных поставщиков эмбеддингов, что упрощает их использование в ваших приложениях. Вы можете задать эмбеддинг-функцию при создании коллекции Chroma, которая будет использоваться автоматически, или можете вызывать их напрямую самостоятельно.\n",
        "________________________________\n",
        "**ChromaDB** — это векторная база данных с открытым исходным кодом, предназначенная для хранения и быстрого поиска векторных представлений (эмбеддингов) данных, что делает её полезной для задач, связанных с искусственным интеллектом, таких как семантический поиск и рекомендательные системы. Она оптимизирована для работы с высокоразмерными данными и позволяет находить ближайшие векторы по сходству.\n",
        "\n",
        "####Аналоги ChromaDB:\n",
        "\n",
        "**FAISS** (Facebook AI Similarity Search): Библиотека от Facebook, специализирующаяся на эффективном поиске сходства и кластеризации плотных векторов.\n",
        "\n",
        "**Pinecone**: Управляемая векторная база данных, предлагающая масштабируемость и простоту использования через API.\n",
        "\n",
        "**Weaviate**: Векторная поисковая система с открытым исходным кодом, поддерживающая семантический поиск, классификацию изображений и многое другое.\n",
        "\n",
        "**Milvus**: База данных векторного поиска с открытым исходным кодом, разработанная для масштабируемости и производительности.\n",
        "\n",
        "**Qdrant**: Векторная поисковая система и векторная база данных, предлагает удобный API со множеством дополнительных функций\n"
      ],
      "metadata": {
        "id": "cokheAayKDT2"
      }
    },
    {
      "cell_type": "code",
      "source": [
        "import chromadb\n",
        "from chromadb.utils.embedding_functions import SentenceTransformerEmbeddingFunction\n",
        "\n",
        "embedding_function = SentenceTransformerEmbeddingFunction()\n",
        "# выведем один эмбеддинг\n",
        "em = embedding_function([token_split_texts[10]])\n",
        "\n",
        "print(\"Эмбеддинг одного из отрывков:\\n\", em)\n",
        "print(np.array(em).shape)"
      ],
      "metadata": {
        "id": "nj6_v8BxICjj",
        "colab": {
          "base_uri": "https://localhost:8080/"
        },
        "outputId": "9b91ede5-2674-4fee-d909-fb9153821fde"
      },
      "execution_count": null,
      "outputs": [
        {
          "output_type": "stream",
          "name": "stdout",
          "text": [
            "Эмбеддинг одного из отрывков:\n",
            " [array([ 1.86110828e-02, -3.99156101e-02, -7.29644075e-02, -7.55462376e-03,\n",
            "       -8.14066380e-02,  3.88432965e-02,  2.76802387e-02,  4.15999629e-02,\n",
            "       -9.65302438e-03,  2.45976765e-02, -1.89577229e-02,  6.03193007e-02,\n",
            "        3.60283852e-02,  4.80087250e-02,  2.50687450e-02, -3.71714458e-02,\n",
            "       -8.47402029e-03,  2.31298935e-02, -2.72870250e-03, -4.15218621e-03,\n",
            "        3.05089001e-02, -3.79448682e-02,  1.07354119e-01, -4.05953601e-02,\n",
            "        5.66963516e-02, -5.20912819e-02, -2.56003737e-02, -6.32721856e-02,\n",
            "        1.83219723e-02,  7.19320625e-02, -2.35845186e-02, -3.16286855e-03,\n",
            "        1.03453711e-01, -5.08052558e-02, -7.00228964e-04, -5.97976781e-02,\n",
            "        5.47678098e-02, -6.06133277e-03, -1.61711348e-03,  1.25590712e-01,\n",
            "       -6.64787740e-02,  2.66229734e-02, -1.00849055e-01,  4.21291180e-02,\n",
            "       -5.27381264e-02,  3.33099663e-02, -7.50783086e-02, -4.46675858e-03,\n",
            "       -6.97162971e-02, -6.26312345e-02,  5.22918254e-03,  4.49469388e-02,\n",
            "        2.14773160e-03,  3.40995081e-02, -6.39982074e-02, -2.07262591e-01,\n",
            "       -3.91308442e-02,  5.34523055e-02, -7.31197894e-02,  7.18020499e-02,\n",
            "        1.97790023e-02, -1.20154815e-02,  1.74321085e-02, -8.48547444e-02,\n",
            "       -9.83072817e-03,  2.18427870e-02,  3.70760113e-02, -4.84215058e-02,\n",
            "       -2.60676350e-02,  2.93965321e-02, -2.60932874e-02,  4.39495668e-02,\n",
            "       -6.60127252e-02, -3.27451639e-02, -6.17973916e-02, -7.56639615e-02,\n",
            "       -1.23509280e-02,  8.40486493e-03, -1.44903809e-01, -7.04242587e-02,\n",
            "        8.94077569e-02,  4.09088889e-03, -1.66407172e-02, -4.83216979e-02,\n",
            "        5.26608247e-03,  2.23848578e-02,  2.12118831e-02,  3.04591414e-02,\n",
            "       -2.73592980e-03,  2.22308207e-02,  1.05616599e-01,  4.43301499e-02,\n",
            "        1.80265270e-02, -7.34493881e-02,  1.08276404e-01, -1.05265379e-02,\n",
            "       -2.21173279e-02,  1.35212569e-02,  1.47716388e-01, -1.01002760e-01,\n",
            "        6.46942621e-03, -7.39450306e-02, -6.80457875e-02, -1.16621575e-03,\n",
            "       -4.87757213e-02, -1.46185886e-02, -2.37209965e-02, -8.39911029e-03,\n",
            "        5.14582032e-04,  1.04346126e-02,  5.35513856e-04, -7.46656656e-02,\n",
            "        1.58913322e-02,  3.14222346e-03,  1.21017881e-02, -1.61775053e-02,\n",
            "       -4.81197909e-02, -2.96152942e-02,  6.39486015e-02,  9.78183150e-02,\n",
            "        6.65299520e-02,  6.21195603e-03,  1.21657431e-01,  3.01591363e-02,\n",
            "        1.17097087e-02,  9.86521617e-02, -3.44910622e-02,  8.90682502e-33,\n",
            "        5.03770150e-02,  8.26940835e-02, -3.26828845e-02, -1.70186944e-02,\n",
            "       -4.13046777e-02,  3.96969169e-03, -5.49678542e-02, -1.59865580e-02,\n",
            "        3.48378271e-02,  5.20562101e-03, -9.27492827e-02,  6.64904490e-02,\n",
            "        1.78647786e-02, -6.15091734e-02,  8.92550200e-02,  5.20016663e-02,\n",
            "        3.63145955e-02, -1.55962855e-02,  5.24215177e-02,  3.43700275e-02,\n",
            "        4.60204147e-02,  1.02211289e-01, -3.61427031e-02,  2.82454751e-02,\n",
            "        2.17165481e-02,  1.15594529e-01, -4.71236967e-02, -2.30206382e-02,\n",
            "       -3.42499278e-02, -3.30217294e-02, -8.06927960e-03, -1.97008997e-02,\n",
            "       -5.26292436e-02,  4.47015889e-04, -2.24895123e-03, -5.27370125e-02,\n",
            "       -3.08619682e-02,  1.86130423e-02,  5.84328659e-02, -1.73442643e-02,\n",
            "        1.29425609e-02, -6.00495609e-03,  1.02639399e-01,  1.97953098e-02,\n",
            "        1.20719105e-01,  3.68363000e-02, -1.48178842e-02,  1.93652008e-02,\n",
            "        7.53798038e-02, -4.73499596e-02, -1.00742161e-01,  1.04599878e-01,\n",
            "       -1.49968565e-02, -3.54671897e-03,  2.66546719e-02,  5.27063990e-03,\n",
            "       -3.47287580e-02,  2.28632018e-02, -4.87297848e-02, -3.98651361e-02,\n",
            "       -2.27070861e-02,  6.40299113e-04,  2.57089995e-02, -5.11445925e-02,\n",
            "        4.54969071e-02, -1.04628066e-02, -4.45741937e-02, -3.68029773e-02,\n",
            "        3.66775766e-02,  9.47381631e-02, -6.11677691e-02,  2.25793310e-02,\n",
            "       -4.78767268e-02, -4.62558344e-02,  3.80599052e-02, -1.66738518e-02,\n",
            "       -1.41868205e-03, -5.54257631e-03, -4.35711704e-02, -1.79607831e-02,\n",
            "       -7.77824894e-02, -8.76143677e-05, -5.42591773e-02, -1.07967751e-02,\n",
            "       -1.04767857e-02,  8.43517855e-03,  1.69545617e-02,  1.68265905e-02,\n",
            "       -2.17615906e-03, -1.88847352e-02, -7.35893548e-02, -3.64059838e-03,\n",
            "        2.44823331e-03, -1.93020217e-02, -6.75963089e-02, -1.24327438e-32,\n",
            "        1.19925113e-02,  6.03882223e-02, -4.05835286e-02,  7.63547942e-02,\n",
            "       -2.54586972e-02,  6.32763728e-02, -6.22316711e-02,  1.37553420e-02,\n",
            "       -4.07729968e-02,  1.80895999e-02,  5.68241552e-02, -4.96657491e-02,\n",
            "        4.52651531e-02, -2.85173804e-02, -5.62776402e-02,  2.21988838e-02,\n",
            "       -7.49790072e-02,  3.36403884e-02, -4.60387990e-02, -6.05044067e-02,\n",
            "       -6.68346360e-02, -5.99008892e-03,  3.49726342e-02, -7.69041060e-03,\n",
            "        2.26448383e-02, -2.01617572e-02,  1.02072261e-01, -1.17674768e-01,\n",
            "       -2.08540112e-02,  3.05831302e-02,  2.76108626e-02,  3.29888915e-03,\n",
            "       -4.95204739e-02,  5.73297963e-02,  2.23149359e-02, -6.92801457e-03,\n",
            "        4.18785587e-02,  5.04775010e-02, -4.46588099e-02, -7.93847779e-04,\n",
            "       -1.07699831e-03,  1.88550097e-03,  1.21585570e-01, -3.76594327e-02,\n",
            "        2.59293932e-02, -1.10445298e-01, -4.17159833e-02,  8.99650098e-04,\n",
            "       -9.77824349e-03, -2.53512040e-02,  1.99001636e-02, -4.07708995e-03,\n",
            "       -6.98765069e-02, -6.72546700e-02,  1.83453877e-02, -3.74456607e-02,\n",
            "       -3.58658321e-02, -6.28181221e-03,  3.43982689e-03, -1.87502895e-02,\n",
            "       -5.22253998e-02,  1.01567851e-02,  1.00546531e-01, -8.49249680e-03,\n",
            "       -2.65016314e-02, -5.95230749e-03,  7.56582385e-03,  3.81433740e-02,\n",
            "        1.77829061e-02, -3.43487561e-02, -1.74468034e-04, -6.89104795e-02,\n",
            "        8.66767168e-02,  7.50188231e-02, -2.43196916e-02,  2.69254055e-02,\n",
            "       -1.90901179e-02,  3.81653532e-02,  7.67277693e-03,  4.04002182e-02,\n",
            "       -6.07598461e-02, -1.85831945e-04, -8.05804655e-02, -4.03328612e-03,\n",
            "       -7.31691951e-03,  4.38488508e-03,  2.38062330e-02, -1.48626398e-02,\n",
            "        5.50760105e-02, -4.50517908e-02,  4.10568491e-02,  2.84261387e-02,\n",
            "        9.54693034e-02,  1.53473606e-02,  7.19756484e-02, -5.31007593e-08,\n",
            "        5.81401587e-02, -5.70309674e-03, -2.82281451e-02,  3.68425176e-02,\n",
            "       -2.20465828e-02, -2.57141758e-02,  7.05412729e-03, -8.29615165e-03,\n",
            "       -1.51507467e-01, -3.28286947e-03, -9.85400826e-02,  4.20431122e-02,\n",
            "       -4.56866249e-02,  4.19496233e-03, -1.11265533e-01, -5.18402457e-02,\n",
            "       -3.66708497e-03, -6.12357296e-02,  3.28932293e-02,  1.56758241e-02,\n",
            "        6.86271936e-02, -3.33973914e-02, -4.97454666e-02, -9.73982140e-02,\n",
            "       -1.36383742e-01,  1.18722729e-02, -4.21532169e-02, -1.28011376e-01,\n",
            "        8.44495371e-03, -1.84534974e-02,  1.53334800e-03, -2.84423176e-02,\n",
            "        2.48645190e-02, -7.89549723e-02,  3.68160829e-02, -4.01704535e-02,\n",
            "        2.26563402e-02,  3.13347839e-02, -9.55120027e-02,  5.40344045e-02,\n",
            "        6.30088672e-02, -7.36404434e-02,  1.43773528e-02,  1.23060662e-02,\n",
            "        7.29380101e-02, -4.28566411e-02, -8.30061287e-02, -4.43416722e-02,\n",
            "        1.09364958e-02,  1.20413108e-02,  1.99961271e-02,  7.22811595e-02,\n",
            "       -5.34858136e-03,  1.21053774e-02, -6.31908178e-02,  2.41546538e-02,\n",
            "       -3.62868537e-03, -3.21887829e-03,  1.70386378e-02, -3.72873573e-03,\n",
            "       -4.29315167e-03,  1.65955983e-02, -6.87713642e-03,  6.90268679e-03],\n",
            "      dtype=float32)]\n",
            "(1, 384)\n"
          ]
        }
      ]
    },
    {
      "cell_type": "code",
      "source": [
        "# Настройка векторной базы данных:\n",
        "\n",
        "# Инициализация клиента ChromaDB\n",
        "chroma_client = chromadb.Client()\n",
        "# создание коллекции для хранения текстовых фрагментов и соответствующих embeddings.\n",
        "chroma_collection = chroma_client.create_collection(\n",
        "    \"priem\", embedding_function=embedding_function\n",
        ")\n",
        "# Добавление текстовых фрагментов и embeddings в коллекцию ChromaDB\n",
        "# Так мы создаем векторное хранилище\n",
        "\n",
        "ids = [str(i) for i in range(len(token_split_texts))]\n",
        "chroma_collection.add(ids=ids, documents=token_split_texts)\n",
        "chroma_collection.count()\n"
      ],
      "metadata": {
        "id": "IokjUQs1brHQ",
        "colab": {
          "base_uri": "https://localhost:8080/"
        },
        "outputId": "adcd3e0f-f14b-4bf4-8387-ac9e5acd9ea1"
      },
      "execution_count": null,
      "outputs": [
        {
          "output_type": "execute_result",
          "data": {
            "text/plain": [
              "31"
            ]
          },
          "metadata": {},
          "execution_count": 9
        }
      ]
    },
    {
      "cell_type": "markdown",
      "source": [
        "### Обработка запросов:\n",
        "Посмотрим пример входного запроса и передачи его в большую языковую модель для поиска подходящего фрагмента в заданном тексте.\n",
        "\n",
        "В этом примере запрос снабжается системным промптом, в котором задаётся роль модели и паттерн желаемого ответа.\n",
        "\n",
        "Это будет \"гипотетический\" ответ, придуманный моделью и не имеющий отношения к реальному документу"
      ],
      "metadata": {
        "id": "ivnKnFzwOkC3"
      }
    },
    {
      "cell_type": "code",
      "source": [
        "import umap\n",
        "original_query =\"Какие условия поступления для сирот?\"\n",
        "\n",
        "def augment_query_generated(query, model=\"gpt-4o-mini\"):#\"gpt-3.5-turbo\"\n",
        "    prompt = \"\"\"Вы секретарь приемной коммисии.\n",
        "   Приведите пример ответа на этот вопрос, который можно найти в таком документе, как особые правила приема.\"\"\"\n",
        "    messages = [\n",
        "        {\n",
        "            \"role\": \"system\",\n",
        "            \"content\": prompt,\n",
        "        },\n",
        "        {\"role\": \"user\", \"content\": query},\n",
        "    ]\n",
        "\n",
        "    response = client.chat.completions.create(\n",
        "        model=model,\n",
        "        messages=messages,\n",
        "    )\n",
        "    content = response.choices[0].message.content\n",
        "    return content\n",
        "\n",
        "def project_embeddings(embeddings, umap_transform):\n",
        "    \"\"\"\n",
        "    Проецирует полученные эмбеддинги с использованием предоставленного трансформера UMAP.\n",
        "\n",
        "    Аргументы:\n",
        "    embeddings (numpy.ndarray): эмбеддинги для проецирования.\n",
        "    umap_transform (umap.UMAP): обученный трансформер UMAP.\n",
        "\n",
        "    Возвращает:\n",
        "    numpy.ndarray: спроецированные эмбеддинги.\n",
        "    \"\"\"\n",
        "    projected_embeddings = umap_transform.transform(embeddings)\n",
        "    return projected_embeddings\n",
        "\n",
        "\n",
        "\n",
        "hypothetical_answer = augment_query_generated(original_query)\n",
        "\n",
        "joint_query = f\"{original_query}\\n\\n {hypothetical_answer}\"\n",
        "print(word_wrap(joint_query))\n",
        "\n",
        "results = chroma_collection.query(\n",
        "    query_texts=joint_query, n_results=5, include=[\"documents\", \"embeddings\"]\n",
        ")\n",
        "retrieved_documents = results[\"documents\"][0]\n",
        "\n",
        "\n",
        "# for doc in retrieved_documents:\n",
        "#     print(word_wrap(doc))\n",
        "#     print(\"\")\n",
        "\n",
        "embeddings = chroma_collection.get(include=[\"embeddings\"])[\"embeddings\"]\n",
        "umap_transform = umap.UMAP(random_state=0, transform_seed=0).fit(embeddings)\n",
        "projected_dataset_embeddings = project_embeddings(embeddings, umap_transform)\n",
        "\n",
        "\n",
        "retrieved_embeddings = results[\"embeddings\"][0]\n",
        "original_query_embedding = embedding_function([original_query])\n",
        "augmented_query_embedding = embedding_function([joint_query])\n",
        "\n",
        "projected_original_query_embedding = project_embeddings(\n",
        "    original_query_embedding, umap_transform\n",
        ")\n",
        "projected_augmented_query_embedding = project_embeddings(\n",
        "    augmented_query_embedding, umap_transform\n",
        ")\n",
        "projected_retrieved_embeddings = project_embeddings(\n",
        "    retrieved_embeddings, umap_transform\n",
        ")\n"
      ],
      "metadata": {
        "id": "AxFf3ykq00T9",
        "colab": {
          "base_uri": "https://localhost:8080/"
        },
        "outputId": "f9d4e319-ed1d-4a6a-97ac-ecad8e6d1376"
      },
      "execution_count": null,
      "outputs": [
        {
          "output_type": "stream",
          "name": "stdout",
          "text": [
            "Какие условия поступления для сирот?\n",
            "\n",
            " Условия поступления для сирот могут быть указаны\n",
            " в специальных правилах приема. Например, в некоторых учебных заведениях для сирот пред\n",
            "усмотрены следующие льготы и особенности:\n",
            "\n",
            "1. **Приоритетное право на поступление** – с\n",
            "ироты могут иметь преимущество при зачислении на бюджетные места.\n",
            "   \n",
            "2. **Дополнительн\n",
            "ые баллы** – в зависимости от региона или учебного заведения, сироты могут получать доп\n",
            "олнительные баллы к результатам экзаменов.\n",
            "\n",
            "3. **Социальные льготы** – предоставление б\n",
            "есплатного общежития, стипендий или пособий на обучение.\n",
            "\n",
            "4. **Обработка документов** –\n",
            " упрощенный порядок подачи документов или дополнительные консультации по вопросам посту\n",
            "пления.\n",
            "\n",
            "Рекомендуется уточнить актуальную информацию в индивидуальном учебном заведени\n",
            "и или ознакомиться с официальными правилами приема на их сайте.\n"
          ]
        },
        {
          "output_type": "stream",
          "name": "stderr",
          "text": [
            "/usr/local/lib/python3.11/dist-packages/sklearn/utils/deprecation.py:151: FutureWarning: 'force_all_finite' was renamed to 'ensure_all_finite' in 1.6 and will be removed in 1.8.\n",
            "  warnings.warn(\n",
            "/usr/local/lib/python3.11/dist-packages/umap/umap_.py:1952: UserWarning: n_jobs value 1 overridden to 1 by setting random_state. Use no seed for parallelism.\n",
            "  warn(\n",
            "/usr/local/lib/python3.11/dist-packages/sklearn/utils/deprecation.py:151: FutureWarning: 'force_all_finite' was renamed to 'ensure_all_finite' in 1.6 and will be removed in 1.8.\n",
            "  warnings.warn(\n",
            "/usr/local/lib/python3.11/dist-packages/sklearn/utils/deprecation.py:151: FutureWarning: 'force_all_finite' was renamed to 'ensure_all_finite' in 1.6 and will be removed in 1.8.\n",
            "  warnings.warn(\n",
            "/usr/local/lib/python3.11/dist-packages/sklearn/utils/deprecation.py:151: FutureWarning: 'force_all_finite' was renamed to 'ensure_all_finite' in 1.6 and will be removed in 1.8.\n",
            "  warnings.warn(\n",
            "/usr/local/lib/python3.11/dist-packages/sklearn/utils/deprecation.py:151: FutureWarning: 'force_all_finite' was renamed to 'ensure_all_finite' in 1.6 and will be removed in 1.8.\n",
            "  warnings.warn(\n"
          ]
        }
      ]
    },
    {
      "cell_type": "markdown",
      "source": [
        "Посмотрите, как выглядит проекция многомерного семантического пространства.\n",
        "* **Серые точки** - эмбеддинги документа\n",
        "* **Зеленые кружки** - эмбеддинги фрагментов текста, извлеченные по запросу\n",
        "* **красные крестики** - эмбеддинги исходного запроса\n",
        "* **оранжевые крестики** - эмбеддинги расширенного запроса. \\\n",
        "Они должны попасть в область, наиболее близкую к извлеченным эмбеддингам. Здесь может использоваться быстрый алгоритм кластеризации, например k-means"
      ],
      "metadata": {
        "id": "Uze_zrBWTEqt"
      }
    },
    {
      "cell_type": "code",
      "source": [
        "\n",
        "import matplotlib.pyplot as plt\n",
        "\n",
        "# Plot the projected query and retrieved documents in the embedding space\n",
        "plt.figure()\n",
        "\n",
        "plt.scatter(\n",
        "    projected_dataset_embeddings[:, 0],\n",
        "    projected_dataset_embeddings[:, 1],\n",
        "    s=10,\n",
        "    color=\"gray\",\n",
        ")\n",
        "plt.scatter(\n",
        "    projected_retrieved_embeddings[:, 0],\n",
        "    projected_retrieved_embeddings[:, 1],\n",
        "    s=100,\n",
        "    facecolors=\"none\",\n",
        "    edgecolors=\"g\",\n",
        ")\n",
        "plt.scatter(\n",
        "    projected_original_query_embedding[:, 0],\n",
        "    projected_original_query_embedding[:, 1],\n",
        "    s=150,\n",
        "    marker=\"X\",\n",
        "    color=\"r\",\n",
        ")\n",
        "plt.scatter(\n",
        "    projected_augmented_query_embedding[:, 0],\n",
        "    projected_augmented_query_embedding[:, 1],\n",
        "    s=150,\n",
        "    marker=\"X\",\n",
        "    color=\"orange\",\n",
        ")\n",
        "\n",
        "plt.gca().set_aspect(\"equal\", \"datalim\")\n",
        "plt.title(f\"{original_query}\")\n",
        "plt.axis(\"off\")\n",
        "plt.show()  # display the plot"
      ],
      "metadata": {
        "id": "E3mqc5DYpNc4",
        "colab": {
          "base_uri": "https://localhost:8080/",
          "height": 428
        },
        "outputId": "9f2f8dec-7c77-40c4-f1be-4972f35cc4bb"
      },
      "execution_count": null,
      "outputs": [
        {
          "output_type": "display_data",
          "data": {
            "text/plain": [
              "<Figure size 640x480 with 1 Axes>"
            ],
            "image/png": "[encoded data removed]"
          },
          "metadata": {}
        }
      ]
    },
    {
      "cell_type": "markdown",
      "source": [
        "### Генерация ответа\n",
        "Теперь попробуем использовать извлеченные из нашего документа отрывки для более точного ответа на вопрос.\n",
        "\n",
        "* Передача извлеченных документов и исходного запроса большой языковой модели для создания окончательного ответа.\n",
        "* Языковая модель использует извлеченные отрывки как контекст для предоставления обоснованного ответа"
      ],
      "metadata": {
        "id": "DC47Vfw-cU_7"
      }
    },
    {
      "cell_type": "code",
      "source": [
        "original_query = \"Какие условия поступления для сирот?\"\n",
        "\n",
        "\n",
        "def generate_multi_query(query, model=\"gpt-4o-mini\"):#gpt-3.5-turbo\"\n",
        "\n",
        "    prompt = \"\"\"\n",
        "    Вы секретарь приемной коммисии.\n",
        "    Ваши пользователи интересуются правилами поступления.\n",
        "    Для данного вопроса предложите до трех связанных вопросов, чтобы помочь им найти необходимую информацию.\n",
        "    Задавайте краткие однотематические вопросы (без составных предложений), которые охватывают различные аспекты темы.\n",
        "    Убедитесь, что каждый вопрос является полным и напрямую связан с исходным запросом.\n",
        "    Каждый вопрос записывайте на отдельной строке без нумерации.\n",
        "    Все результаты пишите на языке вопроса.\n",
        "    \"\"\"\n",
        "\n",
        "    messages = [\n",
        "        {\n",
        "            \"role\": \"system\",\n",
        "            \"content\": prompt,\n",
        "        },\n",
        "        {\"role\": \"user\", \"content\": query},\n",
        "    ]\n",
        "\n",
        "    response = client.chat.completions.create(\n",
        "        model=model,\n",
        "        messages=messages,\n",
        "    )\n",
        "    content = response.choices[0].message.content\n",
        "    content = content.split(\"\\n\")\n",
        "    return content\n",
        "\n",
        "\n",
        "\n",
        "aug_queries = generate_multi_query(original_query)\n",
        "\n",
        "# 1. Первый шаг — показать расширенные запросы\n",
        "for query in aug_queries:\n",
        "    print(\"\\n\", query)\n",
        "\n",
        "# 2. объединить исходный запрос с дополненными запросами\n",
        "# Исходный запрос находится в списке.\n",
        "# Мы добавляем его в список, так как chroma может обрабатывать несколько запросов\n",
        "joint_query = [\n",
        "    original_query\n",
        "] + aug_queries\n",
        "\n",
        "# print(\"======> \\n\\n\", joint_query)\n",
        "\n",
        "results = chroma_collection.query(\n",
        "    query_texts=joint_query, n_results=5, include=[\"documents\", \"embeddings\"]\n",
        ")\n",
        "retrieved_documents = results[\"documents\"]\n",
        "\n",
        "# Удаляем дубликаты извлеченных документов\n",
        "unique_documents = set()\n",
        "for documents in retrieved_documents:\n",
        "    for document in documents:\n",
        "        unique_documents.add(document)\n",
        "\n",
        "\n",
        "# выводим результирующие документы\n",
        "for i, documents in enumerate(retrieved_documents):\n",
        "    print(f\"Query: {joint_query[i]}\")\n",
        "    print(\"\")\n",
        "    print(\"Results:\")\n",
        "    for doc in documents:\n",
        "        print(word_wrap(doc))\n",
        "        print(\"\")\n",
        "    print(\"-\" * 100)\n",
        "\n",
        "embeddings = chroma_collection.get(include=[\"embeddings\"])[\"embeddings\"]\n",
        "umap_transform = umap.UMAP(random_state=0, transform_seed=0).fit(embeddings)\n",
        "projected_dataset_embeddings = project_embeddings(embeddings, umap_transform)\n",
        "\n"
      ],
      "metadata": {
        "id": "p7FgzmrHqUGG",
        "colab": {
          "base_uri": "https://localhost:8080/"
        },
        "outputId": "d23b38d5-fc00-47c2-8cfc-a82f39be9d19"
      },
      "execution_count": null,
      "outputs": [
        {
          "output_type": "stream",
          "name": "stdout",
          "text": [
            "\n",
            " Какие документы нужны для поступления сирот?  \n",
            "\n",
            " Существуют ли льготы для сирот при поступлении?  \n",
            "\n",
            " Есть ли особые квоты для сирот в приемной комиссии?  \n",
            "Query: Какие условия поступления для сирот?\n",
            "\n",
            "Results:\n",
            "##ов по общеобразовательному вступительному испытанию или по дополнительному вступитель\n",
            "ному испытанию ( испытаниям ) ( далее - особое преимущество ).\n",
            "\n",
            "поступающего ) из числа предметов, установленных агу им. в. н. татищева и филиалом.\n",
            "\n",
            "##тивным достижениям ;\n",
            "\n",
            "##льзовать одно и то же основание для получения права на 100 баллов ( особого преимущес\n",
            "тва ) по одному и тому же вступительному испытанию ( предмету ) или по различным вступи\n",
            "тельным испытаниям ( предметам ). 7. поступающим предоставляются особые права :\n",
            "\n",
            "##сному профилю в целом.\n",
            "\n",
            "----------------------------------------------------------------------------------------------------\n",
            "Query: Какие документы нужны для поступления сирот?  \n",
            "\n",
            "Results:\n",
            "##тивным достижениям ;\n",
            "\n",
            "##ов по общеобразовательному вступительному испытанию или по дополнительному вступитель\n",
            "ному испытанию ( испытаниям ) ( далее - особое преимущество ).\n",
            "\n",
            "##сному профилю в целом.\n",
            "\n",
            "поступающего ) из числа предметов, установленных агу им. в. н. татищева и филиалом.\n",
            "\n",
            "##льзовать одно и то же основание для получения права на 100 баллов ( особого преимущес\n",
            "тва ) по одному и тому же вступительному испытанию ( предмету ) или по различным вступи\n",
            "тельным испытаниям ( предметам ). 7. поступающим предоставляются особые права :\n",
            "\n",
            "----------------------------------------------------------------------------------------------------\n",
            "Query: Существуют ли льготы для сирот при поступлении?  \n",
            "\n",
            "Results:\n",
            "поступающего ) из числа предметов, установленных агу им. в. н. татищева и филиалом.\n",
            "\n",
            "##ов по общеобразовательному вступительному испытанию или по дополнительному вступитель\n",
            "ному испытанию ( испытаниям ) ( далее - особое преимущество ).\n",
            "\n",
            "выбору поступающего ) либо по одному или нескольким дополнительным вступительным испыта\n",
            "ниям. поступающии может одновременно использовать несколько основании для получения пра\n",
            "ва на 100 баллов ( особого преимущества ), в том числе в рамках одного конкурса. при уч\n",
            "астии в нескольких конкурсах поступающии может испо\n",
            "\n",
            "##ступающим для подачи заявления о приеме на обучение только в одну организацию только \n",
            "на одну образовательную программу по выбору поступающего ( вне зависимости от количеств\n",
            "а основании, дающих указанное право ). в рамках однои организации и однои образовательн\n",
            "ои программы поступающии может использовать право на п\n",
            "\n",
            "##сному профилю в целом.\n",
            "\n",
            "----------------------------------------------------------------------------------------------------\n",
            "Query: Есть ли особые квоты для сирот в приемной комиссии?  \n",
            "\n",
            "Results:\n",
            "##телям либо победителям и призерам олимпиады ; за какие классы должны быть получены ре\n",
            "зультаты победителя ( призера ) олимпиады школьников ;\n",
            "\n",
            "##сному профилю в целом.\n",
            "\n",
            "поступающего ) из числа предметов, установленных агу им. в. н. татищева и филиалом.\n",
            "\n",
            "##ов по общеобразовательному вступительному испытанию или по дополнительному вступитель\n",
            "ному испытанию ( испытаниям ) ( далее - особое преимущество ).\n",
            "\n",
            "право на прием на обучение на места в пределах особои квоты в соответствии с частью 5 с\n",
            "татьи 71 федерального закона n 273 - фз ; право на прием на обучение на места в предела\n",
            "х отдельнои квоты в соответствии с частями 5. 1 и 5. 2 статьи 71 федерального закона n \n",
            "273 - фз ; преимущественное право зачисления в соответствии с часть\n",
            "\n",
            "----------------------------------------------------------------------------------------------------\n"
          ]
        },
        {
          "output_type": "stream",
          "name": "stderr",
          "text": [
            "/usr/local/lib/python3.11/dist-packages/sklearn/utils/deprecation.py:151: FutureWarning: 'force_all_finite' was renamed to 'ensure_all_finite' in 1.6 and will be removed in 1.8.\n",
            "  warnings.warn(\n",
            "/usr/local/lib/python3.11/dist-packages/umap/umap_.py:1952: UserWarning: n_jobs value 1 overridden to 1 by setting random_state. Use no seed for parallelism.\n",
            "  warn(\n",
            "/usr/local/lib/python3.11/dist-packages/sklearn/utils/deprecation.py:151: FutureWarning: 'force_all_finite' was renamed to 'ensure_all_finite' in 1.6 and will be removed in 1.8.\n",
            "  warnings.warn(\n"
          ]
        }
      ]
    },
    {
      "cell_type": "markdown",
      "source": [
        "Мы также можем визуализировать результаты в пространстве эмбеддингов."
      ],
      "metadata": {
        "id": "X7hGn01ZelTy"
      }
    },
    {
      "cell_type": "code",
      "source": [
        "original_query_embedding = embedding_function([original_query])\n",
        "augmented_query_embeddings = embedding_function(joint_query)\n",
        "\n",
        "\n",
        "project_original_query = project_embeddings(original_query_embedding, umap_transform)\n",
        "project_augmented_queries = project_embeddings(\n",
        "    augmented_query_embeddings, umap_transform\n",
        ")\n",
        "\n",
        "retrieved_embeddings = results[\"embeddings\"]\n",
        "result_embeddings = [item for sublist in retrieved_embeddings for item in sublist]\n",
        "\n",
        "projected_result_embeddings = project_embeddings(result_embeddings, umap_transform)\n",
        "\n",
        "# Plot the projected query and retrieved documents in the embedding space\n",
        "plt.figure()\n",
        "plt.scatter(\n",
        "    projected_dataset_embeddings[:, 0],\n",
        "    projected_dataset_embeddings[:, 1],\n",
        "    s=10,\n",
        "    color=\"gray\",\n",
        ")\n",
        "plt.scatter(\n",
        "    project_augmented_queries[:, 0],\n",
        "    project_augmented_queries[:, 1],\n",
        "    s=150,\n",
        "    marker=\"X\",\n",
        "    color=\"orange\",\n",
        ")\n",
        "plt.scatter(\n",
        "    projected_result_embeddings[:, 0],\n",
        "    projected_result_embeddings[:, 1],\n",
        "    s=100,\n",
        "    facecolors=\"none\",\n",
        "    edgecolors=\"g\",\n",
        ")\n",
        "plt.scatter(\n",
        "    project_original_query[:, 0],\n",
        "    project_original_query[:, 1],\n",
        "    s=150,\n",
        "    marker=\"X\",\n",
        "    color=\"r\",\n",
        ")\n",
        "\n",
        "plt.gca().set_aspect(\"equal\", \"datalim\")\n",
        "plt.title(f\"{original_query}\")\n",
        "plt.axis(\"off\")\n",
        "plt.show()  # display the plot"
      ],
      "metadata": {
        "id": "cUpDXZFfpklO",
        "colab": {
          "base_uri": "https://localhost:8080/",
          "height": 532
        },
        "outputId": "0d3b4ef8-9cf0-4bad-f2ff-19c86658a7ac"
      },
      "execution_count": null,
      "outputs": [
        {
          "output_type": "stream",
          "name": "stderr",
          "text": [
            "/usr/local/lib/python3.11/dist-packages/sklearn/utils/deprecation.py:151: FutureWarning: 'force_all_finite' was renamed to 'ensure_all_finite' in 1.6 and will be removed in 1.8.\n",
            "  warnings.warn(\n",
            "/usr/local/lib/python3.11/dist-packages/sklearn/utils/deprecation.py:151: FutureWarning: 'force_all_finite' was renamed to 'ensure_all_finite' in 1.6 and will be removed in 1.8.\n",
            "  warnings.warn(\n",
            "/usr/local/lib/python3.11/dist-packages/sklearn/utils/deprecation.py:151: FutureWarning: 'force_all_finite' was renamed to 'ensure_all_finite' in 1.6 and will be removed in 1.8.\n",
            "  warnings.warn(\n"
          ]
        },
        {
          "output_type": "display_data",
          "data": {
            "text/plain": [
              "<Figure size 640x480 with 1 Axes>"
            ],
            "image/png": "[encoded data removed]"
          },
          "metadata": {}
        }
      ]
    },
    {
      "cell_type": "markdown",
      "source": [
        "дополненные эмбеддинги (оранжевые кресты) здесь оказываются между исходным вопросом и извлеченными документами. На плоской проекции многомерного пространства это не всегда очевидно, но представьте себе, что это 384-мерное пространство,"
      ],
      "metadata": {
        "id": "bTknoHb3euHi"
      }
    },
    {
      "cell_type": "code",
      "source": [
        "joint_query"
      ],
      "metadata": {
        "id": "IoD5sFUCrcn4",
        "colab": {
          "base_uri": "https://localhost:8080/"
        },
        "outputId": "ad68536e-2a0f-4103-9bef-d47a90eed554"
      },
      "execution_count": null,
      "outputs": [
        {
          "output_type": "execute_result",
          "data": {
            "text/plain": [
              "['Какие условия поступления для сирот?',\n",
              " 'Какие документы нужны для поступления сирот?  ',\n",
              " 'Существуют ли льготы для сирот при поступлении?  ',\n",
              " 'Есть ли особые квоты для сирот в приемной комиссии?  ']"
            ]
          },
          "metadata": {},
          "execution_count": 14
        }
      ]
    },
    {
      "cell_type": "markdown",
      "source": [
        "### Оценка релевантности извлеченных отрывков и выбор лучших:\n",
        "\n",
        "Нам надо выбрать отрывки из наших документов, наиболее подходящие в качестве  ответа на заданный вопрос.\n",
        "####Здесь мы будем использовать **CrossEncoder**.\n",
        "CrossEncoder принимает два предложения/текста в качестве входных данных и предсказывает, насколько вероятно, что это вопрос-ответ. Эта задача использовалась на стадии pretrain моделей BERT, поэтому качество предсказаний должно быть высоким\n",
        "\n"
      ],
      "metadata": {
        "id": "323NVktBf42b"
      }
    },
    {
      "cell_type": "code",
      "source": [
        "from sentence_transformers import CrossEncoder\n",
        "\n",
        "\n",
        "cross_encoder = CrossEncoder(\"cross-encoder/ms-marco-MiniLM-L-6-v2\")\n",
        "\n",
        "flat_retrieved_documents = [doc for sublist in retrieved_documents for doc in sublist]\n",
        "\n",
        "pairs = [(query, doc) for doc in flat_retrieved_documents]\n",
        "scores = cross_encoder.predict(pairs)\n",
        "\n",
        "# print(\"Scores:\")\n",
        "# for score in scores:\n",
        "#     print(score)\n",
        "\n",
        "# print(\"New Ordering:\")\n",
        "# for o in np.argsort(scores)[::-1]:\n",
        "#     print(o + 1)\n",
        "\n",
        "original_query = joint_query[0]\n",
        "#    \"Какие факторы были наиболее важными, способствовавшими увеличению доходов?\"\n",
        "\n",
        "\n",
        "generated_queries = joint_query[1:]\n",
        "    # \"What were the major drivers of revenue growth?\",\n",
        "    # \"Were there any new product launches that contributed to the increase in revenue?\",\n",
        "    # \"Did any changes in pricing or promotions impact the revenue growth?\",\n",
        "    # \"What were the key market trends that facilitated the increase in revenue?\",\n",
        "    # \"Did any acquisitions or partnerships contribute to the revenue growth?\",\n",
        "\n",
        "\n",
        "# объединим исходный вопрос с созданными вопросами\n",
        "queries = [original_query] + generated_queries\n",
        "\n",
        "\n",
        "results = chroma_collection.query(\n",
        "    query_texts=queries, n_results=10, include=[\"documents\", \"embeddings\"]\n",
        ")\n",
        "retrieved_documents = results[\"documents\"]\n",
        "\n",
        "# Удалим дубликаты извлеченных документов\n",
        "unique_documents = set()\n",
        "for documents in retrieved_documents:\n",
        "    for document in documents:\n",
        "        unique_documents.add(document)\n",
        "\n",
        "unique_documents = list(unique_documents)\n",
        "\n",
        "# составляем пары исходный вопрос - документ\n",
        "# с каждым извлеченным документом\n",
        "pairs = []\n",
        "for doc in unique_documents:\n",
        "    pairs.append([original_query, doc])\n",
        "\n",
        "# вычисляем показатели близости между исходным вопросом и каждым документом\n",
        "scores = cross_encoder.predict(pairs)\n",
        "\n",
        "\n",
        "\n",
        "# print(\"New Ordering:\")\n",
        "# for o in np.argsort(scores)[::-1]:\n",
        "#     print(o)\n",
        "# ====\n",
        "# Отбираем пять самых близких к исходному вопросу документов\n",
        "top_indices = np.argsort(scores)[::-1][:5]\n",
        "top_documents = [unique_documents[i] for i in top_indices]\n",
        "\n",
        "# Объединим пять самых близких документов в единый контекст\n",
        "context = \"\\n\\n\".join(top_documents)\n",
        "\n",
        "\n",
        "# Генерируем окончательный ответ с использованием LLM\n",
        "def generate_multi_query(query, context, model='gpt-4o-mini'):\n",
        "\n",
        "    prompt = f\"\"\"\n",
        "    Вы секретарь приемной коммисии.\n",
        "    Приведите пример ответа на этот вопрос, который можно найти в таком документе, как особые правила приема.\n",
        "    \"\"\"\n",
        "\n",
        "    messages = [\n",
        "        {\n",
        "            \"role\": \"system\",\n",
        "            \"content\": prompt,\n",
        "        },\n",
        "        {\n",
        "            \"role\": \"user\",\n",
        "            \"content\": f\"Основываясь на следующем контексте:\\n\\n{context}\\n\\n Ответье на вопрос: '{query}'. Все ответы должны быть на языке вопроса\",\n",
        "        },\n",
        "    ]\n",
        "\n",
        "    response = client.chat.completions.create(\n",
        "        model=model,\n",
        "        messages=messages,\n",
        "    )\n",
        "    content = response.choices[0].message.content\n",
        "    # content = content.split(\"\\n\")\n",
        "    return content\n",
        "\n",
        "\n",
        "res = generate_multi_query(query=original_query, context=context)\n",
        "print(\"Исходный вопрос:\", original_query)\n",
        "\n",
        "print(\"Финальный ответ:\")\n",
        "from IPython.display import Markdown\n",
        "Markdown(res)"
      ],
      "metadata": {
        "id": "a0LV-sdwqoNm",
        "colab": {
          "base_uri": "https://localhost:8080/",
          "height": 151
        },
        "outputId": "335b9576-e1f9-43ff-b4a7-566c1d68436a"
      },
      "execution_count": null,
      "outputs": [
        {
          "output_type": "stream",
          "name": "stdout",
          "text": [
            "Исходный вопрос: Какие условия поступления для сирот?\n",
            "Финальный ответ:\n"
          ]
        },
        {
          "output_type": "execute_result",
          "data": {
            "text/plain": [
              "<IPython.core.display.Markdown object>"
            ],
            "text/markdown": "Согласно особым правилам приема, сироты имеют право на особые условия поступления, включая возможность подачи заявления только в одну организацию и на одну образовательную программу по выбору. Им также может быть предоставлено право на 100 баллов (особое преимущество) за успешное выполнение вступительных испытаний. Дополнительные права могут включать возможность поступления без вступительных испытаний в случае установления соответствия конкурсных профилей с профилями олимпиад. Эти меры направлены на поддержку поступающих, относящихся к категории сирот, и обеспечение равных возможностей для получения образования."
          },
          "metadata": {},
          "execution_count": 15
        }
      ]
    },
    {
      "cell_type": "code",
      "source": [],
      "metadata": {
        "id": "TrNn1IlKYvy-"
      },
      "execution_count": null,
      "outputs": []
    },
    {
      "cell_type": "code",
      "source": [],
      "metadata": {
        "id": "GRacijayaUU4"
      },
      "execution_count": null,
      "outputs": []
    }
  ]
}